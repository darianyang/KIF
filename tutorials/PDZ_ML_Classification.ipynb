{
 "cells": [
  {
   "cell_type": "markdown",
   "metadata": {},
   "source": [
    "## Supervised Learning on Simulations on PDZ Domain"
   ]
  },
  {
   "cell_type": "code",
   "execution_count": 1,
   "metadata": {},
   "outputs": [],
   "source": [
    "import sys # note temporary... \n",
    "sys.path.append(\"..\") # note temporary...\n",
    "\n",
    "import re \n",
    "import pandas as pd\n",
    "from key_interactions_finder import pycontact_processing\n",
    "from key_interactions_finder import data_preperation\n",
    "from key_interactions_finder import model_building\n",
    "from key_interactions_finder import post_proccessing\n",
    "from key_interactions_finder import pymol_projections"
   ]
  },
  {
   "cell_type": "markdown",
   "metadata": {},
   "source": [
    "### First, handle the experimental dataset"
   ]
  },
  {
   "cell_type": "code",
   "execution_count": null,
   "metadata": {},
   "outputs": [],
   "source": [
    "import scipy.io as sio\n",
    "matlab_file = r\"C:\\Users\\Rory Crean\\Dropbox (lkgroup)\\Backup_HardDrive\\Postdoc\\MachLearnConformationalFeatures\\Workup\\PDZ_ML\\Raw_Experi_Datasets\\Salinas_Ranganathan_data.mat\"\n",
    "exp_file = sio.loadmat(matlab_file)\n",
    "exp_file.keys()"
   ]
  },
  {
   "cell_type": "code",
   "execution_count": null,
   "metadata": {},
   "outputs": [],
   "source": [
    "## Figure rest out later... "
   ]
  },
  {
   "cell_type": "code",
   "execution_count": null,
   "metadata": {},
   "outputs": [],
   "source": []
  },
  {
   "cell_type": "markdown",
   "metadata": {},
   "source": [
    "### PDZ Domain Peptide Bound vs Unbound impact on domain. \n",
    "\n",
    "Probably easiest to load both datasets in seperately first then merge them afterwards."
   ]
  },
  {
   "cell_type": "code",
   "execution_count": null,
   "metadata": {},
   "outputs": [],
   "source": [
    "# all input files \n",
    "in_dir = r\"C:\\Users\\Rory Crean\\Dropbox (lkgroup)\\Backup_HardDrive\\Postdoc\\MachLearnConformationalFeatures\\Workup\\PDZ_ML\\Raw_Datasets\\PDZ_Combined\"\n",
    "out_dir = r\"C:\\Users\\Rory Crean\\Dropbox (lkgroup)\\Backup_HardDrive\\Postdoc\\MachLearnConformationalFeatures\\Workup\\PDZ_ML\\Raw_Results\"\n",
    "\n",
    "pycontact_files_horizontal = [\"PyContact_Per_Frame_Interactions_Block1.csv\", \"PyContact_Per_Frame_Interactions_Block2.csv\",\n",
    "                              \"PyContact_Per_Frame_Interactions_Block3.csv\", \"PyContact_Per_Frame_Interactions_Block4.csv\",\n",
    "                              \"PyContact_Per_Frame_Interactions_Block5.csv\", \"PyContact_Per_Frame_Interactions_Block6.csv\",\n",
    "                              \"PyContact_Per_Frame_Interactions_Block7.csv\", \"PyContact_Per_Frame_Interactions_Block8.csv\",\n",
    "                              \"PyContact_Per_Frame_Interactions_Block9.csv\", \"PyContact_Per_Frame_Interactions_Block10.csv\",\n",
    "                              \"PyContact_Per_Frame_Interactions_Block11.csv\", \"PyContact_Per_Frame_Interactions_Block12.csv\",\n",
    "                              ]\n"
   ]
  },
  {
   "cell_type": "code",
   "execution_count": null,
   "metadata": {},
   "outputs": [],
   "source": [
    "# dataset prep parts. \n",
    "pycontact_dataset = pycontact_processing.PyContactInitializer(\n",
    "    pycontact_files=pycontact_files_horizontal,\n",
    "    multiple_files=True,\n",
    "    merge_files_method=\"horizontal\",  \n",
    "    remove_false_interactions=True,\n",
    "    in_dir=in_dir,\n",
    ")"
   ]
  },
  {
   "cell_type": "code",
   "execution_count": null,
   "metadata": {},
   "outputs": [],
   "source": [
    "pycontact_dataset.prepared_df"
   ]
  },
  {
   "cell_type": "code",
   "execution_count": null,
   "metadata": {},
   "outputs": [],
   "source": [
    "# Create and save a target file (to load back in next step)\n",
    "# 10,000 frames for both states  \n",
    "classification_col = [\"States\"] + [\"Bound\"] * 10000 + [\"Unbound\"] * 10000\n",
    "\n",
    "classifications_file = r\"C:\\Users\\Rory Crean\\Dropbox (lkgroup)\\Backup_HardDrive\\Postdoc\\MachLearnConformationalFeatures\\Workup\\PDZ_ML\\Raw_Datasets\\PDZ_Classifications_Combined.dat\"\n",
    "\n",
    "with open(classifications_file, \"w\") as file_out:\n",
    "    for item in classification_col:\n",
    "        file_out.write(item + \"\\n\")"
   ]
  },
  {
   "cell_type": "code",
   "execution_count": null,
   "metadata": {},
   "outputs": [],
   "source": [
    "# Now generate an instance of the SupervisedFeatureData class and load datasets in.\n",
    "supervised_dataset = data_preperation.SupervisedFeatureData(\n",
    "    input_df=pycontact_dataset.prepared_df,\n",
    "    target_file=classifications_file,\n",
    "    is_classification=True,\n",
    "    header_present=True \n",
    ")\n",
    "\n",
    "supervised_dataset.df_processed"
   ]
  },
  {
   "cell_type": "code",
   "execution_count": null,
   "metadata": {},
   "outputs": [],
   "source": [
    "supervised_dataset.df_processed.Target.value_counts()"
   ]
  },
  {
   "cell_type": "code",
   "execution_count": null,
   "metadata": {},
   "outputs": [],
   "source": [
    "supervised_dataset.df_processed"
   ]
  },
  {
   "cell_type": "code",
   "execution_count": null,
   "metadata": {},
   "outputs": [],
   "source": [
    "# Filtering \n",
    "supervised_dataset.reset_filtering()\n",
    "supervised_dataset.filter_by_occupancy_by_class(min_occupancy=25)\n",
    "supervised_dataset.filter_by_main_or_side_chain(\n",
    "    main_side_chain_types_included=[\"sc-sc\", \"bb-sc\", \"sc-bb\", \"bb-bb\"] \n",
    ")\n",
    "supervised_dataset.filter_by_avg_strength(average_strength_cut_off=0.5)\n",
    "print(f\"Number of features after filtering by average interaction scores: {len(supervised_dataset.df_filtered.columns)}\")"
   ]
  },
  {
   "cell_type": "code",
   "execution_count": null,
   "metadata": {},
   "outputs": [],
   "source": [
    "supervised_dataset.df_filtered"
   ]
  },
  {
   "cell_type": "code",
   "execution_count": null,
   "metadata": {},
   "outputs": [],
   "source": [
    "supervised_dataset.df_filtered[\"101Phe 97Glu Hbond sc-bb\"][10001:20000]\n",
    "display(supervised_dataset.df_filtered[\"101Phe 97Glu Hbond sc-bb\"][1:10000])"
   ]
  },
  {
   "cell_type": "code",
   "execution_count": null,
   "metadata": {},
   "outputs": [],
   "source": [
    "# Instantiate the model.\n",
    "ml_model = model_building.ClassificationModel(\n",
    "    dataset=supervised_dataset.df_filtered,\n",
    "    evaluation_split_ratio=0.15,\n",
    "    classes_to_use=[\"Bound\", \"Unbound\"], \n",
    "    models_to_use=[\"CatBoost\"], # \"XGBoost\", \"Random_Forest\"\n",
    "    scaling_method=\"min_max\",\n",
    "    out_dir=out_dir, \n",
    "    cross_validation_splits=5, \n",
    "    cross_validation_repeats=3,\n",
    "    search_approach=\"none\",\n",
    ")"
   ]
  },
  {
   "cell_type": "code",
   "execution_count": null,
   "metadata": {},
   "outputs": [],
   "source": [
    "ml_model.build_models(save_models=True)"
   ]
  },
  {
   "cell_type": "code",
   "execution_count": null,
   "metadata": {},
   "outputs": [],
   "source": [
    "reports = ml_model.evaluate_models()"
   ]
  },
  {
   "cell_type": "code",
   "execution_count": null,
   "metadata": {},
   "outputs": [],
   "source": [
    "reports[\"XGBoost\"]"
   ]
  },
  {
   "cell_type": "code",
   "execution_count": null,
   "metadata": {},
   "outputs": [],
   "source": [
    "reports[\"CatBoost\"]"
   ]
  },
  {
   "cell_type": "code",
   "execution_count": null,
   "metadata": {},
   "outputs": [],
   "source": [
    "reports[\"Random_Forest\"]"
   ]
  },
  {
   "cell_type": "code",
   "execution_count": null,
   "metadata": {},
   "outputs": [],
   "source": [
    "post_proc = post_proccessing.SupervisedPostProcessor(\n",
    "    out_dir=out_dir,\n",
    ")\n",
    "post_proc.load_models_from_instance(supervised_model=ml_model)\n",
    "\n",
    "post_proc.get_feature_importance()\n",
    "post_proc.get_per_res_importance()\n",
    "\n",
    "# Pymol Results\n",
    "pymol_projections.project_multiple_per_res_scores(\n",
    "    all_per_res_scores=post_proc.all_per_residue_scores,\n",
    "    out_dir=out_dir\n",
    ")\n",
    "\n",
    "pymol_projections.project_multiple_per_feature_scores(\n",
    "    all_feature_scores=post_proc.all_feature_importances,\n",
    "    numb_features=200,   #\"all\",\n",
    "    out_dir=out_dir\n",
    ")"
   ]
  },
  {
   "cell_type": "code",
   "execution_count": null,
   "metadata": {},
   "outputs": [],
   "source": [
    "post_proc.all_feature_importances"
   ]
  },
  {
   "cell_type": "code",
   "execution_count": 2,
   "metadata": {},
   "outputs": [],
   "source": [
    "# TODO - (full implementation in a tutorial)\n",
    "# Make more fancy selection options. \n",
    "# Allow user to customisize selection to multi-atom?\n",
    "from key_interactions_finder import utils "
   ]
  },
  {
   "cell_type": "code",
   "execution_count": 3,
   "metadata": {},
   "outputs": [
    {
     "name": "stdout",
     "output_type": "stream",
     "text": [
      "[4.2983402  3.96260469 4.608412   3.99198438 4.27552392 3.86867127\n",
      " 3.6261414  3.97854258 4.73128174 5.3288185  3.42584846 3.12535418\n",
      " 3.69037011 3.35443625 4.02431262 3.19395393 2.99943135 2.92196937\n",
      " 3.19039658 3.7105367  4.38959762 3.17684994 4.02182399 3.38869786\n",
      " 3.9120616  2.59417409 4.13510285 2.99791741 3.91193551 3.27932208\n",
      " 3.20278319 4.39464079 3.66932651 3.4907868  2.78507996 3.66522991\n",
      " 3.94904867 4.19612053 3.16876409 3.33485142 2.59980908 2.80275387]\n",
      "min_dists\n"
     ]
    },
    {
     "name": "stderr",
     "output_type": "stream",
     "text": [
      "C:\\anaconda3\\envs\\ML_Py3_8\\lib\\site-packages\\MDAnalysis\\topology\\PDBParser.py:317: UserWarning: Element information is missing, elements attribute will not be populated. If needed these can be guessed using MDAnalysis.topology.guessers.\n",
      "  warnings.warn(\"Element information is missing, elements attribute \"\n"
     ]
    }
   ],
   "source": [
    "pdb_file = r\"C:\\Users\\Rory Crean\\Dropbox (lkgroup)\\Backup_HardDrive\\Postdoc\\MachLearnConformationalFeatures\\Workup\\PDZ_ML\\PDZ_pep_Bound_postleap.pdb\"\n",
    "out_file = r\"C:\\Users\\Rory Crean\\Dropbox (lkgroup)\\Backup_HardDrive\\Postdoc\\MachLearnConformationalFeatures\\Workup\\PDZ_ML\\Raw_Results\\PDZ_Dist_to_Binding_Site.csv\"\n",
    "distance_array = utils.per_residue_distance_to_site(\n",
    "    pdb_file=pdb_file,\n",
    "    out_file=out_file,\n",
    "    site_defintion=\"resid 118 and name CA\",   #\"not name H* and resid 118 to 123\",\n",
    "    first_residue=1,\n",
    "    last_residue=117,\n",
    ")"
   ]
  },
  {
   "cell_type": "code",
   "execution_count": 4,
   "metadata": {},
   "outputs": [
    {
     "data": {
      "text/plain": [
       "42"
      ]
     },
     "execution_count": 4,
     "metadata": {},
     "output_type": "execute_result"
    }
   ],
   "source": [
    "len(distance_array)"
   ]
  },
  {
   "cell_type": "code",
   "execution_count": null,
   "metadata": {},
   "outputs": [],
   "source": []
  },
  {
   "cell_type": "code",
   "execution_count": null,
   "metadata": {},
   "outputs": [],
   "source": []
  }
 ],
 "metadata": {
  "interpreter": {
   "hash": "add0b5d4ce7b8e8a859fa0dda4e7913231effb3978a57212389923662b8875fe"
  },
  "kernelspec": {
   "display_name": "Python 3.8.6 64-bit ('ML_Py3_8': conda)",
   "language": "python",
   "name": "python3"
  },
  "language_info": {
   "codemirror_mode": {
    "name": "ipython",
    "version": 3
   },
   "file_extension": ".py",
   "mimetype": "text/x-python",
   "name": "python",
   "nbconvert_exporter": "python",
   "pygments_lexer": "ipython3",
   "version": "3.8.6"
  },
  "orig_nbformat": 4
 },
 "nbformat": 4,
 "nbformat_minor": 2
}
