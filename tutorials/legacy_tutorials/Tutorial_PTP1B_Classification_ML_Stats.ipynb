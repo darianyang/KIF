{
 "cells": [
  {
   "attachments": {},
   "cell_type": "markdown",
   "metadata": {},
   "source": [
    "[![Open in Colab](https://colab.research.google.com/assets/colab-badge.svg)](https://colab.research.google.com/github/kamerlinlab/KIF/blob/main/tutorials/legacy_tutorials/Tutorial_PTP1B_Classification_ML_Stats.ipynb)"
   ]
  },
  {
   "attachments": {},
   "cell_type": "markdown",
   "metadata": {},
   "source": [
    "## Tutorial for Classification Machine Learning and Statistical Analysis on Simulations of PTP1B. \n",
    "\n",
    "In this jupyter notebook we will use the model_building.py and stat_modelling.py modules to identify differences in the molecular interactions across PTP1B when the WPD-loop of PTP1B is in the Closed state, versus when the WPD-loop is in the Open state.\n",
    "\n",
    "This notebook will also cover all the pre- and post-processing steps requireds to prepare, analyse and visualise the results.\n",
    "\n",
    "The dataset used here is for WT PTP1B and is the same data as what was used in the manuscript. \n",
    "\n",
    "<center><img src=\"https://raw.githubusercontent.com/kamerlinlab/KIF/main/tutorials/miscellaneous/ptp1b_banner.png\" alt=\"Drawing\" style=\"width: 70%\" /></center>"
   ]
  },
  {
   "attachments": {},
   "cell_type": "markdown",
   "metadata": {},
   "source": [
    "### Setup\n",
    "\n",
    "Install and load the required modules and then download the dataset we'll be working on from google drive"
   ]
  },
  {
   "cell_type": "code",
   "execution_count": 50,
   "metadata": {},
   "outputs": [
    {
     "name": "stdout",
     "output_type": "stream",
     "text": [
      "Requirement already satisfied: KIF in c:\\users\\rory crean\\desktop\\github\\key-interactions-finder (0.0.4)\n",
      "Requirement already satisfied: plotly in c:\\anaconda3\\envs\\ml_conf_features_3.8\\lib\\site-packages (5.4.0)\n",
      "Requirement already satisfied: pandas in c:\\anaconda3\\envs\\ml_conf_features_3.8\\lib\\site-packages (from KIF) (1.3.4)\n",
      "Requirement already satisfied: numpy in c:\\anaconda3\\envs\\ml_conf_features_3.8\\lib\\site-packages (from KIF) (1.21.4)\n",
      "Requirement already satisfied: scikit-learn in c:\\anaconda3\\envs\\ml_conf_features_3.8\\lib\\site-packages (from KIF) (1.0.1)\n",
      "Requirement already satisfied: scipy in c:\\anaconda3\\envs\\ml_conf_features_3.8\\lib\\site-packages (from KIF) (1.7.2)\n",
      "Requirement already satisfied: xgboost in c:\\anaconda3\\envs\\ml_conf_features_3.8\\lib\\site-packages (from KIF) (1.7.2)\n",
      "Requirement already satisfied: catboost in c:\\anaconda3\\envs\\ml_conf_features_3.8\\lib\\site-packages (from KIF) (1.1.1)\n",
      "Requirement already satisfied: MDAnalysis in c:\\anaconda3\\envs\\ml_conf_features_3.8\\lib\\site-packages (from KIF) (2.3.0)\n",
      "Requirement already satisfied: gdown in c:\\anaconda3\\envs\\ml_conf_features_3.8\\lib\\site-packages (from KIF) (4.6.0)\n",
      "Requirement already satisfied: tenacity>=6.2.0 in c:\\anaconda3\\envs\\ml_conf_features_3.8\\lib\\site-packages (from plotly) (8.0.1)\n",
      "Requirement already satisfied: six in c:\\anaconda3\\envs\\ml_conf_features_3.8\\lib\\site-packages (from plotly) (1.16.0)\n",
      "Requirement already satisfied: matplotlib in c:\\anaconda3\\envs\\ml_conf_features_3.8\\lib\\site-packages (from catboost->KIF) (3.5.0)\n",
      "Requirement already satisfied: graphviz in c:\\anaconda3\\envs\\ml_conf_features_3.8\\lib\\site-packages (from catboost->KIF) (0.20.1)\n",
      "Requirement already satisfied: python-dateutil>=2.7.3 in c:\\anaconda3\\envs\\ml_conf_features_3.8\\lib\\site-packages (from pandas->KIF) (2.8.2)\n",
      "Requirement already satisfied: pytz>=2017.3 in c:\\anaconda3\\envs\\ml_conf_features_3.8\\lib\\site-packages (from pandas->KIF) (2021.3)\n",
      "Requirement already satisfied: filelock in c:\\anaconda3\\envs\\ml_conf_features_3.8\\lib\\site-packages (from gdown->KIF) (3.8.2)\n",
      "Requirement already satisfied: beautifulsoup4 in c:\\anaconda3\\envs\\ml_conf_features_3.8\\lib\\site-packages (from gdown->KIF) (4.11.1)\n",
      "Requirement already satisfied: requests[socks] in c:\\anaconda3\\envs\\ml_conf_features_3.8\\lib\\site-packages (from gdown->KIF) (2.28.1)\n",
      "Requirement already satisfied: tqdm in c:\\anaconda3\\envs\\ml_conf_features_3.8\\lib\\site-packages (from gdown->KIF) (4.64.1)\n",
      "Requirement already satisfied: fasteners in c:\\anaconda3\\envs\\ml_conf_features_3.8\\lib\\site-packages (from MDAnalysis->KIF) (0.18)\n",
      "Requirement already satisfied: networkx>=2.0 in c:\\anaconda3\\envs\\ml_conf_features_3.8\\lib\\site-packages (from MDAnalysis->KIF) (2.8.8)\n",
      "Requirement already satisfied: threadpoolctl in c:\\anaconda3\\envs\\ml_conf_features_3.8\\lib\\site-packages (from MDAnalysis->KIF) (3.0.0)\n",
      "Requirement already satisfied: packaging in c:\\anaconda3\\envs\\ml_conf_features_3.8\\lib\\site-packages (from MDAnalysis->KIF) (21.3)\n",
      "Requirement already satisfied: gsd>=1.9.3 in c:\\anaconda3\\envs\\ml_conf_features_3.8\\lib\\site-packages (from MDAnalysis->KIF) (2.7.0)\n",
      "Requirement already satisfied: GridDataFormats>=0.4.0 in c:\\anaconda3\\envs\\ml_conf_features_3.8\\lib\\site-packages (from MDAnalysis->KIF) (1.0.1)\n",
      "Requirement already satisfied: joblib>=0.12 in c:\\anaconda3\\envs\\ml_conf_features_3.8\\lib\\site-packages (from MDAnalysis->KIF) (1.1.0)\n",
      "Requirement already satisfied: mmtf-python>=1.0.0 in c:\\anaconda3\\envs\\ml_conf_features_3.8\\lib\\site-packages (from MDAnalysis->KIF) (1.1.3)\n",
      "Requirement already satisfied: biopython>=1.71 in c:\\anaconda3\\envs\\ml_conf_features_3.8\\lib\\site-packages (from MDAnalysis->KIF) (1.80)\n",
      "Requirement already satisfied: mrcfile in c:\\anaconda3\\envs\\ml_conf_features_3.8\\lib\\site-packages (from GridDataFormats>=0.4.0->MDAnalysis->KIF) (1.4.3)\n",
      "Requirement already satisfied: fonttools>=4.22.0 in c:\\anaconda3\\envs\\ml_conf_features_3.8\\lib\\site-packages (from matplotlib->catboost->KIF) (4.28.1)\n",
      "Requirement already satisfied: cycler>=0.10 in c:\\anaconda3\\envs\\ml_conf_features_3.8\\lib\\site-packages (from matplotlib->catboost->KIF) (0.11.0)\n",
      "Requirement already satisfied: kiwisolver>=1.0.1 in c:\\anaconda3\\envs\\ml_conf_features_3.8\\lib\\site-packages (from matplotlib->catboost->KIF) (1.3.2)\n",
      "Requirement already satisfied: pyparsing>=2.2.1 in c:\\anaconda3\\envs\\ml_conf_features_3.8\\lib\\site-packages (from matplotlib->catboost->KIF) (3.0.6)\n",
      "Requirement already satisfied: pillow>=6.2.0 in c:\\anaconda3\\envs\\ml_conf_features_3.8\\lib\\site-packages (from matplotlib->catboost->KIF) (8.4.0)\n",
      "Requirement already satisfied: msgpack>=1.0.0 in c:\\anaconda3\\envs\\ml_conf_features_3.8\\lib\\site-packages (from mmtf-python>=1.0.0->MDAnalysis->KIF) (1.0.4)\n",
      "Requirement already satisfied: colorama in c:\\anaconda3\\envs\\ml_conf_features_3.8\\lib\\site-packages (from tqdm->gdown->KIF) (0.4.5)\n",
      "Requirement already satisfied: soupsieve>1.2 in c:\\anaconda3\\envs\\ml_conf_features_3.8\\lib\\site-packages (from beautifulsoup4->gdown->KIF) (2.3.2.post1)\n",
      "Requirement already satisfied: urllib3<1.27,>=1.21.1 in c:\\anaconda3\\envs\\ml_conf_features_3.8\\lib\\site-packages (from requests[socks]->gdown->KIF) (1.26.13)\n",
      "Requirement already satisfied: certifi>=2017.4.17 in c:\\anaconda3\\envs\\ml_conf_features_3.8\\lib\\site-packages (from requests[socks]->gdown->KIF) (2022.6.15)\n",
      "Requirement already satisfied: idna<4,>=2.5 in c:\\anaconda3\\envs\\ml_conf_features_3.8\\lib\\site-packages (from requests[socks]->gdown->KIF) (3.4)\n",
      "Requirement already satisfied: charset-normalizer<3,>=2 in c:\\anaconda3\\envs\\ml_conf_features_3.8\\lib\\site-packages (from requests[socks]->gdown->KIF) (2.1.1)\n",
      "Requirement already satisfied: PySocks!=1.5.7,>=1.5.6 in c:\\anaconda3\\envs\\ml_conf_features_3.8\\lib\\site-packages (from requests[socks]->gdown->KIF) (1.7.1)\n",
      "Note: you may need to restart the kernel to use updated packages.\n",
      "Requirement already satisfied: kaleido in c:\\anaconda3\\envs\\ml_conf_features_3.8\\lib\\site-packages (0.2.1)Note: you may need to restart the kernel to use updated packages.\n",
      "\n"
     ]
    }
   ],
   "source": [
    "# Alongside installing KIF, we'll be using plotly to visualise some of the results. \n",
    "# We'll use kaleido with plotly.\n",
    "%pip install KIF plotly \n",
    "%pip install -U kaleido "
   ]
  },
  {
   "cell_type": "code",
   "execution_count": 51,
   "metadata": {},
   "outputs": [],
   "source": [
    "import pandas as pd\n",
    "\n",
    "from key_interactions_finder import pycontact_processing\n",
    "from key_interactions_finder import data_preperation\n",
    "from key_interactions_finder import model_building\n",
    "from key_interactions_finder import stat_modelling\n",
    "from key_interactions_finder import post_proccessing\n",
    "from key_interactions_finder import pymol_projections"
   ]
  },
  {
   "attachments": {},
   "cell_type": "markdown",
   "metadata": {},
   "source": [
    "We will first need to download the PTP1B dataset from google drive. \n",
    "The tutorial data will be saved in the relative path defined by \"save_dir\" in the cell block below.\n",
    "\n",
    "You can change this as you see fit. If you want to use the current directory you can do:\n",
    "\n",
    "save_dir=\"\""
   ]
  },
  {
   "cell_type": "code",
   "execution_count": 52,
   "metadata": {},
   "outputs": [
    {
     "name": "stderr",
     "output_type": "stream",
     "text": [
      "Downloading...\n",
      "From: https://drive.google.com/uc?id=1nbK3fw7z1hDXiGINZe-VT1SGdPbNhF07\n",
      "To: c:\\Users\\Rory Crean\\Desktop\\Github\\key-interactions-finder\\tutorials\\tutorial_datasets\\tutorial_dataset.zip\n",
      "100%|██████████| 158M/158M [00:06<00:00, 24.4MB/s] \n"
     ]
    },
    {
     "name": "stdout",
     "output_type": "stream",
     "text": [
      "Tutorial files were successfully downloaded and unzipped.\n"
     ]
    }
   ],
   "source": [
    "from key_interactions_finder.utils import download_prep_tutorial_dataset\n",
    "\n",
    "drive_url = r\"https://drive.google.com/file/d/1nbK3fw7z1hDXiGINZe-VT1SGdPbNhF07/view?usp=share_link\"\n",
    "save_dir = \"tutorial_datasets\"\n",
    "\n",
    "download_prep_tutorial_dataset(drive_url=drive_url, save_dir=save_dir)"
   ]
  },
  {
   "attachments": {},
   "cell_type": "markdown",
   "metadata": {},
   "source": [
    "At this point, we'll define the location of our downloaded input files and where we would like to save our output files to throughout this tutorial."
   ]
  },
  {
   "cell_type": "code",
   "execution_count": 53,
   "metadata": {},
   "outputs": [],
   "source": [
    "# inputs\n",
    "in_dir = save_dir + r\"/PTP1B_data/example_horizontal_data\"\n",
    "classifications_file = save_dir + r\"/PTP1B_data/example_horizontal_data/WT_PTP1B_Class_Assingments.txt\"\n",
    "\n",
    "# The pdb file will later be used to determine the distance of each residue to a site of interest.\n",
    "pdb_file = save_dir + r\"/PTP1B_data/WT_PTP1B_Phospho_Enzyme_Closed.pdb\"\n",
    "\n",
    "\n",
    "# output folders for the stats and ml analysis. These will be created if they don't already exist.\n",
    "stats_out_dir = save_dir + r\"/PTP1B_stat_analysis\"\n",
    "ml_out_dir = save_dir + r\"/PTP1B_ml_analysis\""
   ]
  },
  {
   "cell_type": "markdown",
   "metadata": {},
   "source": [
    "### Preperation Step 1. Process PyContact files with the pycontact_processing.py module \n",
    "\n",
    "In this section we will work with the PyContact output files generated. Here we will merge our seperate runs together and remove any false interactions that can be generated by the PyContact library. Note that these blocks are from the same frames but with different ranges of residues to search through. "
   ]
  },
  {
   "cell_type": "code",
   "execution_count": 54,
   "metadata": {},
   "outputs": [
    {
     "name": "stdout",
     "output_type": "stream",
     "text": [
      "Your PyContact file(s) have been succefully processed.\n",
      "You have 1886 features and 10000 observations.\n",
      "The fully processed dataframe is accesible from the '.prepared_df' class attribute.\n"
     ]
    }
   ],
   "source": [
    "pycontact_files_horizontal = [\"PyContact_Per_Frame_Interactions_Block1.csv\", \"PyContact_Per_Frame_Interactions_Block2.csv\",\n",
    "                              \"PyContact_Per_Frame_Interactions_Block3.csv\", \"PyContact_Per_Frame_Interactions_Block4.csv\",\n",
    "                              \"PyContact_Per_Frame_Interactions_Block5.csv\", \"PyContact_Per_Frame_Interactions_Block6.csv\",\n",
    "                              \"PyContact_Per_Frame_Interactions_Block7.csv\", \"PyContact_Per_Frame_Interactions_Block8.csv\",\n",
    "                              \"PyContact_Per_Frame_Interactions_Block9.csv\", \"PyContact_Per_Frame_Interactions_Block10.csv\",\n",
    "                              \"PyContact_Per_Frame_Interactions_Block11.csv\", \"PyContact_Per_Frame_Interactions_Block12.csv\",\n",
    "                              \"PyContact_Per_Frame_Interactions_Block13.csv\", \"PyContact_Per_Frame_Interactions_Block14.csv\",\n",
    "                              \"PyContact_Per_Frame_Interactions_Block15.csv\", \"PyContact_Per_Frame_Interactions_Block16.csv\",\n",
    "                              \"PyContact_Per_Frame_Interactions_Block17.csv\", \"PyContact_Per_Frame_Interactions_Block18.csv\",\n",
    "                              \"PyContact_Per_Frame_Interactions_Block19.csv\", \"PyContact_Per_Frame_Interactions_Block20.csv\",\n",
    "                              ]\n",
    "\n",
    "pycontact_dataset = pycontact_processing.PyContactInitializer(\n",
    "    pycontact_files=pycontact_files_horizontal,\n",
    "    multiple_files=True,\n",
    "    merge_files_method=\"horizontal\",  \n",
    "    remove_false_interactions=True,\n",
    "    in_dir=in_dir,\n",
    ")"
   ]
  },
  {
   "cell_type": "code",
   "execution_count": 55,
   "metadata": {},
   "outputs": [
    {
     "data": {
      "text/html": [
       "<div>\n",
       "<style scoped>\n",
       "    .dataframe tbody tr th:only-of-type {\n",
       "        vertical-align: middle;\n",
       "    }\n",
       "\n",
       "    .dataframe tbody tr th {\n",
       "        vertical-align: top;\n",
       "    }\n",
       "\n",
       "    .dataframe thead th {\n",
       "        text-align: right;\n",
       "    }\n",
       "</style>\n",
       "<table border=\"1\" class=\"dataframe\">\n",
       "  <thead>\n",
       "    <tr style=\"text-align: right;\">\n",
       "      <th></th>\n",
       "      <th>1Glu 241Ser Hbond sc-bb</th>\n",
       "      <th>1Glu 240Pro Hbond sc-bb</th>\n",
       "      <th>1Glu 4Lys Hbond bb-sc</th>\n",
       "      <th>1Glu 5Glu Hbond bb-bb</th>\n",
       "      <th>1Glu 6Phe Other bb-bb</th>\n",
       "      <th>2Met 240Pro Hbond sc-bb</th>\n",
       "      <th>2Met 5Glu Hbond bb-bb</th>\n",
       "      <th>2Met 245Ile Hbond sc-sc</th>\n",
       "      <th>2Met 270Tyr Other bb-sc</th>\n",
       "      <th>2Met 6Phe Hbond bb-bb</th>\n",
       "      <th>...</th>\n",
       "      <th>287Gln 296Glu Other sc-sc</th>\n",
       "      <th>286Val 293Leu Hydrophobic sc-sc</th>\n",
       "      <th>292Glu 298Leu Other sc-sc</th>\n",
       "      <th>290Trp 296Glu Other bb-sc</th>\n",
       "      <th>291Lys 298Leu Hbond sc-bb</th>\n",
       "      <th>288Asp 297Asp Other bb-sc</th>\n",
       "      <th>294Ser 298Leu Other bb-sc</th>\n",
       "      <th>288Asp 298Leu Other sc-sc</th>\n",
       "      <th>287Gln 298Leu Other bb-sc</th>\n",
       "      <th>289Gln 298Leu Other bb-sc</th>\n",
       "    </tr>\n",
       "  </thead>\n",
       "  <tbody>\n",
       "    <tr>\n",
       "      <th>0</th>\n",
       "      <td>2.79062</td>\n",
       "      <td>2.22760</td>\n",
       "      <td>11.75476</td>\n",
       "      <td>3.85765</td>\n",
       "      <td>0.01413</td>\n",
       "      <td>0.91267</td>\n",
       "      <td>4.97278</td>\n",
       "      <td>0.83832</td>\n",
       "      <td>2.71548</td>\n",
       "      <td>3.32993</td>\n",
       "      <td>...</td>\n",
       "      <td>0.0</td>\n",
       "      <td>0.0</td>\n",
       "      <td>0.0</td>\n",
       "      <td>0.0</td>\n",
       "      <td>0.0</td>\n",
       "      <td>0.0</td>\n",
       "      <td>0.0</td>\n",
       "      <td>0.0</td>\n",
       "      <td>0.0</td>\n",
       "      <td>0.0</td>\n",
       "    </tr>\n",
       "    <tr>\n",
       "      <th>1</th>\n",
       "      <td>1.48888</td>\n",
       "      <td>0.15072</td>\n",
       "      <td>11.56569</td>\n",
       "      <td>2.01823</td>\n",
       "      <td>0.00000</td>\n",
       "      <td>1.89134</td>\n",
       "      <td>3.61045</td>\n",
       "      <td>0.08871</td>\n",
       "      <td>1.04626</td>\n",
       "      <td>3.49882</td>\n",
       "      <td>...</td>\n",
       "      <td>0.0</td>\n",
       "      <td>0.0</td>\n",
       "      <td>0.0</td>\n",
       "      <td>0.0</td>\n",
       "      <td>0.0</td>\n",
       "      <td>0.0</td>\n",
       "      <td>0.0</td>\n",
       "      <td>0.0</td>\n",
       "      <td>0.0</td>\n",
       "      <td>0.0</td>\n",
       "    </tr>\n",
       "    <tr>\n",
       "      <th>2</th>\n",
       "      <td>2.65394</td>\n",
       "      <td>0.11149</td>\n",
       "      <td>7.74254</td>\n",
       "      <td>3.23310</td>\n",
       "      <td>0.00000</td>\n",
       "      <td>0.29681</td>\n",
       "      <td>4.05759</td>\n",
       "      <td>0.01007</td>\n",
       "      <td>1.47758</td>\n",
       "      <td>2.89084</td>\n",
       "      <td>...</td>\n",
       "      <td>0.0</td>\n",
       "      <td>0.0</td>\n",
       "      <td>0.0</td>\n",
       "      <td>0.0</td>\n",
       "      <td>0.0</td>\n",
       "      <td>0.0</td>\n",
       "      <td>0.0</td>\n",
       "      <td>0.0</td>\n",
       "      <td>0.0</td>\n",
       "      <td>0.0</td>\n",
       "    </tr>\n",
       "    <tr>\n",
       "      <th>3</th>\n",
       "      <td>0.67279</td>\n",
       "      <td>0.26855</td>\n",
       "      <td>7.00332</td>\n",
       "      <td>1.61461</td>\n",
       "      <td>0.00000</td>\n",
       "      <td>3.11450</td>\n",
       "      <td>4.76641</td>\n",
       "      <td>0.15005</td>\n",
       "      <td>1.11730</td>\n",
       "      <td>2.75300</td>\n",
       "      <td>...</td>\n",
       "      <td>0.0</td>\n",
       "      <td>0.0</td>\n",
       "      <td>0.0</td>\n",
       "      <td>0.0</td>\n",
       "      <td>0.0</td>\n",
       "      <td>0.0</td>\n",
       "      <td>0.0</td>\n",
       "      <td>0.0</td>\n",
       "      <td>0.0</td>\n",
       "      <td>0.0</td>\n",
       "    </tr>\n",
       "    <tr>\n",
       "      <th>4</th>\n",
       "      <td>0.73688</td>\n",
       "      <td>0.23481</td>\n",
       "      <td>5.10867</td>\n",
       "      <td>1.28357</td>\n",
       "      <td>0.00000</td>\n",
       "      <td>1.68206</td>\n",
       "      <td>3.98947</td>\n",
       "      <td>1.06603</td>\n",
       "      <td>2.91757</td>\n",
       "      <td>3.42521</td>\n",
       "      <td>...</td>\n",
       "      <td>0.0</td>\n",
       "      <td>0.0</td>\n",
       "      <td>0.0</td>\n",
       "      <td>0.0</td>\n",
       "      <td>0.0</td>\n",
       "      <td>0.0</td>\n",
       "      <td>0.0</td>\n",
       "      <td>0.0</td>\n",
       "      <td>0.0</td>\n",
       "      <td>0.0</td>\n",
       "    </tr>\n",
       "    <tr>\n",
       "      <th>...</th>\n",
       "      <td>...</td>\n",
       "      <td>...</td>\n",
       "      <td>...</td>\n",
       "      <td>...</td>\n",
       "      <td>...</td>\n",
       "      <td>...</td>\n",
       "      <td>...</td>\n",
       "      <td>...</td>\n",
       "      <td>...</td>\n",
       "      <td>...</td>\n",
       "      <td>...</td>\n",
       "      <td>...</td>\n",
       "      <td>...</td>\n",
       "      <td>...</td>\n",
       "      <td>...</td>\n",
       "      <td>...</td>\n",
       "      <td>...</td>\n",
       "      <td>...</td>\n",
       "      <td>...</td>\n",
       "      <td>...</td>\n",
       "      <td>...</td>\n",
       "    </tr>\n",
       "    <tr>\n",
       "      <th>9995</th>\n",
       "      <td>5.88591</td>\n",
       "      <td>0.01018</td>\n",
       "      <td>9.95938</td>\n",
       "      <td>3.59306</td>\n",
       "      <td>0.00000</td>\n",
       "      <td>1.78412</td>\n",
       "      <td>5.69829</td>\n",
       "      <td>1.32305</td>\n",
       "      <td>1.11285</td>\n",
       "      <td>3.48554</td>\n",
       "      <td>...</td>\n",
       "      <td>0.0</td>\n",
       "      <td>0.0</td>\n",
       "      <td>0.0</td>\n",
       "      <td>0.0</td>\n",
       "      <td>0.0</td>\n",
       "      <td>0.0</td>\n",
       "      <td>0.0</td>\n",
       "      <td>0.0</td>\n",
       "      <td>0.0</td>\n",
       "      <td>0.0</td>\n",
       "    </tr>\n",
       "    <tr>\n",
       "      <th>9996</th>\n",
       "      <td>8.34367</td>\n",
       "      <td>0.01030</td>\n",
       "      <td>9.86854</td>\n",
       "      <td>2.94537</td>\n",
       "      <td>0.00000</td>\n",
       "      <td>0.16410</td>\n",
       "      <td>4.74343</td>\n",
       "      <td>2.71557</td>\n",
       "      <td>1.36727</td>\n",
       "      <td>3.43449</td>\n",
       "      <td>...</td>\n",
       "      <td>0.0</td>\n",
       "      <td>0.0</td>\n",
       "      <td>0.0</td>\n",
       "      <td>0.0</td>\n",
       "      <td>0.0</td>\n",
       "      <td>0.0</td>\n",
       "      <td>0.0</td>\n",
       "      <td>0.0</td>\n",
       "      <td>0.0</td>\n",
       "      <td>0.0</td>\n",
       "    </tr>\n",
       "    <tr>\n",
       "      <th>9997</th>\n",
       "      <td>9.10518</td>\n",
       "      <td>0.02668</td>\n",
       "      <td>6.73513</td>\n",
       "      <td>1.70116</td>\n",
       "      <td>0.00000</td>\n",
       "      <td>0.09681</td>\n",
       "      <td>3.34138</td>\n",
       "      <td>1.84982</td>\n",
       "      <td>0.99641</td>\n",
       "      <td>3.39886</td>\n",
       "      <td>...</td>\n",
       "      <td>0.0</td>\n",
       "      <td>0.0</td>\n",
       "      <td>0.0</td>\n",
       "      <td>0.0</td>\n",
       "      <td>0.0</td>\n",
       "      <td>0.0</td>\n",
       "      <td>0.0</td>\n",
       "      <td>0.0</td>\n",
       "      <td>0.0</td>\n",
       "      <td>0.0</td>\n",
       "    </tr>\n",
       "    <tr>\n",
       "      <th>9998</th>\n",
       "      <td>2.33875</td>\n",
       "      <td>0.00000</td>\n",
       "      <td>8.18129</td>\n",
       "      <td>2.79464</td>\n",
       "      <td>0.00000</td>\n",
       "      <td>0.64758</td>\n",
       "      <td>5.16315</td>\n",
       "      <td>2.49588</td>\n",
       "      <td>1.48416</td>\n",
       "      <td>3.21917</td>\n",
       "      <td>...</td>\n",
       "      <td>0.0</td>\n",
       "      <td>0.0</td>\n",
       "      <td>0.0</td>\n",
       "      <td>0.0</td>\n",
       "      <td>0.0</td>\n",
       "      <td>0.0</td>\n",
       "      <td>0.0</td>\n",
       "      <td>0.0</td>\n",
       "      <td>0.0</td>\n",
       "      <td>0.0</td>\n",
       "    </tr>\n",
       "    <tr>\n",
       "      <th>9999</th>\n",
       "      <td>3.11345</td>\n",
       "      <td>0.00000</td>\n",
       "      <td>5.73112</td>\n",
       "      <td>1.63258</td>\n",
       "      <td>0.00000</td>\n",
       "      <td>0.12327</td>\n",
       "      <td>4.58947</td>\n",
       "      <td>3.53847</td>\n",
       "      <td>1.33795</td>\n",
       "      <td>4.18595</td>\n",
       "      <td>...</td>\n",
       "      <td>0.0</td>\n",
       "      <td>0.0</td>\n",
       "      <td>0.0</td>\n",
       "      <td>0.0</td>\n",
       "      <td>0.0</td>\n",
       "      <td>0.0</td>\n",
       "      <td>0.0</td>\n",
       "      <td>0.0</td>\n",
       "      <td>0.0</td>\n",
       "      <td>0.0</td>\n",
       "    </tr>\n",
       "  </tbody>\n",
       "</table>\n",
       "<p>10000 rows × 1886 columns</p>\n",
       "</div>"
      ],
      "text/plain": [
       "      1Glu 241Ser Hbond sc-bb  1Glu 240Pro Hbond sc-bb  1Glu 4Lys Hbond bb-sc  \\\n",
       "0                     2.79062                  2.22760               11.75476   \n",
       "1                     1.48888                  0.15072               11.56569   \n",
       "2                     2.65394                  0.11149                7.74254   \n",
       "3                     0.67279                  0.26855                7.00332   \n",
       "4                     0.73688                  0.23481                5.10867   \n",
       "...                       ...                      ...                    ...   \n",
       "9995                  5.88591                  0.01018                9.95938   \n",
       "9996                  8.34367                  0.01030                9.86854   \n",
       "9997                  9.10518                  0.02668                6.73513   \n",
       "9998                  2.33875                  0.00000                8.18129   \n",
       "9999                  3.11345                  0.00000                5.73112   \n",
       "\n",
       "      1Glu 5Glu Hbond bb-bb  1Glu 6Phe Other bb-bb  2Met 240Pro Hbond sc-bb  \\\n",
       "0                   3.85765                0.01413                  0.91267   \n",
       "1                   2.01823                0.00000                  1.89134   \n",
       "2                   3.23310                0.00000                  0.29681   \n",
       "3                   1.61461                0.00000                  3.11450   \n",
       "4                   1.28357                0.00000                  1.68206   \n",
       "...                     ...                    ...                      ...   \n",
       "9995                3.59306                0.00000                  1.78412   \n",
       "9996                2.94537                0.00000                  0.16410   \n",
       "9997                1.70116                0.00000                  0.09681   \n",
       "9998                2.79464                0.00000                  0.64758   \n",
       "9999                1.63258                0.00000                  0.12327   \n",
       "\n",
       "      2Met 5Glu Hbond bb-bb  2Met 245Ile Hbond sc-sc  2Met 270Tyr Other bb-sc  \\\n",
       "0                   4.97278                  0.83832                  2.71548   \n",
       "1                   3.61045                  0.08871                  1.04626   \n",
       "2                   4.05759                  0.01007                  1.47758   \n",
       "3                   4.76641                  0.15005                  1.11730   \n",
       "4                   3.98947                  1.06603                  2.91757   \n",
       "...                     ...                      ...                      ...   \n",
       "9995                5.69829                  1.32305                  1.11285   \n",
       "9996                4.74343                  2.71557                  1.36727   \n",
       "9997                3.34138                  1.84982                  0.99641   \n",
       "9998                5.16315                  2.49588                  1.48416   \n",
       "9999                4.58947                  3.53847                  1.33795   \n",
       "\n",
       "      2Met 6Phe Hbond bb-bb  ...  287Gln 296Glu Other sc-sc  \\\n",
       "0                   3.32993  ...                        0.0   \n",
       "1                   3.49882  ...                        0.0   \n",
       "2                   2.89084  ...                        0.0   \n",
       "3                   2.75300  ...                        0.0   \n",
       "4                   3.42521  ...                        0.0   \n",
       "...                     ...  ...                        ...   \n",
       "9995                3.48554  ...                        0.0   \n",
       "9996                3.43449  ...                        0.0   \n",
       "9997                3.39886  ...                        0.0   \n",
       "9998                3.21917  ...                        0.0   \n",
       "9999                4.18595  ...                        0.0   \n",
       "\n",
       "      286Val 293Leu Hydrophobic sc-sc  292Glu 298Leu Other sc-sc  \\\n",
       "0                                 0.0                        0.0   \n",
       "1                                 0.0                        0.0   \n",
       "2                                 0.0                        0.0   \n",
       "3                                 0.0                        0.0   \n",
       "4                                 0.0                        0.0   \n",
       "...                               ...                        ...   \n",
       "9995                              0.0                        0.0   \n",
       "9996                              0.0                        0.0   \n",
       "9997                              0.0                        0.0   \n",
       "9998                              0.0                        0.0   \n",
       "9999                              0.0                        0.0   \n",
       "\n",
       "      290Trp 296Glu Other bb-sc  291Lys 298Leu Hbond sc-bb  \\\n",
       "0                           0.0                        0.0   \n",
       "1                           0.0                        0.0   \n",
       "2                           0.0                        0.0   \n",
       "3                           0.0                        0.0   \n",
       "4                           0.0                        0.0   \n",
       "...                         ...                        ...   \n",
       "9995                        0.0                        0.0   \n",
       "9996                        0.0                        0.0   \n",
       "9997                        0.0                        0.0   \n",
       "9998                        0.0                        0.0   \n",
       "9999                        0.0                        0.0   \n",
       "\n",
       "      288Asp 297Asp Other bb-sc  294Ser 298Leu Other bb-sc  \\\n",
       "0                           0.0                        0.0   \n",
       "1                           0.0                        0.0   \n",
       "2                           0.0                        0.0   \n",
       "3                           0.0                        0.0   \n",
       "4                           0.0                        0.0   \n",
       "...                         ...                        ...   \n",
       "9995                        0.0                        0.0   \n",
       "9996                        0.0                        0.0   \n",
       "9997                        0.0                        0.0   \n",
       "9998                        0.0                        0.0   \n",
       "9999                        0.0                        0.0   \n",
       "\n",
       "      288Asp 298Leu Other sc-sc  287Gln 298Leu Other bb-sc  \\\n",
       "0                           0.0                        0.0   \n",
       "1                           0.0                        0.0   \n",
       "2                           0.0                        0.0   \n",
       "3                           0.0                        0.0   \n",
       "4                           0.0                        0.0   \n",
       "...                         ...                        ...   \n",
       "9995                        0.0                        0.0   \n",
       "9996                        0.0                        0.0   \n",
       "9997                        0.0                        0.0   \n",
       "9998                        0.0                        0.0   \n",
       "9999                        0.0                        0.0   \n",
       "\n",
       "      289Gln 298Leu Other bb-sc  \n",
       "0                           0.0  \n",
       "1                           0.0  \n",
       "2                           0.0  \n",
       "3                           0.0  \n",
       "4                           0.0  \n",
       "...                         ...  \n",
       "9995                        0.0  \n",
       "9996                        0.0  \n",
       "9997                        0.0  \n",
       "9998                        0.0  \n",
       "9999                        0.0  \n",
       "\n",
       "[10000 rows x 1886 columns]"
      ]
     },
     "execution_count": 55,
     "metadata": {},
     "output_type": "execute_result"
    }
   ],
   "source": [
    "# As outputted above, we can inspect the newly prepared dataset by accessing the '.prepared_df' class attribute as follows:\n",
    "pycontact_dataset.prepared_df"
   ]
  },
  {
   "cell_type": "markdown",
   "metadata": {},
   "source": [
    "### Preperation Step 2. Prepare the Dataset for calculations with the data_preperation.py module. \n",
    "\n",
    "In this step, we take our dataframe and merge our per frame classifications file to it.\n",
    "\n",
    "We can also optionally perform several forms of filtering on the PyContact features to select what types of interactions we would like to study.  "
   ]
  },
  {
   "cell_type": "code",
   "execution_count": 56,
   "metadata": {},
   "outputs": [
    {
     "name": "stdout",
     "output_type": "stream",
     "text": [
      "Your PyContact features and target variable have been succesufully merged.\n",
      "You can access this dataset through the class attribute: '.df_processed'.\n"
     ]
    }
   ],
   "source": [
    "# First we generate an instance of the SupervisedFeatureData class (because we have per frame target labels).\n",
    "supervised_dataset = data_preperation.SupervisedFeatureData(\n",
    "    input_df=pycontact_dataset.prepared_df,\n",
    "    target_file=classifications_file,\n",
    "    is_classification=True,\n",
    "    header_present=False # If your target_file has a header present, set to True.\n",
    ")"
   ]
  },
  {
   "cell_type": "code",
   "execution_count": 57,
   "metadata": {},
   "outputs": [
    {
     "data": {
      "text/html": [
       "<div>\n",
       "<style scoped>\n",
       "    .dataframe tbody tr th:only-of-type {\n",
       "        vertical-align: middle;\n",
       "    }\n",
       "\n",
       "    .dataframe tbody tr th {\n",
       "        vertical-align: top;\n",
       "    }\n",
       "\n",
       "    .dataframe thead th {\n",
       "        text-align: right;\n",
       "    }\n",
       "</style>\n",
       "<table border=\"1\" class=\"dataframe\">\n",
       "  <thead>\n",
       "    <tr style=\"text-align: right;\">\n",
       "      <th></th>\n",
       "      <th>Target</th>\n",
       "      <th>1Glu 241Ser Hbond sc-bb</th>\n",
       "      <th>1Glu 240Pro Hbond sc-bb</th>\n",
       "      <th>1Glu 4Lys Hbond bb-sc</th>\n",
       "      <th>1Glu 5Glu Hbond bb-bb</th>\n",
       "      <th>1Glu 6Phe Other bb-bb</th>\n",
       "      <th>2Met 240Pro Hbond sc-bb</th>\n",
       "      <th>2Met 5Glu Hbond bb-bb</th>\n",
       "      <th>2Met 245Ile Hbond sc-sc</th>\n",
       "      <th>2Met 270Tyr Other bb-sc</th>\n",
       "      <th>...</th>\n",
       "      <th>287Gln 296Glu Other sc-sc</th>\n",
       "      <th>286Val 293Leu Hydrophobic sc-sc</th>\n",
       "      <th>292Glu 298Leu Other sc-sc</th>\n",
       "      <th>290Trp 296Glu Other bb-sc</th>\n",
       "      <th>291Lys 298Leu Hbond sc-bb</th>\n",
       "      <th>288Asp 297Asp Other bb-sc</th>\n",
       "      <th>294Ser 298Leu Other bb-sc</th>\n",
       "      <th>288Asp 298Leu Other sc-sc</th>\n",
       "      <th>287Gln 298Leu Other bb-sc</th>\n",
       "      <th>289Gln 298Leu Other bb-sc</th>\n",
       "    </tr>\n",
       "  </thead>\n",
       "  <tbody>\n",
       "    <tr>\n",
       "      <th>0</th>\n",
       "      <td>Closed</td>\n",
       "      <td>2.79062</td>\n",
       "      <td>2.22760</td>\n",
       "      <td>11.75476</td>\n",
       "      <td>3.85765</td>\n",
       "      <td>0.01413</td>\n",
       "      <td>0.91267</td>\n",
       "      <td>4.97278</td>\n",
       "      <td>0.83832</td>\n",
       "      <td>2.71548</td>\n",
       "      <td>...</td>\n",
       "      <td>0.0</td>\n",
       "      <td>0.0</td>\n",
       "      <td>0.0</td>\n",
       "      <td>0.0</td>\n",
       "      <td>0.0</td>\n",
       "      <td>0.0</td>\n",
       "      <td>0.0</td>\n",
       "      <td>0.0</td>\n",
       "      <td>0.0</td>\n",
       "      <td>0.0</td>\n",
       "    </tr>\n",
       "    <tr>\n",
       "      <th>1</th>\n",
       "      <td>Closed</td>\n",
       "      <td>1.48888</td>\n",
       "      <td>0.15072</td>\n",
       "      <td>11.56569</td>\n",
       "      <td>2.01823</td>\n",
       "      <td>0.00000</td>\n",
       "      <td>1.89134</td>\n",
       "      <td>3.61045</td>\n",
       "      <td>0.08871</td>\n",
       "      <td>1.04626</td>\n",
       "      <td>...</td>\n",
       "      <td>0.0</td>\n",
       "      <td>0.0</td>\n",
       "      <td>0.0</td>\n",
       "      <td>0.0</td>\n",
       "      <td>0.0</td>\n",
       "      <td>0.0</td>\n",
       "      <td>0.0</td>\n",
       "      <td>0.0</td>\n",
       "      <td>0.0</td>\n",
       "      <td>0.0</td>\n",
       "    </tr>\n",
       "    <tr>\n",
       "      <th>2</th>\n",
       "      <td>Closed</td>\n",
       "      <td>2.65394</td>\n",
       "      <td>0.11149</td>\n",
       "      <td>7.74254</td>\n",
       "      <td>3.23310</td>\n",
       "      <td>0.00000</td>\n",
       "      <td>0.29681</td>\n",
       "      <td>4.05759</td>\n",
       "      <td>0.01007</td>\n",
       "      <td>1.47758</td>\n",
       "      <td>...</td>\n",
       "      <td>0.0</td>\n",
       "      <td>0.0</td>\n",
       "      <td>0.0</td>\n",
       "      <td>0.0</td>\n",
       "      <td>0.0</td>\n",
       "      <td>0.0</td>\n",
       "      <td>0.0</td>\n",
       "      <td>0.0</td>\n",
       "      <td>0.0</td>\n",
       "      <td>0.0</td>\n",
       "    </tr>\n",
       "    <tr>\n",
       "      <th>3</th>\n",
       "      <td>Closed</td>\n",
       "      <td>0.67279</td>\n",
       "      <td>0.26855</td>\n",
       "      <td>7.00332</td>\n",
       "      <td>1.61461</td>\n",
       "      <td>0.00000</td>\n",
       "      <td>3.11450</td>\n",
       "      <td>4.76641</td>\n",
       "      <td>0.15005</td>\n",
       "      <td>1.11730</td>\n",
       "      <td>...</td>\n",
       "      <td>0.0</td>\n",
       "      <td>0.0</td>\n",
       "      <td>0.0</td>\n",
       "      <td>0.0</td>\n",
       "      <td>0.0</td>\n",
       "      <td>0.0</td>\n",
       "      <td>0.0</td>\n",
       "      <td>0.0</td>\n",
       "      <td>0.0</td>\n",
       "      <td>0.0</td>\n",
       "    </tr>\n",
       "    <tr>\n",
       "      <th>4</th>\n",
       "      <td>Closed</td>\n",
       "      <td>0.73688</td>\n",
       "      <td>0.23481</td>\n",
       "      <td>5.10867</td>\n",
       "      <td>1.28357</td>\n",
       "      <td>0.00000</td>\n",
       "      <td>1.68206</td>\n",
       "      <td>3.98947</td>\n",
       "      <td>1.06603</td>\n",
       "      <td>2.91757</td>\n",
       "      <td>...</td>\n",
       "      <td>0.0</td>\n",
       "      <td>0.0</td>\n",
       "      <td>0.0</td>\n",
       "      <td>0.0</td>\n",
       "      <td>0.0</td>\n",
       "      <td>0.0</td>\n",
       "      <td>0.0</td>\n",
       "      <td>0.0</td>\n",
       "      <td>0.0</td>\n",
       "      <td>0.0</td>\n",
       "    </tr>\n",
       "    <tr>\n",
       "      <th>...</th>\n",
       "      <td>...</td>\n",
       "      <td>...</td>\n",
       "      <td>...</td>\n",
       "      <td>...</td>\n",
       "      <td>...</td>\n",
       "      <td>...</td>\n",
       "      <td>...</td>\n",
       "      <td>...</td>\n",
       "      <td>...</td>\n",
       "      <td>...</td>\n",
       "      <td>...</td>\n",
       "      <td>...</td>\n",
       "      <td>...</td>\n",
       "      <td>...</td>\n",
       "      <td>...</td>\n",
       "      <td>...</td>\n",
       "      <td>...</td>\n",
       "      <td>...</td>\n",
       "      <td>...</td>\n",
       "      <td>...</td>\n",
       "      <td>...</td>\n",
       "    </tr>\n",
       "    <tr>\n",
       "      <th>9995</th>\n",
       "      <td>Open</td>\n",
       "      <td>5.88591</td>\n",
       "      <td>0.01018</td>\n",
       "      <td>9.95938</td>\n",
       "      <td>3.59306</td>\n",
       "      <td>0.00000</td>\n",
       "      <td>1.78412</td>\n",
       "      <td>5.69829</td>\n",
       "      <td>1.32305</td>\n",
       "      <td>1.11285</td>\n",
       "      <td>...</td>\n",
       "      <td>0.0</td>\n",
       "      <td>0.0</td>\n",
       "      <td>0.0</td>\n",
       "      <td>0.0</td>\n",
       "      <td>0.0</td>\n",
       "      <td>0.0</td>\n",
       "      <td>0.0</td>\n",
       "      <td>0.0</td>\n",
       "      <td>0.0</td>\n",
       "      <td>0.0</td>\n",
       "    </tr>\n",
       "    <tr>\n",
       "      <th>9996</th>\n",
       "      <td>Open</td>\n",
       "      <td>8.34367</td>\n",
       "      <td>0.01030</td>\n",
       "      <td>9.86854</td>\n",
       "      <td>2.94537</td>\n",
       "      <td>0.00000</td>\n",
       "      <td>0.16410</td>\n",
       "      <td>4.74343</td>\n",
       "      <td>2.71557</td>\n",
       "      <td>1.36727</td>\n",
       "      <td>...</td>\n",
       "      <td>0.0</td>\n",
       "      <td>0.0</td>\n",
       "      <td>0.0</td>\n",
       "      <td>0.0</td>\n",
       "      <td>0.0</td>\n",
       "      <td>0.0</td>\n",
       "      <td>0.0</td>\n",
       "      <td>0.0</td>\n",
       "      <td>0.0</td>\n",
       "      <td>0.0</td>\n",
       "    </tr>\n",
       "    <tr>\n",
       "      <th>9997</th>\n",
       "      <td>Open</td>\n",
       "      <td>9.10518</td>\n",
       "      <td>0.02668</td>\n",
       "      <td>6.73513</td>\n",
       "      <td>1.70116</td>\n",
       "      <td>0.00000</td>\n",
       "      <td>0.09681</td>\n",
       "      <td>3.34138</td>\n",
       "      <td>1.84982</td>\n",
       "      <td>0.99641</td>\n",
       "      <td>...</td>\n",
       "      <td>0.0</td>\n",
       "      <td>0.0</td>\n",
       "      <td>0.0</td>\n",
       "      <td>0.0</td>\n",
       "      <td>0.0</td>\n",
       "      <td>0.0</td>\n",
       "      <td>0.0</td>\n",
       "      <td>0.0</td>\n",
       "      <td>0.0</td>\n",
       "      <td>0.0</td>\n",
       "    </tr>\n",
       "    <tr>\n",
       "      <th>9998</th>\n",
       "      <td>Open</td>\n",
       "      <td>2.33875</td>\n",
       "      <td>0.00000</td>\n",
       "      <td>8.18129</td>\n",
       "      <td>2.79464</td>\n",
       "      <td>0.00000</td>\n",
       "      <td>0.64758</td>\n",
       "      <td>5.16315</td>\n",
       "      <td>2.49588</td>\n",
       "      <td>1.48416</td>\n",
       "      <td>...</td>\n",
       "      <td>0.0</td>\n",
       "      <td>0.0</td>\n",
       "      <td>0.0</td>\n",
       "      <td>0.0</td>\n",
       "      <td>0.0</td>\n",
       "      <td>0.0</td>\n",
       "      <td>0.0</td>\n",
       "      <td>0.0</td>\n",
       "      <td>0.0</td>\n",
       "      <td>0.0</td>\n",
       "    </tr>\n",
       "    <tr>\n",
       "      <th>9999</th>\n",
       "      <td>Open</td>\n",
       "      <td>3.11345</td>\n",
       "      <td>0.00000</td>\n",
       "      <td>5.73112</td>\n",
       "      <td>1.63258</td>\n",
       "      <td>0.00000</td>\n",
       "      <td>0.12327</td>\n",
       "      <td>4.58947</td>\n",
       "      <td>3.53847</td>\n",
       "      <td>1.33795</td>\n",
       "      <td>...</td>\n",
       "      <td>0.0</td>\n",
       "      <td>0.0</td>\n",
       "      <td>0.0</td>\n",
       "      <td>0.0</td>\n",
       "      <td>0.0</td>\n",
       "      <td>0.0</td>\n",
       "      <td>0.0</td>\n",
       "      <td>0.0</td>\n",
       "      <td>0.0</td>\n",
       "      <td>0.0</td>\n",
       "    </tr>\n",
       "  </tbody>\n",
       "</table>\n",
       "<p>10000 rows × 1887 columns</p>\n",
       "</div>"
      ],
      "text/plain": [
       "      Target  1Glu 241Ser Hbond sc-bb  1Glu 240Pro Hbond sc-bb  \\\n",
       "0     Closed                  2.79062                  2.22760   \n",
       "1     Closed                  1.48888                  0.15072   \n",
       "2     Closed                  2.65394                  0.11149   \n",
       "3     Closed                  0.67279                  0.26855   \n",
       "4     Closed                  0.73688                  0.23481   \n",
       "...      ...                      ...                      ...   \n",
       "9995    Open                  5.88591                  0.01018   \n",
       "9996    Open                  8.34367                  0.01030   \n",
       "9997    Open                  9.10518                  0.02668   \n",
       "9998    Open                  2.33875                  0.00000   \n",
       "9999    Open                  3.11345                  0.00000   \n",
       "\n",
       "      1Glu 4Lys Hbond bb-sc  1Glu 5Glu Hbond bb-bb  1Glu 6Phe Other bb-bb  \\\n",
       "0                  11.75476                3.85765                0.01413   \n",
       "1                  11.56569                2.01823                0.00000   \n",
       "2                   7.74254                3.23310                0.00000   \n",
       "3                   7.00332                1.61461                0.00000   \n",
       "4                   5.10867                1.28357                0.00000   \n",
       "...                     ...                    ...                    ...   \n",
       "9995                9.95938                3.59306                0.00000   \n",
       "9996                9.86854                2.94537                0.00000   \n",
       "9997                6.73513                1.70116                0.00000   \n",
       "9998                8.18129                2.79464                0.00000   \n",
       "9999                5.73112                1.63258                0.00000   \n",
       "\n",
       "      2Met 240Pro Hbond sc-bb  2Met 5Glu Hbond bb-bb  2Met 245Ile Hbond sc-sc  \\\n",
       "0                     0.91267                4.97278                  0.83832   \n",
       "1                     1.89134                3.61045                  0.08871   \n",
       "2                     0.29681                4.05759                  0.01007   \n",
       "3                     3.11450                4.76641                  0.15005   \n",
       "4                     1.68206                3.98947                  1.06603   \n",
       "...                       ...                    ...                      ...   \n",
       "9995                  1.78412                5.69829                  1.32305   \n",
       "9996                  0.16410                4.74343                  2.71557   \n",
       "9997                  0.09681                3.34138                  1.84982   \n",
       "9998                  0.64758                5.16315                  2.49588   \n",
       "9999                  0.12327                4.58947                  3.53847   \n",
       "\n",
       "      2Met 270Tyr Other bb-sc  ...  287Gln 296Glu Other sc-sc  \\\n",
       "0                     2.71548  ...                        0.0   \n",
       "1                     1.04626  ...                        0.0   \n",
       "2                     1.47758  ...                        0.0   \n",
       "3                     1.11730  ...                        0.0   \n",
       "4                     2.91757  ...                        0.0   \n",
       "...                       ...  ...                        ...   \n",
       "9995                  1.11285  ...                        0.0   \n",
       "9996                  1.36727  ...                        0.0   \n",
       "9997                  0.99641  ...                        0.0   \n",
       "9998                  1.48416  ...                        0.0   \n",
       "9999                  1.33795  ...                        0.0   \n",
       "\n",
       "      286Val 293Leu Hydrophobic sc-sc  292Glu 298Leu Other sc-sc  \\\n",
       "0                                 0.0                        0.0   \n",
       "1                                 0.0                        0.0   \n",
       "2                                 0.0                        0.0   \n",
       "3                                 0.0                        0.0   \n",
       "4                                 0.0                        0.0   \n",
       "...                               ...                        ...   \n",
       "9995                              0.0                        0.0   \n",
       "9996                              0.0                        0.0   \n",
       "9997                              0.0                        0.0   \n",
       "9998                              0.0                        0.0   \n",
       "9999                              0.0                        0.0   \n",
       "\n",
       "      290Trp 296Glu Other bb-sc  291Lys 298Leu Hbond sc-bb  \\\n",
       "0                           0.0                        0.0   \n",
       "1                           0.0                        0.0   \n",
       "2                           0.0                        0.0   \n",
       "3                           0.0                        0.0   \n",
       "4                           0.0                        0.0   \n",
       "...                         ...                        ...   \n",
       "9995                        0.0                        0.0   \n",
       "9996                        0.0                        0.0   \n",
       "9997                        0.0                        0.0   \n",
       "9998                        0.0                        0.0   \n",
       "9999                        0.0                        0.0   \n",
       "\n",
       "      288Asp 297Asp Other bb-sc  294Ser 298Leu Other bb-sc  \\\n",
       "0                           0.0                        0.0   \n",
       "1                           0.0                        0.0   \n",
       "2                           0.0                        0.0   \n",
       "3                           0.0                        0.0   \n",
       "4                           0.0                        0.0   \n",
       "...                         ...                        ...   \n",
       "9995                        0.0                        0.0   \n",
       "9996                        0.0                        0.0   \n",
       "9997                        0.0                        0.0   \n",
       "9998                        0.0                        0.0   \n",
       "9999                        0.0                        0.0   \n",
       "\n",
       "      288Asp 298Leu Other sc-sc  287Gln 298Leu Other bb-sc  \\\n",
       "0                           0.0                        0.0   \n",
       "1                           0.0                        0.0   \n",
       "2                           0.0                        0.0   \n",
       "3                           0.0                        0.0   \n",
       "4                           0.0                        0.0   \n",
       "...                         ...                        ...   \n",
       "9995                        0.0                        0.0   \n",
       "9996                        0.0                        0.0   \n",
       "9997                        0.0                        0.0   \n",
       "9998                        0.0                        0.0   \n",
       "9999                        0.0                        0.0   \n",
       "\n",
       "      289Gln 298Leu Other bb-sc  \n",
       "0                           0.0  \n",
       "1                           0.0  \n",
       "2                           0.0  \n",
       "3                           0.0  \n",
       "4                           0.0  \n",
       "...                         ...  \n",
       "9995                        0.0  \n",
       "9996                        0.0  \n",
       "9997                        0.0  \n",
       "9998                        0.0  \n",
       "9999                        0.0  \n",
       "\n",
       "[10000 rows x 1887 columns]"
      ]
     },
     "execution_count": 57,
     "metadata": {},
     "output_type": "execute_result"
    }
   ],
   "source": [
    "# As stated above to access the newly generated dataframe we can use the class attribute as follows\n",
    "supervised_dataset.df_processed"
   ]
  },
  {
   "cell_type": "markdown",
   "metadata": {},
   "source": [
    "##### Optional Feature Filtering\n",
    "\n",
    "In the above dataframe we have 1887 columns (so 1886 features + 1 target). We can take all of these forward for the stastical analysis or we can perform some filtering in advance (the choice is yours). \n",
    "There are five built in filtering methods available to you to perform filtering:\n",
    "\n",
    "1. **filter_by_occupancy(min_occupancy)** - Remove features that have an %occupancy less than the provided cut-off. %Occupancy is the % of frames with a non 0 value, i.e. the interaction is present in that frame.\n",
    "\n",
    "2. **filter_by_interaction_type(interaction_types_included)** - PyContact defines four types of interactions (\"Hbond\", \"Saltbr\", \"Hydrophobic\", \"Other\"). You select the interactions your want to include.\n",
    "\n",
    "3. **filter_by_main_or_side_chain(main_side_chain_types_included)** - PyContact can also define if each interaction is primarily from the backbone or side-chain for each residue. You select the interaction combinations you want to include. Options are: \"bb-bb\", \"sc-sc\", \"bb-sc\", \"sc-bb\". Where bb = backbone and sc = sidechain.\n",
    "\n",
    "4. **filter_by_avg_strength(average_strength_cut_off)** - PyContact calculates a per frame contact score/strength for each interaction. You can filter features by the average score. Values below the cut-off are removed. \n",
    "\n",
    "5. **filter_by_occupancy_by_class(min_occupancy)** - Special alternative to the the standard filter features by occupancy method. %occupancy is determined for each class (as opposed to whole dataset), meaning only observations from 1 class have to meet the cut-off to keep the feature. Only avaible to datasets with a categorical target variable (classification). \n",
    "\n",
    "\n",
    "Finally if at any point in time you want to reset any filtering you've already performed, you can use the following method: \n",
    "\n",
    "6. **reset_filtering()** \n"
   ]
  },
  {
   "cell_type": "code",
   "execution_count": 58,
   "metadata": {},
   "outputs": [
    {
     "name": "stdout",
     "output_type": "stream",
     "text": [
      "Number of features before any filtering: 1886\n",
      "Number of features after filtering by occupancy: 1156\n",
      "Number of features after filtering by interaction type: 696\n",
      "Number of features after NOT filtering by main or side chain: 696\n",
      "Number of features after filtering by average interaction scores: 615\n"
     ]
    }
   ],
   "source": [
    "# An example of filtering the dataset using the available methods. \n",
    "supervised_dataset.reset_filtering() \n",
    "print(f\"Number of features before any filtering: {len(supervised_dataset.df_processed.columns) - 1}\")\n",
    "\n",
    "# Features with a %occupancy of less than 25% are removed. \n",
    "supervised_dataset.filter_by_occupancy_by_class(min_occupancy=25)\n",
    "print(f\"Number of features after filtering by occupancy: {len(supervised_dataset.df_filtered.columns) - 1}\")\n",
    "\n",
    "# Remove features with interaction type \"Other\". \n",
    "supervised_dataset.filter_by_interaction_type(\n",
    "    interaction_types_included=[\"Hbond\", \"Saltbr\", \"Hydrophobic\"]) \n",
    "print(f\"Number of features after filtering by interaction type: {len(supervised_dataset.df_filtered.columns) - 1}\")\n",
    "\n",
    "# No filtering performed here as all possible combinations are included. \n",
    "supervised_dataset.filter_by_main_or_side_chain(\n",
    "    main_side_chain_types_included=[\"bb-bb\", \"sc-sc\", \"bb-sc\", \"sc-bb\"]  \n",
    ")\n",
    "print(f\"Number of features after NOT filtering by main or side chain: {len(supervised_dataset.df_filtered.columns) - 1}\")\n",
    "\n",
    "# Features with an average interaction strength less than 0.5 will be removed. \n",
    "supervised_dataset.filter_by_avg_strength(\n",
    "    average_strength_cut_off=0.5,  \n",
    ")\n",
    "print(f\"Number of features after filtering by average interaction scores: {len(supervised_dataset.df_filtered.columns) - 1}\")"
   ]
  },
  {
   "cell_type": "markdown",
   "metadata": {},
   "source": [
    "Now if we look at the class attributes of our SupervisedFeatureData() instance (we called it: supervised_dataset) using the special \"\\_\\_dict__\" method we can see two dataframes we could use in the stastical analysis to follow. "
   ]
  },
  {
   "cell_type": "code",
   "execution_count": 59,
   "metadata": {},
   "outputs": [
    {
     "data": {
      "text/plain": [
       "dict_keys(['input_df', 'is_classification', 'target_file', 'header_present', 'df_processed', 'df_filtered'])"
      ]
     },
     "execution_count": 59,
     "metadata": {},
     "output_type": "execute_result"
    }
   ],
   "source": [
    "supervised_dataset.__dict__.keys()"
   ]
  },
  {
   "cell_type": "markdown",
   "metadata": {},
   "source": [
    "They are: \n",
    "- 'df_processed' - The unfiltered dataframe, 1886 features\n",
    "- 'df_filtered' - The filtered dataframe. Less than 1886 features. \n",
    "\n",
    "In the following sections we will use the filtered dataframe but either dataframe could be justified based on your goals. "
   ]
  },
  {
   "cell_type": "markdown",
   "metadata": {},
   "source": [
    "## Analysis Time! \n",
    "\n",
    "Our dataset is now ready for either statistical analysis or ML or both! "
   ]
  },
  {
   "cell_type": "markdown",
   "metadata": {},
   "source": [
    "### Part 1.1. Perform Statistical Analysis with the stat_modelling.py module. \n",
    "\n",
    "Now we will perform the actual statistical modelling to compare the differences for each feature when the WPD-loop is in the closed and open state. \n",
    "\n",
    "With this module, we can calculate two different metrics to evaluate how different/similar each feature is when the protein is in the closed WPD-loop conformation or the open-WPD-loop conformation: \n",
    "\n",
    "1. The [Jensen-Shannon distance](https://docs.scipy.org/doc/scipy/reference/generated/scipy.spatial.distance.jensenshannon.html). For this method, Kernel density estimations (KDEs) are calculated for the normalised interaction stength of feature in each state before performing the calculation. We can also extract these KDEs as we did in the manuscript (and will show you how to do it here) to compare the interaction strengths for each state. \n",
    "\n",
    "2. The [mutual information](https://scikit-learn.org/stable/modules/generated/sklearn.feature_selection.mutual_info_classif.html) using the implementation available in Scikit-learn. The mutual information can capture any kind of dependancy/relationship between variables and score their dependancy\n",
    "\n",
    "In both cases, the higher the score, the more \"different\" the feature is when in the two different states. Scores are in the range 0 and 1.   "
   ]
  },
  {
   "cell_type": "code",
   "execution_count": 60,
   "metadata": {},
   "outputs": [],
   "source": [
    "stat_model = stat_modelling.ClassificationStatModel(\n",
    "    dataset=supervised_dataset.df_filtered, \n",
    "    class_names=[\"Closed\", \"Open\"], # select the two class labels to compare. Has to be 2 labels. \n",
    "    out_dir=stats_out_dir,\n",
    "    interaction_types_included=[\"Hbond\", \"Saltbr\", \"Hydrophobic\"] # select which interaction types to include, in this case: \"Other\" removed. \n",
    ")"
   ]
  },
  {
   "cell_type": "code",
   "execution_count": 61,
   "metadata": {},
   "outputs": [
    {
     "name": "stdout",
     "output_type": "stream",
     "text": [
      "Jensen-Shannon (JS) distances calculated.\n",
      "tutorial_datasets\\PTP1B_stat_analysis\\Jensen_Shannon_Per_Feature_Scores.csv written to disk.\n",
      "You can also access these results via the class attribute: 'js_distances'.\n"
     ]
    }
   ],
   "source": [
    "# First we can calculate the Jensen-Shannon distances\n",
    "stat_model.calc_js_distances()"
   ]
  },
  {
   "cell_type": "code",
   "execution_count": 62,
   "metadata": {},
   "outputs": [
    {
     "name": "stdout",
     "output_type": "stream",
     "text": [
      "Mutual information scores calculated.\n",
      "tutorial_datasets\\PTP1B_stat_analysis\\Mutual_Information_Per_Feature_Scores.csv written to disk.\n",
      "You can also access these results via the class attribute: 'mutual_infos'.\n"
     ]
    }
   ],
   "source": [
    "# Now we can calculate the mutual information\n",
    "stat_model.calc_mutual_info_to_target()"
   ]
  },
  {
   "cell_type": "code",
   "execution_count": 63,
   "metadata": {},
   "outputs": [],
   "source": [
    "# As printed above we can access the results from these calculations from the class instance's (we called it stat_model) attributes. \n",
    "mi_results = stat_model.mutual_infos\n",
    "js_results = stat_model.js_distances\n",
    "# stat_model.__dict__.keys() # uncomment to see all attributes available. "
   ]
  },
  {
   "cell_type": "markdown",
   "metadata": {},
   "source": [
    "### Part 1.2. Work up the Statistical Analysis with the post_proccessing.py module. \n",
    "\n",
    "In this module we have access to 3 methods to process the results. \n",
    "\n",
    "1. We can convert the per feature scores to per residue scores, by summing (and then normalising) every per feature score that each residue is involved in.\n",
    "This can allow us to identify residues which seem to differ the most between each state. \n",
    "\n",
    "2. We can also try to predict the \"direction\" that each feature favours. This essentially means in which class is the feature on average stronger in.  \n",
    "\n",
    "3. We can obtain the kernel density estimations for selected interactions to compare how the interactions stengths differ between states. "
   ]
  },
  {
   "cell_type": "code",
   "execution_count": 64,
   "metadata": {},
   "outputs": [
    {
     "data": {
      "text/plain": [
       "dict_keys(['stat_model', 'out_dir', 'per_residue_mutual_infos', 'per_residue_js_distances', 'feature_directions'])"
      ]
     },
     "execution_count": 64,
     "metadata": {},
     "output_type": "execute_result"
    }
   ],
   "source": [
    "# First generate an instance of the class. \n",
    "post_proc = post_proccessing.StatClassificationPostProcessor(\n",
    "    stat_model=stat_model,\n",
    "    out_dir=stats_out_dir\n",
    ")\n",
    "\n",
    "# As you have already seen in the prior steps, we can take a look at class attributes with the __dict__ method. \n",
    "# Note that some of these attributes will be empty until we have run the next few code blocks.\n",
    "post_proc.__dict__.keys()"
   ]
  },
  {
   "cell_type": "code",
   "execution_count": 65,
   "metadata": {},
   "outputs": [
    {
     "name": "stdout",
     "output_type": "stream",
     "text": [
      "tutorial_datasets\\PTP1B_stat_analysis\\Jensen_Shannon_Distance_Scores_Per_Residue.csv written to disk.\n",
      "tutorial_datasets\\PTP1B_stat_analysis\\Mutual_Information_Scores_Per_Residue.csv written to disk.\n"
     ]
    }
   ],
   "source": [
    "# Now we can run the get_per_res_scores() method, changing the stat_method accordingly.\n",
    "js_per_res_scores = post_proc.get_per_res_scores(\n",
    "    stat_method=\"jensen_shannon\")\n",
    "mi_per_res_scores = post_proc.get_per_res_scores(\n",
    "    stat_method=\"mutual_information\")"
   ]
  },
  {
   "cell_type": "code",
   "execution_count": 66,
   "metadata": {},
   "outputs": [
    {
     "name": "stdout",
     "output_type": "stream",
     "text": [
      "tutorial_datasets\\PTP1B_stat_analysis\\Feature_Direction_Estimates.csv written to disk.\n",
      "You can access these predictions through the 'feature_directions' class attribute.\n"
     ]
    },
    {
     "name": "stderr",
     "output_type": "stream",
     "text": [
      "c:\\users\\rory crean\\desktop\\github\\key-interactions-finder\\key_interactions_finder\\post_proccessing.py:748: UserWarning:\n",
      "\n",
      "Warning, this method is very simplistic and just calculates the average contact score/strength for all features for both classes to determine the direction each feature appears to favour. You should therefore interpret these results with care...\n",
      "\n",
      "c:\\users\\rory crean\\desktop\\github\\key-interactions-finder\\key_interactions_finder\\post_proccessing.py:758: FutureWarning:\n",
      "\n",
      "Dropping of nuisance columns in DataFrame reductions (with 'numeric_only=None') is deprecated; in a future version this will raise TypeError.  Select only valid columns before calling the reduction.\n",
      "\n"
     ]
    }
   ],
   "source": [
    "# Here we predict the \"direction\" that each feature favours. \n",
    "# This essentially means in which class is the feature on average stronger in.  \n",
    "# Because of the nature of the method, a warning is given. \n",
    "post_proc.estimate_feature_directions()"
   ]
  },
  {
   "cell_type": "code",
   "execution_count": 67,
   "metadata": {},
   "outputs": [
    {
     "data": {
      "text/plain": [
       "dict_keys(['180Asp 220Arg Hbond bb-sc', '182Gly 265Gln Hbond bb-sc', '179Pro 220Arg Hbond bb-sc', '181Phe 262Thr Hbond bb-sc', '181Phe 265Gln Hbond bb-sc', '186Ser 190Phe Hbond bb-bb', '181Phe 261Gln Hbond sc-sc', '186Ser 189Ser Hbond bb-bb', '111Arg 180Asp Saltbr sc-sc', '178Trp 182Gly Hbond sc-bb'])"
      ]
     },
     "execution_count": 67,
     "metadata": {},
     "output_type": "execute_result"
    }
   ],
   "source": [
    "# We can also extract the kernel density estimations for the feature with the largest differences. \n",
    "x_values, selected_kdes = post_proc.get_kdes(\n",
    "    number_features=10) # top 10 features based on Jensen Shannon Distances. \n",
    "\n",
    "selected_kdes[\"Closed\"].keys() # here we can see what features were in the top 10 and could be plotted. "
   ]
  },
  {
   "cell_type": "markdown",
   "metadata": {},
   "source": [
    "**Optional:** Now we will take a look at the most different feature in both states using the plotly plotting library. "
   ]
  },
  {
   "cell_type": "code",
   "execution_count": 68,
   "metadata": {},
   "outputs": [],
   "source": [
    "import plotly.express as px\n",
    "import plotly.graph_objects as go"
   ]
  },
  {
   "cell_type": "code",
   "execution_count": 69,
   "metadata": {},
   "outputs": [
    {
     "data": {
      "text/html": [
       "<div>\n",
       "<style scoped>\n",
       "    .dataframe tbody tr th:only-of-type {\n",
       "        vertical-align: middle;\n",
       "    }\n",
       "\n",
       "    .dataframe tbody tr th {\n",
       "        vertical-align: top;\n",
       "    }\n",
       "\n",
       "    .dataframe thead th {\n",
       "        text-align: right;\n",
       "    }\n",
       "</style>\n",
       "<table border=\"1\" class=\"dataframe\">\n",
       "  <thead>\n",
       "    <tr style=\"text-align: right;\">\n",
       "      <th></th>\n",
       "      <th>Normalised Interaction Strength</th>\n",
       "      <th>Closed WPD-Loop</th>\n",
       "      <th>Open WPD-Loop</th>\n",
       "    </tr>\n",
       "  </thead>\n",
       "  <tbody>\n",
       "    <tr>\n",
       "      <th>0</th>\n",
       "      <td>0.00</td>\n",
       "      <td>0.000393</td>\n",
       "      <td>19.911096</td>\n",
       "    </tr>\n",
       "    <tr>\n",
       "      <th>1</th>\n",
       "      <td>0.02</td>\n",
       "      <td>0.002548</td>\n",
       "      <td>12.135692</td>\n",
       "    </tr>\n",
       "    <tr>\n",
       "      <th>2</th>\n",
       "      <td>0.04</td>\n",
       "      <td>0.008382</td>\n",
       "      <td>2.741695</td>\n",
       "    </tr>\n",
       "    <tr>\n",
       "      <th>3</th>\n",
       "      <td>0.06</td>\n",
       "      <td>0.019591</td>\n",
       "      <td>0.237508</td>\n",
       "    </tr>\n",
       "    <tr>\n",
       "      <th>4</th>\n",
       "      <td>0.08</td>\n",
       "      <td>0.037140</td>\n",
       "      <td>0.012023</td>\n",
       "    </tr>\n",
       "  </tbody>\n",
       "</table>\n",
       "</div>"
      ],
      "text/plain": [
       "   Normalised Interaction Strength  Closed WPD-Loop  Open WPD-Loop\n",
       "0                             0.00         0.000393      19.911096\n",
       "1                             0.02         0.002548      12.135692\n",
       "2                             0.04         0.008382       2.741695\n",
       "3                             0.06         0.019591       0.237508\n",
       "4                             0.08         0.037140       0.012023"
      ]
     },
     "execution_count": 69,
     "metadata": {},
     "output_type": "execute_result"
    }
   ],
   "source": [
    "interaction_df = pd.DataFrame(\n",
    "    {\"Normalised Interaction Strength\": list(x_values[:, 0]),\n",
    "     \"Closed WPD-Loop\": selected_kdes[\"Closed\"][\"180Asp 220Arg Hbond bb-sc\"],\n",
    "     \"Open WPD-Loop\": selected_kdes[\"Open\"][\"180Asp 220Arg Hbond bb-sc\"]\n",
    "    }\n",
    ")\n",
    "\n",
    "interaction_df.head()"
   ]
  },
  {
   "cell_type": "code",
   "execution_count": 70,
   "metadata": {},
   "outputs": [
    {
     "data": {
      "image/svg+xml": [
       "<svg class=\"main-svg\" xmlns=\"http://www.w3.org/2000/svg\" xmlns:xlink=\"http://www.w3.org/1999/xlink\" width=\"700\" height=\"500\" style=\"\" viewBox=\"0 0 700 500\"><rect x=\"0\" y=\"0\" width=\"700\" height=\"500\" style=\"fill: rgb(255, 255, 255); fill-opacity: 1;\"/><defs id=\"defs-2af90f\"><g class=\"clips\"><clipPath id=\"clip2af90fxyplot\" class=\"plotclip\"><rect width=\"446\" height=\"320\"/></clipPath><clipPath class=\"axesclip\" id=\"clip2af90fx\"><rect x=\"80\" y=\"0\" width=\"446\" height=\"500\"/></clipPath><clipPath class=\"axesclip\" id=\"clip2af90fy\"><rect x=\"0\" y=\"100\" width=\"700\" height=\"320\"/></clipPath><clipPath class=\"axesclip\" id=\"clip2af90fxy\"><rect x=\"80\" y=\"100\" width=\"446\" height=\"320\"/></clipPath></g><g class=\"gradients\"/><g class=\"patterns\"/></defs><g class=\"bglayer\"><rect class=\"bg\" x=\"80\" y=\"100\" width=\"446\" height=\"320\" style=\"fill: rgb(229, 236, 246); fill-opacity: 1; stroke-width: 0;\"/></g><g class=\"layer-below\"><g class=\"imagelayer\"/><g class=\"shapelayer\"/></g><g class=\"cartesianlayer\"><g class=\"subplot xy\"><g class=\"layer-subplot\"><g class=\"shapelayer\"/><g class=\"imagelayer\"/></g><g class=\"gridlayer\"><g class=\"x\"><path class=\"xgrid crisp\" transform=\"translate(186.44,0)\" d=\"M0,100v320\" style=\"stroke: rgb(255, 255, 255); stroke-opacity: 1; stroke-width: 1px;\"/><path class=\"xgrid crisp\" transform=\"translate(266.83000000000004,0)\" d=\"M0,100v320\" style=\"stroke: rgb(255, 255, 255); stroke-opacity: 1; stroke-width: 1px;\"/><path class=\"xgrid crisp\" transform=\"translate(347.21,0)\" d=\"M0,100v320\" style=\"stroke: rgb(255, 255, 255); stroke-opacity: 1; stroke-width: 1px;\"/><path class=\"xgrid crisp\" transform=\"translate(427.6,0)\" d=\"M0,100v320\" style=\"stroke: rgb(255, 255, 255); stroke-opacity: 1; stroke-width: 1px;\"/><path class=\"xgrid crisp\" transform=\"translate(507.99,0)\" d=\"M0,100v320\" style=\"stroke: rgb(255, 255, 255); stroke-opacity: 1; stroke-width: 1px;\"/></g><g class=\"y\"><path class=\"ygrid crisp\" transform=\"translate(0,329.81)\" d=\"M80,0h446\" style=\"stroke: rgb(255, 255, 255); stroke-opacity: 1; stroke-width: 1px;\"/><path class=\"ygrid crisp\" transform=\"translate(0,259.37)\" d=\"M80,0h446\" style=\"stroke: rgb(255, 255, 255); stroke-opacity: 1; stroke-width: 1px;\"/><path class=\"ygrid crisp\" transform=\"translate(0,188.94)\" d=\"M80,0h446\" style=\"stroke: rgb(255, 255, 255); stroke-opacity: 1; stroke-width: 1px;\"/><path class=\"ygrid crisp\" transform=\"translate(0,118.5)\" d=\"M80,0h446\" style=\"stroke: rgb(255, 255, 255); stroke-opacity: 1; stroke-width: 1px;\"/></g></g><g class=\"zerolinelayer\"><path class=\"xzl zl crisp\" transform=\"translate(106.05,0)\" d=\"M0,100v320\" style=\"stroke: rgb(255, 255, 255); stroke-opacity: 1; stroke-width: 2px;\"/><path class=\"yzl zl crisp\" transform=\"translate(0,400.25)\" d=\"M80,0h446\" style=\"stroke: rgb(255, 255, 255); stroke-opacity: 1; stroke-width: 2px;\"/></g><path class=\"xlines-below\"/><path class=\"ylines-below\"/><g class=\"overlines-below\"/><g class=\"xaxislayer-below\"/><g class=\"yaxislayer-below\"/><g class=\"overaxes-below\"/><g class=\"plot\" transform=\"translate(80,100)\" clip-path=\"url(#clip2af90fxyplot)\"><g class=\"scatterlayer mlayer\"><g class=\"trace scatter trace09b56a\" style=\"stroke-miterlimit: 2; opacity: 1;\"><g class=\"fills\"/><g class=\"errorbars\"/><g class=\"lines\"><path class=\"js-line\" d=\"M26.05,300.24L66.24,299.46L74.28,299.08L106.44,296.18L114.48,294.65L130.55,290.46L138.59,287.79L146.63,284.31L154.67,279.47L162.71,274.61L170.75,270.72L178.79,266.86L186.83,264.18L210.94,260.9L218.98,261.33L235.06,264.91L243.1,266.95L267.21,274.34L275.25,275.84L283.29,277.2L291.33,279.46L315.45,288.12L323.48,290.9L347.6,296.07L355.64,297.39L379.76,299.38L387.79,299.84L419.95,300.17\" style=\"vector-effect: non-scaling-stroke; fill: none; stroke: rgb(99, 110, 250); stroke-opacity: 1; stroke-width: 2px; opacity: 1;\"/></g><g class=\"points\"><path class=\"point\" transform=\"translate(26.05,300.24)\" d=\"M3,0A3,3 0 1,1 0,-3A3,3 0 0,1 3,0Z\" style=\"opacity: 1; stroke-width: 0px; fill: rgb(99, 110, 250); fill-opacity: 1;\"/><path class=\"point\" transform=\"translate(34.09,300.21)\" d=\"M3,0A3,3 0 1,1 0,-3A3,3 0 0,1 3,0Z\" style=\"opacity: 1; stroke-width: 0px; fill: rgb(99, 110, 250); fill-opacity: 1;\"/><path class=\"point\" transform=\"translate(42.13,300.13)\" d=\"M3,0A3,3 0 1,1 0,-3A3,3 0 0,1 3,0Z\" style=\"opacity: 1; stroke-width: 0px; fill: rgb(99, 110, 250); fill-opacity: 1;\"/><path class=\"point\" transform=\"translate(50.17,299.97)\" d=\"M3,0A3,3 0 1,1 0,-3A3,3 0 0,1 3,0Z\" style=\"opacity: 1; stroke-width: 0px; fill: rgb(99, 110, 250); fill-opacity: 1;\"/><path class=\"point\" transform=\"translate(58.21,299.73)\" d=\"M3,0A3,3 0 1,1 0,-3A3,3 0 0,1 3,0Z\" style=\"opacity: 1; stroke-width: 0px; fill: rgb(99, 110, 250); fill-opacity: 1;\"/><path class=\"point\" transform=\"translate(66.24,299.46)\" d=\"M3,0A3,3 0 1,1 0,-3A3,3 0 0,1 3,0Z\" style=\"opacity: 1; stroke-width: 0px; fill: rgb(99, 110, 250); fill-opacity: 1;\"/><path class=\"point\" transform=\"translate(74.28,299.08)\" d=\"M3,0A3,3 0 1,1 0,-3A3,3 0 0,1 3,0Z\" style=\"opacity: 1; stroke-width: 0px; fill: rgb(99, 110, 250); fill-opacity: 1;\"/><path class=\"point\" transform=\"translate(82.32,298.36)\" d=\"M3,0A3,3 0 1,1 0,-3A3,3 0 0,1 3,0Z\" style=\"opacity: 1; stroke-width: 0px; fill: rgb(99, 110, 250); fill-opacity: 1;\"/><path class=\"point\" transform=\"translate(90.36,297.62)\" d=\"M3,0A3,3 0 1,1 0,-3A3,3 0 0,1 3,0Z\" style=\"opacity: 1; stroke-width: 0px; fill: rgb(99, 110, 250); fill-opacity: 1;\"/><path class=\"point\" transform=\"translate(98.4,297.12)\" d=\"M3,0A3,3 0 1,1 0,-3A3,3 0 0,1 3,0Z\" style=\"opacity: 1; stroke-width: 0px; fill: rgb(99, 110, 250); fill-opacity: 1;\"/><path class=\"point\" transform=\"translate(106.44,296.18)\" d=\"M3,0A3,3 0 1,1 0,-3A3,3 0 0,1 3,0Z\" style=\"opacity: 1; stroke-width: 0px; fill: rgb(99, 110, 250); fill-opacity: 1;\"/><path class=\"point\" transform=\"translate(114.48,294.65)\" d=\"M3,0A3,3 0 1,1 0,-3A3,3 0 0,1 3,0Z\" style=\"opacity: 1; stroke-width: 0px; fill: rgb(99, 110, 250); fill-opacity: 1;\"/><path class=\"point\" transform=\"translate(122.52,292.75)\" d=\"M3,0A3,3 0 1,1 0,-3A3,3 0 0,1 3,0Z\" style=\"opacity: 1; stroke-width: 0px; fill: rgb(99, 110, 250); fill-opacity: 1;\"/><path class=\"point\" transform=\"translate(130.55,290.46)\" d=\"M3,0A3,3 0 1,1 0,-3A3,3 0 0,1 3,0Z\" style=\"opacity: 1; stroke-width: 0px; fill: rgb(99, 110, 250); fill-opacity: 1;\"/><path class=\"point\" transform=\"translate(138.59,287.79)\" d=\"M3,0A3,3 0 1,1 0,-3A3,3 0 0,1 3,0Z\" style=\"opacity: 1; stroke-width: 0px; fill: rgb(99, 110, 250); fill-opacity: 1;\"/><path class=\"point\" transform=\"translate(146.63,284.31)\" d=\"M3,0A3,3 0 1,1 0,-3A3,3 0 0,1 3,0Z\" style=\"opacity: 1; stroke-width: 0px; fill: rgb(99, 110, 250); fill-opacity: 1;\"/><path class=\"point\" transform=\"translate(154.67,279.47)\" d=\"M3,0A3,3 0 1,1 0,-3A3,3 0 0,1 3,0Z\" style=\"opacity: 1; stroke-width: 0px; fill: rgb(99, 110, 250); fill-opacity: 1;\"/><path class=\"point\" transform=\"translate(162.71,274.61)\" d=\"M3,0A3,3 0 1,1 0,-3A3,3 0 0,1 3,0Z\" style=\"opacity: 1; stroke-width: 0px; fill: rgb(99, 110, 250); fill-opacity: 1;\"/><path class=\"point\" transform=\"translate(170.75,270.72)\" d=\"M3,0A3,3 0 1,1 0,-3A3,3 0 0,1 3,0Z\" style=\"opacity: 1; stroke-width: 0px; fill: rgb(99, 110, 250); fill-opacity: 1;\"/><path class=\"point\" transform=\"translate(178.79,266.86)\" d=\"M3,0A3,3 0 1,1 0,-3A3,3 0 0,1 3,0Z\" style=\"opacity: 1; stroke-width: 0px; fill: rgb(99, 110, 250); fill-opacity: 1;\"/><path class=\"point\" transform=\"translate(186.83,264.18)\" d=\"M3,0A3,3 0 1,1 0,-3A3,3 0 0,1 3,0Z\" style=\"opacity: 1; stroke-width: 0px; fill: rgb(99, 110, 250); fill-opacity: 1;\"/><path class=\"point\" transform=\"translate(194.86,262.99)\" d=\"M3,0A3,3 0 1,1 0,-3A3,3 0 0,1 3,0Z\" style=\"opacity: 1; stroke-width: 0px; fill: rgb(99, 110, 250); fill-opacity: 1;\"/><path class=\"point\" transform=\"translate(202.9,261.77)\" d=\"M3,0A3,3 0 1,1 0,-3A3,3 0 0,1 3,0Z\" style=\"opacity: 1; stroke-width: 0px; fill: rgb(99, 110, 250); fill-opacity: 1;\"/><path class=\"point\" transform=\"translate(210.94,260.9)\" d=\"M3,0A3,3 0 1,1 0,-3A3,3 0 0,1 3,0Z\" style=\"opacity: 1; stroke-width: 0px; fill: rgb(99, 110, 250); fill-opacity: 1;\"/><path class=\"point\" transform=\"translate(218.98,261.33)\" d=\"M3,0A3,3 0 1,1 0,-3A3,3 0 0,1 3,0Z\" style=\"opacity: 1; stroke-width: 0px; fill: rgb(99, 110, 250); fill-opacity: 1;\"/><path class=\"point\" transform=\"translate(227.02,262.88)\" d=\"M3,0A3,3 0 1,1 0,-3A3,3 0 0,1 3,0Z\" style=\"opacity: 1; stroke-width: 0px; fill: rgb(99, 110, 250); fill-opacity: 1;\"/><path class=\"point\" transform=\"translate(235.06,264.91)\" d=\"M3,0A3,3 0 1,1 0,-3A3,3 0 0,1 3,0Z\" style=\"opacity: 1; stroke-width: 0px; fill: rgb(99, 110, 250); fill-opacity: 1;\"/><path class=\"point\" transform=\"translate(243.1,266.95)\" d=\"M3,0A3,3 0 1,1 0,-3A3,3 0 0,1 3,0Z\" style=\"opacity: 1; stroke-width: 0px; fill: rgb(99, 110, 250); fill-opacity: 1;\"/><path class=\"point\" transform=\"translate(251.14,269.6)\" d=\"M3,0A3,3 0 1,1 0,-3A3,3 0 0,1 3,0Z\" style=\"opacity: 1; stroke-width: 0px; fill: rgb(99, 110, 250); fill-opacity: 1;\"/><path class=\"point\" transform=\"translate(259.17,272.33)\" d=\"M3,0A3,3 0 1,1 0,-3A3,3 0 0,1 3,0Z\" style=\"opacity: 1; stroke-width: 0px; fill: rgb(99, 110, 250); fill-opacity: 1;\"/><path class=\"point\" transform=\"translate(267.21,274.34)\" d=\"M3,0A3,3 0 1,1 0,-3A3,3 0 0,1 3,0Z\" style=\"opacity: 1; stroke-width: 0px; fill: rgb(99, 110, 250); fill-opacity: 1;\"/><path class=\"point\" transform=\"translate(275.25,275.84)\" d=\"M3,0A3,3 0 1,1 0,-3A3,3 0 0,1 3,0Z\" style=\"opacity: 1; stroke-width: 0px; fill: rgb(99, 110, 250); fill-opacity: 1;\"/><path class=\"point\" transform=\"translate(283.29,277.2)\" d=\"M3,0A3,3 0 1,1 0,-3A3,3 0 0,1 3,0Z\" style=\"opacity: 1; stroke-width: 0px; fill: rgb(99, 110, 250); fill-opacity: 1;\"/><path class=\"point\" transform=\"translate(291.33,279.46)\" d=\"M3,0A3,3 0 1,1 0,-3A3,3 0 0,1 3,0Z\" style=\"opacity: 1; stroke-width: 0px; fill: rgb(99, 110, 250); fill-opacity: 1;\"/><path class=\"point\" transform=\"translate(299.37,282.12)\" d=\"M3,0A3,3 0 1,1 0,-3A3,3 0 0,1 3,0Z\" style=\"opacity: 1; stroke-width: 0px; fill: rgb(99, 110, 250); fill-opacity: 1;\"/><path class=\"point\" transform=\"translate(307.41,284.93)\" d=\"M3,0A3,3 0 1,1 0,-3A3,3 0 0,1 3,0Z\" style=\"opacity: 1; stroke-width: 0px; fill: rgb(99, 110, 250); fill-opacity: 1;\"/><path class=\"point\" transform=\"translate(315.45,288.12)\" d=\"M3,0A3,3 0 1,1 0,-3A3,3 0 0,1 3,0Z\" style=\"opacity: 1; stroke-width: 0px; fill: rgb(99, 110, 250); fill-opacity: 1;\"/><path class=\"point\" transform=\"translate(323.48,290.9)\" d=\"M3,0A3,3 0 1,1 0,-3A3,3 0 0,1 3,0Z\" style=\"opacity: 1; stroke-width: 0px; fill: rgb(99, 110, 250); fill-opacity: 1;\"/><path class=\"point\" transform=\"translate(331.52,292.88)\" d=\"M3,0A3,3 0 1,1 0,-3A3,3 0 0,1 3,0Z\" style=\"opacity: 1; stroke-width: 0px; fill: rgb(99, 110, 250); fill-opacity: 1;\"/><path class=\"point\" transform=\"translate(339.56,294.46)\" d=\"M3,0A3,3 0 1,1 0,-3A3,3 0 0,1 3,0Z\" style=\"opacity: 1; stroke-width: 0px; fill: rgb(99, 110, 250); fill-opacity: 1;\"/><path class=\"point\" transform=\"translate(347.6,296.07)\" d=\"M3,0A3,3 0 1,1 0,-3A3,3 0 0,1 3,0Z\" style=\"opacity: 1; stroke-width: 0px; fill: rgb(99, 110, 250); fill-opacity: 1;\"/><path class=\"point\" transform=\"translate(355.64,297.39)\" d=\"M3,0A3,3 0 1,1 0,-3A3,3 0 0,1 3,0Z\" style=\"opacity: 1; stroke-width: 0px; fill: rgb(99, 110, 250); fill-opacity: 1;\"/><path class=\"point\" transform=\"translate(363.68,298.28)\" d=\"M3,0A3,3 0 1,1 0,-3A3,3 0 0,1 3,0Z\" style=\"opacity: 1; stroke-width: 0px; fill: rgb(99, 110, 250); fill-opacity: 1;\"/><path class=\"point\" transform=\"translate(371.72,298.83)\" d=\"M3,0A3,3 0 1,1 0,-3A3,3 0 0,1 3,0Z\" style=\"opacity: 1; stroke-width: 0px; fill: rgb(99, 110, 250); fill-opacity: 1;\"/><path class=\"point\" transform=\"translate(379.76,299.38)\" d=\"M3,0A3,3 0 1,1 0,-3A3,3 0 0,1 3,0Z\" style=\"opacity: 1; stroke-width: 0px; fill: rgb(99, 110, 250); fill-opacity: 1;\"/><path class=\"point\" transform=\"translate(387.79,299.84)\" d=\"M3,0A3,3 0 1,1 0,-3A3,3 0 0,1 3,0Z\" style=\"opacity: 1; stroke-width: 0px; fill: rgb(99, 110, 250); fill-opacity: 1;\"/><path class=\"point\" transform=\"translate(395.83,300.07)\" d=\"M3,0A3,3 0 1,1 0,-3A3,3 0 0,1 3,0Z\" style=\"opacity: 1; stroke-width: 0px; fill: rgb(99, 110, 250); fill-opacity: 1;\"/><path class=\"point\" transform=\"translate(403.87,300.17)\" d=\"M3,0A3,3 0 1,1 0,-3A3,3 0 0,1 3,0Z\" style=\"opacity: 1; stroke-width: 0px; fill: rgb(99, 110, 250); fill-opacity: 1;\"/><path class=\"point\" transform=\"translate(411.91,300.18)\" d=\"M3,0A3,3 0 1,1 0,-3A3,3 0 0,1 3,0Z\" style=\"opacity: 1; stroke-width: 0px; fill: rgb(99, 110, 250); fill-opacity: 1;\"/><path class=\"point\" transform=\"translate(419.95,300.17)\" d=\"M3,0A3,3 0 1,1 0,-3A3,3 0 0,1 3,0Z\" style=\"opacity: 1; stroke-width: 0px; fill: rgb(99, 110, 250); fill-opacity: 1;\"/></g><g class=\"text\"/></g><g class=\"trace scatter tracef1c218\" style=\"stroke-miterlimit: 2; opacity: 1;\"><g class=\"fills\"/><g class=\"errorbars\"/><g class=\"lines\"><path class=\"js-line\" d=\"M26.05,19.75L34.09,129.29L42.13,261.63L50.17,296.9L58.21,300.08L130.55,300.25L138.59,300.25L419.95,300.25\" style=\"vector-effect: non-scaling-stroke; fill: none; stroke: rgb(239, 85, 59); stroke-opacity: 1; stroke-width: 2px; opacity: 1;\"/></g><g class=\"points\"><path class=\"point\" transform=\"translate(26.05,19.75)\" d=\"M3,0A3,3 0 1,1 0,-3A3,3 0 0,1 3,0Z\" style=\"opacity: 1; stroke-width: 0px; fill: rgb(239, 85, 59); fill-opacity: 1;\"/><path class=\"point\" transform=\"translate(34.09,129.29)\" d=\"M3,0A3,3 0 1,1 0,-3A3,3 0 0,1 3,0Z\" style=\"opacity: 1; stroke-width: 0px; fill: rgb(239, 85, 59); fill-opacity: 1;\"/><path class=\"point\" transform=\"translate(42.13,261.63)\" d=\"M3,0A3,3 0 1,1 0,-3A3,3 0 0,1 3,0Z\" style=\"opacity: 1; stroke-width: 0px; fill: rgb(239, 85, 59); fill-opacity: 1;\"/><path class=\"point\" transform=\"translate(50.17,296.9)\" d=\"M3,0A3,3 0 1,1 0,-3A3,3 0 0,1 3,0Z\" style=\"opacity: 1; stroke-width: 0px; fill: rgb(239, 85, 59); fill-opacity: 1;\"/><path class=\"point\" transform=\"translate(58.21,300.08)\" d=\"M3,0A3,3 0 1,1 0,-3A3,3 0 0,1 3,0Z\" style=\"opacity: 1; stroke-width: 0px; fill: rgb(239, 85, 59); fill-opacity: 1;\"/><path class=\"point\" transform=\"translate(66.24,300.18)\" d=\"M3,0A3,3 0 1,1 0,-3A3,3 0 0,1 3,0Z\" style=\"opacity: 1; stroke-width: 0px; fill: rgb(239, 85, 59); fill-opacity: 1;\"/><path class=\"point\" transform=\"translate(74.28,300.21)\" d=\"M3,0A3,3 0 1,1 0,-3A3,3 0 0,1 3,0Z\" style=\"opacity: 1; stroke-width: 0px; fill: rgb(239, 85, 59); fill-opacity: 1;\"/><path class=\"point\" transform=\"translate(82.32,300.24)\" d=\"M3,0A3,3 0 1,1 0,-3A3,3 0 0,1 3,0Z\" style=\"opacity: 1; stroke-width: 0px; fill: rgb(239, 85, 59); fill-opacity: 1;\"/><path class=\"point\" transform=\"translate(90.36,300.25)\" d=\"M3,0A3,3 0 1,1 0,-3A3,3 0 0,1 3,0Z\" style=\"opacity: 1; stroke-width: 0px; fill: rgb(239, 85, 59); fill-opacity: 1;\"/><path class=\"point\" transform=\"translate(98.4,300.25)\" d=\"M3,0A3,3 0 1,1 0,-3A3,3 0 0,1 3,0Z\" style=\"opacity: 1; stroke-width: 0px; fill: rgb(239, 85, 59); fill-opacity: 1;\"/><path class=\"point\" transform=\"translate(106.44,300.25)\" d=\"M3,0A3,3 0 1,1 0,-3A3,3 0 0,1 3,0Z\" style=\"opacity: 1; stroke-width: 0px; fill: rgb(239, 85, 59); fill-opacity: 1;\"/><path class=\"point\" transform=\"translate(114.48,300.25)\" d=\"M3,0A3,3 0 1,1 0,-3A3,3 0 0,1 3,0Z\" style=\"opacity: 1; stroke-width: 0px; fill: rgb(239, 85, 59); fill-opacity: 1;\"/><path class=\"point\" transform=\"translate(122.52,300.25)\" d=\"M3,0A3,3 0 1,1 0,-3A3,3 0 0,1 3,0Z\" style=\"opacity: 1; stroke-width: 0px; fill: rgb(239, 85, 59); fill-opacity: 1;\"/><path class=\"point\" transform=\"translate(130.55,300.25)\" d=\"M3,0A3,3 0 1,1 0,-3A3,3 0 0,1 3,0Z\" style=\"opacity: 1; stroke-width: 0px; fill: rgb(239, 85, 59); fill-opacity: 1;\"/><path class=\"point\" transform=\"translate(138.59,300.25)\" d=\"M3,0A3,3 0 1,1 0,-3A3,3 0 0,1 3,0Z\" style=\"opacity: 1; stroke-width: 0px; fill: rgb(239, 85, 59); fill-opacity: 1;\"/><path class=\"point\" transform=\"translate(146.63,300.25)\" d=\"M3,0A3,3 0 1,1 0,-3A3,3 0 0,1 3,0Z\" style=\"opacity: 1; stroke-width: 0px; fill: rgb(239, 85, 59); fill-opacity: 1;\"/><path class=\"point\" transform=\"translate(154.67,300.25)\" d=\"M3,0A3,3 0 1,1 0,-3A3,3 0 0,1 3,0Z\" style=\"opacity: 1; stroke-width: 0px; fill: rgb(239, 85, 59); fill-opacity: 1;\"/><path class=\"point\" transform=\"translate(162.71,300.25)\" d=\"M3,0A3,3 0 1,1 0,-3A3,3 0 0,1 3,0Z\" style=\"opacity: 1; stroke-width: 0px; fill: rgb(239, 85, 59); fill-opacity: 1;\"/><path class=\"point\" transform=\"translate(170.75,300.25)\" d=\"M3,0A3,3 0 1,1 0,-3A3,3 0 0,1 3,0Z\" style=\"opacity: 1; stroke-width: 0px; fill: rgb(239, 85, 59); fill-opacity: 1;\"/><path class=\"point\" transform=\"translate(178.79,300.25)\" d=\"M3,0A3,3 0 1,1 0,-3A3,3 0 0,1 3,0Z\" style=\"opacity: 1; stroke-width: 0px; fill: rgb(239, 85, 59); fill-opacity: 1;\"/><path class=\"point\" transform=\"translate(186.83,300.25)\" d=\"M3,0A3,3 0 1,1 0,-3A3,3 0 0,1 3,0Z\" style=\"opacity: 1; stroke-width: 0px; fill: rgb(239, 85, 59); fill-opacity: 1;\"/><path class=\"point\" transform=\"translate(194.86,300.25)\" d=\"M3,0A3,3 0 1,1 0,-3A3,3 0 0,1 3,0Z\" style=\"opacity: 1; stroke-width: 0px; fill: rgb(239, 85, 59); fill-opacity: 1;\"/><path class=\"point\" transform=\"translate(202.9,300.25)\" d=\"M3,0A3,3 0 1,1 0,-3A3,3 0 0,1 3,0Z\" style=\"opacity: 1; stroke-width: 0px; fill: rgb(239, 85, 59); fill-opacity: 1;\"/><path class=\"point\" transform=\"translate(210.94,300.25)\" d=\"M3,0A3,3 0 1,1 0,-3A3,3 0 0,1 3,0Z\" style=\"opacity: 1; stroke-width: 0px; fill: rgb(239, 85, 59); fill-opacity: 1;\"/><path class=\"point\" transform=\"translate(218.98,300.25)\" d=\"M3,0A3,3 0 1,1 0,-3A3,3 0 0,1 3,0Z\" style=\"opacity: 1; stroke-width: 0px; fill: rgb(239, 85, 59); fill-opacity: 1;\"/><path class=\"point\" transform=\"translate(227.02,300.25)\" d=\"M3,0A3,3 0 1,1 0,-3A3,3 0 0,1 3,0Z\" style=\"opacity: 1; stroke-width: 0px; fill: rgb(239, 85, 59); fill-opacity: 1;\"/><path class=\"point\" transform=\"translate(235.06,300.25)\" d=\"M3,0A3,3 0 1,1 0,-3A3,3 0 0,1 3,0Z\" style=\"opacity: 1; stroke-width: 0px; fill: rgb(239, 85, 59); fill-opacity: 1;\"/><path class=\"point\" transform=\"translate(243.1,300.25)\" d=\"M3,0A3,3 0 1,1 0,-3A3,3 0 0,1 3,0Z\" style=\"opacity: 1; stroke-width: 0px; fill: rgb(239, 85, 59); fill-opacity: 1;\"/><path class=\"point\" transform=\"translate(251.14,300.25)\" d=\"M3,0A3,3 0 1,1 0,-3A3,3 0 0,1 3,0Z\" style=\"opacity: 1; stroke-width: 0px; fill: rgb(239, 85, 59); fill-opacity: 1;\"/><path class=\"point\" transform=\"translate(259.17,300.25)\" d=\"M3,0A3,3 0 1,1 0,-3A3,3 0 0,1 3,0Z\" style=\"opacity: 1; stroke-width: 0px; fill: rgb(239, 85, 59); fill-opacity: 1;\"/><path class=\"point\" transform=\"translate(267.21,300.25)\" d=\"M3,0A3,3 0 1,1 0,-3A3,3 0 0,1 3,0Z\" style=\"opacity: 1; stroke-width: 0px; fill: rgb(239, 85, 59); fill-opacity: 1;\"/><path class=\"point\" transform=\"translate(275.25,300.25)\" d=\"M3,0A3,3 0 1,1 0,-3A3,3 0 0,1 3,0Z\" style=\"opacity: 1; stroke-width: 0px; fill: rgb(239, 85, 59); fill-opacity: 1;\"/><path class=\"point\" transform=\"translate(283.29,300.25)\" d=\"M3,0A3,3 0 1,1 0,-3A3,3 0 0,1 3,0Z\" style=\"opacity: 1; stroke-width: 0px; fill: rgb(239, 85, 59); fill-opacity: 1;\"/><path class=\"point\" transform=\"translate(291.33,300.25)\" d=\"M3,0A3,3 0 1,1 0,-3A3,3 0 0,1 3,0Z\" style=\"opacity: 1; stroke-width: 0px; fill: rgb(239, 85, 59); fill-opacity: 1;\"/><path class=\"point\" transform=\"translate(299.37,300.25)\" d=\"M3,0A3,3 0 1,1 0,-3A3,3 0 0,1 3,0Z\" style=\"opacity: 1; stroke-width: 0px; fill: rgb(239, 85, 59); fill-opacity: 1;\"/><path class=\"point\" transform=\"translate(307.41,300.25)\" d=\"M3,0A3,3 0 1,1 0,-3A3,3 0 0,1 3,0Z\" style=\"opacity: 1; stroke-width: 0px; fill: rgb(239, 85, 59); fill-opacity: 1;\"/><path class=\"point\" transform=\"translate(315.45,300.25)\" d=\"M3,0A3,3 0 1,1 0,-3A3,3 0 0,1 3,0Z\" style=\"opacity: 1; stroke-width: 0px; fill: rgb(239, 85, 59); fill-opacity: 1;\"/><path class=\"point\" transform=\"translate(323.48,300.25)\" d=\"M3,0A3,3 0 1,1 0,-3A3,3 0 0,1 3,0Z\" style=\"opacity: 1; stroke-width: 0px; fill: rgb(239, 85, 59); fill-opacity: 1;\"/><path class=\"point\" transform=\"translate(331.52,300.25)\" d=\"M3,0A3,3 0 1,1 0,-3A3,3 0 0,1 3,0Z\" style=\"opacity: 1; stroke-width: 0px; fill: rgb(239, 85, 59); fill-opacity: 1;\"/><path class=\"point\" transform=\"translate(339.56,300.25)\" d=\"M3,0A3,3 0 1,1 0,-3A3,3 0 0,1 3,0Z\" style=\"opacity: 1; stroke-width: 0px; fill: rgb(239, 85, 59); fill-opacity: 1;\"/><path class=\"point\" transform=\"translate(347.6,300.25)\" d=\"M3,0A3,3 0 1,1 0,-3A3,3 0 0,1 3,0Z\" style=\"opacity: 1; stroke-width: 0px; fill: rgb(239, 85, 59); fill-opacity: 1;\"/><path class=\"point\" transform=\"translate(355.64,300.25)\" d=\"M3,0A3,3 0 1,1 0,-3A3,3 0 0,1 3,0Z\" style=\"opacity: 1; stroke-width: 0px; fill: rgb(239, 85, 59); fill-opacity: 1;\"/><path class=\"point\" transform=\"translate(363.68,300.25)\" d=\"M3,0A3,3 0 1,1 0,-3A3,3 0 0,1 3,0Z\" style=\"opacity: 1; stroke-width: 0px; fill: rgb(239, 85, 59); fill-opacity: 1;\"/><path class=\"point\" transform=\"translate(371.72,300.25)\" d=\"M3,0A3,3 0 1,1 0,-3A3,3 0 0,1 3,0Z\" style=\"opacity: 1; stroke-width: 0px; fill: rgb(239, 85, 59); fill-opacity: 1;\"/><path class=\"point\" transform=\"translate(379.76,300.25)\" d=\"M3,0A3,3 0 1,1 0,-3A3,3 0 0,1 3,0Z\" style=\"opacity: 1; stroke-width: 0px; fill: rgb(239, 85, 59); fill-opacity: 1;\"/><path class=\"point\" transform=\"translate(387.79,300.25)\" d=\"M3,0A3,3 0 1,1 0,-3A3,3 0 0,1 3,0Z\" style=\"opacity: 1; stroke-width: 0px; fill: rgb(239, 85, 59); fill-opacity: 1;\"/><path class=\"point\" transform=\"translate(395.83,300.25)\" d=\"M3,0A3,3 0 1,1 0,-3A3,3 0 0,1 3,0Z\" style=\"opacity: 1; stroke-width: 0px; fill: rgb(239, 85, 59); fill-opacity: 1;\"/><path class=\"point\" transform=\"translate(403.87,300.25)\" d=\"M3,0A3,3 0 1,1 0,-3A3,3 0 0,1 3,0Z\" style=\"opacity: 1; stroke-width: 0px; fill: rgb(239, 85, 59); fill-opacity: 1;\"/><path class=\"point\" transform=\"translate(411.91,300.25)\" d=\"M3,0A3,3 0 1,1 0,-3A3,3 0 0,1 3,0Z\" style=\"opacity: 1; stroke-width: 0px; fill: rgb(239, 85, 59); fill-opacity: 1;\"/><path class=\"point\" transform=\"translate(419.95,300.25)\" d=\"M3,0A3,3 0 1,1 0,-3A3,3 0 0,1 3,0Z\" style=\"opacity: 1; stroke-width: 0px; fill: rgb(239, 85, 59); fill-opacity: 1;\"/></g><g class=\"text\"/></g></g></g><g class=\"overplot\"/><path class=\"xlines-above crisp\" d=\"M0,0\" style=\"fill: none;\"/><path class=\"ylines-above crisp\" d=\"M0,0\" style=\"fill: none;\"/><g class=\"overlines-above\"/><g class=\"xaxislayer-above\"><g class=\"xtick\"><text text-anchor=\"middle\" x=\"0\" y=\"433\" transform=\"translate(106.05,0)\" style=\"font-family: 'Open Sans', verdana, arial, sans-serif; font-size: 12px; fill: rgb(42, 63, 95); fill-opacity: 1; white-space: pre; opacity: 1;\">0</text></g><g class=\"xtick\"><text text-anchor=\"middle\" x=\"0\" y=\"433\" style=\"font-family: 'Open Sans', verdana, arial, sans-serif; font-size: 12px; fill: rgb(42, 63, 95); fill-opacity: 1; white-space: pre; opacity: 1;\" transform=\"translate(186.44,0)\">0.2</text></g><g class=\"xtick\"><text text-anchor=\"middle\" x=\"0\" y=\"433\" style=\"font-family: 'Open Sans', verdana, arial, sans-serif; font-size: 12px; fill: rgb(42, 63, 95); fill-opacity: 1; white-space: pre; opacity: 1;\" transform=\"translate(266.83000000000004,0)\">0.4</text></g><g class=\"xtick\"><text text-anchor=\"middle\" x=\"0\" y=\"433\" style=\"font-family: 'Open Sans', verdana, arial, sans-serif; font-size: 12px; fill: rgb(42, 63, 95); fill-opacity: 1; white-space: pre; opacity: 1;\" transform=\"translate(347.21,0)\">0.6</text></g><g class=\"xtick\"><text text-anchor=\"middle\" x=\"0\" y=\"433\" style=\"font-family: 'Open Sans', verdana, arial, sans-serif; font-size: 12px; fill: rgb(42, 63, 95); fill-opacity: 1; white-space: pre; opacity: 1;\" transform=\"translate(427.6,0)\">0.8</text></g><g class=\"xtick\"><text text-anchor=\"middle\" x=\"0\" y=\"433\" style=\"font-family: 'Open Sans', verdana, arial, sans-serif; font-size: 12px; fill: rgb(42, 63, 95); fill-opacity: 1; white-space: pre; opacity: 1;\" transform=\"translate(507.99,0)\">1</text></g></g><g class=\"yaxislayer-above\"><g class=\"ytick\"><text text-anchor=\"end\" x=\"79\" y=\"4.199999999999999\" transform=\"translate(0,400.25)\" style=\"font-family: 'Open Sans', verdana, arial, sans-serif; font-size: 12px; fill: rgb(42, 63, 95); fill-opacity: 1; white-space: pre; opacity: 1;\">0</text></g><g class=\"ytick\"><text text-anchor=\"end\" x=\"79\" y=\"4.199999999999999\" style=\"font-family: 'Open Sans', verdana, arial, sans-serif; font-size: 12px; fill: rgb(42, 63, 95); fill-opacity: 1; white-space: pre; opacity: 1;\" transform=\"translate(0,329.81)\">5</text></g><g class=\"ytick\"><text text-anchor=\"end\" x=\"79\" y=\"4.199999999999999\" style=\"font-family: 'Open Sans', verdana, arial, sans-serif; font-size: 12px; fill: rgb(42, 63, 95); fill-opacity: 1; white-space: pre; opacity: 1;\" transform=\"translate(0,259.37)\">10</text></g><g class=\"ytick\"><text text-anchor=\"end\" x=\"79\" y=\"4.199999999999999\" style=\"font-family: 'Open Sans', verdana, arial, sans-serif; font-size: 12px; fill: rgb(42, 63, 95); fill-opacity: 1; white-space: pre; opacity: 1;\" transform=\"translate(0,188.94)\">15</text></g><g class=\"ytick\"><text text-anchor=\"end\" x=\"79\" y=\"4.199999999999999\" style=\"font-family: 'Open Sans', verdana, arial, sans-serif; font-size: 12px; fill: rgb(42, 63, 95); fill-opacity: 1; white-space: pre; opacity: 1;\" transform=\"translate(0,118.5)\">20</text></g></g><g class=\"overaxes-above\"/></g></g><g class=\"polarlayer\"/><g class=\"smithlayer\"/><g class=\"ternarylayer\"/><g class=\"geolayer\"/><g class=\"funnelarealayer\"/><g class=\"pielayer\"/><g class=\"iciclelayer\"/><g class=\"treemaplayer\"/><g class=\"sunburstlayer\"/><g class=\"glimages\"/><defs id=\"topdefs-2af90f\"><g class=\"clips\"/><clipPath id=\"legend2af90f\"><rect width=\"153\" height=\"67\" x=\"0\" y=\"0\"/></clipPath></defs><g class=\"layer-above\"><g class=\"imagelayer\"/><g class=\"shapelayer\"/></g><g class=\"infolayer\"><g class=\"legend\" pointer-events=\"all\" transform=\"translate(534.9200000000001,100)\"><rect class=\"bg\" shape-rendering=\"crispEdges\" width=\"153\" height=\"67\" x=\"0\" y=\"0\" style=\"stroke: rgb(68, 68, 68); stroke-opacity: 1; fill: rgb(255, 255, 255); fill-opacity: 1; stroke-width: 0px;\"/><g class=\"scrollbox\" transform=\"\" clip-path=\"url(#legend2af90f)\"><text class=\"legendtitletext\" text-anchor=\"start\" x=\"2\" y=\"18.2\" style=\"font-family: 'Open Sans', verdana, arial, sans-serif; font-size: 14px; fill: rgb(42, 63, 95); fill-opacity: 1; white-space: pre;\">variable</text><g class=\"groups\" transform=\"\"><g class=\"traces\" transform=\"translate(0,32.7)\" style=\"opacity: 1;\"><text class=\"legendtext\" text-anchor=\"start\" x=\"40\" y=\"4.680000000000001\" style=\"font-family: 'Open Sans', verdana, arial, sans-serif; font-size: 12px; fill: rgb(42, 63, 95); fill-opacity: 1; white-space: pre;\">Closed WPD-Loop</text><g class=\"layers\" style=\"opacity: 1;\"><g class=\"legendfill\"/><g class=\"legendlines\"><path class=\"js-line\" d=\"M5,0h30\" style=\"fill: none; stroke: rgb(99, 110, 250); stroke-opacity: 1; stroke-width: 2px;\"/></g><g class=\"legendsymbols\"><g class=\"legendpoints\"><path class=\"scatterpts\" transform=\"translate(20,0)\" d=\"M3,0A3,3 0 1,1 0,-3A3,3 0 0,1 3,0Z\" style=\"opacity: 1; stroke-width: 0px; fill: rgb(99, 110, 250); fill-opacity: 1;\"/></g></g></g><rect class=\"legendtoggle\" x=\"0\" y=\"-9.5\" width=\"147.09375\" height=\"19\" style=\"fill: rgb(0, 0, 0); fill-opacity: 0;\"/></g></g><g class=\"groups\" transform=\"\"><g class=\"traces\" transform=\"translate(0,51.7)\" style=\"opacity: 1;\"><text class=\"legendtext\" text-anchor=\"start\" x=\"40\" y=\"4.680000000000001\" style=\"font-family: 'Open Sans', verdana, arial, sans-serif; font-size: 12px; fill: rgb(42, 63, 95); fill-opacity: 1; white-space: pre;\">Open WPD-Loop</text><g class=\"layers\" style=\"opacity: 1;\"><g class=\"legendfill\"/><g class=\"legendlines\"><path class=\"js-line\" d=\"M5,0h30\" style=\"fill: none; stroke: rgb(239, 85, 59); stroke-opacity: 1; stroke-width: 2px;\"/></g><g class=\"legendsymbols\"><g class=\"legendpoints\"><path class=\"scatterpts\" transform=\"translate(20,0)\" d=\"M3,0A3,3 0 1,1 0,-3A3,3 0 0,1 3,0Z\" style=\"opacity: 1; stroke-width: 0px; fill: rgb(239, 85, 59); fill-opacity: 1;\"/></g></g></g><rect class=\"legendtoggle\" x=\"0\" y=\"-9.5\" width=\"147.09375\" height=\"19\" style=\"fill: rgb(0, 0, 0); fill-opacity: 0;\"/></g></g></g><rect class=\"scrollbar\" rx=\"20\" ry=\"3\" width=\"0\" height=\"0\" x=\"0\" y=\"0\" style=\"fill: rgb(128, 139, 164); fill-opacity: 1;\"/></g><g class=\"g-gtitle\"><text class=\"gtitle\" x=\"35\" y=\"50\" text-anchor=\"start\" dy=\"0em\" style=\"font-family: 'Open Sans', verdana, arial, sans-serif; font-size: 17px; fill: rgb(42, 63, 95); opacity: 1; font-weight: normal; white-space: pre;\">Comparison of the KDEs obtained for the Closed and Open WPD-loop</text></g><g class=\"g-xtitle\"><text class=\"xtitle\" x=\"303\" y=\"460.8\" text-anchor=\"middle\" style=\"font-family: 'Open Sans', verdana, arial, sans-serif; font-size: 14px; fill: rgb(42, 63, 95); opacity: 1; font-weight: normal; white-space: pre;\">Normalised Interaction Strength</text></g><g class=\"g-ytitle\"><text class=\"ytitle\" transform=\"rotate(-90,38.934375,260)\" x=\"38.934375\" y=\"260\" text-anchor=\"middle\" style=\"font-family: 'Open Sans', verdana, arial, sans-serif; font-size: 14px; fill: rgb(42, 63, 95); opacity: 1; font-weight: normal; white-space: pre;\">Density</text></g></g></svg>"
      ]
     },
     "metadata": {},
     "output_type": "display_data"
    }
   ],
   "source": [
    "fig = px.line(interaction_df, x=\"Normalised Interaction Strength\", y=[\"Closed WPD-Loop\", \"Open WPD-Loop\"], \n",
    "    markers=True, title=\"Comparison of the KDEs obtained for the Closed and Open WPD-loop\"\n",
    ")\n",
    "fig.update_layout(yaxis_title=\"Density\")\n",
    "fig.show(\"svg\") # to make this plot interactive, remove \"svg\" and run the cell block. "
   ]
  },
  {
   "cell_type": "markdown",
   "metadata": {},
   "source": [
    "Looking at the above graph it is clear that interaction above is only present in the closed WPD-loop conformation "
   ]
  },
  {
   "cell_type": "markdown",
   "metadata": {},
   "source": [
    "**Optional:** Now we will user a helper function within the utils.py module to determine the heavy atom distance of each residue to the site of interest (in this case the WPD-loop). You can use any form of mdtraj selection command (both single and multi-atom) to define the site of interest to you. In this case, we will use the heavy atoms of residue 180 (D181 in the PDB - a catalytic residue on the WPD-loop) as the site of interest. "
   ]
  },
  {
   "cell_type": "code",
   "execution_count": 71,
   "metadata": {},
   "outputs": [
    {
     "name": "stderr",
     "output_type": "stream",
     "text": [
      "c:\\anaconda3\\envs\\ML_conf_features_3.8\\lib\\site-packages\\MDAnalysis\\topology\\PDBParser.py:328: UserWarning:\n",
      "\n",
      "Element information is missing, elements attribute will not be populated. If needed these can be guessed using MDAnalysis.topology.guessers.\n",
      "\n"
     ]
    },
    {
     "name": "stdout",
     "output_type": "stream",
     "text": [
      "tutorial_datasets/PTP1B_stat_analysisDistance_toCalpha_D181_Closed.txt written to disk.\n"
     ]
    }
   ],
   "source": [
    "from key_interactions_finder import utils \n",
    "\n",
    "out_file = stats_out_dir + \"Distance_toCalpha_D181_Closed.txt\"\n",
    "distances_to_site = utils.per_residue_distance_to_site(\n",
    "    pdb_file=pdb_file,\n",
    "    site_defintion=\"not name H* and resid 180\",\n",
    "    first_residue=1,\n",
    "    last_residue=298,\n",
    "    side_chain_only=False, # only consider side chain atoms of each residue (uses CA for glycine)\n",
    "    out_file=out_file,\n",
    ")"
   ]
  },
  {
   "cell_type": "markdown",
   "metadata": {},
   "source": [
    "With this, we can plot the relative per residue scores against the distance from the binding site. \n",
    "\n",
    "One such way to do this is with a \"Bubble plot\", with the size of the bubble used to represent the per residue score."
   ]
  },
  {
   "cell_type": "code",
   "execution_count": 72,
   "metadata": {},
   "outputs": [
    {
     "data": {
      "text/html": [
       "<div>\n",
       "<style scoped>\n",
       "    .dataframe tbody tr th:only-of-type {\n",
       "        vertical-align: middle;\n",
       "    }\n",
       "\n",
       "    .dataframe tbody tr th {\n",
       "        vertical-align: top;\n",
       "    }\n",
       "\n",
       "    .dataframe thead th {\n",
       "        text-align: right;\n",
       "    }\n",
       "</style>\n",
       "<table border=\"1\" class=\"dataframe\">\n",
       "  <thead>\n",
       "    <tr style=\"text-align: right;\">\n",
       "      <th></th>\n",
       "      <th>Per Residue Score</th>\n",
       "      <th>Distance to D181 (Å)</th>\n",
       "    </tr>\n",
       "  </thead>\n",
       "  <tbody>\n",
       "    <tr>\n",
       "      <th>178</th>\n",
       "      <td>1.00000</td>\n",
       "      <td>3.68</td>\n",
       "    </tr>\n",
       "    <tr>\n",
       "      <th>220</th>\n",
       "      <td>0.87997</td>\n",
       "      <td>3.38</td>\n",
       "    </tr>\n",
       "    <tr>\n",
       "      <th>180</th>\n",
       "      <td>0.83349</td>\n",
       "      <td>0.00</td>\n",
       "    </tr>\n",
       "    <tr>\n",
       "      <th>190</th>\n",
       "      <td>0.74260</td>\n",
       "      <td>12.86</td>\n",
       "    </tr>\n",
       "    <tr>\n",
       "      <th>265</th>\n",
       "      <td>0.66394</td>\n",
       "      <td>5.35</td>\n",
       "    </tr>\n",
       "  </tbody>\n",
       "</table>\n",
       "</div>"
      ],
      "text/plain": [
       "     Per Residue Score  Distance to D181 (Å)\n",
       "178            1.00000                  3.68\n",
       "220            0.87997                  3.38\n",
       "180            0.83349                  0.00\n",
       "190            0.74260                 12.86\n",
       "265            0.66394                  5.35"
      ]
     },
     "execution_count": 72,
     "metadata": {},
     "output_type": "execute_result"
    }
   ],
   "source": [
    "# Convert the dataset to be easy to use with plotly. \n",
    "df_scores = pd.DataFrame.from_dict([js_per_res_scores]).T\n",
    "df_dists = pd.DataFrame.from_dict([distances_to_site]).T\n",
    "\n",
    "df_score_dist = pd.merge(df_scores, df_dists, left_index=True, right_index=True)\n",
    "df_score_dist.columns = [\"Per Residue Score\", \"Distance to D181 (Å)\"]\n",
    "df_score_dist.head(5)"
   ]
  },
  {
   "cell_type": "code",
   "execution_count": 73,
   "metadata": {},
   "outputs": [
    {
     "data": {
      "image/svg+xml": [
       "<svg class=\"main-svg\" xmlns=\"http://www.w3.org/2000/svg\" xmlns:xlink=\"http://www.w3.org/1999/xlink\" width=\"700\" height=\"500\" style=\"\" viewBox=\"0 0 700 500\"><rect x=\"0\" y=\"0\" width=\"700\" height=\"500\" style=\"fill: rgb(255, 255, 255); fill-opacity: 1;\"/><defs id=\"defs-373316\"><g class=\"clips\"><clipPath id=\"clip373316xyplot\" class=\"plotclip\"><rect width=\"540\" height=\"320\"/></clipPath><clipPath class=\"axesclip\" id=\"clip373316x\"><rect x=\"80\" y=\"0\" width=\"540\" height=\"500\"/></clipPath><clipPath class=\"axesclip\" id=\"clip373316y\"><rect x=\"0\" y=\"100\" width=\"700\" height=\"320\"/></clipPath><clipPath class=\"axesclip\" id=\"clip373316xy\"><rect x=\"80\" y=\"100\" width=\"540\" height=\"320\"/></clipPath></g><g class=\"gradients\"/><g class=\"patterns\"/></defs><g class=\"bglayer\"><rect class=\"bg\" x=\"80\" y=\"100\" width=\"540\" height=\"320\" style=\"fill: rgb(229, 236, 246); fill-opacity: 1; stroke-width: 0;\"/></g><g class=\"layer-below\"><g class=\"imagelayer\"/><g class=\"shapelayer\"/></g><g class=\"cartesianlayer\"><g class=\"subplot xy\"><g class=\"layer-subplot\"><g class=\"shapelayer\"/><g class=\"imagelayer\"/></g><g class=\"gridlayer\"><g class=\"x\"><path class=\"xgrid crisp\" transform=\"translate(188.47,0)\" d=\"M0,100v320\" style=\"stroke: rgb(255, 255, 255); stroke-opacity: 1; stroke-width: 1px;\"/><path class=\"xgrid crisp\" transform=\"translate(268.73,0)\" d=\"M0,100v320\" style=\"stroke: rgb(255, 255, 255); stroke-opacity: 1; stroke-width: 1px;\"/><path class=\"xgrid crisp\" transform=\"translate(348.99,0)\" d=\"M0,100v320\" style=\"stroke: rgb(255, 255, 255); stroke-opacity: 1; stroke-width: 1px;\"/><path class=\"xgrid crisp\" transform=\"translate(429.25,0)\" d=\"M0,100v320\" style=\"stroke: rgb(255, 255, 255); stroke-opacity: 1; stroke-width: 1px;\"/><path class=\"xgrid crisp\" transform=\"translate(509.51,0)\" d=\"M0,100v320\" style=\"stroke: rgb(255, 255, 255); stroke-opacity: 1; stroke-width: 1px;\"/><path class=\"xgrid crisp\" transform=\"translate(589.76,0)\" d=\"M0,100v320\" style=\"stroke: rgb(255, 255, 255); stroke-opacity: 1; stroke-width: 1px;\"/></g><g class=\"y\"><path class=\"ygrid crisp\" transform=\"translate(0,352.41999999999996)\" d=\"M80,0h540\" style=\"stroke: rgb(255, 255, 255); stroke-opacity: 1; stroke-width: 1px;\"/><path class=\"ygrid crisp\" transform=\"translate(0,315.27)\" d=\"M80,0h540\" style=\"stroke: rgb(255, 255, 255); stroke-opacity: 1; stroke-width: 1px;\"/><path class=\"ygrid crisp\" transform=\"translate(0,278.13)\" d=\"M80,0h540\" style=\"stroke: rgb(255, 255, 255); stroke-opacity: 1; stroke-width: 1px;\"/><path class=\"ygrid crisp\" transform=\"translate(0,240.98)\" d=\"M80,0h540\" style=\"stroke: rgb(255, 255, 255); stroke-opacity: 1; stroke-width: 1px;\"/><path class=\"ygrid crisp\" transform=\"translate(0,203.84)\" d=\"M80,0h540\" style=\"stroke: rgb(255, 255, 255); stroke-opacity: 1; stroke-width: 1px;\"/><path class=\"ygrid crisp\" transform=\"translate(0,166.69)\" d=\"M80,0h540\" style=\"stroke: rgb(255, 255, 255); stroke-opacity: 1; stroke-width: 1px;\"/><path class=\"ygrid crisp\" transform=\"translate(0,129.55)\" d=\"M80,0h540\" style=\"stroke: rgb(255, 255, 255); stroke-opacity: 1; stroke-width: 1px;\"/></g></g><g class=\"zerolinelayer\"><path class=\"xzl zl crisp\" transform=\"translate(108.21000000000001,0)\" d=\"M0,100v320\" style=\"stroke: rgb(255, 255, 255); stroke-opacity: 1; stroke-width: 2px;\"/><path class=\"yzl zl crisp\" transform=\"translate(0,389.56)\" d=\"M80,0h540\" style=\"stroke: rgb(255, 255, 255); stroke-opacity: 1; stroke-width: 2px;\"/></g><path class=\"xlines-below\"/><path class=\"ylines-below\"/><g class=\"overlines-below\"/><g class=\"xaxislayer-below\"/><g class=\"yaxislayer-below\"/><g class=\"overaxes-below\"/><g class=\"plot\" transform=\"translate(80,100)\" clip-path=\"url(#clip373316xyplot)\"><g class=\"scatterlayer mlayer\"><g class=\"trace scatter tracec3a220\" style=\"stroke-miterlimit: 2; opacity: 1;\"><g class=\"fills\"/><g class=\"errorbars\"/><g class=\"lines\"/><g class=\"points\"><path class=\"point\" transform=\"translate(313.93,262.23)\" d=\"M14.14,0A14.14,14.14 0 1,1 0,-14.14A14.14,14.14 0 0,1 14.14,0Z\" style=\"opacity: 0.7; stroke-width: 1px; fill: rgb(99, 110, 250); fill-opacity: 1; stroke: rgb(255, 255, 255); stroke-opacity: 1;\"/><path class=\"point\" transform=\"translate(381.35,264.45)\" d=\"M13.27,0A13.27,13.27 0 1,1 0,-13.27A13.27,13.27 0 0,1 13.27,0Z\" style=\"opacity: 0.7; stroke-width: 1px; fill: rgb(99, 110, 250); fill-opacity: 1; stroke: rgb(255, 255, 255); stroke-opacity: 1;\"/><path class=\"point\" transform=\"translate(317.14,289.56)\" d=\"M12.91,0A12.91,12.91 0 1,1 0,-12.91A12.91,12.91 0 0,1 12.91,0Z\" style=\"opacity: 0.7; stroke-width: 1px; fill: rgb(99, 110, 250); fill-opacity: 1; stroke: rgb(255, 255, 255); stroke-opacity: 1;\"/><path class=\"point\" transform=\"translate(333.2,194.03)\" d=\"M12.19,0A12.19,12.19 0 1,1 0,-12.19A12.19,12.19 0 0,1 12.19,0Z\" style=\"opacity: 0.7; stroke-width: 1px; fill: rgb(99, 110, 250); fill-opacity: 1; stroke: rgb(255, 255, 255); stroke-opacity: 1;\"/><path class=\"point\" transform=\"translate(453.58,249.82)\" d=\"M11.52,0A11.52,11.52 0 1,1 0,-11.52A11.52,11.52 0 0,1 11.52,0Z\" style=\"opacity: 0.7; stroke-width: 1px; fill: rgb(99, 110, 250); fill-opacity: 1; stroke: rgb(255, 255, 255); stroke-opacity: 1;\"/><path class=\"point\" transform=\"translate(318.75,279.68)\" d=\"M10.63,0A10.63,10.63 0 1,1 0,-10.63A10.63,10.63 0 0,1 10.63,0Z\" style=\"opacity: 0.7; stroke-width: 1px; fill: rgb(99, 110, 250); fill-opacity: 1; stroke: rgb(255, 255, 255); stroke-opacity: 1;\"/><path class=\"point\" transform=\"translate(206.39,240.46)\" d=\"M10.53,0A10.53,10.53 0 1,1 0,-10.53A10.53,10.53 0 0,1 10.53,0Z\" style=\"opacity: 0.7; stroke-width: 1px; fill: rgb(99, 110, 250); fill-opacity: 1; stroke: rgb(255, 255, 255); stroke-opacity: 1;\"/><path class=\"point\" transform=\"translate(336.41,154.06)\" d=\"M10.36,0A10.36,10.36 0 1,1 0,-10.36A10.36,10.36 0 0,1 10.36,0Z\" style=\"opacity: 0.7; stroke-width: 1px; fill: rgb(99, 110, 250); fill-opacity: 1; stroke: rgb(255, 255, 255); stroke-opacity: 1;\"/><path class=\"point\" transform=\"translate(331.59,187.86)\" d=\"M9.97,0A9.97,9.97 0 1,1 0,-9.97A9.97,9.97 0 0,1 9.97,0Z\" style=\"opacity: 0.7; stroke-width: 1px; fill: rgb(99, 110, 250); fill-opacity: 1; stroke: rgb(255, 255, 255); stroke-opacity: 1;\"/><path class=\"point\" transform=\"translate(320.35,267.28)\" d=\"M9.91,0A9.91,9.91 0 1,1 0,-9.91A9.91,9.91 0 0,1 9.91,0Z\" style=\"opacity: 0.7; stroke-width: 1px; fill: rgb(99, 110, 250); fill-opacity: 1; stroke: rgb(255, 255, 255); stroke-opacity: 1;\"/><path class=\"point\" transform=\"translate(211.2,264.01)\" d=\"M9.9,0A9.9,9.9 0 1,1 0,-9.9A9.9,9.9 0 0,1 9.9,0Z\" style=\"opacity: 0.7; stroke-width: 1px; fill: rgb(99, 110, 250); fill-opacity: 1; stroke: rgb(255, 255, 255); stroke-opacity: 1;\"/><path class=\"point\" transform=\"translate(309.12,222.56)\" d=\"M9.74,0A9.74,9.74 0 1,1 0,-9.74A9.74,9.74 0 0,1 9.74,0Z\" style=\"opacity: 0.7; stroke-width: 1px; fill: rgb(99, 110, 250); fill-opacity: 1; stroke: rgb(255, 255, 255); stroke-opacity: 1;\"/><path class=\"point\" transform=\"translate(458.4,201.09)\" d=\"M9.54,0A9.54,9.54 0 1,1 0,-9.54A9.54,9.54 0 0,1 9.54,0Z\" style=\"opacity: 0.7; stroke-width: 1px; fill: rgb(99, 110, 250); fill-opacity: 1; stroke: rgb(255, 255, 255); stroke-opacity: 1;\"/><path class=\"point\" transform=\"translate(219.23,261.78)\" d=\"M9.41,0A9.41,9.41 0 1,1 0,-9.41A9.41,9.41 0 0,1 9.41,0Z\" style=\"opacity: 0.7; stroke-width: 1px; fill: rgb(99, 110, 250); fill-opacity: 1; stroke: rgb(255, 255, 255); stroke-opacity: 1;\"/><path class=\"point\" transform=\"translate(373.33,252.2)\" d=\"M8.94,0A8.94,8.94 0 1,1 0,-8.94A8.94,8.94 0 0,1 8.94,0Z\" style=\"opacity: 0.7; stroke-width: 1px; fill: rgb(99, 110, 250); fill-opacity: 1; stroke: rgb(255, 255, 255); stroke-opacity: 1;\"/><path class=\"point\" transform=\"translate(270.59,198.78)\" d=\"M8.75,0A8.75,8.75 0 1,1 0,-8.75A8.75,8.75 0 0,1 8.75,0Z\" style=\"opacity: 0.7; stroke-width: 1px; fill: rgb(99, 110, 250); fill-opacity: 1; stroke: rgb(255, 255, 255); stroke-opacity: 1;\"/><path class=\"point\" transform=\"translate(315.54,279.76)\" d=\"M8.74,0A8.74,8.74 0 1,1 0,-8.74A8.74,8.74 0 0,1 8.74,0Z\" style=\"opacity: 0.7; stroke-width: 1px; fill: rgb(99, 110, 250); fill-opacity: 1; stroke: rgb(255, 255, 255); stroke-opacity: 1;\"/><path class=\"point\" transform=\"translate(503.34,144.7)\" d=\"M8.64,0A8.64,8.64 0 1,1 0,-8.64A8.64,8.64 0 0,1 8.64,0Z\" style=\"opacity: 0.7; stroke-width: 1px; fill: rgb(99, 110, 250); fill-opacity: 1; stroke: rgb(255, 255, 255); stroke-opacity: 1;\"/><path class=\"point\" transform=\"translate(326.78,191.13)\" d=\"M8.5,0A8.5,8.5 0 1,1 0,-8.5A8.5,8.5 0 0,1 8.5,0Z\" style=\"opacity: 0.7; stroke-width: 1px; fill: rgb(99, 110, 250); fill-opacity: 1; stroke: rgb(255, 255, 255); stroke-opacity: 1;\"/><path class=\"point\" transform=\"translate(488.9,108.3)\" d=\"M8.41,0A8.41,8.41 0 1,1 0,-8.41A8.41,8.41 0 0,1 8.41,0Z\" style=\"opacity: 0.7; stroke-width: 1px; fill: rgb(99, 110, 250); fill-opacity: 1; stroke: rgb(255, 255, 255); stroke-opacity: 1;\"/><path class=\"point\" transform=\"translate(341.22,142.77)\" d=\"M8.39,0A8.39,8.39 0 1,1 0,-8.39A8.39,8.39 0 0,1 8.39,0Z\" style=\"opacity: 0.7; stroke-width: 1px; fill: rgb(99, 110, 250); fill-opacity: 1; stroke: rgb(255, 255, 255); stroke-opacity: 1;\"/><path class=\"point\" transform=\"translate(447.16,251.68)\" d=\"M8.23,0A8.23,8.23 0 1,1 0,-8.23A8.23,8.23 0 0,1 8.23,0Z\" style=\"opacity: 0.7; stroke-width: 1px; fill: rgb(99, 110, 250); fill-opacity: 1; stroke: rgb(255, 255, 255); stroke-opacity: 1;\"/><path class=\"point\" transform=\"translate(495.32,126.8)\" d=\"M8.14,0A8.14,8.14 0 1,1 0,-8.14A8.14,8.14 0 0,1 8.14,0Z\" style=\"opacity: 0.7; stroke-width: 1px; fill: rgb(99, 110, 250); fill-opacity: 1; stroke: rgb(255, 255, 255); stroke-opacity: 1;\"/><path class=\"point\" transform=\"translate(493.71,135.71)\" d=\"M7.98,0A7.98,7.98 0 1,1 0,-7.98A7.98,7.98 0 0,1 7.98,0Z\" style=\"opacity: 0.7; stroke-width: 1px; fill: rgb(99, 110, 250); fill-opacity: 1; stroke: rgb(255, 255, 255); stroke-opacity: 1;\"/><path class=\"point\" transform=\"translate(464.82,167.43)\" d=\"M7.56,0A7.56,7.56 0 1,1 0,-7.56A7.56,7.56 0 0,1 7.56,0Z\" style=\"opacity: 0.7; stroke-width: 1px; fill: rgb(99, 110, 250); fill-opacity: 1; stroke: rgb(255, 255, 255); stroke-opacity: 1;\"/><path class=\"point\" transform=\"translate(338.01,186.82)\" d=\"M7.51,0A7.51,7.51 0 1,1 0,-7.51A7.51,7.51 0 0,1 7.51,0Z\" style=\"opacity: 0.7; stroke-width: 1px; fill: rgb(99, 110, 250); fill-opacity: 1; stroke: rgb(255, 255, 255); stroke-opacity: 1;\"/><path class=\"point\" transform=\"translate(439.14,198.11)\" d=\"M7.5,0A7.5,7.5 0 1,1 0,-7.5A7.5,7.5 0 0,1 7.5,0Z\" style=\"opacity: 0.7; stroke-width: 1px; fill: rgb(99, 110, 250); fill-opacity: 1; stroke: rgb(255, 255, 255); stroke-opacity: 1;\"/><path class=\"point\" transform=\"translate(321.96,242.46)\" d=\"M7.5,0A7.5,7.5 0 1,1 0,-7.5A7.5,7.5 0 0,1 7.5,0Z\" style=\"opacity: 0.7; stroke-width: 1px; fill: rgb(99, 110, 250); fill-opacity: 1; stroke: rgb(255, 255, 255); stroke-opacity: 1;\"/><path class=\"point\" transform=\"translate(323.57,225.45)\" d=\"M7.22,0A7.22,7.22 0 1,1 0,-7.22A7.22,7.22 0 0,1 7.22,0Z\" style=\"opacity: 0.7; stroke-width: 1px; fill: rgb(99, 110, 250); fill-opacity: 1; stroke: rgb(255, 255, 255); stroke-opacity: 1;\"/><path class=\"point\" transform=\"translate(448.77,237.86)\" d=\"M7.16,0A7.16,7.16 0 1,1 0,-7.16A7.16,7.16 0 0,1 7.16,0Z\" style=\"opacity: 0.7; stroke-width: 1px; fill: rgb(99, 110, 250); fill-opacity: 1; stroke: rgb(255, 255, 255); stroke-opacity: 1;\"/><path class=\"point\" transform=\"translate(387.77,195.88)\" d=\"M7.13,0A7.13,7.13 0 1,1 0,-7.13A7.13,7.13 0 0,1 7.13,0Z\" style=\"opacity: 0.7; stroke-width: 1px; fill: rgb(99, 110, 250); fill-opacity: 1; stroke: rgb(255, 255, 255); stroke-opacity: 1;\"/><path class=\"point\" transform=\"translate(392.59,164.91)\" d=\"M7.07,0A7.07,7.07 0 1,1 0,-7.07A7.07,7.07 0 0,1 7.07,0Z\" style=\"opacity: 0.7; stroke-width: 1px; fill: rgb(99, 110, 250); fill-opacity: 1; stroke: rgb(255, 255, 255); stroke-opacity: 1;\"/><path class=\"point\" transform=\"translate(204.78,240.16)\" d=\"M7.04,0A7.04,7.04 0 1,1 0,-7.04A7.04,7.04 0 0,1 7.04,0Z\" style=\"opacity: 0.7; stroke-width: 1px; fill: rgb(99, 110, 250); fill-opacity: 1; stroke: rgb(255, 255, 255); stroke-opacity: 1;\"/><path class=\"point\" transform=\"translate(342.83,140.54)\" d=\"M7.02,0A7.02,7.02 0 1,1 0,-7.02A7.02,7.02 0 0,1 7.02,0Z\" style=\"opacity: 0.7; stroke-width: 1px; fill: rgb(99, 110, 250); fill-opacity: 1; stroke: rgb(255, 255, 255); stroke-opacity: 1;\"/><path class=\"point\" transform=\"translate(386.17,215.27)\" d=\"M7,0A7,7 0 1,1 0,-7A7,7 0 0,1 7,0Z\" style=\"opacity: 0.7; stroke-width: 1px; fill: rgb(99, 110, 250); fill-opacity: 1; stroke: rgb(255, 255, 255); stroke-opacity: 1;\"/><path class=\"point\" transform=\"translate(434.32,188.6)\" d=\"M6.85,0A6.85,6.85 0 1,1 0,-6.85A6.85,6.85 0 0,1 6.85,0Z\" style=\"opacity: 0.7; stroke-width: 1px; fill: rgb(99, 110, 250); fill-opacity: 1; stroke: rgb(255, 255, 255); stroke-opacity: 1;\"/><path class=\"point\" transform=\"translate(98.84,220.1)\" d=\"M6.46,0A6.46,6.46 0 1,1 0,-6.46A6.46,6.46 0 0,1 6.46,0Z\" style=\"opacity: 0.7; stroke-width: 1px; fill: rgb(99, 110, 250); fill-opacity: 1; stroke: rgb(255, 255, 255); stroke-opacity: 1;\"/><path class=\"point\" transform=\"translate(379.75,235.63)\" d=\"M6.39,0A6.39,6.39 0 1,1 0,-6.39A6.39,6.39 0 0,1 6.39,0Z\" style=\"opacity: 0.7; stroke-width: 1px; fill: rgb(99, 110, 250); fill-opacity: 1; stroke: rgb(255, 255, 255); stroke-opacity: 1;\"/><path class=\"point\" transform=\"translate(272.2,182.74)\" d=\"M6.09,0A6.09,6.09 0 1,1 0,-6.09A6.09,6.09 0 0,1 6.09,0Z\" style=\"opacity: 0.7; stroke-width: 1px; fill: rgb(99, 110, 250); fill-opacity: 1; stroke: rgb(255, 255, 255); stroke-opacity: 1;\"/><path class=\"point\" transform=\"translate(463.21,168.84)\" d=\"M6.07,0A6.07,6.07 0 1,1 0,-6.07A6.07,6.07 0 0,1 6.07,0Z\" style=\"opacity: 0.7; stroke-width: 1px; fill: rgb(99, 110, 250); fill-opacity: 1; stroke: rgb(255, 255, 255); stroke-opacity: 1;\"/><path class=\"point\" transform=\"translate(334.8,167.65)\" d=\"M6.02,0A6.02,6.02 0 1,1 0,-6.02A6.02,6.02 0 0,1 6.02,0Z\" style=\"opacity: 0.7; stroke-width: 1px; fill: rgb(99, 110, 250); fill-opacity: 1; stroke: rgb(255, 255, 255); stroke-opacity: 1;\"/><path class=\"point\" transform=\"translate(500.13,158.74)\" d=\"M6.01,0A6.01,6.01 0 1,1 0,-6.01A6.01,6.01 0 0,1 6.01,0Z\" style=\"opacity: 0.7; stroke-width: 1px; fill: rgb(99, 110, 250); fill-opacity: 1; stroke: rgb(255, 255, 255); stroke-opacity: 1;\"/><path class=\"point\" transform=\"translate(460,189.35)\" d=\"M5.95,0A5.95,5.95 0 1,1 0,-5.95A5.95,5.95 0 0,1 5.95,0Z\" style=\"opacity: 0.7; stroke-width: 1px; fill: rgb(99, 110, 250); fill-opacity: 1; stroke: rgb(255, 255, 255); stroke-opacity: 1;\"/><path class=\"point\" transform=\"translate(456.79,186.6)\" d=\"M5.87,0A5.87,5.87 0 1,1 0,-5.87A5.87,5.87 0 0,1 5.87,0Z\" style=\"opacity: 0.7; stroke-width: 1px; fill: rgb(99, 110, 250); fill-opacity: 1; stroke: rgb(255, 255, 255); stroke-opacity: 1;\"/><path class=\"point\" transform=\"translate(455.19,201.53)\" d=\"M5.83,0A5.83,5.83 0 1,1 0,-5.83A5.83,5.83 0 0,1 5.83,0Z\" style=\"opacity: 0.7; stroke-width: 1px; fill: rgb(99, 110, 250); fill-opacity: 1; stroke: rgb(255, 255, 255); stroke-opacity: 1;\"/><path class=\"point\" transform=\"translate(339.62,163.35)\" d=\"M5.82,0A5.82,5.82 0 1,1 0,-5.82A5.82,5.82 0 0,1 5.82,0Z\" style=\"opacity: 0.7; stroke-width: 1px; fill: rgb(99, 110, 250); fill-opacity: 1; stroke: rgb(255, 255, 255); stroke-opacity: 1;\"/><path class=\"point\" transform=\"translate(501.74,147.22)\" d=\"M5.77,0A5.77,5.77 0 1,1 0,-5.77A5.77,5.77 0 0,1 5.77,0Z\" style=\"opacity: 0.7; stroke-width: 1px; fill: rgb(99, 110, 250); fill-opacity: 1; stroke: rgb(255, 255, 255); stroke-opacity: 1;\"/><path class=\"point\" transform=\"translate(476.06,94.33)\" d=\"M5.76,0A5.76,5.76 0 1,1 0,-5.76A5.76,5.76 0 0,1 5.76,0Z\" style=\"opacity: 0.7; stroke-width: 1px; fill: rgb(99, 110, 250); fill-opacity: 1; stroke: rgb(255, 255, 255); stroke-opacity: 1;\"/><path class=\"point\" transform=\"translate(95.63,166.39)\" d=\"M5.75,0A5.75,5.75 0 1,1 0,-5.75A5.75,5.75 0 0,1 5.75,0Z\" style=\"opacity: 0.7; stroke-width: 1px; fill: rgb(99, 110, 250); fill-opacity: 1; stroke: rgb(255, 255, 255); stroke-opacity: 1;\"/><path class=\"point\" transform=\"translate(220.83,216.76)\" d=\"M5.68,0A5.68,5.68 0 1,1 0,-5.68A5.68,5.68 0 0,1 5.68,0Z\" style=\"opacity: 0.7; stroke-width: 1px; fill: rgb(99, 110, 250); fill-opacity: 1; stroke: rgb(255, 255, 255); stroke-opacity: 1;\"/><path class=\"point\" transform=\"translate(390.98,169.59)\" d=\"M5.5,0A5.5,5.5 0 1,1 0,-5.5A5.5,5.5 0 0,1 5.5,0Z\" style=\"opacity: 0.7; stroke-width: 1px; fill: rgb(99, 110, 250); fill-opacity: 1; stroke: rgb(255, 255, 255); stroke-opacity: 1;\"/><path class=\"point\" transform=\"translate(203.18,241.42)\" d=\"M5.44,0A5.44,5.44 0 1,1 0,-5.44A5.44,5.44 0 0,1 5.44,0Z\" style=\"opacity: 0.7; stroke-width: 1px; fill: rgb(99, 110, 250); fill-opacity: 1; stroke: rgb(255, 255, 255); stroke-opacity: 1;\"/><path class=\"point\" transform=\"translate(268.99,178.5)\" d=\"M5.42,0A5.42,5.42 0 1,1 0,-5.42A5.42,5.42 0 0,1 5.42,0Z\" style=\"opacity: 0.7; stroke-width: 1px; fill: rgb(99, 110, 250); fill-opacity: 1; stroke: rgb(255, 255, 255); stroke-opacity: 1;\"/><path class=\"point\" transform=\"translate(445.56,211.78)\" d=\"M5.42,0A5.42,5.42 0 1,1 0,-5.42A5.42,5.42 0 0,1 5.42,0Z\" style=\"opacity: 0.7; stroke-width: 1px; fill: rgb(99, 110, 250); fill-opacity: 1; stroke: rgb(255, 255, 255); stroke-opacity: 1;\"/><path class=\"point\" transform=\"translate(371.72,260.37)\" d=\"M5.4,0A5.4,5.4 0 1,1 0,-5.4A5.4,5.4 0 0,1 5.4,0Z\" style=\"opacity: 0.7; stroke-width: 1px; fill: rgb(99, 110, 250); fill-opacity: 1; stroke: rgb(255, 255, 255); stroke-opacity: 1;\"/><path class=\"point\" transform=\"translate(310.72,225.82)\" d=\"M5.32,0A5.32,5.32 0 1,1 0,-5.32A5.32,5.32 0 0,1 5.32,0Z\" style=\"opacity: 0.7; stroke-width: 1px; fill: rgb(99, 110, 250); fill-opacity: 1; stroke: rgb(255, 255, 255); stroke-opacity: 1;\"/><path class=\"point\" transform=\"translate(344.43,157.92)\" d=\"M5.31,0A5.31,5.31 0 1,1 0,-5.31A5.31,5.31 0 0,1 5.31,0Z\" style=\"opacity: 0.7; stroke-width: 1px; fill: rgb(99, 110, 250); fill-opacity: 1; stroke: rgb(255, 255, 255); stroke-opacity: 1;\"/><path class=\"point\" transform=\"translate(461.61,165.5)\" d=\"M5.23,0A5.23,5.23 0 1,1 0,-5.23A5.23,5.23 0 0,1 5.23,0Z\" style=\"opacity: 0.7; stroke-width: 1px; fill: rgb(99, 110, 250); fill-opacity: 1; stroke: rgb(255, 255, 255); stroke-opacity: 1;\"/><path class=\"point\" transform=\"translate(469.64,131.85)\" d=\"M5.13,0A5.13,5.13 0 1,1 0,-5.13A5.13,5.13 0 0,1 5.13,0Z\" style=\"opacity: 0.7; stroke-width: 1px; fill: rgb(99, 110, 250); fill-opacity: 1; stroke: rgb(255, 255, 255); stroke-opacity: 1;\"/><path class=\"point\" transform=\"translate(451.98,216.61)\" d=\"M5.08,0A5.08,5.08 0 1,1 0,-5.08A5.08,5.08 0 0,1 5.08,0Z\" style=\"opacity: 0.7; stroke-width: 1px; fill: rgb(99, 110, 250); fill-opacity: 1; stroke: rgb(255, 255, 255); stroke-opacity: 1;\"/><path class=\"point\" transform=\"translate(37.84,149.23)\" d=\"M4.96,0A4.96,4.96 0 1,1 0,-4.96A4.96,4.96 0 0,1 4.96,0Z\" style=\"opacity: 0.7; stroke-width: 1px; fill: rgb(99, 110, 250); fill-opacity: 1; stroke: rgb(255, 255, 255); stroke-opacity: 1;\"/><path class=\"point\" transform=\"translate(124.52,88.54)\" d=\"M4.94,0A4.94,4.94 0 1,1 0,-4.94A4.94,4.94 0 0,1 4.94,0Z\" style=\"opacity: 0.7; stroke-width: 1px; fill: rgb(99, 110, 250); fill-opacity: 1; stroke: rgb(255, 255, 255); stroke-opacity: 1;\"/><path class=\"point\" transform=\"translate(212.81,265.72)\" d=\"M4.92,0A4.92,4.92 0 1,1 0,-4.92A4.92,4.92 0 0,1 4.92,0Z\" style=\"opacity: 0.7; stroke-width: 1px; fill: rgb(99, 110, 250); fill-opacity: 1; stroke: rgb(255, 255, 255); stroke-opacity: 1;\"/><path class=\"point\" transform=\"translate(346.04,127.98)\" d=\"M4.9,0A4.9,4.9 0 1,1 0,-4.9A4.9,4.9 0 0,1 4.9,0Z\" style=\"opacity: 0.7; stroke-width: 1px; fill: rgb(99, 110, 250); fill-opacity: 1; stroke: rgb(255, 255, 255); stroke-opacity: 1;\"/><path class=\"point\" transform=\"translate(267.38,162.23)\" d=\"M4.9,0A4.9,4.9 0 1,1 0,-4.9A4.9,4.9 0 0,1 4.9,0Z\" style=\"opacity: 0.7; stroke-width: 1px; fill: rgb(99, 110, 250); fill-opacity: 1; stroke: rgb(255, 255, 255); stroke-opacity: 1;\"/><path class=\"point\" transform=\"translate(58.71,202.35)\" d=\"M4.8,0A4.8,4.8 0 1,1 0,-4.8A4.8,4.8 0 0,1 4.8,0Z\" style=\"opacity: 0.7; stroke-width: 1px; fill: rgb(99, 110, 250); fill-opacity: 1; stroke: rgb(255, 255, 255); stroke-opacity: 1;\"/><path class=\"point\" transform=\"translate(328.38,173.45)\" d=\"M4.74,0A4.74,4.74 0 1,1 0,-4.74A4.74,4.74 0 0,1 4.74,0Z\" style=\"opacity: 0.7; stroke-width: 1px; fill: rgb(99, 110, 250); fill-opacity: 1; stroke: rgb(255, 255, 255); stroke-opacity: 1;\"/><path class=\"point\" transform=\"translate(347.64,109.56)\" d=\"M4.68,0A4.68,4.68 0 1,1 0,-4.68A4.68,4.68 0 0,1 4.68,0Z\" style=\"opacity: 0.7; stroke-width: 1px; fill: rgb(99, 110, 250); fill-opacity: 1; stroke: rgb(255, 255, 255); stroke-opacity: 1;\"/><path class=\"point\" transform=\"translate(135.76,183.92)\" d=\"M4.68,0A4.68,4.68 0 1,1 0,-4.68A4.68,4.68 0 0,1 4.68,0Z\" style=\"opacity: 0.7; stroke-width: 1px; fill: rgb(99, 110, 250); fill-opacity: 1; stroke: rgb(255, 255, 255); stroke-opacity: 1;\"/><path class=\"point\" transform=\"translate(52.29,167.21)\" d=\"M4.56,0A4.56,4.56 0 1,1 0,-4.56A4.56,4.56 0 0,1 4.56,0Z\" style=\"opacity: 0.7; stroke-width: 1px; fill: rgb(99, 110, 250); fill-opacity: 1; stroke: rgb(255, 255, 255); stroke-opacity: 1;\"/><path class=\"point\" transform=\"translate(325.17,210.82)\" d=\"M4.55,0A4.55,4.55 0 1,1 0,-4.55A4.55,4.55 0 0,1 4.55,0Z\" style=\"opacity: 0.7; stroke-width: 1px; fill: rgb(99, 110, 250); fill-opacity: 1; stroke: rgb(255, 255, 255); stroke-opacity: 1;\"/><path class=\"point\" transform=\"translate(394.19,151.09)\" d=\"M4.55,0A4.55,4.55 0 1,1 0,-4.55A4.55,4.55 0 0,1 4.55,0Z\" style=\"opacity: 0.7; stroke-width: 1px; fill: rgb(99, 110, 250); fill-opacity: 1; stroke: rgb(255, 255, 255); stroke-opacity: 1;\"/><path class=\"point\" transform=\"translate(329.99,160.23)\" d=\"M4.53,0A4.53,4.53 0 1,1 0,-4.53A4.53,4.53 0 0,1 4.53,0Z\" style=\"opacity: 0.7; stroke-width: 1px; fill: rgb(99, 110, 250); fill-opacity: 1; stroke: rgb(255, 255, 255); stroke-opacity: 1;\"/><path class=\"point\" transform=\"translate(182.31,112.46)\" d=\"M4.53,0A4.53,4.53 0 1,1 0,-4.53A4.53,4.53 0 0,1 4.53,0Z\" style=\"opacity: 0.7; stroke-width: 1px; fill: rgb(99, 110, 250); fill-opacity: 1; stroke: rgb(255, 255, 255); stroke-opacity: 1;\"/><path class=\"point\" transform=\"translate(427.9,170.63)\" d=\"M4.53,0A4.53,4.53 0 1,1 0,-4.53A4.53,4.53 0 0,1 4.53,0Z\" style=\"opacity: 0.7; stroke-width: 1px; fill: rgb(99, 110, 250); fill-opacity: 1; stroke: rgb(255, 255, 255); stroke-opacity: 1;\"/><path class=\"point\" transform=\"translate(403.82,99.01)\" d=\"M4.53,0A4.53,4.53 0 1,1 0,-4.53A4.53,4.53 0 0,1 4.53,0Z\" style=\"opacity: 0.7; stroke-width: 1px; fill: rgb(99, 110, 250); fill-opacity: 1; stroke: rgb(255, 255, 255); stroke-opacity: 1;\"/><path class=\"point\" transform=\"translate(207.99,218.02)\" d=\"M4.53,0A4.53,4.53 0 1,1 0,-4.53A4.53,4.53 0 0,1 4.53,0Z\" style=\"opacity: 0.7; stroke-width: 1px; fill: rgb(99, 110, 250); fill-opacity: 1; stroke: rgb(255, 255, 255); stroke-opacity: 1;\"/><path class=\"point\" transform=\"translate(90.82,140.84)\" d=\"M4.51,0A4.51,4.51 0 1,1 0,-4.51A4.51,4.51 0 0,1 4.51,0Z\" style=\"opacity: 0.7; stroke-width: 1px; fill: rgb(99, 110, 250); fill-opacity: 1; stroke: rgb(255, 255, 255); stroke-opacity: 1;\"/><path class=\"point\" transform=\"translate(466.43,147.74)\" d=\"M4.5,0A4.5,4.5 0 1,1 0,-4.5A4.5,4.5 0 0,1 4.5,0Z\" style=\"opacity: 0.7; stroke-width: 1px; fill: rgb(99, 110, 250); fill-opacity: 1; stroke: rgb(255, 255, 255); stroke-opacity: 1;\"/><path class=\"point\" transform=\"translate(100.45,246.77)\" d=\"M4.38,0A4.38,4.38 0 1,1 0,-4.38A4.38,4.38 0 0,1 4.38,0Z\" style=\"opacity: 0.7; stroke-width: 1px; fill: rgb(99, 110, 250); fill-opacity: 1; stroke: rgb(255, 255, 255); stroke-opacity: 1;\"/><path class=\"point\" transform=\"translate(432.72,156.51)\" d=\"M4.38,0A4.38,4.38 0 1,1 0,-4.38A4.38,4.38 0 0,1 4.38,0Z\" style=\"opacity: 0.7; stroke-width: 1px; fill: rgb(99, 110, 250); fill-opacity: 1; stroke: rgb(255, 255, 255); stroke-opacity: 1;\"/><path class=\"point\" transform=\"translate(187.13,102.8)\" d=\"M4.36,0A4.36,4.36 0 1,1 0,-4.36A4.36,4.36 0 0,1 4.36,0Z\" style=\"opacity: 0.7; stroke-width: 1px; fill: rgb(99, 110, 250); fill-opacity: 1; stroke: rgb(255, 255, 255); stroke-opacity: 1;\"/><path class=\"point\" transform=\"translate(382.96,223.67)\" d=\"M4.27,0A4.27,4.27 0 1,1 0,-4.27A4.27,4.27 0 0,1 4.27,0Z\" style=\"opacity: 0.7; stroke-width: 1px; fill: rgb(99, 110, 250); fill-opacity: 1; stroke: rgb(255, 255, 255); stroke-opacity: 1;\"/><path class=\"point\" transform=\"translate(498.53,146.04)\" d=\"M4.24,0A4.24,4.24 0 1,1 0,-4.24A4.24,4.24 0 0,1 4.24,0Z\" style=\"opacity: 0.7; stroke-width: 1px; fill: rgb(99, 110, 250); fill-opacity: 1; stroke: rgb(255, 255, 255); stroke-opacity: 1;\"/><path class=\"point\" transform=\"translate(129.34,99.23)\" d=\"M4.24,0A4.24,4.24 0 1,1 0,-4.24A4.24,4.24 0 0,1 4.24,0Z\" style=\"opacity: 0.7; stroke-width: 1px; fill: rgb(99, 110, 250); fill-opacity: 1; stroke: rgb(255, 255, 255); stroke-opacity: 1;\"/><path class=\"point\" transform=\"translate(506.55,139.05)\" d=\"M4.22,0A4.22,4.22 0 1,1 0,-4.22A4.22,4.22 0 0,1 4.22,0Z\" style=\"opacity: 0.7; stroke-width: 1px; fill: rgb(99, 110, 250); fill-opacity: 1; stroke: rgb(255, 255, 255); stroke-opacity: 1;\"/><path class=\"point\" transform=\"translate(44.27,147.22)\" d=\"M4.21,0A4.21,4.21 0 1,1 0,-4.21A4.21,4.21 0 0,1 4.21,0Z\" style=\"opacity: 0.7; stroke-width: 1px; fill: rgb(99, 110, 250); fill-opacity: 1; stroke: rgb(255, 255, 255); stroke-opacity: 1;\"/><path class=\"point\" transform=\"translate(378.14,227.01)\" d=\"M4.16,0A4.16,4.16 0 1,1 0,-4.16A4.16,4.16 0 0,1 4.16,0Z\" style=\"opacity: 0.7; stroke-width: 1px; fill: rgb(99, 110, 250); fill-opacity: 1; stroke: rgb(255, 255, 255); stroke-opacity: 1;\"/><path class=\"point\" transform=\"translate(201.57,208.89)\" d=\"M4.13,0A4.13,4.13 0 1,1 0,-4.13A4.13,4.13 0 0,1 4.13,0Z\" style=\"opacity: 0.7; stroke-width: 1px; fill: rgb(99, 110, 250); fill-opacity: 1; stroke: rgb(255, 255, 255); stroke-opacity: 1;\"/><path class=\"point\" transform=\"translate(42.66,137.34)\" d=\"M4.11,0A4.11,4.11 0 1,1 0,-4.11A4.11,4.11 0 0,1 4.11,0Z\" style=\"opacity: 0.7; stroke-width: 1px; fill: rgb(99, 110, 250); fill-opacity: 1; stroke: rgb(255, 255, 255); stroke-opacity: 1;\"/><path class=\"point\" transform=\"translate(504.95,129.92)\" d=\"M4.11,0A4.11,4.11 0 1,1 0,-4.11A4.11,4.11 0 0,1 4.11,0Z\" style=\"opacity: 0.7; stroke-width: 1px; fill: rgb(99, 110, 250); fill-opacity: 1; stroke: rgb(255, 255, 255); stroke-opacity: 1;\"/><path class=\"point\" transform=\"translate(177.49,130.81)\" d=\"M4.09,0A4.09,4.09 0 1,1 0,-4.09A4.09,4.09 0 0,1 4.09,0Z\" style=\"opacity: 0.7; stroke-width: 1px; fill: rgb(99, 110, 250); fill-opacity: 1; stroke: rgb(255, 255, 255); stroke-opacity: 1;\"/><path class=\"point\" transform=\"translate(225.65,182.51)\" d=\"M4.08,0A4.08,4.08 0 1,1 0,-4.08A4.08,4.08 0 0,1 4.08,0Z\" style=\"opacity: 0.7; stroke-width: 1px; fill: rgb(99, 110, 250); fill-opacity: 1; stroke: rgb(255, 255, 255); stroke-opacity: 1;\"/><path class=\"point\" transform=\"translate(273.8,172.85)\" d=\"M4.07,0A4.07,4.07 0 1,1 0,-4.07A4.07,4.07 0 0,1 4.07,0Z\" style=\"opacity: 0.7; stroke-width: 1px; fill: rgb(99, 110, 250); fill-opacity: 1; stroke: rgb(255, 255, 255); stroke-opacity: 1;\"/><path class=\"point\" transform=\"translate(105.26,214.9)\" d=\"M4.05,0A4.05,4.05 0 1,1 0,-4.05A4.05,4.05 0 0,1 4.05,0Z\" style=\"opacity: 0.7; stroke-width: 1px; fill: rgb(99, 110, 250); fill-opacity: 1; stroke: rgb(255, 255, 255); stroke-opacity: 1;\"/><path class=\"point\" transform=\"translate(97.24,182.14)\" d=\"M4.02,0A4.02,4.02 0 1,1 0,-4.02A4.02,4.02 0 0,1 4.02,0Z\" style=\"opacity: 0.7; stroke-width: 1px; fill: rgb(99, 110, 250); fill-opacity: 1; stroke: rgb(255, 255, 255); stroke-opacity: 1;\"/><path class=\"point\" transform=\"translate(277.02,167.21)\" d=\"M4.02,0A4.02,4.02 0 1,1 0,-4.02A4.02,4.02 0 0,1 4.02,0Z\" style=\"opacity: 0.7; stroke-width: 1px; fill: rgb(99, 110, 250); fill-opacity: 1; stroke: rgb(255, 255, 255); stroke-opacity: 1;\"/><path class=\"point\" transform=\"translate(360.48,85.49)\" d=\"M4.02,0A4.02,4.02 0 1,1 0,-4.02A4.02,4.02 0 0,1 4.02,0Z\" style=\"opacity: 0.7; stroke-width: 1px; fill: rgb(99, 110, 250); fill-opacity: 1; stroke: rgb(255, 255, 255); stroke-opacity: 1;\"/><path class=\"point\" transform=\"translate(180.7,140.17)\" d=\"M3.99,0A3.99,3.99 0 1,1 0,-3.99A3.99,3.99 0 0,1 3.99,0Z\" style=\"opacity: 0.7; stroke-width: 1px; fill: rgb(99, 110, 250); fill-opacity: 1; stroke: rgb(255, 255, 255); stroke-opacity: 1;\"/><path class=\"point\" transform=\"translate(384.56,209.03)\" d=\"M3.99,0A3.99,3.99 0 1,1 0,-3.99A3.99,3.99 0 0,1 3.99,0Z\" style=\"opacity: 0.7; stroke-width: 1px; fill: rgb(99, 110, 250); fill-opacity: 1; stroke: rgb(255, 255, 255); stroke-opacity: 1;\"/><path class=\"point\" transform=\"translate(31.42,110.9)\" d=\"M3.96,0A3.96,3.96 0 1,1 0,-3.96A3.96,3.96 0 0,1 3.96,0Z\" style=\"opacity: 0.7; stroke-width: 1px; fill: rgb(99, 110, 250); fill-opacity: 1; stroke: rgb(255, 255, 255); stroke-opacity: 1;\"/><path class=\"point\" transform=\"translate(183.92,152.28)\" d=\"M3.95,0A3.95,3.95 0 1,1 0,-3.95A3.95,3.95 0 0,1 3.95,0Z\" style=\"opacity: 0.7; stroke-width: 1px; fill: rgb(99, 110, 250); fill-opacity: 1; stroke: rgb(255, 255, 255); stroke-opacity: 1;\"/><path class=\"point\" transform=\"translate(188.73,89.35)\" d=\"M3.95,0A3.95,3.95 0 1,1 0,-3.95A3.95,3.95 0 0,1 3.95,0Z\" style=\"opacity: 0.7; stroke-width: 1px; fill: rgb(99, 110, 250); fill-opacity: 1; stroke: rgb(255, 255, 255); stroke-opacity: 1;\"/><path class=\"point\" transform=\"translate(132.55,155.77)\" d=\"M3.91,0A3.91,3.91 0 1,1 0,-3.91A3.91,3.91 0 0,1 3.91,0Z\" style=\"opacity: 0.7; stroke-width: 1px; fill: rgb(99, 110, 250); fill-opacity: 1; stroke: rgb(255, 255, 255); stroke-opacity: 1;\"/><path class=\"point\" transform=\"translate(395.8,135.49)\" d=\"M3.9,0A3.9,3.9 0 1,1 0,-3.9A3.9,3.9 0 0,1 3.9,0Z\" style=\"opacity: 0.7; stroke-width: 1px; fill: rgb(99, 110, 250); fill-opacity: 1; stroke: rgb(255, 255, 255); stroke-opacity: 1;\"/><path class=\"point\" transform=\"translate(106.87,182.29)\" d=\"M3.87,0A3.87,3.87 0 1,1 0,-3.87A3.87,3.87 0 0,1 3.87,0Z\" style=\"opacity: 0.7; stroke-width: 1px; fill: rgb(99, 110, 250); fill-opacity: 1; stroke: rgb(255, 255, 255); stroke-opacity: 1;\"/><path class=\"point\" transform=\"translate(368.51,193.36)\" d=\"M3.87,0A3.87,3.87 0 1,1 0,-3.87A3.87,3.87 0 0,1 3.87,0Z\" style=\"opacity: 0.7; stroke-width: 1px; fill: rgb(99, 110, 250); fill-opacity: 1; stroke: rgb(255, 255, 255); stroke-opacity: 1;\"/><path class=\"point\" transform=\"translate(199.97,191.43)\" d=\"M3.87,0A3.87,3.87 0 1,1 0,-3.87A3.87,3.87 0 0,1 3.87,0Z\" style=\"opacity: 0.7; stroke-width: 1px; fill: rgb(99, 110, 250); fill-opacity: 1; stroke: rgb(255, 255, 255); stroke-opacity: 1;\"/><path class=\"point\" transform=\"translate(179.1,169.96)\" d=\"M3.87,0A3.87,3.87 0 1,1 0,-3.87A3.87,3.87 0 0,1 3.87,0Z\" style=\"opacity: 0.7; stroke-width: 1px; fill: rgb(99, 110, 250); fill-opacity: 1; stroke: rgb(255, 255, 255); stroke-opacity: 1;\"/><path class=\"point\" transform=\"translate(352.46,121.89)\" d=\"M3.86,0A3.86,3.86 0 1,1 0,-3.86A3.86,3.86 0 0,1 3.86,0Z\" style=\"opacity: 0.7; stroke-width: 1px; fill: rgb(99, 110, 250); fill-opacity: 1; stroke: rgb(255, 255, 255); stroke-opacity: 1;\"/><path class=\"point\" transform=\"translate(443.95,199.3)\" d=\"M3.85,0A3.85,3.85 0 1,1 0,-3.85A3.85,3.85 0 0,1 3.85,0Z\" style=\"opacity: 0.7; stroke-width: 1px; fill: rgb(99, 110, 250); fill-opacity: 1; stroke: rgb(255, 255, 255); stroke-opacity: 1;\"/><path class=\"point\" transform=\"translate(57.11,149.53)\" d=\"M3.83,0A3.83,3.83 0 1,1 0,-3.83A3.83,3.83 0 0,1 3.83,0Z\" style=\"opacity: 0.7; stroke-width: 1px; fill: rgb(99, 110, 250); fill-opacity: 1; stroke: rgb(255, 255, 255); stroke-opacity: 1;\"/><path class=\"point\" transform=\"translate(36.24,112.46)\" d=\"M3.8,0A3.8,3.8 0 1,1 0,-3.8A3.8,3.8 0 0,1 3.8,0Z\" style=\"opacity: 0.7; stroke-width: 1px; fill: rgb(99, 110, 250); fill-opacity: 1; stroke: rgb(255, 255, 255); stroke-opacity: 1;\"/><path class=\"point\" transform=\"translate(63.53,156.96)\" d=\"M3.79,0A3.79,3.79 0 1,1 0,-3.79A3.79,3.79 0 0,1 3.79,0Z\" style=\"opacity: 0.7; stroke-width: 1px; fill: rgb(99, 110, 250); fill-opacity: 1; stroke: rgb(255, 255, 255); stroke-opacity: 1;\"/><path class=\"point\" transform=\"translate(370.11,217.65)\" d=\"M3.79,0A3.79,3.79 0 1,1 0,-3.79A3.79,3.79 0 0,1 3.79,0Z\" style=\"opacity: 0.7; stroke-width: 1px; fill: rgb(99, 110, 250); fill-opacity: 1; stroke: rgb(255, 255, 255); stroke-opacity: 1;\"/><path class=\"point\" transform=\"translate(426.3,135.34)\" d=\"M3.79,0A3.79,3.79 0 1,1 0,-3.79A3.79,3.79 0 0,1 3.79,0Z\" style=\"opacity: 0.7; stroke-width: 1px; fill: rgb(99, 110, 250); fill-opacity: 1; stroke: rgb(255, 255, 255); stroke-opacity: 1;\"/><path class=\"point\" transform=\"translate(89.21,108.59)\" d=\"M3.77,0A3.77,3.77 0 1,1 0,-3.77A3.77,3.77 0 0,1 3.77,0Z\" style=\"opacity: 0.7; stroke-width: 1px; fill: rgb(99, 110, 250); fill-opacity: 1; stroke: rgb(255, 255, 255); stroke-opacity: 1;\"/><path class=\"point\" transform=\"translate(185.52,135.04)\" d=\"M3.74,0A3.74,3.74 0 1,1 0,-3.74A3.74,3.74 0 0,1 3.74,0Z\" style=\"opacity: 0.7; stroke-width: 1px; fill: rgb(99, 110, 250); fill-opacity: 1; stroke: rgb(255, 255, 255); stroke-opacity: 1;\"/><path class=\"point\" transform=\"translate(484.08,72.93)\" d=\"M3.74,0A3.74,3.74 0 1,1 0,-3.74A3.74,3.74 0 0,1 3.74,0Z\" style=\"opacity: 0.7; stroke-width: 1px; fill: rgb(99, 110, 250); fill-opacity: 1; stroke: rgb(255, 255, 255); stroke-opacity: 1;\"/><path class=\"point\" transform=\"translate(145.39,126.35)\" d=\"M3.73,0A3.73,3.73 0 1,1 0,-3.73A3.73,3.73 0 0,1 3.73,0Z\" style=\"opacity: 0.7; stroke-width: 1px; fill: rgb(99, 110, 250); fill-opacity: 1; stroke: rgb(255, 255, 255); stroke-opacity: 1;\"/><path class=\"point\" transform=\"translate(474.45,97.9)\" d=\"M3.72,0A3.72,3.72 0 1,1 0,-3.72A3.72,3.72 0 0,1 3.72,0Z\" style=\"opacity: 0.7; stroke-width: 1px; fill: rgb(99, 110, 250); fill-opacity: 1; stroke: rgb(255, 255, 255); stroke-opacity: 1;\"/><path class=\"point\" transform=\"translate(421.48,147.08)\" d=\"M3.7,0A3.7,3.7 0 1,1 0,-3.7A3.7,3.7 0 0,1 3.7,0Z\" style=\"opacity: 0.7; stroke-width: 1px; fill: rgb(99, 110, 250); fill-opacity: 1; stroke: rgb(255, 255, 255); stroke-opacity: 1;\"/><path class=\"point\" transform=\"translate(283.44,99.6)\" d=\"M3.68,0A3.68,3.68 0 1,1 0,-3.68A3.68,3.68 0 0,1 3.68,0Z\" style=\"opacity: 0.7; stroke-width: 1px; fill: rgb(99, 110, 250); fill-opacity: 1; stroke: rgb(255, 255, 255); stroke-opacity: 1;\"/><path class=\"point\" transform=\"translate(153.42,117.51)\" d=\"M3.67,0A3.67,3.67 0 1,1 0,-3.67A3.67,3.67 0 0,1 3.67,0Z\" style=\"opacity: 0.7; stroke-width: 1px; fill: rgb(99, 110, 250); fill-opacity: 1; stroke: rgb(255, 255, 255); stroke-opacity: 1;\"/><path class=\"point\" transform=\"translate(159.84,190.68)\" d=\"M3.67,0A3.67,3.67 0 1,1 0,-3.67A3.67,3.67 0 0,1 3.67,0Z\" style=\"opacity: 0.7; stroke-width: 1px; fill: rgb(99, 110, 250); fill-opacity: 1; stroke: rgb(255, 255, 255); stroke-opacity: 1;\"/><path class=\"point\" transform=\"translate(92.42,153.17)\" d=\"M3.65,0A3.65,3.65 0 1,1 0,-3.65A3.65,3.65 0 0,1 3.65,0Z\" style=\"opacity: 0.7; stroke-width: 1px; fill: rgb(99, 110, 250); fill-opacity: 1; stroke: rgb(255, 255, 255); stroke-opacity: 1;\"/><path class=\"point\" transform=\"translate(138.97,163.35)\" d=\"M3.64,0A3.64,3.64 0 1,1 0,-3.64A3.64,3.64 0 0,1 3.64,0Z\" style=\"opacity: 0.7; stroke-width: 1px; fill: rgb(99, 110, 250); fill-opacity: 1; stroke: rgb(255, 255, 255); stroke-opacity: 1;\"/><path class=\"point\" transform=\"translate(114.89,132.44)\" d=\"M3.64,0A3.64,3.64 0 1,1 0,-3.64A3.64,3.64 0 0,1 3.64,0Z\" style=\"opacity: 0.7; stroke-width: 1px; fill: rgb(99, 110, 250); fill-opacity: 1; stroke: rgb(255, 255, 255); stroke-opacity: 1;\"/><path class=\"point\" transform=\"translate(437.53,149.97)\" d=\"M3.62,0A3.62,3.62 0 1,1 0,-3.62A3.62,3.62 0 0,1 3.62,0Z\" style=\"opacity: 0.7; stroke-width: 1px; fill: rgb(99, 110, 250); fill-opacity: 1; stroke: rgb(255, 255, 255); stroke-opacity: 1;\"/><path class=\"point\" transform=\"translate(471.24,125.23)\" d=\"M3.61,0A3.61,3.61 0 1,1 0,-3.61A3.61,3.61 0 0,1 3.61,0Z\" style=\"opacity: 0.7; stroke-width: 1px; fill: rgb(99, 110, 250); fill-opacity: 1; stroke: rgb(255, 255, 255); stroke-opacity: 1;\"/><path class=\"point\" transform=\"translate(307.51,207.25)\" d=\"M3.61,0A3.61,3.61 0 1,1 0,-3.61A3.61,3.61 0 0,1 3.61,0Z\" style=\"opacity: 0.7; stroke-width: 1px; fill: rgb(99, 110, 250); fill-opacity: 1; stroke: rgb(255, 255, 255); stroke-opacity: 1;\"/><path class=\"point\" transform=\"translate(77.97,144.4)\" d=\"M3.53,0A3.53,3.53 0 1,1 0,-3.53A3.53,3.53 0 0,1 3.53,0Z\" style=\"opacity: 0.7; stroke-width: 1px; fill: rgb(99, 110, 250); fill-opacity: 1; stroke: rgb(255, 255, 255); stroke-opacity: 1;\"/><path class=\"point\" transform=\"translate(304.3,172.41)\" d=\"M3.53,0A3.53,3.53 0 1,1 0,-3.53A3.53,3.53 0 0,1 3.53,0Z\" style=\"opacity: 0.7; stroke-width: 1px; fill: rgb(99, 110, 250); fill-opacity: 1; stroke: rgb(255, 255, 255); stroke-opacity: 1;\"/><path class=\"point\" transform=\"translate(82.79,144.55)\" d=\"M3.52,0A3.52,3.52 0 1,1 0,-3.52A3.52,3.52 0 0,1 3.52,0Z\" style=\"opacity: 0.7; stroke-width: 1px; fill: rgb(99, 110, 250); fill-opacity: 1; stroke: rgb(255, 255, 255); stroke-opacity: 1;\"/><path class=\"point\" transform=\"translate(161.44,206.21)\" d=\"M3.5,0A3.5,3.5 0 1,1 0,-3.5A3.5,3.5 0 0,1 3.5,0Z\" style=\"opacity: 0.7; stroke-width: 1px; fill: rgb(99, 110, 250); fill-opacity: 1; stroke: rgb(255, 255, 255); stroke-opacity: 1;\"/><path class=\"point\" transform=\"translate(389.38,178.87)\" d=\"M3.5,0A3.5,3.5 0 1,1 0,-3.5A3.5,3.5 0 0,1 3.5,0Z\" style=\"opacity: 0.7; stroke-width: 1px; fill: rgb(99, 110, 250); fill-opacity: 1; stroke: rgb(255, 255, 255); stroke-opacity: 1;\"/><path class=\"point\" transform=\"translate(376.54,229.46)\" d=\"M3.49,0A3.49,3.49 0 1,1 0,-3.49A3.49,3.49 0 0,1 3.49,0Z\" style=\"opacity: 0.7; stroke-width: 1px; fill: rgb(99, 110, 250); fill-opacity: 1; stroke: rgb(255, 255, 255); stroke-opacity: 1;\"/><path class=\"point\" transform=\"translate(142.18,166.17)\" d=\"M3.48,0A3.48,3.48 0 1,1 0,-3.48A3.48,3.48 0 0,1 3.48,0Z\" style=\"opacity: 0.7; stroke-width: 1px; fill: rgb(99, 110, 250); fill-opacity: 1; stroke: rgb(255, 255, 255); stroke-opacity: 1;\"/><path class=\"point\" transform=\"translate(468.03,130.36)\" d=\"M3.47,0A3.47,3.47 0 1,1 0,-3.47A3.47,3.47 0 0,1 3.47,0Z\" style=\"opacity: 0.7; stroke-width: 1px; fill: rgb(99, 110, 250); fill-opacity: 1; stroke: rgb(255, 255, 255); stroke-opacity: 1;\"/><path class=\"point\" transform=\"translate(305.91,182.96)\" d=\"M3.45,0A3.45,3.45 0 1,1 0,-3.45A3.45,3.45 0 0,1 3.45,0Z\" style=\"opacity: 0.7; stroke-width: 1px; fill: rgb(99, 110, 250); fill-opacity: 1; stroke: rgb(255, 255, 255); stroke-opacity: 1;\"/><path class=\"point\" transform=\"translate(209.6,230.06)\" d=\"M3.43,0A3.43,3.43 0 1,1 0,-3.43A3.43,3.43 0 0,1 3.43,0Z\" style=\"opacity: 0.7; stroke-width: 1px; fill: rgb(99, 110, 250); fill-opacity: 1; stroke: rgb(255, 255, 255); stroke-opacity: 1;\"/><path class=\"point\" transform=\"translate(301.09,122.11)\" d=\"M3.43,0A3.43,3.43 0 1,1 0,-3.43A3.43,3.43 0 0,1 3.43,0Z\" style=\"opacity: 0.7; stroke-width: 1px; fill: rgb(99, 110, 250); fill-opacity: 1; stroke: rgb(255, 255, 255); stroke-opacity: 1;\"/><path class=\"point\" transform=\"translate(490.5,99.75)\" d=\"M3.42,0A3.42,3.42 0 1,1 0,-3.42A3.42,3.42 0 0,1 3.42,0Z\" style=\"opacity: 0.7; stroke-width: 1px; fill: rgb(99, 110, 250); fill-opacity: 1; stroke: rgb(255, 255, 255); stroke-opacity: 1;\"/><path class=\"point\" transform=\"translate(198.36,167.21)\" d=\"M3.41,0A3.41,3.41 0 1,1 0,-3.41A3.41,3.41 0 0,1 3.41,0Z\" style=\"opacity: 0.7; stroke-width: 1px; fill: rgb(99, 110, 250); fill-opacity: 1; stroke: rgb(255, 255, 255); stroke-opacity: 1;\"/><path class=\"point\" transform=\"translate(166.26,193.43)\" d=\"M3.4,0A3.4,3.4 0 1,1 0,-3.4A3.4,3.4 0 0,1 3.4,0Z\" style=\"opacity: 0.7; stroke-width: 1px; fill: rgb(99, 110, 250); fill-opacity: 1; stroke: rgb(255, 255, 255); stroke-opacity: 1;\"/><path class=\"point\" transform=\"translate(492.11,114.61)\" d=\"M3.39,0A3.39,3.39 0 1,1 0,-3.39A3.39,3.39 0 0,1 3.39,0Z\" style=\"opacity: 0.7; stroke-width: 1px; fill: rgb(99, 110, 250); fill-opacity: 1; stroke: rgb(255, 255, 255); stroke-opacity: 1;\"/><path class=\"point\" transform=\"translate(402.22,100.42)\" d=\"M3.36,0A3.36,3.36 0 1,1 0,-3.36A3.36,3.36 0 0,1 3.36,0Z\" style=\"opacity: 0.7; stroke-width: 1px; fill: rgb(99, 110, 250); fill-opacity: 1; stroke: rgb(255, 255, 255); stroke-opacity: 1;\"/><path class=\"point\" transform=\"translate(482.48,70.85)\" d=\"M3.35,0A3.35,3.35 0 1,1 0,-3.35A3.35,3.35 0 0,1 3.35,0Z\" style=\"opacity: 0.7; stroke-width: 1px; fill: rgb(99, 110, 250); fill-opacity: 1; stroke: rgb(255, 255, 255); stroke-opacity: 1;\"/><path class=\"point\" transform=\"translate(195.15,113.5)\" d=\"M3.33,0A3.33,3.33 0 1,1 0,-3.33A3.33,3.33 0 0,1 3.33,0Z\" style=\"opacity: 0.7; stroke-width: 1px; fill: rgb(99, 110, 250); fill-opacity: 1; stroke: rgb(255, 255, 255); stroke-opacity: 1;\"/><path class=\"point\" transform=\"translate(216.02,230.58)\" d=\"M3.32,0A3.32,3.32 0 1,1 0,-3.32A3.32,3.32 0 0,1 3.32,0Z\" style=\"opacity: 0.7; stroke-width: 1px; fill: rgb(99, 110, 250); fill-opacity: 1; stroke: rgb(255, 255, 255); stroke-opacity: 1;\"/><path class=\"point\" transform=\"translate(418.27,106.07)\" d=\"M3.31,0A3.31,3.31 0 1,1 0,-3.31A3.31,3.31 0 0,1 3.31,0Z\" style=\"opacity: 0.7; stroke-width: 1px; fill: rgb(99, 110, 250); fill-opacity: 1; stroke: rgb(255, 255, 255); stroke-opacity: 1;\"/><path class=\"point\" transform=\"translate(122.92,80.44)\" d=\"M3.3,0A3.3,3.3 0 1,1 0,-3.3A3.3,3.3 0 0,1 3.3,0Z\" style=\"opacity: 0.7; stroke-width: 1px; fill: rgb(99, 110, 250); fill-opacity: 1; stroke: rgb(255, 255, 255); stroke-opacity: 1;\"/><path class=\"point\" transform=\"translate(94.03,150.42)\" d=\"M3.3,0A3.3,3.3 0 1,1 0,-3.3A3.3,3.3 0 0,1 3.3,0Z\" style=\"opacity: 0.7; stroke-width: 1px; fill: rgb(99, 110, 250); fill-opacity: 1; stroke: rgb(255, 255, 255); stroke-opacity: 1;\"/><path class=\"point\" transform=\"translate(472.85,107.78)\" d=\"M3.3,0A3.3,3.3 0 1,1 0,-3.3A3.3,3.3 0 0,1 3.3,0Z\" style=\"opacity: 0.7; stroke-width: 1px; fill: rgb(99, 110, 250); fill-opacity: 1; stroke: rgb(255, 255, 255); stroke-opacity: 1;\"/><path class=\"point\" transform=\"translate(400.61,105.7)\" d=\"M3.28,0A3.28,3.28 0 1,1 0,-3.28A3.28,3.28 0 0,1 3.28,0Z\" style=\"opacity: 0.7; stroke-width: 1px; fill: rgb(99, 110, 250); fill-opacity: 1; stroke: rgb(255, 255, 255); stroke-opacity: 1;\"/><path class=\"point\" transform=\"translate(423.09,132.96)\" d=\"M3.22,0A3.22,3.22 0 1,1 0,-3.22A3.22,3.22 0 0,1 3.22,0Z\" style=\"opacity: 0.7; stroke-width: 1px; fill: rgb(99, 110, 250); fill-opacity: 1; stroke: rgb(255, 255, 255); stroke-opacity: 1;\"/><path class=\"point\" transform=\"translate(111.68,120.41)\" d=\"M3.21,0A3.21,3.21 0 1,1 0,-3.21A3.21,3.21 0 0,1 3.21,0Z\" style=\"opacity: 0.7; stroke-width: 1px; fill: rgb(99, 110, 250); fill-opacity: 1; stroke: rgb(255, 255, 255); stroke-opacity: 1;\"/><path class=\"point\" transform=\"translate(110.08,147.97)\" d=\"M3.2,0A3.2,3.2 0 1,1 0,-3.2A3.2,3.2 0 0,1 3.2,0Z\" style=\"opacity: 0.7; stroke-width: 1px; fill: rgb(99, 110, 250); fill-opacity: 1; stroke: rgb(255, 255, 255); stroke-opacity: 1;\"/><path class=\"point\" transform=\"translate(174.28,154.28)\" d=\"M3.18,0A3.18,3.18 0 1,1 0,-3.18A3.18,3.18 0 0,1 3.18,0Z\" style=\"opacity: 0.7; stroke-width: 1px; fill: rgb(99, 110, 250); fill-opacity: 1; stroke: rgb(255, 255, 255); stroke-opacity: 1;\"/><path class=\"point\" transform=\"translate(249.73,68.77)\" d=\"M3.18,0A3.18,3.18 0 1,1 0,-3.18A3.18,3.18 0 0,1 3.18,0Z\" style=\"opacity: 0.7; stroke-width: 1px; fill: rgb(99, 110, 250); fill-opacity: 1; stroke: rgb(255, 255, 255); stroke-opacity: 1;\"/><path class=\"point\" transform=\"translate(108.47,164.83)\" d=\"M3.17,0A3.17,3.17 0 1,1 0,-3.17A3.17,3.17 0 0,1 3.17,0Z\" style=\"opacity: 0.7; stroke-width: 1px; fill: rgb(99, 110, 250); fill-opacity: 1; stroke: rgb(255, 255, 255); stroke-opacity: 1;\"/><path class=\"point\" transform=\"translate(191.94,92.92)\" d=\"M3.17,0A3.17,3.17 0 1,1 0,-3.17A3.17,3.17 0 0,1 3.17,0Z\" style=\"opacity: 0.7; stroke-width: 1px; fill: rgb(99, 110, 250); fill-opacity: 1; stroke: rgb(255, 255, 255); stroke-opacity: 1;\"/><path class=\"point\" transform=\"translate(407.03,60.83)\" d=\"M3.17,0A3.17,3.17 0 1,1 0,-3.17A3.17,3.17 0 0,1 3.17,0Z\" style=\"opacity: 0.7; stroke-width: 1px; fill: rgb(99, 110, 250); fill-opacity: 1; stroke: rgb(255, 255, 255); stroke-opacity: 1;\"/><path class=\"point\" transform=\"translate(167.86,186.82)\" d=\"M3.17,0A3.17,3.17 0 1,1 0,-3.17A3.17,3.17 0 0,1 3.17,0Z\" style=\"opacity: 0.7; stroke-width: 1px; fill: rgb(99, 110, 250); fill-opacity: 1; stroke: rgb(255, 255, 255); stroke-opacity: 1;\"/><path class=\"point\" transform=\"translate(435.93,137.57)\" d=\"M3.16,0A3.16,3.16 0 1,1 0,-3.16A3.16,3.16 0 0,1 3.16,0Z\" style=\"opacity: 0.7; stroke-width: 1px; fill: rgb(99, 110, 250); fill-opacity: 1; stroke: rgb(255, 255, 255); stroke-opacity: 1;\"/><path class=\"point\" transform=\"translate(158.23,169.07)\" d=\"M3.15,0A3.15,3.15 0 1,1 0,-3.15A3.15,3.15 0 0,1 3.15,0Z\" style=\"opacity: 0.7; stroke-width: 1px; fill: rgb(99, 110, 250); fill-opacity: 1; stroke: rgb(255, 255, 255); stroke-opacity: 1;\"/><path class=\"point\" transform=\"translate(286.65,54.73)\" d=\"M3.15,0A3.15,3.15 0 1,1 0,-3.15A3.15,3.15 0 0,1 3.15,0Z\" style=\"opacity: 0.7; stroke-width: 1px; fill: rgb(99, 110, 250); fill-opacity: 1; stroke: rgb(255, 255, 255); stroke-opacity: 1;\"/><path class=\"point\" transform=\"translate(248.12,95)\" d=\"M3.14,0A3.14,3.14 0 1,1 0,-3.14A3.14,3.14 0 0,1 3.14,0Z\" style=\"opacity: 0.7; stroke-width: 1px; fill: rgb(99, 110, 250); fill-opacity: 1; stroke: rgb(255, 255, 255); stroke-opacity: 1;\"/><path class=\"point\" transform=\"translate(442.35,208.96)\" d=\"M3.09,0A3.09,3.09 0 1,1 0,-3.09A3.09,3.09 0 0,1 3.09,0Z\" style=\"opacity: 0.7; stroke-width: 1px; fill: rgb(99, 110, 250); fill-opacity: 1; stroke: rgb(255, 255, 255); stroke-opacity: 1;\"/><path class=\"point\" transform=\"translate(399.01,132.81)\" d=\"M3.08,0A3.08,3.08 0 1,1 0,-3.08A3.08,3.08 0 0,1 3.08,0Z\" style=\"opacity: 0.7; stroke-width: 1px; fill: rgb(99, 110, 250); fill-opacity: 1; stroke: rgb(255, 255, 255); stroke-opacity: 1;\"/><path class=\"point\" transform=\"translate(71.55,138.76)\" d=\"M3.08,0A3.08,3.08 0 1,1 0,-3.08A3.08,3.08 0 0,1 3.08,0Z\" style=\"opacity: 0.7; stroke-width: 1px; fill: rgb(99, 110, 250); fill-opacity: 1; stroke: rgb(255, 255, 255); stroke-opacity: 1;\"/><path class=\"point\" transform=\"translate(156.63,152.72)\" d=\"M3.06,0A3.06,3.06 0 1,1 0,-3.06A3.06,3.06 0 0,1 3.06,0Z\" style=\"opacity: 0.7; stroke-width: 1px; fill: rgb(99, 110, 250); fill-opacity: 1; stroke: rgb(255, 255, 255); stroke-opacity: 1;\"/><path class=\"point\" transform=\"translate(496.92,122.78)\" d=\"M3.06,0A3.06,3.06 0 1,1 0,-3.06A3.06,3.06 0 0,1 3.06,0Z\" style=\"opacity: 0.7; stroke-width: 1px; fill: rgb(99, 110, 250); fill-opacity: 1; stroke: rgb(255, 255, 255); stroke-opacity: 1;\"/><path class=\"point\" transform=\"translate(243.31,121.52)\" d=\"M3.02,0A3.02,3.02 0 1,1 0,-3.02A3.02,3.02 0 0,1 3.02,0Z\" style=\"opacity: 0.7; stroke-width: 1px; fill: rgb(99, 110, 250); fill-opacity: 1; stroke: rgb(255, 255, 255); stroke-opacity: 1;\"/><path class=\"point\" transform=\"translate(65.13,205.17)\" d=\"M3.02,0A3.02,3.02 0 1,1 0,-3.02A3.02,3.02 0 0,1 3.02,0Z\" style=\"opacity: 0.7; stroke-width: 1px; fill: rgb(99, 110, 250); fill-opacity: 1; stroke: rgb(255, 255, 255); stroke-opacity: 1;\"/><path class=\"point\" transform=\"translate(61.92,140.09)\" d=\"M3.01,0A3.01,3.01 0 1,1 0,-3.01A3.01,3.01 0 0,1 3.01,0Z\" style=\"opacity: 0.7; stroke-width: 1px; fill: rgb(99, 110, 250); fill-opacity: 1; stroke: rgb(255, 255, 255); stroke-opacity: 1;\"/><path class=\"point\" transform=\"translate(479.27,66.92)\" d=\"M3,0A3,3 0 1,1 0,-3A3,3 0 0,1 3,0Z\" style=\"opacity: 0.7; stroke-width: 1px; fill: rgb(99, 110, 250); fill-opacity: 1; stroke: rgb(255, 255, 255); stroke-opacity: 1;\"/><path class=\"point\" transform=\"translate(254.54,121.74)\" d=\"M2.99,0A2.99,2.99 0 1,1 0,-2.99A2.99,2.99 0 0,1 2.99,0Z\" style=\"opacity: 0.7; stroke-width: 1px; fill: rgb(99, 110, 250); fill-opacity: 1; stroke: rgb(255, 255, 255); stroke-opacity: 1;\"/><path class=\"point\" transform=\"translate(350.85,97.15)\" d=\"M2.98,0A2.98,2.98 0 1,1 0,-2.98A2.98,2.98 0 0,1 2.98,0Z\" style=\"opacity: 0.7; stroke-width: 1px; fill: rgb(99, 110, 250); fill-opacity: 1; stroke: rgb(255, 255, 255); stroke-opacity: 1;\"/><path class=\"point\" transform=\"translate(312.33,236.67)\" d=\"M2.97,0A2.97,2.97 0 1,1 0,-2.97A2.97,2.97 0 0,1 2.97,0Z\" style=\"opacity: 0.7; stroke-width: 1px; fill: rgb(99, 110, 250); fill-opacity: 1; stroke: rgb(255, 255, 255); stroke-opacity: 1;\"/><path class=\"point\" transform=\"translate(408.64,69)\" d=\"M2.97,0A2.97,2.97 0 1,1 0,-2.97A2.97,2.97 0 0,1 2.97,0Z\" style=\"opacity: 0.7; stroke-width: 1px; fill: rgb(99, 110, 250); fill-opacity: 1; stroke: rgb(255, 255, 255); stroke-opacity: 1;\"/><path class=\"point\" transform=\"translate(485.69,77.84)\" d=\"M2.97,0A2.97,2.97 0 1,1 0,-2.97A2.97,2.97 0 0,1 2.97,0Z\" style=\"opacity: 0.7; stroke-width: 1px; fill: rgb(99, 110, 250); fill-opacity: 1; stroke: rgb(255, 255, 255); stroke-opacity: 1;\"/><path class=\"point\" transform=\"translate(297.88,75.91)\" d=\"M2.97,0A2.97,2.97 0 1,1 0,-2.97A2.97,2.97 0 0,1 2.97,0Z\" style=\"opacity: 0.7; stroke-width: 1px; fill: rgb(99, 110, 250); fill-opacity: 1; stroke: rgb(255, 255, 255); stroke-opacity: 1;\"/><path class=\"point\" transform=\"translate(163.05,208.66)\" d=\"M2.97,0A2.97,2.97 0 1,1 0,-2.97A2.97,2.97 0 0,1 2.97,0Z\" style=\"opacity: 0.7; stroke-width: 1px; fill: rgb(99, 110, 250); fill-opacity: 1; stroke: rgb(255, 255, 255); stroke-opacity: 1;\"/><path class=\"point\" transform=\"translate(217.62,224.34)\" d=\"M2.96,0A2.96,2.96 0 1,1 0,-2.96A2.96,2.96 0 0,1 2.96,0Z\" style=\"opacity: 0.7; stroke-width: 1px; fill: rgb(99, 110, 250); fill-opacity: 1; stroke: rgb(255, 255, 255); stroke-opacity: 1;\"/><path class=\"point\" transform=\"translate(349.25,116.84)\" d=\"M2.96,0A2.96,2.96 0 1,1 0,-2.96A2.96,2.96 0 0,1 2.96,0Z\" style=\"opacity: 0.7; stroke-width: 1px; fill: rgb(99, 110, 250); fill-opacity: 1; stroke: rgb(255, 255, 255); stroke-opacity: 1;\"/><path class=\"point\" transform=\"translate(397.4,133.93)\" d=\"M2.94,0A2.94,2.94 0 1,1 0,-2.94A2.94,2.94 0 0,1 2.94,0Z\" style=\"opacity: 0.7; stroke-width: 1px; fill: rgb(99, 110, 250); fill-opacity: 1; stroke: rgb(255, 255, 255); stroke-opacity: 1;\"/><path class=\"point\" transform=\"translate(477.66,93.74)\" d=\"M2.94,0A2.94,2.94 0 1,1 0,-2.94A2.94,2.94 0 0,1 2.94,0Z\" style=\"opacity: 0.7; stroke-width: 1px; fill: rgb(99, 110, 250); fill-opacity: 1; stroke: rgb(255, 255, 255); stroke-opacity: 1;\"/><path class=\"point\" transform=\"translate(246.52,102.21)\" d=\"M2.92,0A2.92,2.92 0 1,1 0,-2.92A2.92,2.92 0 0,1 2.92,0Z\" style=\"opacity: 0.7; stroke-width: 1px; fill: rgb(99, 110, 250); fill-opacity: 1; stroke: rgb(255, 255, 255); stroke-opacity: 1;\"/><path class=\"point\" transform=\"translate(366.9,168.77)\" d=\"M2.91,0A2.91,2.91 0 1,1 0,-2.91A2.91,2.91 0 0,1 2.91,0Z\" style=\"opacity: 0.7; stroke-width: 1px; fill: rgb(99, 110, 250); fill-opacity: 1; stroke: rgb(255, 255, 255); stroke-opacity: 1;\"/><path class=\"point\" transform=\"translate(130.94,107.26)\" d=\"M2.9,0A2.9,2.9 0 1,1 0,-2.9A2.9,2.9 0 0,1 2.9,0Z\" style=\"opacity: 0.7; stroke-width: 1px; fill: rgb(99, 110, 250); fill-opacity: 1; stroke: rgb(255, 255, 255); stroke-opacity: 1;\"/><path class=\"point\" transform=\"translate(164.65,214.09)\" d=\"M2.9,0A2.9,2.9 0 1,1 0,-2.9A2.9,2.9 0 0,1 2.9,0Z\" style=\"opacity: 0.7; stroke-width: 1px; fill: rgb(99, 110, 250); fill-opacity: 1; stroke: rgb(255, 255, 255); stroke-opacity: 1;\"/><path class=\"point\" transform=\"translate(86,113.27)\" d=\"M2.89,0A2.89,2.89 0 1,1 0,-2.89A2.89,2.89 0 0,1 2.89,0Z\" style=\"opacity: 0.7; stroke-width: 1px; fill: rgb(99, 110, 250); fill-opacity: 1; stroke: rgb(255, 255, 255); stroke-opacity: 1;\"/><path class=\"point\" transform=\"translate(487.29,103.69)\" d=\"M2.88,0A2.88,2.88 0 1,1 0,-2.88A2.88,2.88 0 0,1 2.88,0Z\" style=\"opacity: 0.7; stroke-width: 1px; fill: rgb(99, 110, 250); fill-opacity: 1; stroke: rgb(255, 255, 255); stroke-opacity: 1;\"/><path class=\"point\" transform=\"translate(450.37,206.81)\" d=\"M2.81,0A2.81,2.81 0 1,1 0,-2.81A2.81,2.81 0 0,1 2.81,0Z\" style=\"opacity: 0.7; stroke-width: 1px; fill: rgb(99, 110, 250); fill-opacity: 1; stroke: rgb(255, 255, 255); stroke-opacity: 1;\"/><path class=\"point\" transform=\"translate(172.68,163.35)\" d=\"M2.8,0A2.8,2.8 0 1,1 0,-2.8A2.8,2.8 0 0,1 2.8,0Z\" style=\"opacity: 0.7; stroke-width: 1px; fill: rgb(99, 110, 250); fill-opacity: 1; stroke: rgb(255, 255, 255); stroke-opacity: 1;\"/><path class=\"point\" transform=\"translate(84.39,154.43)\" d=\"M2.72,0A2.72,2.72 0 1,1 0,-2.72A2.72,2.72 0 0,1 2.72,0Z\" style=\"opacity: 0.7; stroke-width: 1px; fill: rgb(99, 110, 250); fill-opacity: 1; stroke: rgb(255, 255, 255); stroke-opacity: 1;\"/><path class=\"point\" transform=\"translate(171.07,150.12)\" d=\"M2.71,0A2.71,2.71 0 1,1 0,-2.71A2.71,2.71 0 0,1 2.71,0Z\" style=\"opacity: 0.7; stroke-width: 1px; fill: rgb(99, 110, 250); fill-opacity: 1; stroke: rgb(255, 255, 255); stroke-opacity: 1;\"/><path class=\"point\" transform=\"translate(137.37,164.16)\" d=\"M2.7,0A2.7,2.7 0 1,1 0,-2.7A2.7,2.7 0 0,1 2.7,0Z\" style=\"opacity: 0.7; stroke-width: 1px; fill: rgb(99, 110, 250); fill-opacity: 1; stroke: rgb(255, 255, 255); stroke-opacity: 1;\"/><path class=\"point\" transform=\"translate(116.5,129.17)\" d=\"M2.67,0A2.67,2.67 0 1,1 0,-2.67A2.67,2.67 0 0,1 2.67,0Z\" style=\"opacity: 0.7; stroke-width: 1px; fill: rgb(99, 110, 250); fill-opacity: 1; stroke: rgb(255, 255, 255); stroke-opacity: 1;\"/><path class=\"point\" transform=\"translate(60.32,171.29)\" d=\"M2.67,0A2.67,2.67 0 1,1 0,-2.67A2.67,2.67 0 0,1 2.67,0Z\" style=\"opacity: 0.7; stroke-width: 1px; fill: rgb(99, 110, 250); fill-opacity: 1; stroke: rgb(255, 255, 255); stroke-opacity: 1;\"/><path class=\"point\" transform=\"translate(81.18,117.88)\" d=\"M2.66,0A2.66,2.66 0 1,1 0,-2.66A2.66,2.66 0 0,1 2.66,0Z\" style=\"opacity: 0.7; stroke-width: 1px; fill: rgb(99, 110, 250); fill-opacity: 1; stroke: rgb(255, 255, 255); stroke-opacity: 1;\"/><path class=\"point\" transform=\"translate(41.06,104.43)\" d=\"M2.66,0A2.66,2.66 0 1,1 0,-2.66A2.66,2.66 0 0,1 2.66,0Z\" style=\"opacity: 0.7; stroke-width: 1px; fill: rgb(99, 110, 250); fill-opacity: 1; stroke: rgb(255, 255, 255); stroke-opacity: 1;\"/><path class=\"point\" transform=\"translate(354.06,134.74)\" d=\"M2.63,0A2.63,2.63 0 1,1 0,-2.63A2.63,2.63 0 0,1 2.63,0Z\" style=\"opacity: 0.7; stroke-width: 1px; fill: rgb(99, 110, 250); fill-opacity: 1; stroke: rgb(255, 255, 255); stroke-opacity: 1;\"/><path class=\"point\" transform=\"translate(222.44,192.02)\" d=\"M2.63,0A2.63,2.63 0 1,1 0,-2.63A2.63,2.63 0 0,1 2.63,0Z\" style=\"opacity: 0.7; stroke-width: 1px; fill: rgb(99, 110, 250); fill-opacity: 1; stroke: rgb(255, 255, 255); stroke-opacity: 1;\"/><path class=\"point\" transform=\"translate(39.45,109.34)\" d=\"M2.63,0A2.63,2.63 0 1,1 0,-2.63A2.63,2.63 0 0,1 2.63,0Z\" style=\"opacity: 0.7; stroke-width: 1px; fill: rgb(99, 110, 250); fill-opacity: 1; stroke: rgb(255, 255, 255); stroke-opacity: 1;\"/><path class=\"point\" transform=\"translate(175.89,127.32)\" d=\"M2.61,0A2.61,2.61 0 1,1 0,-2.61A2.61,2.61 0 0,1 2.61,0Z\" style=\"opacity: 0.7; stroke-width: 1px; fill: rgb(99, 110, 250); fill-opacity: 1; stroke: rgb(255, 255, 255); stroke-opacity: 1;\"/><path class=\"point\" transform=\"translate(79.58,111.94)\" d=\"M2.59,0A2.59,2.59 0 1,1 0,-2.59A2.59,2.59 0 0,1 2.59,0Z\" style=\"opacity: 0.7; stroke-width: 1px; fill: rgb(99, 110, 250); fill-opacity: 1; stroke: rgb(255, 255, 255); stroke-opacity: 1;\"/><path class=\"point\" transform=\"translate(374.93,242.84)\" d=\"M2.58,0A2.58,2.58 0 1,1 0,-2.58A2.58,2.58 0 0,1 2.58,0Z\" style=\"opacity: 0.7; stroke-width: 1px; fill: rgb(99, 110, 250); fill-opacity: 1; stroke: rgb(255, 255, 255); stroke-opacity: 1;\"/><path class=\"point\" transform=\"translate(429.51,138.76)\" d=\"M2.56,0A2.56,2.56 0 1,1 0,-2.56A2.56,2.56 0 0,1 2.56,0Z\" style=\"opacity: 0.7; stroke-width: 1px; fill: rgb(99, 110, 250); fill-opacity: 1; stroke: rgb(255, 255, 255); stroke-opacity: 1;\"/><path class=\"point\" transform=\"translate(413.45,80.36)\" d=\"M2.55,0A2.55,2.55 0 1,1 0,-2.55A2.55,2.55 0 0,1 2.55,0Z\" style=\"opacity: 0.7; stroke-width: 1px; fill: rgb(99, 110, 250); fill-opacity: 1; stroke: rgb(255, 255, 255); stroke-opacity: 1;\"/><path class=\"point\" transform=\"translate(278.62,114.98)\" d=\"M2.54,0A2.54,2.54 0 1,1 0,-2.54A2.54,2.54 0 0,1 2.54,0Z\" style=\"opacity: 0.7; stroke-width: 1px; fill: rgb(99, 110, 250); fill-opacity: 1; stroke: rgb(255, 255, 255); stroke-opacity: 1;\"/><path class=\"point\" transform=\"translate(251.33,93.66)\" d=\"M2.54,0A2.54,2.54 0 1,1 0,-2.54A2.54,2.54 0 0,1 2.54,0Z\" style=\"opacity: 0.7; stroke-width: 1px; fill: rgb(99, 110, 250); fill-opacity: 1; stroke: rgb(255, 255, 255); stroke-opacity: 1;\"/><path class=\"point\" transform=\"translate(34.63,90.39)\" d=\"M2.54,0A2.54,2.54 0 1,1 0,-2.54A2.54,2.54 0 0,1 2.54,0Z\" style=\"opacity: 0.7; stroke-width: 1px; fill: rgb(99, 110, 250); fill-opacity: 1; stroke: rgb(255, 255, 255); stroke-opacity: 1;\"/><path class=\"point\" transform=\"translate(280.23,128.88)\" d=\"M2.51,0A2.51,2.51 0 1,1 0,-2.51A2.51,2.51 0 0,1 2.51,0Z\" style=\"opacity: 0.7; stroke-width: 1px; fill: rgb(99, 110, 250); fill-opacity: 1; stroke: rgb(255, 255, 255); stroke-opacity: 1;\"/><path class=\"point\" transform=\"translate(151.81,85.94)\" d=\"M2.48,0A2.48,2.48 0 1,1 0,-2.48A2.48,2.48 0 0,1 2.48,0Z\" style=\"opacity: 0.7; stroke-width: 1px; fill: rgb(99, 110, 250); fill-opacity: 1; stroke: rgb(255, 255, 255); stroke-opacity: 1;\"/><path class=\"point\" transform=\"translate(118.1,132.81)\" d=\"M2.48,0A2.48,2.48 0 1,1 0,-2.48A2.48,2.48 0 0,1 2.48,0Z\" style=\"opacity: 0.7; stroke-width: 1px; fill: rgb(99, 110, 250); fill-opacity: 1; stroke: rgb(255, 255, 255); stroke-opacity: 1;\"/><path class=\"point\" transform=\"translate(140.58,140.46)\" d=\"M2.47,0A2.47,2.47 0 1,1 0,-2.47A2.47,2.47 0 0,1 2.47,0Z\" style=\"opacity: 0.7; stroke-width: 1px; fill: rgb(99, 110, 250); fill-opacity: 1; stroke: rgb(255, 255, 255); stroke-opacity: 1;\"/><path class=\"point\" transform=\"translate(431.11,130.44)\" d=\"M2.46,0A2.46,2.46 0 1,1 0,-2.46A2.46,2.46 0 0,1 2.46,0Z\" style=\"opacity: 0.7; stroke-width: 1px; fill: rgb(99, 110, 250); fill-opacity: 1; stroke: rgb(255, 255, 255); stroke-opacity: 1;\"/><path class=\"point\" transform=\"translate(68.34,124.27)\" d=\"M2.46,0A2.46,2.46 0 1,1 0,-2.46A2.46,2.46 0 0,1 2.46,0Z\" style=\"opacity: 0.7; stroke-width: 1px; fill: rgb(99, 110, 250); fill-opacity: 1; stroke: rgb(255, 255, 255); stroke-opacity: 1;\"/><path class=\"point\" transform=\"translate(296.28,50.13)\" d=\"M2.42,0A2.42,2.42 0 1,1 0,-2.42A2.42,2.42 0 0,1 2.42,0Z\" style=\"opacity: 0.7; stroke-width: 1px; fill: rgb(99, 110, 250); fill-opacity: 1; stroke: rgb(255, 255, 255); stroke-opacity: 1;\"/><path class=\"point\" transform=\"translate(365.3,148.49)\" d=\"M2.4,0A2.4,2.4 0 1,1 0,-2.4A2.4,2.4 0 0,1 2.4,0Z\" style=\"opacity: 0.7; stroke-width: 1px; fill: rgb(99, 110, 250); fill-opacity: 1; stroke: rgb(255, 255, 255); stroke-opacity: 1;\"/><path class=\"point\" transform=\"translate(410.24,47.68)\" d=\"M2.36,0A2.36,2.36 0 1,1 0,-2.36A2.36,2.36 0 0,1 2.36,0Z\" style=\"opacity: 0.7; stroke-width: 1px; fill: rgb(99, 110, 250); fill-opacity: 1; stroke: rgb(255, 255, 255); stroke-opacity: 1;\"/><path class=\"point\" transform=\"translate(121.31,115.8)\" d=\"M2.34,0A2.34,2.34 0 1,1 0,-2.34A2.34,2.34 0 0,1 2.34,0Z\" style=\"opacity: 0.7; stroke-width: 1px; fill: rgb(99, 110, 250); fill-opacity: 1; stroke: rgb(255, 255, 255); stroke-opacity: 1;\"/><path class=\"point\" transform=\"translate(480.87,53.02)\" d=\"M2.34,0A2.34,2.34 0 1,1 0,-2.34A2.34,2.34 0 0,1 2.34,0Z\" style=\"opacity: 0.7; stroke-width: 1px; fill: rgb(99, 110, 250); fill-opacity: 1; stroke: rgb(255, 255, 255); stroke-opacity: 1;\"/><path class=\"point\" transform=\"translate(405.43,75.46)\" d=\"M2.34,0A2.34,2.34 0 1,1 0,-2.34A2.34,2.34 0 0,1 2.34,0Z\" style=\"opacity: 0.7; stroke-width: 1px; fill: rgb(99, 110, 250); fill-opacity: 1; stroke: rgb(255, 255, 255); stroke-opacity: 1;\"/><path class=\"point\" transform=\"translate(113.29,114.69)\" d=\"M2.32,0A2.32,2.32 0 1,1 0,-2.32A2.32,2.32 0 0,1 2.32,0Z\" style=\"opacity: 0.7; stroke-width: 1px; fill: rgb(99, 110, 250); fill-opacity: 1; stroke: rgb(255, 255, 255); stroke-opacity: 1;\"/><path class=\"point\" transform=\"translate(262.57,133.63)\" d=\"M2.3,0A2.3,2.3 0 1,1 0,-2.3A2.3,2.3 0 0,1 2.3,0Z\" style=\"opacity: 0.7; stroke-width: 1px; fill: rgb(99, 110, 250); fill-opacity: 1; stroke: rgb(255, 255, 255); stroke-opacity: 1;\"/><path class=\"point\" transform=\"translate(50.69,142.99)\" d=\"M2.29,0A2.29,2.29 0 1,1 0,-2.29A2.29,2.29 0 0,1 2.29,0Z\" style=\"opacity: 0.7; stroke-width: 1px; fill: rgb(99, 110, 250); fill-opacity: 1; stroke: rgb(255, 255, 255); stroke-opacity: 1;\"/><path class=\"point\" transform=\"translate(281.83,87.64)\" d=\"M2.26,0A2.26,2.26 0 1,1 0,-2.26A2.26,2.26 0 0,1 2.26,0Z\" style=\"opacity: 0.7; stroke-width: 1px; fill: rgb(99, 110, 250); fill-opacity: 1; stroke: rgb(255, 255, 255); stroke-opacity: 1;\"/><path class=\"point\" transform=\"translate(119.71,108.22)\" d=\"M2.26,0A2.26,2.26 0 1,1 0,-2.26A2.26,2.26 0 0,1 2.26,0Z\" style=\"opacity: 0.7; stroke-width: 1px; fill: rgb(99, 110, 250); fill-opacity: 1; stroke: rgb(255, 255, 255); stroke-opacity: 1;\"/><path class=\"point\" transform=\"translate(150.21,97.75)\" d=\"M2.25,0A2.25,2.25 0 1,1 0,-2.25A2.25,2.25 0 0,1 2.25,0Z\" style=\"opacity: 0.7; stroke-width: 1px; fill: rgb(99, 110, 250); fill-opacity: 1; stroke: rgb(255, 255, 255); stroke-opacity: 1;\"/><path class=\"point\" transform=\"translate(228.86,127.02)\" d=\"M2.25,0A2.25,2.25 0 1,1 0,-2.25A2.25,2.25 0 0,1 2.25,0Z\" style=\"opacity: 0.7; stroke-width: 1px; fill: rgb(99, 110, 250); fill-opacity: 1; stroke: rgb(255, 255, 255); stroke-opacity: 1;\"/><path class=\"point\" transform=\"translate(227.25,179.99)\" d=\"M2.22,0A2.22,2.22 0 1,1 0,-2.22A2.22,2.22 0 0,1 2.22,0Z\" style=\"opacity: 0.7; stroke-width: 1px; fill: rgb(99, 110, 250); fill-opacity: 1; stroke: rgb(255, 255, 255); stroke-opacity: 1;\"/><path class=\"point\" transform=\"translate(416.66,71.97)\" d=\"M2.22,0A2.22,2.22 0 1,1 0,-2.22A2.22,2.22 0 0,1 2.22,0Z\" style=\"opacity: 0.7; stroke-width: 1px; fill: rgb(99, 110, 250); fill-opacity: 1; stroke: rgb(255, 255, 255); stroke-opacity: 1;\"/><path class=\"point\" transform=\"translate(87.61,108)\" d=\"M2.21,0A2.21,2.21 0 1,1 0,-2.21A2.21,2.21 0 0,1 2.21,0Z\" style=\"opacity: 0.7; stroke-width: 1px; fill: rgb(99, 110, 250); fill-opacity: 1; stroke: rgb(255, 255, 255); stroke-opacity: 1;\"/><path class=\"point\" transform=\"translate(285.04,69.96)\" d=\"M2.2,0A2.2,2.2 0 1,1 0,-2.2A2.2,2.2 0 0,1 2.2,0Z\" style=\"opacity: 0.7; stroke-width: 1px; fill: rgb(99, 110, 250); fill-opacity: 1; stroke: rgb(255, 255, 255); stroke-opacity: 1;\"/><path class=\"point\" transform=\"translate(196.76,140.84)\" d=\"M2.2,0A2.2,2.2 0 1,1 0,-2.2A2.2,2.2 0 0,1 2.2,0Z\" style=\"opacity: 0.7; stroke-width: 1px; fill: rgb(99, 110, 250); fill-opacity: 1; stroke: rgb(255, 255, 255); stroke-opacity: 1;\"/><path class=\"point\" transform=\"translate(293.07,19)\" d=\"M2.19,0A2.19,2.19 0 1,1 0,-2.19A2.19,2.19 0 0,1 2.19,0Z\" style=\"opacity: 0.7; stroke-width: 1px; fill: rgb(99, 110, 250); fill-opacity: 1; stroke: rgb(255, 255, 255); stroke-opacity: 1;\"/><path class=\"point\" transform=\"translate(355.67,95.67)\" d=\"M2.13,0A2.13,2.13 0 1,1 0,-2.13A2.13,2.13 0 0,1 2.13,0Z\" style=\"opacity: 0.7; stroke-width: 1px; fill: rgb(99, 110, 250); fill-opacity: 1; stroke: rgb(255, 255, 255); stroke-opacity: 1;\"/><path class=\"point\" transform=\"translate(193.55,121.45)\" d=\"M2.11,0A2.11,2.11 0 1,1 0,-2.11A2.11,2.11 0 0,1 2.11,0Z\" style=\"opacity: 0.7; stroke-width: 1px; fill: rgb(99, 110, 250); fill-opacity: 1; stroke: rgb(255, 255, 255); stroke-opacity: 1;\"/><path class=\"point\" transform=\"translate(302.7,136.82)\" d=\"M2.11,0A2.11,2.11 0 1,1 0,-2.11A2.11,2.11 0 0,1 2.11,0Z\" style=\"opacity: 0.7; stroke-width: 1px; fill: rgb(99, 110, 250); fill-opacity: 1; stroke: rgb(255, 255, 255); stroke-opacity: 1;\"/><path class=\"point\" transform=\"translate(411.85,62.91)\" d=\"M2.1,0A2.1,2.1 0 1,1 0,-2.1A2.1,2.1 0 0,1 2.1,0Z\" style=\"opacity: 0.7; stroke-width: 1px; fill: rgb(99, 110, 250); fill-opacity: 1; stroke: rgb(255, 255, 255); stroke-opacity: 1;\"/><path class=\"point\" transform=\"translate(288.25,47.6)\" d=\"M2.1,0A2.1,2.1 0 1,1 0,-2.1A2.1,2.1 0 0,1 2.1,0Z\" style=\"opacity: 0.7; stroke-width: 1px; fill: rgb(99, 110, 250); fill-opacity: 1; stroke: rgb(255, 255, 255); stroke-opacity: 1;\"/><path class=\"point\" transform=\"translate(53.9,166.24)\" d=\"M2.1,0A2.1,2.1 0 1,1 0,-2.1A2.1,2.1 0 0,1 2.1,0Z\" style=\"opacity: 0.7; stroke-width: 1px; fill: rgb(99, 110, 250); fill-opacity: 1; stroke: rgb(255, 255, 255); stroke-opacity: 1;\"/><path class=\"point\" transform=\"translate(294.67,42.33)\" d=\"M2.09,0A2.09,2.09 0 1,1 0,-2.09A2.09,2.09 0 0,1 2.09,0Z\" style=\"opacity: 0.7; stroke-width: 1px; fill: rgb(99, 110, 250); fill-opacity: 1; stroke: rgb(255, 255, 255); stroke-opacity: 1;\"/><path class=\"point\" transform=\"translate(155.02,127.39)\" d=\"M2.09,0A2.09,2.09 0 1,1 0,-2.09A2.09,2.09 0 0,1 2.09,0Z\" style=\"opacity: 0.7; stroke-width: 1px; fill: rgb(99, 110, 250); fill-opacity: 1; stroke: rgb(255, 255, 255); stroke-opacity: 1;\"/><path class=\"point\" transform=\"translate(134.15,151.61)\" d=\"M2.06,0A2.06,2.06 0 1,1 0,-2.06A2.06,2.06 0 0,1 2.06,0Z\" style=\"opacity: 0.7; stroke-width: 1px; fill: rgb(99, 110, 250); fill-opacity: 1; stroke: rgb(255, 255, 255); stroke-opacity: 1;\"/><path class=\"point\" transform=\"translate(190.34,110.01)\" d=\"M2.04,0A2.04,2.04 0 1,1 0,-2.04A2.04,2.04 0 0,1 2.04,0Z\" style=\"opacity: 0.7; stroke-width: 1px; fill: rgb(99, 110, 250); fill-opacity: 1; stroke: rgb(255, 255, 255); stroke-opacity: 1;\"/><path class=\"point\" transform=\"translate(299.49,87.57)\" d=\"M2.04,0A2.04,2.04 0 1,1 0,-2.04A2.04,2.04 0 0,1 2.04,0Z\" style=\"opacity: 0.7; stroke-width: 1px; fill: rgb(99, 110, 250); fill-opacity: 1; stroke: rgb(255, 255, 255); stroke-opacity: 1;\"/><path class=\"point\" transform=\"translate(424.69,118.4)\" d=\"M2.04,0A2.04,2.04 0 1,1 0,-2.04A2.04,2.04 0 0,1 2.04,0Z\" style=\"opacity: 0.7; stroke-width: 1px; fill: rgb(99, 110, 250); fill-opacity: 1; stroke: rgb(255, 255, 255); stroke-opacity: 1;\"/><path class=\"point\" transform=\"translate(252.94,80.51)\" d=\"M2.03,0A2.03,2.03 0 1,1 0,-2.03A2.03,2.03 0 0,1 2.03,0Z\" style=\"opacity: 0.7; stroke-width: 1px; fill: rgb(99, 110, 250); fill-opacity: 1; stroke: rgb(255, 255, 255); stroke-opacity: 1;\"/><path class=\"point\" transform=\"translate(148.6,76.05)\" d=\"M2.03,0A2.03,2.03 0 1,1 0,-2.03A2.03,2.03 0 0,1 2.03,0Z\" style=\"opacity: 0.7; stroke-width: 1px; fill: rgb(99, 110, 250); fill-opacity: 1; stroke: rgb(255, 255, 255); stroke-opacity: 1;\"/><path class=\"point\" transform=\"translate(55.5,148.93)\" d=\"M1.97,0A1.97,1.97 0 1,1 0,-1.97A1.97,1.97 0 0,1 1.97,0Z\" style=\"opacity: 0.7; stroke-width: 1px; fill: rgb(99, 110, 250); fill-opacity: 1; stroke: rgb(255, 255, 255); stroke-opacity: 1;\"/><path class=\"point\" transform=\"translate(33.03,99.31)\" d=\"M1.97,0A1.97,1.97 0 1,1 0,-1.97A1.97,1.97 0 0,1 1.97,0Z\" style=\"opacity: 0.7; stroke-width: 1px; fill: rgb(99, 110, 250); fill-opacity: 1; stroke: rgb(255, 255, 255); stroke-opacity: 1;\"/><path class=\"point\" transform=\"translate(257.75,116.84)\" d=\"M1.94,0A1.94,1.94 0 1,1 0,-1.94A1.94,1.94 0 0,1 1.94,0Z\" style=\"opacity: 0.7; stroke-width: 1px; fill: rgb(99, 110, 250); fill-opacity: 1; stroke: rgb(255, 255, 255); stroke-opacity: 1;\"/><path class=\"point\" transform=\"translate(264.17,139.8)\" d=\"M1.89,0A1.89,1.89 0 1,1 0,-1.89A1.89,1.89 0 0,1 1.89,0Z\" style=\"opacity: 0.7; stroke-width: 1px; fill: rgb(99, 110, 250); fill-opacity: 1; stroke: rgb(255, 255, 255); stroke-opacity: 1;\"/><path class=\"point\" transform=\"translate(362.09,105.7)\" d=\"M1.89,0A1.89,1.89 0 1,1 0,-1.89A1.89,1.89 0 0,1 1.89,0Z\" style=\"opacity: 0.7; stroke-width: 1px; fill: rgb(99, 110, 250); fill-opacity: 1; stroke: rgb(255, 255, 255); stroke-opacity: 1;\"/><path class=\"point\" transform=\"translate(214.41,223.97)\" d=\"M1.89,0A1.89,1.89 0 1,1 0,-1.89A1.89,1.89 0 0,1 1.89,0Z\" style=\"opacity: 0.7; stroke-width: 1px; fill: rgb(99, 110, 250); fill-opacity: 1; stroke: rgb(255, 255, 255); stroke-opacity: 1;\"/><path class=\"point\" transform=\"translate(256.15,91.88)\" d=\"M1.87,0A1.87,1.87 0 1,1 0,-1.87A1.87,1.87 0 0,1 1.87,0Z\" style=\"opacity: 0.7; stroke-width: 1px; fill: rgb(99, 110, 250); fill-opacity: 1; stroke: rgb(255, 255, 255); stroke-opacity: 1;\"/><path class=\"point\" transform=\"translate(45.87,112.75)\" d=\"M1.85,0A1.85,1.85 0 1,1 0,-1.85A1.85,1.85 0 0,1 1.85,0Z\" style=\"opacity: 0.7; stroke-width: 1px; fill: rgb(99, 110, 250); fill-opacity: 1; stroke: rgb(255, 255, 255); stroke-opacity: 1;\"/><path class=\"point\" transform=\"translate(66.74,139.5)\" d=\"M1.84,0A1.84,1.84 0 1,1 0,-1.84A1.84,1.84 0 0,1 1.84,0Z\" style=\"opacity: 0.7; stroke-width: 1px; fill: rgb(99, 110, 250); fill-opacity: 1; stroke: rgb(255, 255, 255); stroke-opacity: 1;\"/><path class=\"point\" transform=\"translate(440.74,193.06)\" d=\"M1.84,0A1.84,1.84 0 1,1 0,-1.84A1.84,1.84 0 0,1 1.84,0Z\" style=\"opacity: 0.7; stroke-width: 1px; fill: rgb(99, 110, 250); fill-opacity: 1; stroke: rgb(255, 255, 255); stroke-opacity: 1;\"/><path class=\"point\" transform=\"translate(415.06,65.28)\" d=\"M1.82,0A1.82,1.82 0 1,1 0,-1.82A1.82,1.82 0 0,1 1.82,0Z\" style=\"opacity: 0.7; stroke-width: 1px; fill: rgb(99, 110, 250); fill-opacity: 1; stroke: rgb(255, 255, 255); stroke-opacity: 1;\"/><path class=\"point\" transform=\"translate(275.41,150.79)\" d=\"M1.82,0A1.82,1.82 0 1,1 0,-1.82A1.82,1.82 0 0,1 1.82,0Z\" style=\"opacity: 0.7; stroke-width: 1px; fill: rgb(99, 110, 250); fill-opacity: 1; stroke: rgb(255, 255, 255); stroke-opacity: 1;\"/><path class=\"point\" transform=\"translate(69.95,148.26)\" d=\"M1.79,0A1.79,1.79 0 1,1 0,-1.79A1.79,1.79 0 0,1 1.79,0Z\" style=\"opacity: 0.7; stroke-width: 1px; fill: rgb(99, 110, 250); fill-opacity: 1; stroke: rgb(255, 255, 255); stroke-opacity: 1;\"/><path class=\"point\" transform=\"translate(238.49,83.63)\" d=\"M1.78,0A1.78,1.78 0 1,1 0,-1.78A1.78,1.78 0 0,1 1.78,0Z\" style=\"opacity: 0.7; stroke-width: 1px; fill: rgb(99, 110, 250); fill-opacity: 1; stroke: rgb(255, 255, 255); stroke-opacity: 1;\"/><path class=\"point\" transform=\"translate(419.88,113.2)\" d=\"M1.73,0A1.73,1.73 0 1,1 0,-1.73A1.73,1.73 0 0,1 1.73,0Z\" style=\"opacity: 0.7; stroke-width: 1px; fill: rgb(99, 110, 250); fill-opacity: 1; stroke: rgb(255, 255, 255); stroke-opacity: 1;\"/><path class=\"point\" transform=\"translate(47.48,114.39)\" d=\"M1.7,0A1.7,1.7 0 1,1 0,-1.7A1.7,1.7 0 0,1 1.7,0Z\" style=\"opacity: 0.7; stroke-width: 1px; fill: rgb(99, 110, 250); fill-opacity: 1; stroke: rgb(255, 255, 255); stroke-opacity: 1;\"/><path class=\"point\" transform=\"translate(49.08,137.05)\" d=\"M1.67,0A1.67,1.67 0 1,1 0,-1.67A1.67,1.67 0 0,1 1.67,0Z\" style=\"opacity: 0.7; stroke-width: 1px; fill: rgb(99, 110, 250); fill-opacity: 1; stroke: rgb(255, 255, 255); stroke-opacity: 1;\"/><path class=\"point\" transform=\"translate(240.1,126.87)\" d=\"M1.66,0A1.66,1.66 0 1,1 0,-1.66A1.66,1.66 0 0,1 1.66,0Z\" style=\"opacity: 0.7; stroke-width: 1px; fill: rgb(99, 110, 250); fill-opacity: 1; stroke: rgb(255, 255, 255); stroke-opacity: 1;\"/><path class=\"point\" transform=\"translate(265.78,149.68)\" d=\"M1.62,0A1.62,1.62 0 1,1 0,-1.62A1.62,1.62 0 0,1 1.62,0Z\" style=\"opacity: 0.7; stroke-width: 1px; fill: rgb(99, 110, 250); fill-opacity: 1; stroke: rgb(255, 255, 255); stroke-opacity: 1;\"/><path class=\"point\" transform=\"translate(363.69,126.65)\" d=\"M1.57,0A1.57,1.57 0 1,1 0,-1.57A1.57,1.57 0 0,1 1.57,0Z\" style=\"opacity: 0.7; stroke-width: 1px; fill: rgb(99, 110, 250); fill-opacity: 1; stroke: rgb(255, 255, 255); stroke-opacity: 1;\"/><path class=\"point\" transform=\"translate(224.04,171.37)\" d=\"M1.52,0A1.52,1.52 0 1,1 0,-1.52A1.52,1.52 0 0,1 1.52,0Z\" style=\"opacity: 0.7; stroke-width: 1px; fill: rgb(99, 110, 250); fill-opacity: 1; stroke: rgb(255, 255, 255); stroke-opacity: 1;\"/><path class=\"point\" transform=\"translate(230.47,154.65)\" d=\"M1.52,0A1.52,1.52 0 1,1 0,-1.52A1.52,1.52 0 0,1 1.52,0Z\" style=\"opacity: 0.7; stroke-width: 1px; fill: rgb(99, 110, 250); fill-opacity: 1; stroke: rgb(255, 255, 255); stroke-opacity: 1;\"/><path class=\"point\" transform=\"translate(143.79,121.82)\" d=\"M1.45,0A1.45,1.45 0 1,1 0,-1.45A1.45,1.45 0 0,1 1.45,0Z\" style=\"opacity: 0.7; stroke-width: 1px; fill: rgb(99, 110, 250); fill-opacity: 1; stroke: rgb(255, 255, 255); stroke-opacity: 1;\"/><path class=\"point\" transform=\"translate(289.86,30.29)\" d=\"M1.42,0A1.42,1.42 0 1,1 0,-1.42A1.42,1.42 0 0,1 1.42,0Z\" style=\"opacity: 0.7; stroke-width: 1px; fill: rgb(99, 110, 250); fill-opacity: 1; stroke: rgb(255, 255, 255); stroke-opacity: 1;\"/><path class=\"point\" transform=\"translate(127.73,71.45)\" d=\"M1.4,0A1.4,1.4 0 1,1 0,-1.4A1.4,1.4 0 0,1 1.4,0Z\" style=\"opacity: 0.7; stroke-width: 1px; fill: rgb(99, 110, 250); fill-opacity: 1; stroke: rgb(255, 255, 255); stroke-opacity: 1;\"/><path class=\"point\" transform=\"translate(76.37,118.33)\" d=\"M1.33,0A1.33,1.33 0 1,1 0,-1.33A1.33,1.33 0 0,1 1.33,0Z\" style=\"opacity: 0.7; stroke-width: 1px; fill: rgb(99, 110, 250); fill-opacity: 1; stroke: rgb(255, 255, 255); stroke-opacity: 1;\"/><path class=\"point\" transform=\"translate(169.47,169.81)\" d=\"M1.3,0A1.3,1.3 0 1,1 0,-1.3A1.3,1.3 0 0,1 1.3,0Z\" style=\"opacity: 0.7; stroke-width: 1px; fill: rgb(99, 110, 250); fill-opacity: 1; stroke: rgb(255, 255, 255); stroke-opacity: 1;\"/><path class=\"point\" transform=\"translate(232.07,110.08)\" d=\"M1.3,0A1.3,1.3 0 1,1 0,-1.3A1.3,1.3 0 0,1 1.3,0Z\" style=\"opacity: 0.7; stroke-width: 1px; fill: rgb(99, 110, 250); fill-opacity: 1; stroke: rgb(255, 255, 255); stroke-opacity: 1;\"/><path class=\"point\" transform=\"translate(236.89,92.03)\" d=\"M1.3,0A1.3,1.3 0 1,1 0,-1.3A1.3,1.3 0 0,1 1.3,0Z\" style=\"opacity: 0.7; stroke-width: 1px; fill: rgb(99, 110, 250); fill-opacity: 1; stroke: rgb(255, 255, 255); stroke-opacity: 1;\"/><path class=\"point\" transform=\"translate(244.91,78.51)\" d=\"M1.28,0A1.28,1.28 0 1,1 0,-1.28A1.28,1.28 0 0,1 1.28,0Z\" style=\"opacity: 0.7; stroke-width: 1px; fill: rgb(99, 110, 250); fill-opacity: 1; stroke: rgb(255, 255, 255); stroke-opacity: 1;\"/><path class=\"point\" transform=\"translate(241.7,88.02)\" d=\"M1.27,0A1.27,1.27 0 1,1 0,-1.27A1.27,1.27 0 0,1 1.27,0Z\" style=\"opacity: 0.7; stroke-width: 1px; fill: rgb(99, 110, 250); fill-opacity: 1; stroke: rgb(255, 255, 255); stroke-opacity: 1;\"/><path class=\"point\" transform=\"translate(260.96,110.75)\" d=\"M1.21,0A1.21,1.21 0 1,1 0,-1.21A1.21,1.21 0 0,1 1.21,0Z\" style=\"opacity: 0.7; stroke-width: 1px; fill: rgb(99, 110, 250); fill-opacity: 1; stroke: rgb(255, 255, 255); stroke-opacity: 1;\"/><path class=\"point\" transform=\"translate(259.36,90.69)\" d=\"M1.17,0A1.17,1.17 0 1,1 0,-1.17A1.17,1.17 0 0,1 1.17,0Z\" style=\"opacity: 0.7; stroke-width: 1px; fill: rgb(99, 110, 250); fill-opacity: 1; stroke: rgb(255, 255, 255); stroke-opacity: 1;\"/><path class=\"point\" transform=\"translate(291.46,23.23)\" d=\"M1.17,0A1.17,1.17 0 1,1 0,-1.17A1.17,1.17 0 0,1 1.17,0Z\" style=\"opacity: 0.7; stroke-width: 1px; fill: rgb(99, 110, 250); fill-opacity: 1; stroke: rgb(255, 255, 255); stroke-opacity: 1;\"/><path class=\"point\" transform=\"translate(147,89.65)\" d=\"M1.16,0A1.16,1.16 0 1,1 0,-1.16A1.16,1.16 0 0,1 1.16,0Z\" style=\"opacity: 0.7; stroke-width: 1px; fill: rgb(99, 110, 250); fill-opacity: 1; stroke: rgb(255, 255, 255); stroke-opacity: 1;\"/><path class=\"point\" transform=\"translate(73.16,129.77)\" d=\"M0,0A0,0 0 1,1 0,-0A0,0 0 0,1 0,0Z\" style=\"opacity: 0.7; stroke-width: 1px; fill: rgb(99, 110, 250); fill-opacity: 1; stroke: rgb(255, 255, 255); stroke-opacity: 1;\"/><path class=\"point\" transform=\"translate(74.76,125.61)\" d=\"M0,0A0,0 0 1,1 0,-0A0,0 0 0,1 0,0Z\" style=\"opacity: 0.7; stroke-width: 1px; fill: rgb(99, 110, 250); fill-opacity: 1; stroke: rgb(255, 255, 255); stroke-opacity: 1;\"/><path class=\"point\" transform=\"translate(102.05,192.32)\" d=\"M0,0A0,0 0 1,1 0,-0A0,0 0 0,1 0,0Z\" style=\"opacity: 0.7; stroke-width: 1px; fill: rgb(99, 110, 250); fill-opacity: 1; stroke: rgb(255, 255, 255); stroke-opacity: 1;\"/><path class=\"point\" transform=\"translate(103.66,208.89)\" d=\"M0,0A0,0 0 1,1 0,-0A0,0 0 0,1 0,0Z\" style=\"opacity: 0.7; stroke-width: 1px; fill: rgb(99, 110, 250); fill-opacity: 1; stroke: rgb(255, 255, 255); stroke-opacity: 1;\"/><path class=\"point\" transform=\"translate(126.13,51.32)\" d=\"M0,0A0,0 0 1,1 0,-0A0,0 0 0,1 0,0Z\" style=\"opacity: 0.7; stroke-width: 1px; fill: rgb(99, 110, 250); fill-opacity: 1; stroke: rgb(255, 255, 255); stroke-opacity: 1;\"/><path class=\"point\" transform=\"translate(233.68,88.39)\" d=\"M0,0A0,0 0 1,1 0,-0A0,0 0 0,1 0,0Z\" style=\"opacity: 0.7; stroke-width: 1px; fill: rgb(99, 110, 250); fill-opacity: 1; stroke: rgb(255, 255, 255); stroke-opacity: 1;\"/><path class=\"point\" transform=\"translate(235.28,70.41)\" d=\"M0,0A0,0 0 1,1 0,-0A0,0 0 0,1 0,0Z\" style=\"opacity: 0.7; stroke-width: 1px; fill: rgb(99, 110, 250); fill-opacity: 1; stroke: rgb(255, 255, 255); stroke-opacity: 1;\"/><path class=\"point\" transform=\"translate(357.27,74.64)\" d=\"M0,0A0,0 0 1,1 0,-0A0,0 0 0,1 0,0Z\" style=\"opacity: 0.7; stroke-width: 1px; fill: rgb(99, 110, 250); fill-opacity: 1; stroke: rgb(255, 255, 255); stroke-opacity: 1;\"/><path class=\"point\" transform=\"translate(358.88,62.46)\" d=\"M0,0A0,0 0 1,1 0,-0A0,0 0 0,1 0,0Z\" style=\"opacity: 0.7; stroke-width: 1px; fill: rgb(99, 110, 250); fill-opacity: 1; stroke: rgb(255, 255, 255); stroke-opacity: 1;\"/></g><g class=\"text\"/></g></g></g><g class=\"overplot\"/><path class=\"xlines-above crisp\" d=\"M0,0\" style=\"fill: none;\"/><path class=\"ylines-above crisp\" d=\"M0,0\" style=\"fill: none;\"/><g class=\"overlines-above\"/><g class=\"xaxislayer-above\"><g class=\"xtick\"><text text-anchor=\"middle\" x=\"0\" y=\"433\" transform=\"translate(108.21000000000001,0)\" style=\"font-family: 'Open Sans', verdana, arial, sans-serif; font-size: 12px; fill: rgb(42, 63, 95); fill-opacity: 1; white-space: pre; opacity: 1;\">0</text></g><g class=\"xtick\"><text text-anchor=\"middle\" x=\"0\" y=\"433\" style=\"font-family: 'Open Sans', verdana, arial, sans-serif; font-size: 12px; fill: rgb(42, 63, 95); fill-opacity: 1; white-space: pre; opacity: 1;\" transform=\"translate(188.47,0)\">50</text></g><g class=\"xtick\"><text text-anchor=\"middle\" x=\"0\" y=\"433\" style=\"font-family: 'Open Sans', verdana, arial, sans-serif; font-size: 12px; fill: rgb(42, 63, 95); fill-opacity: 1; white-space: pre; opacity: 1;\" transform=\"translate(268.73,0)\">100</text></g><g class=\"xtick\"><text text-anchor=\"middle\" x=\"0\" y=\"433\" style=\"font-family: 'Open Sans', verdana, arial, sans-serif; font-size: 12px; fill: rgb(42, 63, 95); fill-opacity: 1; white-space: pre; opacity: 1;\" transform=\"translate(348.99,0)\">150</text></g><g class=\"xtick\"><text text-anchor=\"middle\" x=\"0\" y=\"433\" style=\"font-family: 'Open Sans', verdana, arial, sans-serif; font-size: 12px; fill: rgb(42, 63, 95); fill-opacity: 1; white-space: pre; opacity: 1;\" transform=\"translate(429.25,0)\">200</text></g><g class=\"xtick\"><text text-anchor=\"middle\" x=\"0\" y=\"433\" style=\"font-family: 'Open Sans', verdana, arial, sans-serif; font-size: 12px; fill: rgb(42, 63, 95); fill-opacity: 1; white-space: pre; opacity: 1;\" transform=\"translate(509.51,0)\">250</text></g><g class=\"xtick\"><text text-anchor=\"middle\" x=\"0\" y=\"433\" style=\"font-family: 'Open Sans', verdana, arial, sans-serif; font-size: 12px; fill: rgb(42, 63, 95); fill-opacity: 1; white-space: pre; opacity: 1;\" transform=\"translate(589.76,0)\">300</text></g></g><g class=\"yaxislayer-above\"><g class=\"ytick\"><text text-anchor=\"end\" x=\"79\" y=\"4.199999999999999\" transform=\"translate(0,389.56)\" style=\"font-family: 'Open Sans', verdana, arial, sans-serif; font-size: 12px; fill: rgb(42, 63, 95); fill-opacity: 1; white-space: pre; opacity: 1;\">0</text></g><g class=\"ytick\"><text text-anchor=\"end\" x=\"79\" y=\"4.199999999999999\" style=\"font-family: 'Open Sans', verdana, arial, sans-serif; font-size: 12px; fill: rgb(42, 63, 95); fill-opacity: 1; white-space: pre; opacity: 1;\" transform=\"translate(0,352.41999999999996)\">5</text></g><g class=\"ytick\"><text text-anchor=\"end\" x=\"79\" y=\"4.199999999999999\" style=\"font-family: 'Open Sans', verdana, arial, sans-serif; font-size: 12px; fill: rgb(42, 63, 95); fill-opacity: 1; white-space: pre; opacity: 1;\" transform=\"translate(0,315.27)\">10</text></g><g class=\"ytick\"><text text-anchor=\"end\" x=\"79\" y=\"4.199999999999999\" style=\"font-family: 'Open Sans', verdana, arial, sans-serif; font-size: 12px; fill: rgb(42, 63, 95); fill-opacity: 1; white-space: pre; opacity: 1;\" transform=\"translate(0,278.13)\">15</text></g><g class=\"ytick\"><text text-anchor=\"end\" x=\"79\" y=\"4.199999999999999\" style=\"font-family: 'Open Sans', verdana, arial, sans-serif; font-size: 12px; fill: rgb(42, 63, 95); fill-opacity: 1; white-space: pre; opacity: 1;\" transform=\"translate(0,240.98)\">20</text></g><g class=\"ytick\"><text text-anchor=\"end\" x=\"79\" y=\"4.199999999999999\" style=\"font-family: 'Open Sans', verdana, arial, sans-serif; font-size: 12px; fill: rgb(42, 63, 95); fill-opacity: 1; white-space: pre; opacity: 1;\" transform=\"translate(0,203.84)\">25</text></g><g class=\"ytick\"><text text-anchor=\"end\" x=\"79\" y=\"4.199999999999999\" style=\"font-family: 'Open Sans', verdana, arial, sans-serif; font-size: 12px; fill: rgb(42, 63, 95); fill-opacity: 1; white-space: pre; opacity: 1;\" transform=\"translate(0,166.69)\">30</text></g><g class=\"ytick\"><text text-anchor=\"end\" x=\"79\" y=\"4.199999999999999\" style=\"font-family: 'Open Sans', verdana, arial, sans-serif; font-size: 12px; fill: rgb(42, 63, 95); fill-opacity: 1; white-space: pre; opacity: 1;\" transform=\"translate(0,129.55)\">35</text></g></g><g class=\"overaxes-above\"/></g></g><g class=\"polarlayer\"/><g class=\"smithlayer\"/><g class=\"ternarylayer\"/><g class=\"geolayer\"/><g class=\"funnelarealayer\"/><g class=\"pielayer\"/><g class=\"iciclelayer\"/><g class=\"treemaplayer\"/><g class=\"sunburstlayer\"/><g class=\"glimages\"/><defs id=\"topdefs-373316\"><g class=\"clips\"/></defs><g class=\"layer-above\"><g class=\"imagelayer\"/><g class=\"shapelayer\"/></g><g class=\"infolayer\"><g class=\"g-gtitle\"><text class=\"gtitle\" x=\"35\" y=\"50\" text-anchor=\"start\" dy=\"0em\" style=\"font-family: 'Open Sans', verdana, arial, sans-serif; font-size: 17px; fill: rgb(42, 63, 95); opacity: 1; font-weight: normal; white-space: pre;\">Bubble Chart of the Per Residue Score for each Residue</text></g><g class=\"g-xtitle\"><text class=\"xtitle\" x=\"350\" y=\"460.8\" text-anchor=\"middle\" style=\"font-family: 'Open Sans', verdana, arial, sans-serif; font-size: 14px; fill: rgb(42, 63, 95); opacity: 1; font-weight: normal; white-space: pre;\">Residue Number</text></g><g class=\"g-ytitle\"><text class=\"ytitle\" transform=\"rotate(-90,38.934375,260)\" x=\"38.934375\" y=\"260\" text-anchor=\"middle\" style=\"font-family: 'Open Sans', verdana, arial, sans-serif; font-size: 14px; fill: rgb(42, 63, 95); opacity: 1; font-weight: normal; white-space: pre;\">Distance to D181 (Å)</text></g></g></svg>"
      ]
     },
     "metadata": {},
     "output_type": "display_data"
    }
   ],
   "source": [
    "fig = px.scatter(df_score_dist, x=df_score_dist.index, y=\"Distance to D181 (Å)\",\n",
    "                size=\"Per Residue Score\", size_max=20,\n",
    "\t\t\t\ttitle=\"Bubble Chart of the Per Residue Score for each Residue\",\n",
    "\t\t\t\tlabels={\"index\": \"Residue Number\"}\n",
    ")\n",
    "\n",
    "fig.show(\"svg\") # to make this plot interactive, remove \"svg\" and run the cell block. "
   ]
  },
  {
   "cell_type": "markdown",
   "metadata": {},
   "source": [
    "Unsurpsingly Some of the most of the highest scoring residues have a low distance to D181, however we are still able to identify residues further away with reasonably high scores, such as those with residue numbers in the 280-290 region."
   ]
  },
  {
   "cell_type": "code",
   "execution_count": 74,
   "metadata": {},
   "outputs": [
    {
     "data": {
      "image/svg+xml": [
       "<svg class=\"main-svg\" xmlns=\"http://www.w3.org/2000/svg\" xmlns:xlink=\"http://www.w3.org/1999/xlink\" width=\"700\" height=\"500\" style=\"\" viewBox=\"0 0 700 500\"><rect x=\"0\" y=\"0\" width=\"700\" height=\"500\" style=\"fill: rgb(255, 255, 255); fill-opacity: 1;\"/><defs id=\"defs-035100\"><g class=\"clips\"><clipPath id=\"clip035100xyplot\" class=\"plotclip\"><rect width=\"623\" height=\"427\"/></clipPath><clipPath class=\"axesclip\" id=\"clip035100x\"><rect x=\"57\" y=\"0\" width=\"623\" height=\"500\"/></clipPath><clipPath class=\"axesclip\" id=\"clip035100y\"><rect x=\"0\" y=\"20\" width=\"700\" height=\"427\"/></clipPath><clipPath class=\"axesclip\" id=\"clip035100xy\"><rect x=\"57\" y=\"20\" width=\"623\" height=\"427\"/></clipPath></g><g class=\"gradients\"/><g class=\"patterns\"/></defs><g class=\"bglayer\"/><g class=\"layer-below\"><g class=\"imagelayer\"/><g class=\"shapelayer\"/></g><g class=\"cartesianlayer\"><g class=\"subplot xy\"><g class=\"layer-subplot\"><g class=\"shapelayer\"/><g class=\"imagelayer\"/></g><g class=\"gridlayer\"><g class=\"x\"><path class=\"xgrid crisp\" transform=\"translate(148.17000000000002,0)\" d=\"M0,20v427\" style=\"stroke: rgb(255, 255, 255); stroke-opacity: 1; stroke-width: 1px;\"/><path class=\"xgrid crisp\" transform=\"translate(224.15,0)\" d=\"M0,20v427\" style=\"stroke: rgb(255, 255, 255); stroke-opacity: 1; stroke-width: 1px;\"/><path class=\"xgrid crisp\" transform=\"translate(300.12,0)\" d=\"M0,20v427\" style=\"stroke: rgb(255, 255, 255); stroke-opacity: 1; stroke-width: 1px;\"/><path class=\"xgrid crisp\" transform=\"translate(376.1,0)\" d=\"M0,20v427\" style=\"stroke: rgb(255, 255, 255); stroke-opacity: 1; stroke-width: 1px;\"/><path class=\"xgrid crisp\" transform=\"translate(452.07,0)\" d=\"M0,20v427\" style=\"stroke: rgb(255, 255, 255); stroke-opacity: 1; stroke-width: 1px;\"/><path class=\"xgrid crisp\" transform=\"translate(528.05,0)\" d=\"M0,20v427\" style=\"stroke: rgb(255, 255, 255); stroke-opacity: 1; stroke-width: 1px;\"/><path class=\"xgrid crisp\" transform=\"translate(604.02,0)\" d=\"M0,20v427\" style=\"stroke: rgb(255, 255, 255); stroke-opacity: 1; stroke-width: 1px;\"/></g><g class=\"y\"><path class=\"ygrid crisp\" transform=\"translate(0,349.95)\" d=\"M57,0h623\" style=\"stroke: rgb(255, 255, 255); stroke-opacity: 1; stroke-width: 1px;\"/><path class=\"ygrid crisp\" transform=\"translate(0,272.32)\" d=\"M57,0h623\" style=\"stroke: rgb(255, 255, 255); stroke-opacity: 1; stroke-width: 1px;\"/><path class=\"ygrid crisp\" transform=\"translate(0,194.68)\" d=\"M57,0h623\" style=\"stroke: rgb(255, 255, 255); stroke-opacity: 1; stroke-width: 1px;\"/><path class=\"ygrid crisp\" transform=\"translate(0,117.05)\" d=\"M57,0h623\" style=\"stroke: rgb(255, 255, 255); stroke-opacity: 1; stroke-width: 1px;\"/><path class=\"ygrid crisp\" transform=\"translate(0,39.41)\" d=\"M57,0h623\" style=\"stroke: rgb(255, 255, 255); stroke-opacity: 1; stroke-width: 1px;\"/></g></g><g class=\"zerolinelayer\"><path class=\"xzl zl crisp\" transform=\"translate(72.2,0)\" d=\"M0,20v427\" style=\"stroke: rgb(255, 255, 255); stroke-opacity: 1; stroke-width: 2px;\"/><path class=\"yzl zl crisp\" transform=\"translate(0,427.59)\" d=\"M57,0h623\" style=\"stroke: rgb(255, 255, 255); stroke-opacity: 1; stroke-width: 2px;\"/></g><path class=\"xlines-below\"/><path class=\"ylines-below\"/><g class=\"overlines-below\"/><g class=\"xaxislayer-below\"/><g class=\"yaxislayer-below\"/><g class=\"overaxes-below\"/><g class=\"plot\" transform=\"translate(57,20)\" clip-path=\"url(#clip035100xyplot)\"><g class=\"scatterlayer mlayer\"><g class=\"trace scatter tracecbc5b3\" style=\"stroke-miterlimit: 2; opacity: 1;\"><g class=\"fills\"/><g class=\"errorbars\"/><g class=\"lines\"/><g class=\"points\"><path class=\"point\" transform=\"translate(71.11,19.41)\" d=\"M3,0A3,3 0 1,1 0,-3A3,3 0 0,1 3,0Z\" style=\"opacity: 1; stroke-width: 0px; fill: rgb(99, 110, 250); fill-opacity: 1;\"/><path class=\"point\" transform=\"translate(66.55,66)\" d=\"M3,0A3,3 0 1,1 0,-3A3,3 0 0,1 3,0Z\" style=\"opacity: 1; stroke-width: 0px; fill: rgb(99, 110, 250); fill-opacity: 1;\"/><path class=\"point\" transform=\"translate(15.2,84.05)\" d=\"M3,0A3,3 0 1,1 0,-3A3,3 0 0,1 3,0Z\" style=\"opacity: 1; stroke-width: 0px; fill: rgb(99, 110, 250); fill-opacity: 1;\"/><path class=\"point\" transform=\"translate(210.6,119.33)\" d=\"M3,0A3,3 0 1,1 0,-3A3,3 0 0,1 3,0Z\" style=\"opacity: 1; stroke-width: 0px; fill: rgb(99, 110, 250); fill-opacity: 1;\"/><path class=\"point\" transform=\"translate(96.49,149.86)\" d=\"M3,0A3,3 0 1,1 0,-3A3,3 0 0,1 3,0Z\" style=\"opacity: 1; stroke-width: 0px; fill: rgb(99, 110, 250); fill-opacity: 1;\"/><path class=\"point\" transform=\"translate(35.4,188.27)\" d=\"M3,0A3,3 0 1,1 0,-3A3,3 0 0,1 3,0Z\" style=\"opacity: 1; stroke-width: 0px; fill: rgb(99, 110, 250); fill-opacity: 1;\"/><path class=\"point\" transform=\"translate(115.63,192.38)\" d=\"M3,0A3,3 0 1,1 0,-3A3,3 0 0,1 3,0Z\" style=\"opacity: 1; stroke-width: 0px; fill: rgb(99, 110, 250); fill-opacity: 1;\"/><path class=\"point\" transform=\"translate(292.35,199.34)\" d=\"M3,0A3,3 0 1,1 0,-3A3,3 0 0,1 3,0Z\" style=\"opacity: 1; stroke-width: 0px; fill: rgb(99, 110, 250); fill-opacity: 1;\"/><path class=\"point\" transform=\"translate(223.22,214.63)\" d=\"M3,0A3,3 0 1,1 0,-3A3,3 0 0,1 3,0Z\" style=\"opacity: 1; stroke-width: 0px; fill: rgb(99, 110, 250); fill-opacity: 1;\"/><path class=\"point\" transform=\"translate(60.78,216.85)\" d=\"M3,0A3,3 0 1,1 0,-3A3,3 0 0,1 3,0Z\" style=\"opacity: 1; stroke-width: 0px; fill: rgb(99, 110, 250); fill-opacity: 1;\"/><path class=\"point\" transform=\"translate(67.47,217.41)\" d=\"M3,0A3,3 0 1,1 0,-3A3,3 0 0,1 3,0Z\" style=\"opacity: 1; stroke-width: 0px; fill: rgb(99, 110, 250); fill-opacity: 1;\"/><path class=\"point\" transform=\"translate(152.26,223.4)\" d=\"M3,0A3,3 0 1,1 0,-3A3,3 0 0,1 3,0Z\" style=\"opacity: 1; stroke-width: 0px; fill: rgb(99, 110, 250); fill-opacity: 1;\"/><path class=\"point\" transform=\"translate(196.17,231.02)\" d=\"M3,0A3,3 0 1,1 0,-3A3,3 0 0,1 3,0Z\" style=\"opacity: 1; stroke-width: 0px; fill: rgb(99, 110, 250); fill-opacity: 1;\"/><path class=\"point\" transform=\"translate(72.02,235.61)\" d=\"M3,0A3,3 0 1,1 0,-3A3,3 0 0,1 3,0Z\" style=\"opacity: 1; stroke-width: 0px; fill: rgb(99, 110, 250); fill-opacity: 1;\"/><path class=\"point\" transform=\"translate(91.63,252.61)\" d=\"M3,0A3,3 0 1,1 0,-3A3,3 0 0,1 3,0Z\" style=\"opacity: 1; stroke-width: 0px; fill: rgb(99, 110, 250); fill-opacity: 1;\"/><path class=\"point\" transform=\"translate(200.88,259.07)\" d=\"M3,0A3,3 0 1,1 0,-3A3,3 0 0,1 3,0Z\" style=\"opacity: 1; stroke-width: 0px; fill: rgb(99, 110, 250); fill-opacity: 1;\"/><path class=\"point\" transform=\"translate(35.25,259.42)\" d=\"M3,0A3,3 0 1,1 0,-3A3,3 0 0,1 3,0Z\" style=\"opacity: 1; stroke-width: 0px; fill: rgb(99, 110, 250); fill-opacity: 1;\"/><path class=\"point\" transform=\"translate(311.5,262.82)\" d=\"M3,0A3,3 0 1,1 0,-3A3,3 0 0,1 3,0Z\" style=\"opacity: 1; stroke-width: 0px; fill: rgb(99, 110, 250); fill-opacity: 1;\"/><path class=\"point\" transform=\"translate(216.53,267.43)\" d=\"M3,0A3,3 0 1,1 0,-3A3,3 0 0,1 3,0Z\" style=\"opacity: 1; stroke-width: 0px; fill: rgb(99, 110, 250); fill-opacity: 1;\"/><path class=\"point\" transform=\"translate(385.96,270.35)\" d=\"M3,0A3,3 0 1,1 0,-3A3,3 0 0,1 3,0Z\" style=\"opacity: 1; stroke-width: 0px; fill: rgb(99, 110, 250); fill-opacity: 1;\"/><path class=\"point\" transform=\"translate(315.45,270.91)\" d=\"M3,0A3,3 0 1,1 0,-3A3,3 0 0,1 3,0Z\" style=\"opacity: 1; stroke-width: 0px; fill: rgb(99, 110, 250); fill-opacity: 1;\"/><path class=\"point\" transform=\"translate(92.69,276.26)\" d=\"M3,0A3,3 0 1,1 0,-3A3,3 0 0,1 3,0Z\" style=\"opacity: 1; stroke-width: 0px; fill: rgb(99, 110, 250); fill-opacity: 1;\"/><path class=\"point\" transform=\"translate(348.12,279.08)\" d=\"M3,0A3,3 0 1,1 0,-3A3,3 0 0,1 3,0Z\" style=\"opacity: 1; stroke-width: 0px; fill: rgb(99, 110, 250); fill-opacity: 1;\"/><path class=\"point\" transform=\"translate(329.89,284.12)\" d=\"M3,0A3,3 0 1,1 0,-3A3,3 0 0,1 3,0Z\" style=\"opacity: 1; stroke-width: 0px; fill: rgb(99, 110, 250); fill-opacity: 1;\"/><path class=\"point\" transform=\"translate(265,296.8)\" d=\"M3,0A3,3 0 1,1 0,-3A3,3 0 0,1 3,0Z\" style=\"opacity: 1; stroke-width: 0px; fill: rgb(99, 110, 250); fill-opacity: 1;\"/><path class=\"point\" transform=\"translate(225.34,298.03)\" d=\"M3,0A3,3 0 1,1 0,-3A3,3 0 0,1 3,0Z\" style=\"opacity: 1; stroke-width: 0px; fill: rgb(99, 110, 250); fill-opacity: 1;\"/><path class=\"point\" transform=\"translate(202.25,298.42)\" d=\"M3,0A3,3 0 1,1 0,-3A3,3 0 0,1 3,0Z\" style=\"opacity: 1; stroke-width: 0px; fill: rgb(99, 110, 250); fill-opacity: 1;\"/><path class=\"point\" transform=\"translate(111.53,298.53)\" d=\"M3,0A3,3 0 1,1 0,-3A3,3 0 0,1 3,0Z\" style=\"opacity: 1; stroke-width: 0px; fill: rgb(99, 110, 250); fill-opacity: 1;\"/><path class=\"point\" transform=\"translate(146.33,306.43)\" d=\"M3,0A3,3 0 1,1 0,-3A3,3 0 0,1 3,0Z\" style=\"opacity: 1; stroke-width: 0px; fill: rgb(99, 110, 250); fill-opacity: 1;\"/><path class=\"point\" transform=\"translate(120.95,308.1)\" d=\"M3,0A3,3 0 1,1 0,-3A3,3 0 0,1 3,0Z\" style=\"opacity: 1; stroke-width: 0px; fill: rgb(99, 110, 250); fill-opacity: 1;\"/><path class=\"point\" transform=\"translate(206.81,308.89)\" d=\"M3,0A3,3 0 1,1 0,-3A3,3 0 0,1 3,0Z\" style=\"opacity: 1; stroke-width: 0px; fill: rgb(99, 110, 250); fill-opacity: 1;\"/><path class=\"point\" transform=\"translate(270.17,310.56)\" d=\"M3,0A3,3 0 1,1 0,-3A3,3 0 0,1 3,0Z\" style=\"opacity: 1; stroke-width: 0px; fill: rgb(99, 110, 250); fill-opacity: 1;\"/><path class=\"point\" transform=\"translate(116.24,311.47)\" d=\"M3,0A3,3 0 1,1 0,-3A3,3 0 0,1 3,0Z\" style=\"opacity: 1; stroke-width: 0px; fill: rgb(99, 110, 250); fill-opacity: 1;\"/><path class=\"point\" transform=\"translate(320.01,311.87)\" d=\"M3,0A3,3 0 1,1 0,-3A3,3 0 0,1 3,0Z\" style=\"opacity: 1; stroke-width: 0px; fill: rgb(99, 110, 250); fill-opacity: 1;\"/><path class=\"point\" transform=\"translate(167.15,312.59)\" d=\"M3,0A3,3 0 1,1 0,-3A3,3 0 0,1 3,0Z\" style=\"opacity: 1; stroke-width: 0px; fill: rgb(99, 110, 250); fill-opacity: 1;\"/><path class=\"point\" transform=\"translate(221.7,316.41)\" d=\"M3,0A3,3 0 1,1 0,-3A3,3 0 0,1 3,0Z\" style=\"opacity: 1; stroke-width: 0px; fill: rgb(99, 110, 250); fill-opacity: 1;\"/><path class=\"point\" transform=\"translate(157.27,326.52)\" d=\"M3,0A3,3 0 1,1 0,-3A3,3 0 0,1 3,0Z\" style=\"opacity: 1; stroke-width: 0px; fill: rgb(99, 110, 250); fill-opacity: 1;\"/><path class=\"point\" transform=\"translate(125.51,328.42)\" d=\"M3,0A3,3 0 1,1 0,-3A3,3 0 0,1 3,0Z\" style=\"opacity: 1; stroke-width: 0px; fill: rgb(99, 110, 250); fill-opacity: 1;\"/><path class=\"point\" transform=\"translate(233.7,335.71)\" d=\"M3,0A3,3 0 1,1 0,-3A3,3 0 0,1 3,0Z\" style=\"opacity: 1; stroke-width: 0px; fill: rgb(99, 110, 250); fill-opacity: 1;\"/><path class=\"point\" transform=\"translate(262.12,335.97)\" d=\"M3,0A3,3 0 1,1 0,-3A3,3 0 0,1 3,0Z\" style=\"opacity: 1; stroke-width: 0px; fill: rgb(99, 110, 250); fill-opacity: 1;\"/><path class=\"point\" transform=\"translate(264.55,337.32)\" d=\"M3,0A3,3 0 1,1 0,-3A3,3 0 0,1 3,0Z\" style=\"opacity: 1; stroke-width: 0px; fill: rgb(99, 110, 250); fill-opacity: 1;\"/><path class=\"point\" transform=\"translate(282.78,337.41)\" d=\"M3,0A3,3 0 1,1 0,-3A3,3 0 0,1 3,0Z\" style=\"opacity: 1; stroke-width: 0px; fill: rgb(99, 110, 250); fill-opacity: 1;\"/><path class=\"point\" transform=\"translate(220.18,338.92)\" d=\"M3,0A3,3 0 1,1 0,-3A3,3 0 0,1 3,0Z\" style=\"opacity: 1; stroke-width: 0px; fill: rgb(99, 110, 250); fill-opacity: 1;\"/><path class=\"point\" transform=\"translate(225.8,340.63)\" d=\"M3,0A3,3 0 1,1 0,-3A3,3 0 0,1 3,0Z\" style=\"opacity: 1; stroke-width: 0px; fill: rgb(99, 110, 250); fill-opacity: 1;\"/><path class=\"point\" transform=\"translate(195.26,341.6)\" d=\"M3,0A3,3 0 1,1 0,-3A3,3 0 0,1 3,0Z\" style=\"opacity: 1; stroke-width: 0px; fill: rgb(99, 110, 250); fill-opacity: 1;\"/><path class=\"point\" transform=\"translate(273.36,341.9)\" d=\"M3,0A3,3 0 1,1 0,-3A3,3 0 0,1 3,0Z\" style=\"opacity: 1; stroke-width: 0px; fill: rgb(99, 110, 250); fill-opacity: 1;\"/><path class=\"point\" transform=\"translate(306.33,342.93)\" d=\"M3,0A3,3 0 1,1 0,-3A3,3 0 0,1 3,0Z\" style=\"opacity: 1; stroke-width: 0px; fill: rgb(99, 110, 250); fill-opacity: 1;\"/><path class=\"point\" transform=\"translate(414.52,343.22)\" d=\"M3,0A3,3 0 1,1 0,-3A3,3 0 0,1 3,0Z\" style=\"opacity: 1; stroke-width: 0px; fill: rgb(99, 110, 250); fill-opacity: 1;\"/><path class=\"point\" transform=\"translate(267.13,343.38)\" d=\"M3,0A3,3 0 1,1 0,-3A3,3 0 0,1 3,0Z\" style=\"opacity: 1; stroke-width: 0px; fill: rgb(99, 110, 250); fill-opacity: 1;\"/><path class=\"point\" transform=\"translate(164.11,345)\" d=\"M3,0A3,3 0 1,1 0,-3A3,3 0 0,1 3,0Z\" style=\"opacity: 1; stroke-width: 0px; fill: rgb(99, 110, 250); fill-opacity: 1;\"/><path class=\"point\" transform=\"translate(260.6,348.87)\" d=\"M3,0A3,3 0 1,1 0,-3A3,3 0 0,1 3,0Z\" style=\"opacity: 1; stroke-width: 0px; fill: rgb(99, 110, 250); fill-opacity: 1;\"/><path class=\"point\" transform=\"translate(113.66,350.19)\" d=\"M3,0A3,3 0 1,1 0,-3A3,3 0 0,1 3,0Z\" style=\"opacity: 1; stroke-width: 0px; fill: rgb(99, 110, 250); fill-opacity: 1;\"/><path class=\"point\" transform=\"translate(242.36,350.49)\" d=\"M3,0A3,3 0 1,1 0,-3A3,3 0 0,1 3,0Z\" style=\"opacity: 1; stroke-width: 0px; fill: rgb(99, 110, 250); fill-opacity: 1;\"/><path class=\"point\" transform=\"translate(174.29,350.53)\" d=\"M3,0A3,3 0 1,1 0,-3A3,3 0 0,1 3,0Z\" style=\"opacity: 1; stroke-width: 0px; fill: rgb(99, 110, 250); fill-opacity: 1;\"/><path class=\"point\" transform=\"translate(74.91,351.07)\" d=\"M3,0A3,3 0 1,1 0,-3A3,3 0 0,1 3,0Z\" style=\"opacity: 1; stroke-width: 0px; fill: rgb(99, 110, 250); fill-opacity: 1;\"/><path class=\"point\" transform=\"translate(145.57,352.69)\" d=\"M3,0A3,3 0 1,1 0,-3A3,3 0 0,1 3,0Z\" style=\"opacity: 1; stroke-width: 0px; fill: rgb(99, 110, 250); fill-opacity: 1;\"/><path class=\"point\" transform=\"translate(284.45,352.89)\" d=\"M3,0A3,3 0 1,1 0,-3A3,3 0 0,1 3,0Z\" style=\"opacity: 1; stroke-width: 0px; fill: rgb(99, 110, 250); fill-opacity: 1;\"/><path class=\"point\" transform=\"translate(268.95,354.45)\" d=\"M3,0A3,3 0 1,1 0,-3A3,3 0 0,1 3,0Z\" style=\"opacity: 1; stroke-width: 0px; fill: rgb(99, 110, 250); fill-opacity: 1;\"/><path class=\"point\" transform=\"translate(337.79,356.57)\" d=\"M3,0A3,3 0 1,1 0,-3A3,3 0 0,1 3,0Z\" style=\"opacity: 1; stroke-width: 0px; fill: rgb(99, 110, 250); fill-opacity: 1;\"/><path class=\"point\" transform=\"translate(164.41,357.46)\" d=\"M3,0A3,3 0 1,1 0,-3A3,3 0 0,1 3,0Z\" style=\"opacity: 1; stroke-width: 0px; fill: rgb(99, 110, 250); fill-opacity: 1;\"/><path class=\"point\" transform=\"translate(302.23,359.79)\" d=\"M3,0A3,3 0 1,1 0,-3A3,3 0 0,1 3,0Z\" style=\"opacity: 1; stroke-width: 0px; fill: rgb(99, 110, 250); fill-opacity: 1;\"/><path class=\"point\" transform=\"translate(426.38,360.14)\" d=\"M3,0A3,3 0 1,1 0,-3A3,3 0 0,1 3,0Z\" style=\"opacity: 1; stroke-width: 0px; fill: rgb(99, 110, 250); fill-opacity: 1;\"/><path class=\"point\" transform=\"translate(63.97,360.69)\" d=\"M3,0A3,3 0 1,1 0,-3A3,3 0 0,1 3,0Z\" style=\"opacity: 1; stroke-width: 0px; fill: rgb(99, 110, 250); fill-opacity: 1;\"/><path class=\"point\" transform=\"translate(345.69,360.92)\" d=\"M3,0A3,3 0 1,1 0,-3A3,3 0 0,1 3,0Z\" style=\"opacity: 1; stroke-width: 0px; fill: rgb(99, 110, 250); fill-opacity: 1;\"/><path class=\"point\" transform=\"translate(275.64,361.07)\" d=\"M3,0A3,3 0 1,1 0,-3A3,3 0 0,1 3,0Z\" style=\"opacity: 1; stroke-width: 0px; fill: rgb(99, 110, 250); fill-opacity: 1;\"/><path class=\"point\" transform=\"translate(193.59,362.94)\" d=\"M3,0A3,3 0 1,1 0,-3A3,3 0 0,1 3,0Z\" style=\"opacity: 1; stroke-width: 0px; fill: rgb(99, 110, 250); fill-opacity: 1;\"/><path class=\"point\" transform=\"translate(252.69,364.02)\" d=\"M3,0A3,3 0 1,1 0,-3A3,3 0 0,1 3,0Z\" style=\"opacity: 1; stroke-width: 0px; fill: rgb(99, 110, 250); fill-opacity: 1;\"/><path class=\"point\" transform=\"translate(383.37,365.06)\" d=\"M3,0A3,3 0 1,1 0,-3A3,3 0 0,1 3,0Z\" style=\"opacity: 1; stroke-width: 0px; fill: rgb(99, 110, 250); fill-opacity: 1;\"/><path class=\"point\" transform=\"translate(231.27,365.17)\" d=\"M3,0A3,3 0 1,1 0,-3A3,3 0 0,1 3,0Z\" style=\"opacity: 1; stroke-width: 0px; fill: rgb(99, 110, 250); fill-opacity: 1;\"/><path class=\"point\" transform=\"translate(265.46,367.22)\" d=\"M3,0A3,3 0 1,1 0,-3A3,3 0 0,1 3,0Z\" style=\"opacity: 1; stroke-width: 0px; fill: rgb(99, 110, 250); fill-opacity: 1;\"/><path class=\"point\" transform=\"translate(176.26,367.35)\" d=\"M3,0A3,3 0 1,1 0,-3A3,3 0 0,1 3,0Z\" style=\"opacity: 1; stroke-width: 0px; fill: rgb(99, 110, 250); fill-opacity: 1;\"/><path class=\"point\" transform=\"translate(298.43,367.42)\" d=\"M3,0A3,3 0 1,1 0,-3A3,3 0 0,1 3,0Z\" style=\"opacity: 1; stroke-width: 0px; fill: rgb(99, 110, 250); fill-opacity: 1;\"/><path class=\"point\" transform=\"translate(279.74,367.72)\" d=\"M3,0A3,3 0 1,1 0,-3A3,3 0 0,1 3,0Z\" style=\"opacity: 1; stroke-width: 0px; fill: rgb(99, 110, 250); fill-opacity: 1;\"/><path class=\"point\" transform=\"translate(377.45,367.73)\" d=\"M3,0A3,3 0 1,1 0,-3A3,3 0 0,1 3,0Z\" style=\"opacity: 1; stroke-width: 0px; fill: rgb(99, 110, 250); fill-opacity: 1;\"/><path class=\"point\" transform=\"translate(258.47,367.74)\" d=\"M3,0A3,3 0 1,1 0,-3A3,3 0 0,1 3,0Z\" style=\"opacity: 1; stroke-width: 0px; fill: rgb(99, 110, 250); fill-opacity: 1;\"/><path class=\"point\" transform=\"translate(404.95,367.75)\" d=\"M3,0A3,3 0 1,1 0,-3A3,3 0 0,1 3,0Z\" style=\"opacity: 1; stroke-width: 0px; fill: rgb(99, 110, 250); fill-opacity: 1;\"/><path class=\"point\" transform=\"translate(161.52,367.76)\" d=\"M3,0A3,3 0 1,1 0,-3A3,3 0 0,1 3,0Z\" style=\"opacity: 1; stroke-width: 0px; fill: rgb(99, 110, 250); fill-opacity: 1;\"/><path class=\"point\" transform=\"translate(319.4,368.09)\" d=\"M3,0A3,3 0 1,1 0,-3A3,3 0 0,1 3,0Z\" style=\"opacity: 1; stroke-width: 0px; fill: rgb(99, 110, 250); fill-opacity: 1;\"/><path class=\"point\" transform=\"translate(305.27,368.3)\" d=\"M3,0A3,3 0 1,1 0,-3A3,3 0 0,1 3,0Z\" style=\"opacity: 1; stroke-width: 0px; fill: rgb(99, 110, 250); fill-opacity: 1;\"/><path class=\"point\" transform=\"translate(102.72,370.33)\" d=\"M3,0A3,3 0 1,1 0,-3A3,3 0 0,1 3,0Z\" style=\"opacity: 1; stroke-width: 0px; fill: rgb(99, 110, 250); fill-opacity: 1;\"/><path class=\"point\" transform=\"translate(287.34,370.36)\" d=\"M3,0A3,3 0 1,1 0,-3A3,3 0 0,1 3,0Z\" style=\"opacity: 1; stroke-width: 0px; fill: rgb(99, 110, 250); fill-opacity: 1;\"/><path class=\"point\" transform=\"translate(397.2,370.73)\" d=\"M3,0A3,3 0 1,1 0,-3A3,3 0 0,1 3,0Z\" style=\"opacity: 1; stroke-width: 0px; fill: rgb(99, 110, 250); fill-opacity: 1;\"/><path class=\"point\" transform=\"translate(149.98,372.16)\" d=\"M3,0A3,3 0 1,1 0,-3A3,3 0 0,1 3,0Z\" style=\"opacity: 1; stroke-width: 0px; fill: rgb(99, 110, 250); fill-opacity: 1;\"/><path class=\"point\" transform=\"translate(308.76,372.67)\" d=\"M3,0A3,3 0 1,1 0,-3A3,3 0 0,1 3,0Z\" style=\"opacity: 1; stroke-width: 0px; fill: rgb(99, 110, 250); fill-opacity: 1;\"/><path class=\"point\" transform=\"translate(404.49,372.69)\" d=\"M3,0A3,3 0 1,1 0,-3A3,3 0 0,1 3,0Z\" style=\"opacity: 1; stroke-width: 0px; fill: rgb(99, 110, 250); fill-opacity: 1;\"/><path class=\"point\" transform=\"translate(323.05,373.09)\" d=\"M3,0A3,3 0 1,1 0,-3A3,3 0 0,1 3,0Z\" style=\"opacity: 1; stroke-width: 0px; fill: rgb(99, 110, 250); fill-opacity: 1;\"/><path class=\"point\" transform=\"translate(306.33,373.25)\" d=\"M3,0A3,3 0 1,1 0,-3A3,3 0 0,1 3,0Z\" style=\"opacity: 1; stroke-width: 0px; fill: rgb(99, 110, 250); fill-opacity: 1;\"/><path class=\"point\" transform=\"translate(143.14,373.93)\" d=\"M3,0A3,3 0 1,1 0,-3A3,3 0 0,1 3,0Z\" style=\"opacity: 1; stroke-width: 0px; fill: rgb(99, 110, 250); fill-opacity: 1;\"/><path class=\"point\" transform=\"translate(180.21,374.55)\" d=\"M3,0A3,3 0 1,1 0,-3A3,3 0 0,1 3,0Z\" style=\"opacity: 1; stroke-width: 0px; fill: rgb(99, 110, 250); fill-opacity: 1;\"/><path class=\"point\" transform=\"translate(326.54,374.82)\" d=\"M3,0A3,3 0 1,1 0,-3A3,3 0 0,1 3,0Z\" style=\"opacity: 1; stroke-width: 0px; fill: rgb(99, 110, 250); fill-opacity: 1;\"/><path class=\"point\" transform=\"translate(341.74,374.83)\" d=\"M3,0A3,3 0 1,1 0,-3A3,3 0 0,1 3,0Z\" style=\"opacity: 1; stroke-width: 0px; fill: rgb(99, 110, 250); fill-opacity: 1;\"/><path class=\"point\" transform=\"translate(339.91,375.13)\" d=\"M3,0A3,3 0 1,1 0,-3A3,3 0 0,1 3,0Z\" style=\"opacity: 1; stroke-width: 0px; fill: rgb(99, 110, 250); fill-opacity: 1;\"/><path class=\"point\" transform=\"translate(234.16,375.32)\" d=\"M3,0A3,3 0 1,1 0,-3A3,3 0 0,1 3,0Z\" style=\"opacity: 1; stroke-width: 0px; fill: rgb(99, 110, 250); fill-opacity: 1;\"/><path class=\"point\" transform=\"translate(253.91,375.38)\" d=\"M3,0A3,3 0 1,1 0,-3A3,3 0 0,1 3,0Z\" style=\"opacity: 1; stroke-width: 0px; fill: rgb(99, 110, 250); fill-opacity: 1;\"/><path class=\"point\" transform=\"translate(167.91,375.74)\" d=\"M3,0A3,3 0 1,1 0,-3A3,3 0 0,1 3,0Z\" style=\"opacity: 1; stroke-width: 0px; fill: rgb(99, 110, 250); fill-opacity: 1;\"/><path class=\"point\" transform=\"translate(234.92,376.18)\" d=\"M3,0A3,3 0 1,1 0,-3A3,3 0 0,1 3,0Z\" style=\"opacity: 1; stroke-width: 0px; fill: rgb(99, 110, 250); fill-opacity: 1;\"/><path class=\"point\" transform=\"translate(265.46,376.21)\" d=\"M3,0A3,3 0 1,1 0,-3A3,3 0 0,1 3,0Z\" style=\"opacity: 1; stroke-width: 0px; fill: rgb(99, 110, 250); fill-opacity: 1;\"/><path class=\"point\" transform=\"translate(432.61,376.26)\" d=\"M3,0A3,3 0 1,1 0,-3A3,3 0 0,1 3,0Z\" style=\"opacity: 1; stroke-width: 0px; fill: rgb(99, 110, 250); fill-opacity: 1;\"/><path class=\"point\" transform=\"translate(320.77,376.66)\" d=\"M3,0A3,3 0 1,1 0,-3A3,3 0 0,1 3,0Z\" style=\"opacity: 1; stroke-width: 0px; fill: rgb(99, 110, 250); fill-opacity: 1;\"/><path class=\"point\" transform=\"translate(179.91,376.66)\" d=\"M3,0A3,3 0 1,1 0,-3A3,3 0 0,1 3,0Z\" style=\"opacity: 1; stroke-width: 0px; fill: rgb(99, 110, 250); fill-opacity: 1;\"/><path class=\"point\" transform=\"translate(380.64,377.2)\" d=\"M3,0A3,3 0 1,1 0,-3A3,3 0 0,1 3,0Z\" style=\"opacity: 1; stroke-width: 0px; fill: rgb(99, 110, 250); fill-opacity: 1;\"/><path class=\"point\" transform=\"translate(296,377.26)\" d=\"M3,0A3,3 0 1,1 0,-3A3,3 0 0,1 3,0Z\" style=\"opacity: 1; stroke-width: 0px; fill: rgb(99, 110, 250); fill-opacity: 1;\"/><path class=\"point\" transform=\"translate(424.7,377.26)\" d=\"M3,0A3,3 0 1,1 0,-3A3,3 0 0,1 3,0Z\" style=\"opacity: 1; stroke-width: 0px; fill: rgb(99, 110, 250); fill-opacity: 1;\"/><path class=\"point\" transform=\"translate(288.86,377.95)\" d=\"M3,0A3,3 0 1,1 0,-3A3,3 0 0,1 3,0Z\" style=\"opacity: 1; stroke-width: 0px; fill: rgb(99, 110, 250); fill-opacity: 1;\"/><path class=\"point\" transform=\"translate(330.34,378.01)\" d=\"M3,0A3,3 0 1,1 0,-3A3,3 0 0,1 3,0Z\" style=\"opacity: 1; stroke-width: 0px; fill: rgb(99, 110, 250); fill-opacity: 1;\"/><path class=\"point\" transform=\"translate(234.61,378.45)\" d=\"M3,0A3,3 0 1,1 0,-3A3,3 0 0,1 3,0Z\" style=\"opacity: 1; stroke-width: 0px; fill: rgb(99, 110, 250); fill-opacity: 1;\"/><path class=\"point\" transform=\"translate(211.97,378.5)\" d=\"M3,0A3,3 0 1,1 0,-3A3,3 0 0,1 3,0Z\" style=\"opacity: 1; stroke-width: 0px; fill: rgb(99, 110, 250); fill-opacity: 1;\"/><path class=\"point\" transform=\"translate(215.92,378.56)\" d=\"M3,0A3,3 0 1,1 0,-3A3,3 0 0,1 3,0Z\" style=\"opacity: 1; stroke-width: 0px; fill: rgb(99, 110, 250); fill-opacity: 1;\"/><path class=\"point\" transform=\"translate(259.84,378.58)\" d=\"M3,0A3,3 0 1,1 0,-3A3,3 0 0,1 3,0Z\" style=\"opacity: 1; stroke-width: 0px; fill: rgb(99, 110, 250); fill-opacity: 1;\"/><path class=\"point\" transform=\"translate(358.15,378.68)\" d=\"M3,0A3,3 0 1,1 0,-3A3,3 0 0,1 3,0Z\" style=\"opacity: 1; stroke-width: 0px; fill: rgb(99, 110, 250); fill-opacity: 1;\"/><path class=\"point\" transform=\"translate(199.82,378.77)\" d=\"M3,0A3,3 0 1,1 0,-3A3,3 0 0,1 3,0Z\" style=\"opacity: 1; stroke-width: 0px; fill: rgb(99, 110, 250); fill-opacity: 1;\"/><path class=\"point\" transform=\"translate(301.62,379.14)\" d=\"M3,0A3,3 0 1,1 0,-3A3,3 0 0,1 3,0Z\" style=\"opacity: 1; stroke-width: 0px; fill: rgb(99, 110, 250); fill-opacity: 1;\"/><path class=\"point\" transform=\"translate(377.45,379.6)\" d=\"M3,0A3,3 0 1,1 0,-3A3,3 0 0,1 3,0Z\" style=\"opacity: 1; stroke-width: 0px; fill: rgb(99, 110, 250); fill-opacity: 1;\"/><path class=\"point\" transform=\"translate(286.43,379.71)\" d=\"M3,0A3,3 0 1,1 0,-3A3,3 0 0,1 3,0Z\" style=\"opacity: 1; stroke-width: 0px; fill: rgb(99, 110, 250); fill-opacity: 1;\"/><path class=\"point\" transform=\"translate(162.28,379.73)\" d=\"M3,0A3,3 0 1,1 0,-3A3,3 0 0,1 3,0Z\" style=\"opacity: 1; stroke-width: 0px; fill: rgb(99, 110, 250); fill-opacity: 1;\"/><path class=\"point\" transform=\"translate(330.65,379.75)\" d=\"M3,0A3,3 0 1,1 0,-3A3,3 0 0,1 3,0Z\" style=\"opacity: 1; stroke-width: 0px; fill: rgb(99, 110, 250); fill-opacity: 1;\"/><path class=\"point\" transform=\"translate(385.35,379.99)\" d=\"M3,0A3,3 0 1,1 0,-3A3,3 0 0,1 3,0Z\" style=\"opacity: 1; stroke-width: 0px; fill: rgb(99, 110, 250); fill-opacity: 1;\"/><path class=\"point\" transform=\"translate(331.25,380.39)\" d=\"M3,0A3,3 0 1,1 0,-3A3,3 0 0,1 3,0Z\" style=\"opacity: 1; stroke-width: 0px; fill: rgb(99, 110, 250); fill-opacity: 1;\"/><path class=\"point\" transform=\"translate(458.28,380.46)\" d=\"M3,0A3,3 0 1,1 0,-3A3,3 0 0,1 3,0Z\" style=\"opacity: 1; stroke-width: 0px; fill: rgb(99, 110, 250); fill-opacity: 1;\"/><path class=\"point\" transform=\"translate(349.03,380.55)\" d=\"M3,0A3,3 0 1,1 0,-3A3,3 0 0,1 3,0Z\" style=\"opacity: 1; stroke-width: 0px; fill: rgb(99, 110, 250); fill-opacity: 1;\"/><path class=\"point\" transform=\"translate(407.23,380.67)\" d=\"M3,0A3,3 0 1,1 0,-3A3,3 0 0,1 3,0Z\" style=\"opacity: 1; stroke-width: 0px; fill: rgb(99, 110, 250); fill-opacity: 1;\"/><path class=\"point\" transform=\"translate(306.64,381.01)\" d=\"M3,0A3,3 0 1,1 0,-3A3,3 0 0,1 3,0Z\" style=\"opacity: 1; stroke-width: 0px; fill: rgb(99, 110, 250); fill-opacity: 1;\"/><path class=\"point\" transform=\"translate(403.73,381.25)\" d=\"M3,0A3,3 0 1,1 0,-3A3,3 0 0,1 3,0Z\" style=\"opacity: 1; stroke-width: 0px; fill: rgb(99, 110, 250); fill-opacity: 1;\"/><path class=\"point\" transform=\"translate(367.11,381.49)\" d=\"M3,0A3,3 0 1,1 0,-3A3,3 0 0,1 3,0Z\" style=\"opacity: 1; stroke-width: 0px; fill: rgb(99, 110, 250); fill-opacity: 1;\"/><path class=\"point\" transform=\"translate(217.44,381.51)\" d=\"M3,0A3,3 0 1,1 0,-3A3,3 0 0,1 3,0Z\" style=\"opacity: 1; stroke-width: 0px; fill: rgb(99, 110, 250); fill-opacity: 1;\"/><path class=\"point\" transform=\"translate(294.18,381.7)\" d=\"M3,0A3,3 0 1,1 0,-3A3,3 0 0,1 3,0Z\" style=\"opacity: 1; stroke-width: 0px; fill: rgb(99, 110, 250); fill-opacity: 1;\"/><path class=\"point\" transform=\"translate(273.36,381.85)\" d=\"M3,0A3,3 0 1,1 0,-3A3,3 0 0,1 3,0Z\" style=\"opacity: 1; stroke-width: 0px; fill: rgb(99, 110, 250); fill-opacity: 1;\"/><path class=\"point\" transform=\"translate(336.57,381.93)\" d=\"M3,0A3,3 0 1,1 0,-3A3,3 0 0,1 3,0Z\" style=\"opacity: 1; stroke-width: 0px; fill: rgb(99, 110, 250); fill-opacity: 1;\"/><path class=\"point\" transform=\"translate(300.71,382.21)\" d=\"M3,0A3,3 0 1,1 0,-3A3,3 0 0,1 3,0Z\" style=\"opacity: 1; stroke-width: 0px; fill: rgb(99, 110, 250); fill-opacity: 1;\"/><path class=\"point\" transform=\"translate(351.31,382.3)\" d=\"M3,0A3,3 0 1,1 0,-3A3,3 0 0,1 3,0Z\" style=\"opacity: 1; stroke-width: 0px; fill: rgb(99, 110, 250); fill-opacity: 1;\"/><path class=\"point\" transform=\"translate(183.56,382.36)\" d=\"M3,0A3,3 0 1,1 0,-3A3,3 0 0,1 3,0Z\" style=\"opacity: 1; stroke-width: 0px; fill: rgb(99, 110, 250); fill-opacity: 1;\"/><path class=\"point\" transform=\"translate(312.11,383.45)\" d=\"M3,0A3,3 0 1,1 0,-3A3,3 0 0,1 3,0Z\" style=\"opacity: 1; stroke-width: 0px; fill: rgb(99, 110, 250); fill-opacity: 1;\"/><path class=\"point\" transform=\"translate(254.82,383.47)\" d=\"M3,0A3,3 0 1,1 0,-3A3,3 0 0,1 3,0Z\" style=\"opacity: 1; stroke-width: 0px; fill: rgb(99, 110, 250); fill-opacity: 1;\"/><path class=\"point\" transform=\"translate(311.8,383.58)\" d=\"M3,0A3,3 0 1,1 0,-3A3,3 0 0,1 3,0Z\" style=\"opacity: 1; stroke-width: 0px; fill: rgb(99, 110, 250); fill-opacity: 1;\"/><path class=\"point\" transform=\"translate(185.68,383.76)\" d=\"M3,0A3,3 0 1,1 0,-3A3,3 0 0,1 3,0Z\" style=\"opacity: 1; stroke-width: 0px; fill: rgb(99, 110, 250); fill-opacity: 1;\"/><path class=\"point\" transform=\"translate(241.6,383.81)\" d=\"M3,0A3,3 0 1,1 0,-3A3,3 0 0,1 3,0Z\" style=\"opacity: 1; stroke-width: 0px; fill: rgb(99, 110, 250); fill-opacity: 1;\"/><path class=\"point\" transform=\"translate(138.12,383.89)\" d=\"M3,0A3,3 0 1,1 0,-3A3,3 0 0,1 3,0Z\" style=\"opacity: 1; stroke-width: 0px; fill: rgb(99, 110, 250); fill-opacity: 1;\"/><path class=\"point\" transform=\"translate(267.59,384.14)\" d=\"M3,0A3,3 0 1,1 0,-3A3,3 0 0,1 3,0Z\" style=\"opacity: 1; stroke-width: 0px; fill: rgb(99, 110, 250); fill-opacity: 1;\"/><path class=\"point\" transform=\"translate(340.83,384.25)\" d=\"M3,0A3,3 0 1,1 0,-3A3,3 0 0,1 3,0Z\" style=\"opacity: 1; stroke-width: 0px; fill: rgb(99, 110, 250); fill-opacity: 1;\"/><path class=\"point\" transform=\"translate(233.25,384.49)\" d=\"M3,0A3,3 0 1,1 0,-3A3,3 0 0,1 3,0Z\" style=\"opacity: 1; stroke-width: 0px; fill: rgb(99, 110, 250); fill-opacity: 1;\"/><path class=\"point\" transform=\"translate(136.91,384.7)\" d=\"M3,0A3,3 0 1,1 0,-3A3,3 0 0,1 3,0Z\" style=\"opacity: 1; stroke-width: 0px; fill: rgb(99, 110, 250); fill-opacity: 1;\"/><path class=\"point\" transform=\"translate(357.69,384.77)\" d=\"M3,0A3,3 0 1,1 0,-3A3,3 0 0,1 3,0Z\" style=\"opacity: 1; stroke-width: 0px; fill: rgb(99, 110, 250); fill-opacity: 1;\"/><path class=\"point\" transform=\"translate(403.43,384.94)\" d=\"M3,0A3,3 0 1,1 0,-3A3,3 0 0,1 3,0Z\" style=\"opacity: 1; stroke-width: 0px; fill: rgb(99, 110, 250); fill-opacity: 1;\"/><path class=\"point\" transform=\"translate(265.46,385.01)\" d=\"M3,0A3,3 0 1,1 0,-3A3,3 0 0,1 3,0Z\" style=\"opacity: 1; stroke-width: 0px; fill: rgb(99, 110, 250); fill-opacity: 1;\"/><path class=\"point\" transform=\"translate(211.82,385.2)\" d=\"M3,0A3,3 0 1,1 0,-3A3,3 0 0,1 3,0Z\" style=\"opacity: 1; stroke-width: 0px; fill: rgb(99, 110, 250); fill-opacity: 1;\"/><path class=\"point\" transform=\"translate(373.04,385.29)\" d=\"M3,0A3,3 0 1,1 0,-3A3,3 0 0,1 3,0Z\" style=\"opacity: 1; stroke-width: 0px; fill: rgb(99, 110, 250); fill-opacity: 1;\"/><path class=\"point\" transform=\"translate(402.06,385.64)\" d=\"M3,0A3,3 0 1,1 0,-3A3,3 0 0,1 3,0Z\" style=\"opacity: 1; stroke-width: 0px; fill: rgb(99, 110, 250); fill-opacity: 1;\"/><path class=\"point\" transform=\"translate(462.54,385.84)\" d=\"M3,0A3,3 0 1,1 0,-3A3,3 0 0,1 3,0Z\" style=\"opacity: 1; stroke-width: 0px; fill: rgb(99, 110, 250); fill-opacity: 1;\"/><path class=\"point\" transform=\"translate(375.32,386.07)\" d=\"M3,0A3,3 0 1,1 0,-3A3,3 0 0,1 3,0Z\" style=\"opacity: 1; stroke-width: 0px; fill: rgb(99, 110, 250); fill-opacity: 1;\"/><path class=\"point\" transform=\"translate(135.84,386.15)\" d=\"M3,0A3,3 0 1,1 0,-3A3,3 0 0,1 3,0Z\" style=\"opacity: 1; stroke-width: 0px; fill: rgb(99, 110, 250); fill-opacity: 1;\"/><path class=\"point\" transform=\"translate(390.51,386.33)\" d=\"M3,0A3,3 0 1,1 0,-3A3,3 0 0,1 3,0Z\" style=\"opacity: 1; stroke-width: 0px; fill: rgb(99, 110, 250); fill-opacity: 1;\"/><path class=\"point\" transform=\"translate(442.94,386.4)\" d=\"M3,0A3,3 0 1,1 0,-3A3,3 0 0,1 3,0Z\" style=\"opacity: 1; stroke-width: 0px; fill: rgb(99, 110, 250); fill-opacity: 1;\"/><path class=\"point\" transform=\"translate(299.8,386.46)\" d=\"M3,0A3,3 0 1,1 0,-3A3,3 0 0,1 3,0Z\" style=\"opacity: 1; stroke-width: 0px; fill: rgb(99, 110, 250); fill-opacity: 1;\"/><path class=\"point\" transform=\"translate(387.02,386.49)\" d=\"M3,0A3,3 0 1,1 0,-3A3,3 0 0,1 3,0Z\" style=\"opacity: 1; stroke-width: 0px; fill: rgb(99, 110, 250); fill-opacity: 1;\"/><path class=\"point\" transform=\"translate(391.27,386.72)\" d=\"M3,0A3,3 0 1,1 0,-3A3,3 0 0,1 3,0Z\" style=\"opacity: 1; stroke-width: 0px; fill: rgb(99, 110, 250); fill-opacity: 1;\"/><path class=\"point\" transform=\"translate(335.51,387.51)\" d=\"M3,0A3,3 0 1,1 0,-3A3,3 0 0,1 3,0Z\" style=\"opacity: 1; stroke-width: 0px; fill: rgb(99, 110, 250); fill-opacity: 1;\"/><path class=\"point\" transform=\"translate(361.19,387.6)\" d=\"M3,0A3,3 0 1,1 0,-3A3,3 0 0,1 3,0Z\" style=\"opacity: 1; stroke-width: 0px; fill: rgb(99, 110, 250); fill-opacity: 1;\"/><path class=\"point\" transform=\"translate(304.81,387.74)\" d=\"M3,0A3,3 0 1,1 0,-3A3,3 0 0,1 3,0Z\" style=\"opacity: 1; stroke-width: 0px; fill: rgb(99, 110, 250); fill-opacity: 1;\"/><path class=\"point\" transform=\"translate(291.9,387.95)\" d=\"M3,0A3,3 0 1,1 0,-3A3,3 0 0,1 3,0Z\" style=\"opacity: 1; stroke-width: 0px; fill: rgb(99, 110, 250); fill-opacity: 1;\"/><path class=\"point\" transform=\"translate(466.79,387.98)\" d=\"M3,0A3,3 0 1,1 0,-3A3,3 0 0,1 3,0Z\" style=\"opacity: 1; stroke-width: 0px; fill: rgb(99, 110, 250); fill-opacity: 1;\"/><path class=\"point\" transform=\"translate(270.32,388.08)\" d=\"M3,0A3,3 0 1,1 0,-3A3,3 0 0,1 3,0Z\" style=\"opacity: 1; stroke-width: 0px; fill: rgb(99, 110, 250); fill-opacity: 1;\"/><path class=\"point\" transform=\"translate(417.41,388.1)\" d=\"M3,0A3,3 0 1,1 0,-3A3,3 0 0,1 3,0Z\" style=\"opacity: 1; stroke-width: 0px; fill: rgb(99, 110, 250); fill-opacity: 1;\"/><path class=\"point\" transform=\"translate(483.05,388.13)\" d=\"M3,0A3,3 0 1,1 0,-3A3,3 0 0,1 3,0Z\" style=\"opacity: 1; stroke-width: 0px; fill: rgb(99, 110, 250); fill-opacity: 1;\"/><path class=\"point\" transform=\"translate(225.34,388.14)\" d=\"M3,0A3,3 0 1,1 0,-3A3,3 0 0,1 3,0Z\" style=\"opacity: 1; stroke-width: 0px; fill: rgb(99, 110, 250); fill-opacity: 1;\"/><path class=\"point\" transform=\"translate(326.09,388.25)\" d=\"M3,0A3,3 0 1,1 0,-3A3,3 0 0,1 3,0Z\" style=\"opacity: 1; stroke-width: 0px; fill: rgb(99, 110, 250); fill-opacity: 1;\"/><path class=\"point\" transform=\"translate(261.66,388.34)\" d=\"M3,0A3,3 0 1,1 0,-3A3,3 0 0,1 3,0Z\" style=\"opacity: 1; stroke-width: 0px; fill: rgb(99, 110, 250); fill-opacity: 1;\"/><path class=\"point\" transform=\"translate(495.51,388.36)\" d=\"M3,0A3,3 0 1,1 0,-3A3,3 0 0,1 3,0Z\" style=\"opacity: 1; stroke-width: 0px; fill: rgb(99, 110, 250); fill-opacity: 1;\"/><path class=\"point\" transform=\"translate(413.16,388.44)\" d=\"M3,0A3,3 0 1,1 0,-3A3,3 0 0,1 3,0Z\" style=\"opacity: 1; stroke-width: 0px; fill: rgb(99, 110, 250); fill-opacity: 1;\"/><path class=\"point\" transform=\"translate(180.06,389.05)\" d=\"M3,0A3,3 0 1,1 0,-3A3,3 0 0,1 3,0Z\" style=\"opacity: 1; stroke-width: 0px; fill: rgb(99, 110, 250); fill-opacity: 1;\"/><path class=\"point\" transform=\"translate(335.81,389.15)\" d=\"M3,0A3,3 0 1,1 0,-3A3,3 0 0,1 3,0Z\" style=\"opacity: 1; stroke-width: 0px; fill: rgb(99, 110, 250); fill-opacity: 1;\"/><path class=\"point\" transform=\"translate(323.66,389.21)\" d=\"M3,0A3,3 0 1,1 0,-3A3,3 0 0,1 3,0Z\" style=\"opacity: 1; stroke-width: 0px; fill: rgb(99, 110, 250); fill-opacity: 1;\"/><path class=\"point\" transform=\"translate(295.09,389.36)\" d=\"M3,0A3,3 0 1,1 0,-3A3,3 0 0,1 3,0Z\" style=\"opacity: 1; stroke-width: 0px; fill: rgb(99, 110, 250); fill-opacity: 1;\"/><path class=\"point\" transform=\"translate(356.33,389.47)\" d=\"M3,0A3,3 0 1,1 0,-3A3,3 0 0,1 3,0Z\" style=\"opacity: 1; stroke-width: 0px; fill: rgb(99, 110, 250); fill-opacity: 1;\"/><path class=\"point\" transform=\"translate(358.91,389.9)\" d=\"M3,0A3,3 0 1,1 0,-3A3,3 0 0,1 3,0Z\" style=\"opacity: 1; stroke-width: 0px; fill: rgb(99, 110, 250); fill-opacity: 1;\"/><path class=\"point\" transform=\"translate(187.81,389.94)\" d=\"M3,0A3,3 0 1,1 0,-3A3,3 0 0,1 3,0Z\" style=\"opacity: 1; stroke-width: 0px; fill: rgb(99, 110, 250); fill-opacity: 1;\"/><path class=\"point\" transform=\"translate(320.92,390)\" d=\"M3,0A3,3 0 1,1 0,-3A3,3 0 0,1 3,0Z\" style=\"opacity: 1; stroke-width: 0px; fill: rgb(99, 110, 250); fill-opacity: 1;\"/><path class=\"point\" transform=\"translate(470.59,390.1)\" d=\"M3,0A3,3 0 1,1 0,-3A3,3 0 0,1 3,0Z\" style=\"opacity: 1; stroke-width: 0px; fill: rgb(99, 110, 250); fill-opacity: 1;\"/><path class=\"point\" transform=\"translate(358.45,390.25)\" d=\"M3,0A3,3 0 1,1 0,-3A3,3 0 0,1 3,0Z\" style=\"opacity: 1; stroke-width: 0px; fill: rgb(99, 110, 250); fill-opacity: 1;\"/><path class=\"point\" transform=\"translate(408.75,390.34)\" d=\"M3,0A3,3 0 1,1 0,-3A3,3 0 0,1 3,0Z\" style=\"opacity: 1; stroke-width: 0px; fill: rgb(99, 110, 250); fill-opacity: 1;\"/><path class=\"point\" transform=\"translate(123.38,390.42)\" d=\"M3,0A3,3 0 1,1 0,-3A3,3 0 0,1 3,0Z\" style=\"opacity: 1; stroke-width: 0px; fill: rgb(99, 110, 250); fill-opacity: 1;\"/><path class=\"point\" transform=\"translate(466.34,390.44)\" d=\"M3,0A3,3 0 1,1 0,-3A3,3 0 0,1 3,0Z\" style=\"opacity: 1; stroke-width: 0px; fill: rgb(99, 110, 250); fill-opacity: 1;\"/><path class=\"point\" transform=\"translate(448.26,390.45)\" d=\"M3,0A3,3 0 1,1 0,-3A3,3 0 0,1 3,0Z\" style=\"opacity: 1; stroke-width: 0px; fill: rgb(99, 110, 250); fill-opacity: 1;\"/><path class=\"point\" transform=\"translate(452.21,390.45)\" d=\"M3,0A3,3 0 1,1 0,-3A3,3 0 0,1 3,0Z\" style=\"opacity: 1; stroke-width: 0px; fill: rgb(99, 110, 250); fill-opacity: 1;\"/><path class=\"point\" transform=\"translate(180.67,390.47)\" d=\"M3,0A3,3 0 1,1 0,-3A3,3 0 0,1 3,0Z\" style=\"opacity: 1; stroke-width: 0px; fill: rgb(99, 110, 250); fill-opacity: 1;\"/><path class=\"point\" transform=\"translate(148.61,390.53)\" d=\"M3,0A3,3 0 1,1 0,-3A3,3 0 0,1 3,0Z\" style=\"opacity: 1; stroke-width: 0px; fill: rgb(99, 110, 250); fill-opacity: 1;\"/><path class=\"point\" transform=\"translate(368.48,390.64)\" d=\"M3,0A3,3 0 1,1 0,-3A3,3 0 0,1 3,0Z\" style=\"opacity: 1; stroke-width: 0px; fill: rgb(99, 110, 250); fill-opacity: 1;\"/><path class=\"point\" transform=\"translate(333.53,390.76)\" d=\"M3,0A3,3 0 1,1 0,-3A3,3 0 0,1 3,0Z\" style=\"opacity: 1; stroke-width: 0px; fill: rgb(99, 110, 250); fill-opacity: 1;\"/><path class=\"point\" transform=\"translate(415.74,390.86)\" d=\"M3,0A3,3 0 1,1 0,-3A3,3 0 0,1 3,0Z\" style=\"opacity: 1; stroke-width: 0px; fill: rgb(99, 110, 250); fill-opacity: 1;\"/><path class=\"point\" transform=\"translate(398.42,391.02)\" d=\"M3,0A3,3 0 1,1 0,-3A3,3 0 0,1 3,0Z\" style=\"opacity: 1; stroke-width: 0px; fill: rgb(99, 110, 250); fill-opacity: 1;\"/><path class=\"point\" transform=\"translate(262.27,391.17)\" d=\"M3,0A3,3 0 1,1 0,-3A3,3 0 0,1 3,0Z\" style=\"opacity: 1; stroke-width: 0px; fill: rgb(99, 110, 250); fill-opacity: 1;\"/><path class=\"point\" transform=\"translate(388.08,391.24)\" d=\"M3,0A3,3 0 1,1 0,-3A3,3 0 0,1 3,0Z\" style=\"opacity: 1; stroke-width: 0px; fill: rgb(99, 110, 250); fill-opacity: 1;\"/><path class=\"point\" transform=\"translate(169.58,391.31)\" d=\"M3,0A3,3 0 1,1 0,-3A3,3 0 0,1 3,0Z\" style=\"opacity: 1; stroke-width: 0px; fill: rgb(99, 110, 250); fill-opacity: 1;\"/><path class=\"point\" transform=\"translate(375.78,391.43)\" d=\"M3,0A3,3 0 1,1 0,-3A3,3 0 0,1 3,0Z\" style=\"opacity: 1; stroke-width: 0px; fill: rgb(99, 110, 250); fill-opacity: 1;\"/><path class=\"point\" transform=\"translate(395.38,391.47)\" d=\"M3,0A3,3 0 1,1 0,-3A3,3 0 0,1 3,0Z\" style=\"opacity: 1; stroke-width: 0px; fill: rgb(99, 110, 250); fill-opacity: 1;\"/><path class=\"point\" transform=\"translate(184.47,392.28)\" d=\"M3,0A3,3 0 1,1 0,-3A3,3 0 0,1 3,0Z\" style=\"opacity: 1; stroke-width: 0px; fill: rgb(99, 110, 250); fill-opacity: 1;\"/><path class=\"point\" transform=\"translate(273.36,392.37)\" d=\"M3,0A3,3 0 1,1 0,-3A3,3 0 0,1 3,0Z\" style=\"opacity: 1; stroke-width: 0px; fill: rgb(99, 110, 250); fill-opacity: 1;\"/><path class=\"point\" transform=\"translate(291.59,393.26)\" d=\"M3,0A3,3 0 1,1 0,-3A3,3 0 0,1 3,0Z\" style=\"opacity: 1; stroke-width: 0px; fill: rgb(99, 110, 250); fill-opacity: 1;\"/><path class=\"point\" transform=\"translate(300.41,393.29)\" d=\"M3,0A3,3 0 1,1 0,-3A3,3 0 0,1 3,0Z\" style=\"opacity: 1; stroke-width: 0px; fill: rgb(99, 110, 250); fill-opacity: 1;\"/><path class=\"point\" transform=\"translate(271.69,393.45)\" d=\"M3,0A3,3 0 1,1 0,-3A3,3 0 0,1 3,0Z\" style=\"opacity: 1; stroke-width: 0px; fill: rgb(99, 110, 250); fill-opacity: 1;\"/><path class=\"point\" transform=\"translate(343.26,393.79)\" d=\"M3,0A3,3 0 1,1 0,-3A3,3 0 0,1 3,0Z\" style=\"opacity: 1; stroke-width: 0px; fill: rgb(99, 110, 250); fill-opacity: 1;\"/><path class=\"point\" transform=\"translate(257.1,393.8)\" d=\"M3,0A3,3 0 1,1 0,-3A3,3 0 0,1 3,0Z\" style=\"opacity: 1; stroke-width: 0px; fill: rgb(99, 110, 250); fill-opacity: 1;\"/><path class=\"point\" transform=\"translate(366.35,393.81)\" d=\"M3,0A3,3 0 1,1 0,-3A3,3 0 0,1 3,0Z\" style=\"opacity: 1; stroke-width: 0px; fill: rgb(99, 110, 250); fill-opacity: 1;\"/><path class=\"point\" transform=\"translate(393.86,393.89)\" d=\"M3,0A3,3 0 1,1 0,-3A3,3 0 0,1 3,0Z\" style=\"opacity: 1; stroke-width: 0px; fill: rgb(99, 110, 250); fill-opacity: 1;\"/><path class=\"point\" transform=\"translate(331.86,394.12)\" d=\"M3,0A3,3 0 1,1 0,-3A3,3 0 0,1 3,0Z\" style=\"opacity: 1; stroke-width: 0px; fill: rgb(99, 110, 250); fill-opacity: 1;\"/><path class=\"point\" transform=\"translate(214.71,394.18)\" d=\"M3,0A3,3 0 1,1 0,-3A3,3 0 0,1 3,0Z\" style=\"opacity: 1; stroke-width: 0px; fill: rgb(99, 110, 250); fill-opacity: 1;\"/><path class=\"point\" transform=\"translate(383.83,394.19)\" d=\"M3,0A3,3 0 1,1 0,-3A3,3 0 0,1 3,0Z\" style=\"opacity: 1; stroke-width: 0px; fill: rgb(99, 110, 250); fill-opacity: 1;\"/><path class=\"point\" transform=\"translate(347.06,394.33)\" d=\"M3,0A3,3 0 1,1 0,-3A3,3 0 0,1 3,0Z\" style=\"opacity: 1; stroke-width: 0px; fill: rgb(99, 110, 250); fill-opacity: 1;\"/><path class=\"point\" transform=\"translate(378.51,394.62)\" d=\"M3,0A3,3 0 1,1 0,-3A3,3 0 0,1 3,0Z\" style=\"opacity: 1; stroke-width: 0px; fill: rgb(99, 110, 250); fill-opacity: 1;\"/><path class=\"point\" transform=\"translate(110.77,394.65)\" d=\"M3,0A3,3 0 1,1 0,-3A3,3 0 0,1 3,0Z\" style=\"opacity: 1; stroke-width: 0px; fill: rgb(99, 110, 250); fill-opacity: 1;\"/><path class=\"point\" transform=\"translate(323.66,394.89)\" d=\"M3,0A3,3 0 1,1 0,-3A3,3 0 0,1 3,0Z\" style=\"opacity: 1; stroke-width: 0px; fill: rgb(99, 110, 250); fill-opacity: 1;\"/><path class=\"point\" transform=\"translate(443.09,394.94)\" d=\"M3,0A3,3 0 1,1 0,-3A3,3 0 0,1 3,0Z\" style=\"opacity: 1; stroke-width: 0px; fill: rgb(99, 110, 250); fill-opacity: 1;\"/><path class=\"point\" transform=\"translate(372.28,395.05)\" d=\"M3,0A3,3 0 1,1 0,-3A3,3 0 0,1 3,0Z\" style=\"opacity: 1; stroke-width: 0px; fill: rgb(99, 110, 250); fill-opacity: 1;\"/><path class=\"point\" transform=\"translate(415.89,395.05)\" d=\"M3,0A3,3 0 1,1 0,-3A3,3 0 0,1 3,0Z\" style=\"opacity: 1; stroke-width: 0px; fill: rgb(99, 110, 250); fill-opacity: 1;\"/><path class=\"point\" transform=\"translate(422.58,395.08)\" d=\"M3,0A3,3 0 1,1 0,-3A3,3 0 0,1 3,0Z\" style=\"opacity: 1; stroke-width: 0px; fill: rgb(99, 110, 250); fill-opacity: 1;\"/><path class=\"point\" transform=\"translate(343.87,395.34)\" d=\"M3,0A3,3 0 1,1 0,-3A3,3 0 0,1 3,0Z\" style=\"opacity: 1; stroke-width: 0px; fill: rgb(99, 110, 250); fill-opacity: 1;\"/><path class=\"point\" transform=\"translate(431.69,395.63)\" d=\"M3,0A3,3 0 1,1 0,-3A3,3 0 0,1 3,0Z\" style=\"opacity: 1; stroke-width: 0px; fill: rgb(99, 110, 250); fill-opacity: 1;\"/><path class=\"point\" transform=\"translate(335.81,395.65)\" d=\"M3,0A3,3 0 1,1 0,-3A3,3 0 0,1 3,0Z\" style=\"opacity: 1; stroke-width: 0px; fill: rgb(99, 110, 250); fill-opacity: 1;\"/><path class=\"point\" transform=\"translate(320.16,395.77)\" d=\"M3,0A3,3 0 1,1 0,-3A3,3 0 0,1 3,0Z\" style=\"opacity: 1; stroke-width: 0px; fill: rgb(99, 110, 250); fill-opacity: 1;\"/><path class=\"point\" transform=\"translate(340.67,395.8)\" d=\"M3,0A3,3 0 1,1 0,-3A3,3 0 0,1 3,0Z\" style=\"opacity: 1; stroke-width: 0px; fill: rgb(99, 110, 250); fill-opacity: 1;\"/><path class=\"point\" transform=\"translate(353.29,395.84)\" d=\"M3,0A3,3 0 1,1 0,-3A3,3 0 0,1 3,0Z\" style=\"opacity: 1; stroke-width: 0px; fill: rgb(99, 110, 250); fill-opacity: 1;\"/><path class=\"point\" transform=\"translate(504.93,396.23)\" d=\"M3,0A3,3 0 1,1 0,-3A3,3 0 0,1 3,0Z\" style=\"opacity: 1; stroke-width: 0px; fill: rgb(99, 110, 250); fill-opacity: 1;\"/><path class=\"point\" transform=\"translate(303.75,396.37)\" d=\"M3,0A3,3 0 1,1 0,-3A3,3 0 0,1 3,0Z\" style=\"opacity: 1; stroke-width: 0px; fill: rgb(99, 110, 250); fill-opacity: 1;\"/><path class=\"point\" transform=\"translate(509.95,396.76)\" d=\"M3,0A3,3 0 1,1 0,-3A3,3 0 0,1 3,0Z\" style=\"opacity: 1; stroke-width: 0px; fill: rgb(99, 110, 250); fill-opacity: 1;\"/><path class=\"point\" transform=\"translate(370.61,396.92)\" d=\"M3,0A3,3 0 1,1 0,-3A3,3 0 0,1 3,0Z\" style=\"opacity: 1; stroke-width: 0px; fill: rgb(99, 110, 250); fill-opacity: 1;\"/><path class=\"point\" transform=\"translate(499.01,396.93)\" d=\"M3,0A3,3 0 1,1 0,-3A3,3 0 0,1 3,0Z\" style=\"opacity: 1; stroke-width: 0px; fill: rgb(99, 110, 250); fill-opacity: 1;\"/><path class=\"point\" transform=\"translate(453.12,396.98)\" d=\"M3,0A3,3 0 1,1 0,-3A3,3 0 0,1 3,0Z\" style=\"opacity: 1; stroke-width: 0px; fill: rgb(99, 110, 250); fill-opacity: 1;\"/><path class=\"point\" transform=\"translate(372.89,397.13)\" d=\"M3,0A3,3 0 1,1 0,-3A3,3 0 0,1 3,0Z\" style=\"opacity: 1; stroke-width: 0px; fill: rgb(99, 110, 250); fill-opacity: 1;\"/><path class=\"point\" transform=\"translate(334.14,397.32)\" d=\"M3,0A3,3 0 1,1 0,-3A3,3 0 0,1 3,0Z\" style=\"opacity: 1; stroke-width: 0px; fill: rgb(99, 110, 250); fill-opacity: 1;\"/><path class=\"point\" transform=\"translate(314.99,397.45)\" d=\"M3,0A3,3 0 1,1 0,-3A3,3 0 0,1 3,0Z\" style=\"opacity: 1; stroke-width: 0px; fill: rgb(99, 110, 250); fill-opacity: 1;\"/><path class=\"point\" transform=\"translate(428.2,397.69)\" d=\"M3,0A3,3 0 1,1 0,-3A3,3 0 0,1 3,0Z\" style=\"opacity: 1; stroke-width: 0px; fill: rgb(99, 110, 250); fill-opacity: 1;\"/><path class=\"point\" transform=\"translate(386.11,397.72)\" d=\"M3,0A3,3 0 1,1 0,-3A3,3 0 0,1 3,0Z\" style=\"opacity: 1; stroke-width: 0px; fill: rgb(99, 110, 250); fill-opacity: 1;\"/><path class=\"point\" transform=\"translate(407.53,397.73)\" d=\"M3,0A3,3 0 1,1 0,-3A3,3 0 0,1 3,0Z\" style=\"opacity: 1; stroke-width: 0px; fill: rgb(99, 110, 250); fill-opacity: 1;\"/><path class=\"point\" transform=\"translate(347.66,397.8)\" d=\"M3,0A3,3 0 1,1 0,-3A3,3 0 0,1 3,0Z\" style=\"opacity: 1; stroke-width: 0px; fill: rgb(99, 110, 250); fill-opacity: 1;\"/><path class=\"point\" transform=\"translate(239.32,398.01)\" d=\"M3,0A3,3 0 1,1 0,-3A3,3 0 0,1 3,0Z\" style=\"opacity: 1; stroke-width: 0px; fill: rgb(99, 110, 250); fill-opacity: 1;\"/><path class=\"point\" transform=\"translate(460.26,398.06)\" d=\"M3,0A3,3 0 1,1 0,-3A3,3 0 0,1 3,0Z\" style=\"opacity: 1; stroke-width: 0px; fill: rgb(99, 110, 250); fill-opacity: 1;\"/><path class=\"point\" transform=\"translate(386.56,398.09)\" d=\"M3,0A3,3 0 1,1 0,-3A3,3 0 0,1 3,0Z\" style=\"opacity: 1; stroke-width: 0px; fill: rgb(99, 110, 250); fill-opacity: 1;\"/><path class=\"point\" transform=\"translate(464.36,398.22)\" d=\"M3,0A3,3 0 1,1 0,-3A3,3 0 0,1 3,0Z\" style=\"opacity: 1; stroke-width: 0px; fill: rgb(99, 110, 250); fill-opacity: 1;\"/><path class=\"point\" transform=\"translate(319.4,398.23)\" d=\"M3,0A3,3 0 1,1 0,-3A3,3 0 0,1 3,0Z\" style=\"opacity: 1; stroke-width: 0px; fill: rgb(99, 110, 250); fill-opacity: 1;\"/><path class=\"point\" transform=\"translate(568.6,398.26)\" d=\"M3,0A3,3 0 1,1 0,-3A3,3 0 0,1 3,0Z\" style=\"opacity: 1; stroke-width: 0px; fill: rgb(99, 110, 250); fill-opacity: 1;\"/><path class=\"point\" transform=\"translate(411.79,398.8)\" d=\"M3,0A3,3 0 1,1 0,-3A3,3 0 0,1 3,0Z\" style=\"opacity: 1; stroke-width: 0px; fill: rgb(99, 110, 250); fill-opacity: 1;\"/><path class=\"point\" transform=\"translate(359.06,398.91)\" d=\"M3,0A3,3 0 1,1 0,-3A3,3 0 0,1 3,0Z\" style=\"opacity: 1; stroke-width: 0px; fill: rgb(99, 110, 250); fill-opacity: 1;\"/><path class=\"point\" transform=\"translate(327.61,398.94)\" d=\"M3,0A3,3 0 1,1 0,-3A3,3 0 0,1 3,0Z\" style=\"opacity: 1; stroke-width: 0px; fill: rgb(99, 110, 250); fill-opacity: 1;\"/><path class=\"point\" transform=\"translate(478.8,399.01)\" d=\"M3,0A3,3 0 1,1 0,-3A3,3 0 0,1 3,0Z\" style=\"opacity: 1; stroke-width: 0px; fill: rgb(99, 110, 250); fill-opacity: 1;\"/><path class=\"point\" transform=\"translate(510.1,399.02)\" d=\"M3,0A3,3 0 1,1 0,-3A3,3 0 0,1 3,0Z\" style=\"opacity: 1; stroke-width: 0px; fill: rgb(99, 110, 250); fill-opacity: 1;\"/><path class=\"point\" transform=\"translate(267.43,399.05)\" d=\"M3,0A3,3 0 1,1 0,-3A3,3 0 0,1 3,0Z\" style=\"opacity: 1; stroke-width: 0px; fill: rgb(99, 110, 250); fill-opacity: 1;\"/><path class=\"point\" transform=\"translate(520.89,399.09)\" d=\"M3,0A3,3 0 1,1 0,-3A3,3 0 0,1 3,0Z\" style=\"opacity: 1; stroke-width: 0px; fill: rgb(99, 110, 250); fill-opacity: 1;\"/><path class=\"point\" transform=\"translate(346.9,399.14)\" d=\"M3,0A3,3 0 1,1 0,-3A3,3 0 0,1 3,0Z\" style=\"opacity: 1; stroke-width: 0px; fill: rgb(99, 110, 250); fill-opacity: 1;\"/><path class=\"point\" transform=\"translate(297.37,399.31)\" d=\"M3,0A3,3 0 1,1 0,-3A3,3 0 0,1 3,0Z\" style=\"opacity: 1; stroke-width: 0px; fill: rgb(99, 110, 250); fill-opacity: 1;\"/><path class=\"point\" transform=\"translate(382.46,399.47)\" d=\"M3,0A3,3 0 1,1 0,-3A3,3 0 0,1 3,0Z\" style=\"opacity: 1; stroke-width: 0px; fill: rgb(99, 110, 250); fill-opacity: 1;\"/><path class=\"point\" transform=\"translate(428.35,399.48)\" d=\"M3,0A3,3 0 1,1 0,-3A3,3 0 0,1 3,0Z\" style=\"opacity: 1; stroke-width: 0px; fill: rgb(99, 110, 250); fill-opacity: 1;\"/><path class=\"point\" transform=\"translate(365.29,399.51)\" d=\"M3,0A3,3 0 1,1 0,-3A3,3 0 0,1 3,0Z\" style=\"opacity: 1; stroke-width: 0px; fill: rgb(99, 110, 250); fill-opacity: 1;\"/><path class=\"point\" transform=\"translate(442.79,399.59)\" d=\"M3,0A3,3 0 1,1 0,-3A3,3 0 0,1 3,0Z\" style=\"opacity: 1; stroke-width: 0px; fill: rgb(99, 110, 250); fill-opacity: 1;\"/><path class=\"point\" transform=\"translate(451.9,399.63)\" d=\"M3,0A3,3 0 1,1 0,-3A3,3 0 0,1 3,0Z\" style=\"opacity: 1; stroke-width: 0px; fill: rgb(99, 110, 250); fill-opacity: 1;\"/><path class=\"point\" transform=\"translate(302.84,400.06)\" d=\"M3,0A3,3 0 1,1 0,-3A3,3 0 0,1 3,0Z\" style=\"opacity: 1; stroke-width: 0px; fill: rgb(99, 110, 250); fill-opacity: 1;\"/><path class=\"point\" transform=\"translate(404.34,400.08)\" d=\"M3,0A3,3 0 1,1 0,-3A3,3 0 0,1 3,0Z\" style=\"opacity: 1; stroke-width: 0px; fill: rgb(99, 110, 250); fill-opacity: 1;\"/><path class=\"point\" transform=\"translate(368.48,400.31)\" d=\"M3,0A3,3 0 1,1 0,-3A3,3 0 0,1 3,0Z\" style=\"opacity: 1; stroke-width: 0px; fill: rgb(99, 110, 250); fill-opacity: 1;\"/><path class=\"point\" transform=\"translate(321.53,400.63)\" d=\"M3,0A3,3 0 1,1 0,-3A3,3 0 0,1 3,0Z\" style=\"opacity: 1; stroke-width: 0px; fill: rgb(99, 110, 250); fill-opacity: 1;\"/><path class=\"point\" transform=\"translate(391.27,400.63)\" d=\"M3,0A3,3 0 1,1 0,-3A3,3 0 0,1 3,0Z\" style=\"opacity: 1; stroke-width: 0px; fill: rgb(99, 110, 250); fill-opacity: 1;\"/><path class=\"point\" transform=\"translate(149.37,400.69)\" d=\"M3,0A3,3 0 1,1 0,-3A3,3 0 0,1 3,0Z\" style=\"opacity: 1; stroke-width: 0px; fill: rgb(99, 110, 250); fill-opacity: 1;\"/><path class=\"point\" transform=\"translate(419.54,400.82)\" d=\"M3,0A3,3 0 1,1 0,-3A3,3 0 0,1 3,0Z\" style=\"opacity: 1; stroke-width: 0px; fill: rgb(99, 110, 250); fill-opacity: 1;\"/><path class=\"point\" transform=\"translate(376.84,400.92)\" d=\"M3,0A3,3 0 1,1 0,-3A3,3 0 0,1 3,0Z\" style=\"opacity: 1; stroke-width: 0px; fill: rgb(99, 110, 250); fill-opacity: 1;\"/><path class=\"point\" transform=\"translate(322.14,401)\" d=\"M3,0A3,3 0 1,1 0,-3A3,3 0 0,1 3,0Z\" style=\"opacity: 1; stroke-width: 0px; fill: rgb(99, 110, 250); fill-opacity: 1;\"/><path class=\"point\" transform=\"translate(212.58,401.03)\" d=\"M3,0A3,3 0 1,1 0,-3A3,3 0 0,1 3,0Z\" style=\"opacity: 1; stroke-width: 0px; fill: rgb(99, 110, 250); fill-opacity: 1;\"/><path class=\"point\" transform=\"translate(473.94,401.16)\" d=\"M3,0A3,3 0 1,1 0,-3A3,3 0 0,1 3,0Z\" style=\"opacity: 1; stroke-width: 0px; fill: rgb(99, 110, 250); fill-opacity: 1;\"/><path class=\"point\" transform=\"translate(299.04,401.19)\" d=\"M3,0A3,3 0 1,1 0,-3A3,3 0 0,1 3,0Z\" style=\"opacity: 1; stroke-width: 0px; fill: rgb(99, 110, 250); fill-opacity: 1;\"/><path class=\"point\" transform=\"translate(304.21,401.35)\" d=\"M3,0A3,3 0 1,1 0,-3A3,3 0 0,1 3,0Z\" style=\"opacity: 1; stroke-width: 0px; fill: rgb(99, 110, 250); fill-opacity: 1;\"/><path class=\"point\" transform=\"translate(436.4,401.45)\" d=\"M3,0A3,3 0 1,1 0,-3A3,3 0 0,1 3,0Z\" style=\"opacity: 1; stroke-width: 0px; fill: rgb(99, 110, 250); fill-opacity: 1;\"/><path class=\"point\" transform=\"translate(375.93,401.81)\" d=\"M3,0A3,3 0 1,1 0,-3A3,3 0 0,1 3,0Z\" style=\"opacity: 1; stroke-width: 0px; fill: rgb(99, 110, 250); fill-opacity: 1;\"/><path class=\"point\" transform=\"translate(373.5,401.99)\" d=\"M3,0A3,3 0 1,1 0,-3A3,3 0 0,1 3,0Z\" style=\"opacity: 1; stroke-width: 0px; fill: rgb(99, 110, 250); fill-opacity: 1;\"/><path class=\"point\" transform=\"translate(327.15,402.17)\" d=\"M3,0A3,3 0 1,1 0,-3A3,3 0 0,1 3,0Z\" style=\"opacity: 1; stroke-width: 0px; fill: rgb(99, 110, 250); fill-opacity: 1;\"/><path class=\"point\" transform=\"translate(347.97,402.25)\" d=\"M3,0A3,3 0 1,1 0,-3A3,3 0 0,1 3,0Z\" style=\"opacity: 1; stroke-width: 0px; fill: rgb(99, 110, 250); fill-opacity: 1;\"/><path class=\"point\" transform=\"translate(301.32,402.47)\" d=\"M3,0A3,3 0 1,1 0,-3A3,3 0 0,1 3,0Z\" style=\"opacity: 1; stroke-width: 0px; fill: rgb(99, 110, 250); fill-opacity: 1;\"/><path class=\"point\" transform=\"translate(348.42,402.81)\" d=\"M3,0A3,3 0 1,1 0,-3A3,3 0 0,1 3,0Z\" style=\"opacity: 1; stroke-width: 0px; fill: rgb(99, 110, 250); fill-opacity: 1;\"/><path class=\"point\" transform=\"translate(256.95,403.09)\" d=\"M3,0A3,3 0 1,1 0,-3A3,3 0 0,1 3,0Z\" style=\"opacity: 1; stroke-width: 0px; fill: rgb(99, 110, 250); fill-opacity: 1;\"/><path class=\"point\" transform=\"translate(291.14,403.09)\" d=\"M3,0A3,3 0 1,1 0,-3A3,3 0 0,1 3,0Z\" style=\"opacity: 1; stroke-width: 0px; fill: rgb(99, 110, 250); fill-opacity: 1;\"/><path class=\"point\" transform=\"translate(358.3,403.49)\" d=\"M3,0A3,3 0 1,1 0,-3A3,3 0 0,1 3,0Z\" style=\"opacity: 1; stroke-width: 0px; fill: rgb(99, 110, 250); fill-opacity: 1;\"/><path class=\"point\" transform=\"translate(545.5,403.66)\" d=\"M3,0A3,3 0 1,1 0,-3A3,3 0 0,1 3,0Z\" style=\"opacity: 1; stroke-width: 0px; fill: rgb(99, 110, 250); fill-opacity: 1;\"/><path class=\"point\" transform=\"translate(461.32,403.78)\" d=\"M3,0A3,3 0 1,1 0,-3A3,3 0 0,1 3,0Z\" style=\"opacity: 1; stroke-width: 0px; fill: rgb(99, 110, 250); fill-opacity: 1;\"/><path class=\"point\" transform=\"translate(365.44,404.16)\" d=\"M3,0A3,3 0 1,1 0,-3A3,3 0 0,1 3,0Z\" style=\"opacity: 1; stroke-width: 0px; fill: rgb(99, 110, 250); fill-opacity: 1;\"/><path class=\"point\" transform=\"translate(260.14,404.31)\" d=\"M3,0A3,3 0 1,1 0,-3A3,3 0 0,1 3,0Z\" style=\"opacity: 1; stroke-width: 0px; fill: rgb(99, 110, 250); fill-opacity: 1;\"/><path class=\"point\" transform=\"translate(382.31,404.33)\" d=\"M3,0A3,3 0 1,1 0,-3A3,3 0 0,1 3,0Z\" style=\"opacity: 1; stroke-width: 0px; fill: rgb(99, 110, 250); fill-opacity: 1;\"/><path class=\"point\" transform=\"translate(419.23,404.33)\" d=\"M3,0A3,3 0 1,1 0,-3A3,3 0 0,1 3,0Z\" style=\"opacity: 1; stroke-width: 0px; fill: rgb(99, 110, 250); fill-opacity: 1;\"/><path class=\"point\" transform=\"translate(446.89,404.4)\" d=\"M3,0A3,3 0 1,1 0,-3A3,3 0 0,1 3,0Z\" style=\"opacity: 1; stroke-width: 0px; fill: rgb(99, 110, 250); fill-opacity: 1;\"/><path class=\"point\" transform=\"translate(427.44,404.48)\" d=\"M3,0A3,3 0 1,1 0,-3A3,3 0 0,1 3,0Z\" style=\"opacity: 1; stroke-width: 0px; fill: rgb(99, 110, 250); fill-opacity: 1;\"/><path class=\"point\" transform=\"translate(380.94,404.73)\" d=\"M3,0A3,3 0 1,1 0,-3A3,3 0 0,1 3,0Z\" style=\"opacity: 1; stroke-width: 0px; fill: rgb(99, 110, 250); fill-opacity: 1;\"/><path class=\"point\" transform=\"translate(421.97,404.95)\" d=\"M3,0A3,3 0 1,1 0,-3A3,3 0 0,1 3,0Z\" style=\"opacity: 1; stroke-width: 0px; fill: rgb(99, 110, 250); fill-opacity: 1;\"/><path class=\"point\" transform=\"translate(559.94,404.96)\" d=\"M3,0A3,3 0 1,1 0,-3A3,3 0 0,1 3,0Z\" style=\"opacity: 1; stroke-width: 0px; fill: rgb(99, 110, 250); fill-opacity: 1;\"/><path class=\"point\" transform=\"translate(424.1,404.99)\" d=\"M3,0A3,3 0 1,1 0,-3A3,3 0 0,1 3,0Z\" style=\"opacity: 1; stroke-width: 0px; fill: rgb(99, 110, 250); fill-opacity: 1;\"/><path class=\"point\" transform=\"translate(342.04,407.59)\" d=\"M3,0A3,3 0 1,1 0,-3A3,3 0 0,1 3,0Z\" style=\"opacity: 1; stroke-width: 0px; fill: rgb(99, 110, 250); fill-opacity: 1;\"/><path class=\"point\" transform=\"translate(350.55,407.59)\" d=\"M3,0A3,3 0 1,1 0,-3A3,3 0 0,1 3,0Z\" style=\"opacity: 1; stroke-width: 0px; fill: rgb(99, 110, 250); fill-opacity: 1;\"/><path class=\"point\" transform=\"translate(214.1,407.59)\" d=\"M3,0A3,3 0 1,1 0,-3A3,3 0 0,1 3,0Z\" style=\"opacity: 1; stroke-width: 0px; fill: rgb(99, 110, 250); fill-opacity: 1;\"/><path class=\"point\" transform=\"translate(180.21,407.59)\" d=\"M3,0A3,3 0 1,1 0,-3A3,3 0 0,1 3,0Z\" style=\"opacity: 1; stroke-width: 0px; fill: rgb(99, 110, 250); fill-opacity: 1;\"/><path class=\"point\" transform=\"translate(502.5,407.59)\" d=\"M3,0A3,3 0 1,1 0,-3A3,3 0 0,1 3,0Z\" style=\"opacity: 1; stroke-width: 0px; fill: rgb(99, 110, 250); fill-opacity: 1;\"/><path class=\"point\" transform=\"translate(426.68,407.59)\" d=\"M3,0A3,3 0 1,1 0,-3A3,3 0 0,1 3,0Z\" style=\"opacity: 1; stroke-width: 0px; fill: rgb(99, 110, 250); fill-opacity: 1;\"/><path class=\"point\" transform=\"translate(463.45,407.59)\" d=\"M3,0A3,3 0 1,1 0,-3A3,3 0 0,1 3,0Z\" style=\"opacity: 1; stroke-width: 0px; fill: rgb(99, 110, 250); fill-opacity: 1;\"/><path class=\"point\" transform=\"translate(454.79,407.59)\" d=\"M3,0A3,3 0 1,1 0,-3A3,3 0 0,1 3,0Z\" style=\"opacity: 1; stroke-width: 0px; fill: rgb(99, 110, 250); fill-opacity: 1;\"/><path class=\"point\" transform=\"translate(479.71,407.59)\" d=\"M3,0A3,3 0 1,1 0,-3A3,3 0 0,1 3,0Z\" style=\"opacity: 1; stroke-width: 0px; fill: rgb(99, 110, 250); fill-opacity: 1;\"/></g><g class=\"text\"><g class=\"textpoint\" transform=\"translate(0,-7.75)\"><text x=\"71.11\" y=\"19.41\" text-anchor=\"middle\" style=\"font-family: 'Open Sans', verdana, arial, sans-serif; font-size: 12px; fill: rgb(42, 63, 95); fill-opacity: 1; white-space: pre;\">178</text></g><g class=\"textpoint\" transform=\"translate(0,-7.75)\"><text x=\"66.55\" y=\"66\" text-anchor=\"middle\" style=\"font-family: 'Open Sans', verdana, arial, sans-serif; font-size: 12px; fill: rgb(42, 63, 95); fill-opacity: 1; white-space: pre;\">220</text></g><g class=\"textpoint\" transform=\"translate(0,-7.75)\"><text x=\"15.2\" y=\"84.05\" text-anchor=\"middle\" style=\"font-family: 'Open Sans', verdana, arial, sans-serif; font-size: 12px; fill: rgb(42, 63, 95); fill-opacity: 1; white-space: pre;\">180</text></g><g class=\"textpoint\" transform=\"translate(0,-7.75)\"><text x=\"210.6\" y=\"119.33\" text-anchor=\"middle\" style=\"font-family: 'Open Sans', verdana, arial, sans-serif; font-size: 12px; fill: rgb(42, 63, 95); fill-opacity: 1; white-space: pre;\">190</text></g><g class=\"textpoint\" transform=\"translate(0,-7.75)\"><text x=\"96.49\" y=\"149.86\" text-anchor=\"middle\" style=\"font-family: 'Open Sans', verdana, arial, sans-serif; font-size: 12px; fill: rgb(42, 63, 95); fill-opacity: 1; white-space: pre;\">265</text></g><g class=\"textpoint\" transform=\"translate(0,-7.75)\"><text x=\"35.4\" y=\"188.27\" text-anchor=\"middle\" style=\"font-family: 'Open Sans', verdana, arial, sans-serif; font-size: 12px; fill: rgb(42, 63, 95); fill-opacity: 1; white-space: pre;\">181</text></g><g class=\"textpoint\" transform=\"translate(0,-7.75)\"><text x=\"115.63\" y=\"192.38\" text-anchor=\"middle\" style=\"font-family: 'Open Sans', verdana, arial, sans-serif; font-size: 12px; fill: rgb(42, 63, 95); fill-opacity: 1; white-space: pre;\">111</text></g><g class=\"textpoint\" transform=\"translate(0,-7.75)\"><text x=\"292.35\" y=\"199.34\" text-anchor=\"middle\" style=\"font-family: 'Open Sans', verdana, arial, sans-serif; font-size: 12px; fill: rgb(42, 63, 95); fill-opacity: 1; white-space: pre;\">192</text></g><g class=\"textpoint\" transform=\"translate(0,-7.75)\"><text x=\"223.22\" y=\"214.63\" text-anchor=\"middle\" style=\"font-family: 'Open Sans', verdana, arial, sans-serif; font-size: 12px; fill: rgb(42, 63, 95); fill-opacity: 1; white-space: pre;\">189</text></g><g class=\"textpoint\" transform=\"translate(0,-7.75)\"><text x=\"60.78\" y=\"216.85\" text-anchor=\"middle\" style=\"font-family: 'Open Sans', verdana, arial, sans-serif; font-size: 12px; fill: rgb(42, 63, 95); fill-opacity: 1; white-space: pre;\">182</text></g><g class=\"textpoint\" transform=\"translate(0,-7.75)\"><text x=\"67.47\" y=\"217.41\" text-anchor=\"middle\" style=\"font-family: 'Open Sans', verdana, arial, sans-serif; font-size: 12px; fill: rgb(42, 63, 95); fill-opacity: 1; white-space: pre;\">114</text></g><g class=\"textpoint\" transform=\"translate(0,-7.75)\"><text x=\"152.26\" y=\"223.4\" text-anchor=\"middle\" style=\"font-family: 'Open Sans', verdana, arial, sans-serif; font-size: 12px; fill: rgb(42, 63, 95); fill-opacity: 1; white-space: pre;\">175</text></g><g class=\"textpoint\" transform=\"translate(0,-7.75)\"><text x=\"196.17\" y=\"231.02\" text-anchor=\"middle\" style=\"font-family: 'Open Sans', verdana, arial, sans-serif; font-size: 12px; fill: rgb(42, 63, 95); fill-opacity: 1; white-space: pre;\">268</text></g><g class=\"textpoint\" transform=\"translate(0,-7.75)\"><text x=\"72.02\" y=\"235.61\" text-anchor=\"middle\" style=\"font-family: 'Open Sans', verdana, arial, sans-serif; font-size: 12px; fill: rgb(42, 63, 95); fill-opacity: 1; white-space: pre;\">119</text></g><g class=\"textpoint\" transform=\"translate(0,-7.75)\"><text x=\"91.63\" y=\"252.61\" text-anchor=\"middle\" style=\"font-family: 'Open Sans', verdana, arial, sans-serif; font-size: 12px; fill: rgb(42, 63, 95); fill-opacity: 1; white-space: pre;\">215</text></g><g class=\"textpoint\" transform=\"translate(0,-7.75)\"><text x=\"200.88\" y=\"259.07\" text-anchor=\"middle\" style=\"font-family: 'Open Sans', verdana, arial, sans-serif; font-size: 12px; fill: rgb(42, 63, 95); fill-opacity: 1; white-space: pre;\">151</text></g><g class=\"textpoint\" transform=\"translate(0,-7.75)\"><text x=\"35.25\" y=\"259.42\" text-anchor=\"middle\" style=\"font-family: 'Open Sans', verdana, arial, sans-serif; font-size: 12px; fill: rgb(42, 63, 95); fill-opacity: 1; white-space: pre;\">179</text></g><g class=\"textpoint\" transform=\"translate(0,-7.75)\"><text x=\"311.5\" y=\"262.82\" text-anchor=\"middle\" style=\"font-family: 'Open Sans', verdana, arial, sans-serif; font-size: 12px; fill: rgb(42, 63, 95); fill-opacity: 1; white-space: pre;\">296</text></g><g class=\"textpoint\" transform=\"translate(0,-7.75)\"><text x=\"216.53\" y=\"267.43\" text-anchor=\"middle\" style=\"font-family: 'Open Sans', verdana, arial, sans-serif; font-size: 12px; fill: rgb(42, 63, 95); fill-opacity: 1; white-space: pre;\">186</text></g><g class=\"textpoint\" transform=\"translate(0,-7.75)\"><text x=\"385.96\" y=\"270.35\" text-anchor=\"middle\" style=\"font-family: 'Open Sans', verdana, arial, sans-serif; font-size: 12px; fill: rgb(42, 63, 95); fill-opacity: 1; white-space: pre;\">287</text></g><g class=\"textpoint\" transform=\"translate(0,-7.75)\"><text x=\"315.45\" y=\"270.91\" text-anchor=\"middle\" style=\"font-family: 'Open Sans', verdana, arial, sans-serif; font-size: 12px; fill: rgb(42, 63, 95); fill-opacity: 1; white-space: pre;\">195</text></g><g class=\"textpoint\" transform=\"translate(0,-7.75)\"><text x=\"92.69\" y=\"276.26\" text-anchor=\"middle\" style=\"font-family: 'Open Sans', verdana, arial, sans-serif; font-size: 12px; fill: rgb(42, 63, 95); fill-opacity: 1; white-space: pre;\">261</text></g><g class=\"textpoint\" transform=\"translate(0,-7.75)\"><text x=\"348.12\" y=\"279.08\" text-anchor=\"middle\" style=\"font-family: 'Open Sans', verdana, arial, sans-serif; font-size: 12px; fill: rgb(42, 63, 95); fill-opacity: 1; white-space: pre;\">291</text></g><g class=\"textpoint\" transform=\"translate(0,-7.75)\"><text x=\"329.89\" y=\"284.12\" text-anchor=\"middle\" style=\"font-family: 'Open Sans', verdana, arial, sans-serif; font-size: 12px; fill: rgb(42, 63, 95); fill-opacity: 1; white-space: pre;\">290</text></g><g class=\"textpoint\" transform=\"translate(0,-7.75)\"><text x=\"265\" y=\"296.8\" text-anchor=\"middle\" style=\"font-family: 'Open Sans', verdana, arial, sans-serif; font-size: 12px; fill: rgb(42, 63, 95); fill-opacity: 1; white-space: pre;\">272</text></g><g class=\"textpoint\" transform=\"translate(0,-7.75)\"><text x=\"225.34\" y=\"298.03\" text-anchor=\"middle\" style=\"font-family: 'Open Sans', verdana, arial, sans-serif; font-size: 12px; fill: rgb(42, 63, 95); fill-opacity: 1; white-space: pre;\">193</text></g><g class=\"textpoint\" transform=\"translate(0,-7.75)\"><text x=\"202.25\" y=\"298.42\" text-anchor=\"middle\" style=\"font-family: 'Open Sans', verdana, arial, sans-serif; font-size: 12px; fill: rgb(42, 63, 95); fill-opacity: 1; white-space: pre;\">256</text></g><g class=\"textpoint\" transform=\"translate(0,-7.75)\"><text x=\"111.53\" y=\"298.53\" text-anchor=\"middle\" style=\"font-family: 'Open Sans', verdana, arial, sans-serif; font-size: 12px; fill: rgb(42, 63, 95); fill-opacity: 1; white-space: pre;\">183</text></g><g class=\"textpoint\" transform=\"translate(0,-7.75)\"><text x=\"146.33\" y=\"306.43\" text-anchor=\"middle\" style=\"font-family: 'Open Sans', verdana, arial, sans-serif; font-size: 12px; fill: rgb(42, 63, 95); fill-opacity: 1; white-space: pre;\">184</text></g><g class=\"textpoint\" transform=\"translate(0,-7.75)\"><text x=\"120.95\" y=\"308.1\" text-anchor=\"middle\" style=\"font-family: 'Open Sans', verdana, arial, sans-serif; font-size: 12px; fill: rgb(42, 63, 95); fill-opacity: 1; white-space: pre;\">262</text></g><g class=\"textpoint\" transform=\"translate(0,-7.75)\"><text x=\"206.81\" y=\"308.89\" text-anchor=\"middle\" style=\"font-family: 'Open Sans', verdana, arial, sans-serif; font-size: 12px; fill: rgb(42, 63, 95); fill-opacity: 1; white-space: pre;\">224</text></g><g class=\"textpoint\" transform=\"translate(0,-7.75)\"><text x=\"270.17\" y=\"310.56\" text-anchor=\"middle\" style=\"font-family: 'Open Sans', verdana, arial, sans-serif; font-size: 12px; fill: rgb(42, 63, 95); fill-opacity: 1; white-space: pre;\">227</text></g><g class=\"textpoint\" transform=\"translate(0,-7.75)\"><text x=\"116.24\" y=\"311.47\" text-anchor=\"middle\" style=\"font-family: 'Open Sans', verdana, arial, sans-serif; font-size: 12px; fill: rgb(42, 63, 95); fill-opacity: 1; white-space: pre;\">110</text></g><g class=\"textpoint\" transform=\"translate(0,-7.75)\"><text x=\"320.01\" y=\"311.87\" text-anchor=\"middle\" style=\"font-family: 'Open Sans', verdana, arial, sans-serif; font-size: 12px; fill: rgb(42, 63, 95); fill-opacity: 1; white-space: pre;\">196</text></g><g class=\"textpoint\" transform=\"translate(0,-7.75)\"><text x=\"167.15\" y=\"312.59\" text-anchor=\"middle\" style=\"font-family: 'Open Sans', verdana, arial, sans-serif; font-size: 12px; fill: rgb(42, 63, 95); fill-opacity: 1; white-space: pre;\">223</text></g><g class=\"textpoint\" transform=\"translate(0,-7.75)\"><text x=\"221.7\" y=\"316.41\" text-anchor=\"middle\" style=\"font-family: 'Open Sans', verdana, arial, sans-serif; font-size: 12px; fill: rgb(42, 63, 95); fill-opacity: 1; white-space: pre;\">253</text></g><g class=\"textpoint\" transform=\"translate(0,-7.75)\"><text x=\"157.27\" y=\"326.52\" text-anchor=\"middle\" style=\"font-family: 'Open Sans', verdana, arial, sans-serif; font-size: 12px; fill: rgb(42, 63, 95); fill-opacity: 1; white-space: pre;\">44</text></g><g class=\"textpoint\" transform=\"translate(0,-7.75)\"><text x=\"125.51\" y=\"328.42\" text-anchor=\"middle\" style=\"font-family: 'Open Sans', verdana, arial, sans-serif; font-size: 12px; fill: rgb(42, 63, 95); fill-opacity: 1; white-space: pre;\">219</text></g><g class=\"textpoint\" transform=\"translate(0,-7.75)\"><text x=\"233.7\" y=\"335.71\" text-anchor=\"middle\" style=\"font-family: 'Open Sans', verdana, arial, sans-serif; font-size: 12px; fill: rgb(42, 63, 95); fill-opacity: 1; white-space: pre;\">152</text></g><g class=\"textpoint\" transform=\"translate(0,-7.75)\"><text x=\"262.12\" y=\"335.97\" text-anchor=\"middle\" style=\"font-family: 'Open Sans', verdana, arial, sans-serif; font-size: 12px; fill: rgb(42, 63, 95); fill-opacity: 1; white-space: pre;\">271</text></g><g class=\"textpoint\" transform=\"translate(0,-7.75)\"><text x=\"264.55\" y=\"337.32\" text-anchor=\"middle\" style=\"font-family: 'Open Sans', verdana, arial, sans-serif; font-size: 12px; fill: rgb(42, 63, 95); fill-opacity: 1; white-space: pre;\">191</text></g><g class=\"textpoint\" transform=\"translate(0,-7.75)\"><text x=\"282.78\" y=\"337.41\" text-anchor=\"middle\" style=\"font-family: 'Open Sans', verdana, arial, sans-serif; font-size: 12px; fill: rgb(42, 63, 95); fill-opacity: 1; white-space: pre;\">294</text></g><g class=\"textpoint\" transform=\"translate(0,-7.75)\"><text x=\"220.18\" y=\"338.92\" text-anchor=\"middle\" style=\"font-family: 'Open Sans', verdana, arial, sans-serif; font-size: 12px; fill: rgb(42, 63, 95); fill-opacity: 1; white-space: pre;\">269</text></g><g class=\"textpoint\" transform=\"translate(0,-7.75)\"><text x=\"225.8\" y=\"340.63\" text-anchor=\"middle\" style=\"font-family: 'Open Sans', verdana, arial, sans-serif; font-size: 12px; fill: rgb(42, 63, 95); fill-opacity: 1; white-space: pre;\">267</text></g><g class=\"textpoint\" transform=\"translate(0,-7.75)\"><text x=\"195.26\" y=\"341.6\" text-anchor=\"middle\" style=\"font-family: 'Open Sans', verdana, arial, sans-serif; font-size: 12px; fill: rgb(42, 63, 95); fill-opacity: 1; white-space: pre;\">266</text></g><g class=\"textpoint\" transform=\"translate(0,-7.75)\"><text x=\"273.36\" y=\"341.9\" text-anchor=\"middle\" style=\"font-family: 'Open Sans', verdana, arial, sans-serif; font-size: 12px; fill: rgb(42, 63, 95); fill-opacity: 1; white-space: pre;\">194</text></g><g class=\"textpoint\" transform=\"translate(0,-7.75)\"><text x=\"306.33\" y=\"342.93\" text-anchor=\"middle\" style=\"font-family: 'Open Sans', verdana, arial, sans-serif; font-size: 12px; fill: rgb(42, 63, 95); fill-opacity: 1; white-space: pre;\">295</text></g><g class=\"textpoint\" transform=\"translate(0,-7.75)\"><text x=\"414.52\" y=\"343.22\" text-anchor=\"middle\" style=\"font-family: 'Open Sans', verdana, arial, sans-serif; font-size: 12px; fill: rgb(42, 63, 95); fill-opacity: 1; white-space: pre;\">279</text></g><g class=\"textpoint\" transform=\"translate(0,-7.75)\"><text x=\"267.13\" y=\"343.38\" text-anchor=\"middle\" style=\"font-family: 'Open Sans', verdana, arial, sans-serif; font-size: 12px; fill: rgb(42, 63, 95); fill-opacity: 1; white-space: pre;\">42</text></g><g class=\"textpoint\" transform=\"translate(0,-7.75)\"><text x=\"164.11\" y=\"345\" text-anchor=\"middle\" style=\"font-family: 'Open Sans', verdana, arial, sans-serif; font-size: 12px; fill: rgb(42, 63, 95); fill-opacity: 1; white-space: pre;\">120</text></g><g class=\"textpoint\" transform=\"translate(0,-7.75)\"><text x=\"260.6\" y=\"348.87\" text-anchor=\"middle\" style=\"font-family: 'Open Sans', verdana, arial, sans-serif; font-size: 12px; fill: rgb(42, 63, 95); fill-opacity: 1; white-space: pre;\">226</text></g><g class=\"textpoint\" transform=\"translate(0,-7.75)\"><text x=\"113.66\" y=\"350.19\" text-anchor=\"middle\" style=\"font-family: 'Open Sans', verdana, arial, sans-serif; font-size: 12px; fill: rgb(42, 63, 95); fill-opacity: 1; white-space: pre;\">109</text></g><g class=\"textpoint\" transform=\"translate(0,-7.75)\"><text x=\"242.36\" y=\"350.49\" text-anchor=\"middle\" style=\"font-family: 'Open Sans', verdana, arial, sans-serif; font-size: 12px; fill: rgb(42, 63, 95); fill-opacity: 1; white-space: pre;\">150</text></g><g class=\"textpoint\" transform=\"translate(0,-7.75)\"><text x=\"174.29\" y=\"350.53\" text-anchor=\"middle\" style=\"font-family: 'Open Sans', verdana, arial, sans-serif; font-size: 12px; fill: rgb(42, 63, 95); fill-opacity: 1; white-space: pre;\">260</text></g><g class=\"textpoint\" transform=\"translate(0,-7.75)\"><text x=\"74.91\" y=\"351.07\" text-anchor=\"middle\" style=\"font-family: 'Open Sans', verdana, arial, sans-serif; font-size: 12px; fill: rgb(42, 63, 95); fill-opacity: 1; white-space: pre;\">214</text></g><g class=\"textpoint\" transform=\"translate(0,-7.75)\"><text x=\"145.57\" y=\"352.69\" text-anchor=\"middle\" style=\"font-family: 'Open Sans', verdana, arial, sans-serif; font-size: 12px; fill: rgb(42, 63, 95); fill-opacity: 1; white-space: pre;\">176</text></g><g class=\"textpoint\" transform=\"translate(0,-7.75)\"><text x=\"284.45\" y=\"352.89\" text-anchor=\"middle\" style=\"font-family: 'Open Sans', verdana, arial, sans-serif; font-size: 12px; fill: rgb(42, 63, 95); fill-opacity: 1; white-space: pre;\">197</text></g><g class=\"textpoint\" transform=\"translate(0,-7.75)\"><text x=\"268.95\" y=\"354.45\" text-anchor=\"middle\" style=\"font-family: 'Open Sans', verdana, arial, sans-serif; font-size: 12px; fill: rgb(42, 63, 95); fill-opacity: 1; white-space: pre;\">270</text></g><g class=\"textpoint\" transform=\"translate(0,-7.75)\"><text x=\"337.79\" y=\"356.57\" text-anchor=\"middle\" style=\"font-family: 'Open Sans', verdana, arial, sans-serif; font-size: 12px; fill: rgb(42, 63, 95); fill-opacity: 1; white-space: pre;\">275</text></g><g class=\"textpoint\" transform=\"translate(0,-7.75)\"><text x=\"164.41\" y=\"357.46\" text-anchor=\"middle\" style=\"font-family: 'Open Sans', verdana, arial, sans-serif; font-size: 12px; fill: rgb(42, 63, 95); fill-opacity: 1; white-space: pre;\">264</text></g><g class=\"textpoint\" transform=\"translate(0,-7.75)\"><text x=\"302.23\" y=\"359.79\" text-anchor=\"middle\" style=\"font-family: 'Open Sans', verdana, arial, sans-serif; font-size: 12px; fill: rgb(42, 63, 95); fill-opacity: 1; white-space: pre;\">6</text></g><g class=\"textpoint\" transform=\"translate(0,-7.75)\"><text x=\"426.38\" y=\"360.14\" text-anchor=\"middle\" style=\"font-family: 'Open Sans', verdana, arial, sans-serif; font-size: 12px; fill: rgb(42, 63, 95); fill-opacity: 1; white-space: pre;\">60</text></g><g class=\"textpoint\" transform=\"translate(0,-7.75)\"><text x=\"63.97\" y=\"360.69\" text-anchor=\"middle\" style=\"font-family: 'Open Sans', verdana, arial, sans-serif; font-size: 12px; fill: rgb(42, 63, 95); fill-opacity: 1; white-space: pre;\">115</text></g><g class=\"textpoint\" transform=\"translate(0,-7.75)\"><text x=\"345.69\" y=\"360.92\" text-anchor=\"middle\" style=\"font-family: 'Open Sans', verdana, arial, sans-serif; font-size: 12px; fill: rgb(42, 63, 95); fill-opacity: 1; white-space: pre;\">198</text></g><g class=\"textpoint\" transform=\"translate(0,-7.75)\"><text x=\"275.64\" y=\"361.07\" text-anchor=\"middle\" style=\"font-family: 'Open Sans', verdana, arial, sans-serif; font-size: 12px; fill: rgb(42, 63, 95); fill-opacity: 1; white-space: pre;\">149</text></g><g class=\"textpoint\" transform=\"translate(0,-7.75)\"><text x=\"193.59\" y=\"362.94\" text-anchor=\"middle\" style=\"font-family: 'Open Sans', verdana, arial, sans-serif; font-size: 12px; fill: rgb(42, 63, 95); fill-opacity: 1; white-space: pre;\">19</text></g><g class=\"textpoint\" transform=\"translate(0,-7.75)\"><text x=\"252.69\" y=\"364.02\" text-anchor=\"middle\" style=\"font-family: 'Open Sans', verdana, arial, sans-serif; font-size: 12px; fill: rgb(42, 63, 95); fill-opacity: 1; white-space: pre;\">187</text></g><g class=\"textpoint\" transform=\"translate(0,-7.75)\"><text x=\"383.37\" y=\"365.06\" text-anchor=\"middle\" style=\"font-family: 'Open Sans', verdana, arial, sans-serif; font-size: 12px; fill: rgb(42, 63, 95); fill-opacity: 1; white-space: pre;\">199</text></g><g class=\"textpoint\" transform=\"translate(0,-7.75)\"><text x=\"231.27\" y=\"365.17\" text-anchor=\"middle\" style=\"font-family: 'Open Sans', verdana, arial, sans-serif; font-size: 12px; fill: rgb(42, 63, 95); fill-opacity: 1; white-space: pre;\">67</text></g><g class=\"textpoint\" transform=\"translate(0,-7.75)\"><text x=\"265.46\" y=\"367.22\" text-anchor=\"middle\" style=\"font-family: 'Open Sans', verdana, arial, sans-serif; font-size: 12px; fill: rgb(42, 63, 95); fill-opacity: 1; white-space: pre;\">15</text></g><g class=\"textpoint\" transform=\"translate(0,-7.75)\"><text x=\"176.26\" y=\"367.35\" text-anchor=\"middle\" style=\"font-family: 'Open Sans', verdana, arial, sans-serif; font-size: 12px; fill: rgb(42, 63, 95); fill-opacity: 1; white-space: pre;\">185</text></g><g class=\"textpoint\" transform=\"translate(0,-7.75)\"><text x=\"298.43\" y=\"367.42\" text-anchor=\"middle\" style=\"font-family: 'Open Sans', verdana, arial, sans-serif; font-size: 12px; fill: rgb(42, 63, 95); fill-opacity: 1; white-space: pre;\">228</text></g><g class=\"textpoint\" transform=\"translate(0,-7.75)\"><text x=\"279.74\" y=\"367.72\" text-anchor=\"middle\" style=\"font-family: 'Open Sans', verdana, arial, sans-serif; font-size: 12px; fill: rgb(42, 63, 95); fill-opacity: 1; white-space: pre;\">188</text></g><g class=\"textpoint\" transform=\"translate(0,-7.75)\"><text x=\"377.45\" y=\"367.73\" text-anchor=\"middle\" style=\"font-family: 'Open Sans', verdana, arial, sans-serif; font-size: 12px; fill: rgb(42, 63, 95); fill-opacity: 1; white-space: pre;\">96</text></g><g class=\"textpoint\" transform=\"translate(0,-7.75)\"><text x=\"258.47\" y=\"367.74\" text-anchor=\"middle\" style=\"font-family: 'Open Sans', verdana, arial, sans-serif; font-size: 12px; fill: rgb(42, 63, 95); fill-opacity: 1; white-space: pre;\">249</text></g><g class=\"textpoint\" transform=\"translate(0,-7.75)\"><text x=\"404.95\" y=\"367.75\" text-anchor=\"middle\" style=\"font-family: 'Open Sans', verdana, arial, sans-serif; font-size: 12px; fill: rgb(42, 63, 95); fill-opacity: 1; white-space: pre;\">234</text></g><g class=\"textpoint\" transform=\"translate(0,-7.75)\"><text x=\"161.52\" y=\"367.76\" text-anchor=\"middle\" style=\"font-family: 'Open Sans', verdana, arial, sans-serif; font-size: 12px; fill: rgb(42, 63, 95); fill-opacity: 1; white-space: pre;\">112</text></g><g class=\"textpoint\" transform=\"translate(0,-7.75)\"><text x=\"319.4\" y=\"368.09\" text-anchor=\"middle\" style=\"font-family: 'Open Sans', verdana, arial, sans-serif; font-size: 12px; fill: rgb(42, 63, 95); fill-opacity: 1; white-space: pre;\">39</text></g><g class=\"textpoint\" transform=\"translate(0,-7.75)\"><text x=\"305.27\" y=\"368.3\" text-anchor=\"middle\" style=\"font-family: 'Open Sans', verdana, arial, sans-serif; font-size: 12px; fill: rgb(42, 63, 95); fill-opacity: 1; white-space: pre;\">273</text></g><g class=\"textpoint\" transform=\"translate(0,-7.75)\"><text x=\"102.72\" y=\"370.33\" text-anchor=\"middle\" style=\"font-family: 'Open Sans', verdana, arial, sans-serif; font-size: 12px; fill: rgb(42, 63, 95); fill-opacity: 1; white-space: pre;\">45</text></g><g class=\"textpoint\" transform=\"translate(0,-7.75)\"><text x=\"287.34\" y=\"370.36\" text-anchor=\"middle\" style=\"font-family: 'Open Sans', verdana, arial, sans-serif; font-size: 12px; fill: rgb(42, 63, 95); fill-opacity: 1; white-space: pre;\">252</text></g><g class=\"textpoint\" transform=\"translate(0,-7.75)\"><text x=\"397.2\" y=\"370.73\" text-anchor=\"middle\" style=\"font-family: 'Open Sans', verdana, arial, sans-serif; font-size: 12px; fill: rgb(42, 63, 95); fill-opacity: 1; white-space: pre;\">99</text></g><g class=\"textpoint\" transform=\"translate(0,-7.75)\"><text x=\"149.98\" y=\"372.16\" text-anchor=\"middle\" style=\"font-family: 'Open Sans', verdana, arial, sans-serif; font-size: 12px; fill: rgb(42, 63, 95); fill-opacity: 1; white-space: pre;\">221</text></g><g class=\"textpoint\" transform=\"translate(0,-7.75)\"><text x=\"308.76\" y=\"372.67\" text-anchor=\"middle\" style=\"font-family: 'Open Sans', verdana, arial, sans-serif; font-size: 12px; fill: rgb(42, 63, 95); fill-opacity: 1; white-space: pre;\">293</text></g><g class=\"textpoint\" transform=\"translate(0,-7.75)\"><text x=\"404.49\" y=\"372.69\" text-anchor=\"middle\" style=\"font-family: 'Open Sans', verdana, arial, sans-serif; font-size: 12px; fill: rgb(42, 63, 95); fill-opacity: 1; white-space: pre;\">63</text></g><g class=\"textpoint\" transform=\"translate(0,-7.75)\"><text x=\"323.05\" y=\"373.09\" text-anchor=\"middle\" style=\"font-family: 'Open Sans', verdana, arial, sans-serif; font-size: 12px; fill: rgb(42, 63, 95); fill-opacity: 1; white-space: pre;\">298</text></g><g class=\"textpoint\" transform=\"translate(0,-7.75)\"><text x=\"306.33\" y=\"373.25\" text-anchor=\"middle\" style=\"font-family: 'Open Sans', verdana, arial, sans-serif; font-size: 12px; fill: rgb(42, 63, 95); fill-opacity: 1; white-space: pre;\">10</text></g><g class=\"textpoint\" transform=\"translate(0,-7.75)\"><text x=\"143.14\" y=\"373.93\" text-anchor=\"middle\" style=\"font-family: 'Open Sans', verdana, arial, sans-serif; font-size: 12px; fill: rgb(42, 63, 95); fill-opacity: 1; white-space: pre;\">218</text></g><g class=\"textpoint\" transform=\"translate(0,-7.75)\"><text x=\"180.21\" y=\"374.55\" text-anchor=\"middle\" style=\"font-family: 'Open Sans', verdana, arial, sans-serif; font-size: 12px; fill: rgb(42, 63, 95); fill-opacity: 1; white-space: pre;\">108</text></g><g class=\"textpoint\" transform=\"translate(0,-7.75)\"><text x=\"326.54\" y=\"374.82\" text-anchor=\"middle\" style=\"font-family: 'Open Sans', verdana, arial, sans-serif; font-size: 12px; fill: rgb(42, 63, 95); fill-opacity: 1; white-space: pre;\">9</text></g><g class=\"textpoint\" transform=\"translate(0,-7.75)\"><text x=\"341.74\" y=\"374.83\" text-anchor=\"middle\" style=\"font-family: 'Open Sans', verdana, arial, sans-serif; font-size: 12px; fill: rgb(42, 63, 95); fill-opacity: 1; white-space: pre;\">297</text></g><g class=\"textpoint\" transform=\"translate(0,-7.75)\"><text x=\"339.91\" y=\"375.13\" text-anchor=\"middle\" style=\"font-family: 'Open Sans', verdana, arial, sans-serif; font-size: 12px; fill: rgb(42, 63, 95); fill-opacity: 1; white-space: pre;\">93</text></g><g class=\"textpoint\" transform=\"translate(0,-7.75)\"><text x=\"234.16\" y=\"375.32\" text-anchor=\"middle\" style=\"font-family: 'Open Sans', verdana, arial, sans-serif; font-size: 12px; fill: rgb(42, 63, 95); fill-opacity: 1; white-space: pre;\">123</text></g><g class=\"textpoint\" transform=\"translate(0,-7.75)\"><text x=\"253.91\" y=\"375.38\" text-anchor=\"middle\" style=\"font-family: 'Open Sans', verdana, arial, sans-serif; font-size: 12px; fill: rgb(42, 63, 95); fill-opacity: 1; white-space: pre;\">153</text></g><g class=\"textpoint\" transform=\"translate(0,-7.75)\"><text x=\"167.91\" y=\"375.74\" text-anchor=\"middle\" style=\"font-family: 'Open Sans', verdana, arial, sans-serif; font-size: 12px; fill: rgb(42, 63, 95); fill-opacity: 1; white-space: pre;\">48</text></g><g class=\"textpoint\" transform=\"translate(0,-7.75)\"><text x=\"234.92\" y=\"376.18\" text-anchor=\"middle\" style=\"font-family: 'Open Sans', verdana, arial, sans-serif; font-size: 12px; fill: rgb(42, 63, 95); fill-opacity: 1; white-space: pre;\">43</text></g><g class=\"textpoint\" transform=\"translate(0,-7.75)\"><text x=\"265.46\" y=\"376.21\" text-anchor=\"middle\" style=\"font-family: 'Open Sans', verdana, arial, sans-serif; font-size: 12px; fill: rgb(42, 63, 95); fill-opacity: 1; white-space: pre;\">155</text></g><g class=\"textpoint\" transform=\"translate(0,-7.75)\"><text x=\"432.61\" y=\"376.26\" text-anchor=\"middle\" style=\"font-family: 'Open Sans', verdana, arial, sans-serif; font-size: 12px; fill: rgb(42, 63, 95); fill-opacity: 1; white-space: pre;\">207</text></g><g class=\"textpoint\" transform=\"translate(0,-7.75)\"><text x=\"320.77\" y=\"376.66\" text-anchor=\"middle\" style=\"font-family: 'Open Sans', verdana, arial, sans-serif; font-size: 12px; fill: rgb(42, 63, 95); fill-opacity: 1; white-space: pre;\">95</text></g><g class=\"textpoint\" transform=\"translate(0,-7.75)\"><text x=\"179.91\" y=\"376.66\" text-anchor=\"middle\" style=\"font-family: 'Open Sans', verdana, arial, sans-serif; font-size: 12px; fill: rgb(42, 63, 95); fill-opacity: 1; white-space: pre;\">222</text></g><g class=\"textpoint\" transform=\"translate(0,-7.75)\"><text x=\"380.64\" y=\"377.2\" text-anchor=\"middle\" style=\"font-family: 'Open Sans', verdana, arial, sans-serif; font-size: 12px; fill: rgb(42, 63, 95); fill-opacity: 1; white-space: pre;\">2</text></g><g class=\"textpoint\" transform=\"translate(0,-7.75)\"><text x=\"296\" y=\"377.26\" text-anchor=\"middle\" style=\"font-family: 'Open Sans', verdana, arial, sans-serif; font-size: 12px; fill: rgb(42, 63, 95); fill-opacity: 1; white-space: pre;\">97</text></g><g class=\"textpoint\" transform=\"translate(0,-7.75)\"><text x=\"424.7\" y=\"377.26\" text-anchor=\"middle\" style=\"font-family: 'Open Sans', verdana, arial, sans-serif; font-size: 12px; fill: rgb(42, 63, 95); fill-opacity: 1; white-space: pre;\">100</text></g><g class=\"textpoint\" transform=\"translate(0,-7.75)\"><text x=\"288.86\" y=\"377.95\" text-anchor=\"middle\" style=\"font-family: 'Open Sans', verdana, arial, sans-serif; font-size: 12px; fill: rgb(42, 63, 95); fill-opacity: 1; white-space: pre;\">65</text></g><g class=\"textpoint\" transform=\"translate(0,-7.75)\"><text x=\"330.34\" y=\"378.01\" text-anchor=\"middle\" style=\"font-family: 'Open Sans', verdana, arial, sans-serif; font-size: 12px; fill: rgb(42, 63, 95); fill-opacity: 1; white-space: pre;\">229</text></g><g class=\"textpoint\" transform=\"translate(0,-7.75)\"><text x=\"234.61\" y=\"378.45\" text-anchor=\"middle\" style=\"font-family: 'Open Sans', verdana, arial, sans-serif; font-size: 12px; fill: rgb(42, 63, 95); fill-opacity: 1; white-space: pre;\">49</text></g><g class=\"textpoint\" transform=\"translate(0,-7.75)\"><text x=\"211.97\" y=\"378.5\" text-anchor=\"middle\" style=\"font-family: 'Open Sans', verdana, arial, sans-serif; font-size: 12px; fill: rgb(42, 63, 95); fill-opacity: 1; white-space: pre;\">212</text></g><g class=\"textpoint\" transform=\"translate(0,-7.75)\"><text x=\"215.92\" y=\"378.56\" text-anchor=\"middle\" style=\"font-family: 'Open Sans', verdana, arial, sans-serif; font-size: 12px; fill: rgb(42, 63, 95); fill-opacity: 1; white-space: pre;\">107</text></g><g class=\"textpoint\" transform=\"translate(0,-7.75)\"><text x=\"259.84\" y=\"378.58\" text-anchor=\"middle\" style=\"font-family: 'Open Sans', verdana, arial, sans-serif; font-size: 12px; fill: rgb(42, 63, 95); fill-opacity: 1; white-space: pre;\">94</text></g><g class=\"textpoint\" transform=\"translate(0,-7.75)\"><text x=\"358.15\" y=\"378.68\" text-anchor=\"middle\" style=\"font-family: 'Open Sans', verdana, arial, sans-serif; font-size: 12px; fill: rgb(42, 63, 95); fill-opacity: 1; white-space: pre;\">202</text></g><g class=\"textpoint\" transform=\"translate(0,-7.75)\"><text x=\"199.82\" y=\"378.77\" text-anchor=\"middle\" style=\"font-family: 'Open Sans', verdana, arial, sans-serif; font-size: 12px; fill: rgb(42, 63, 95); fill-opacity: 1; white-space: pre;\">259</text></g><g class=\"textpoint\" transform=\"translate(0,-7.75)\"><text x=\"301.62\" y=\"379.14\" text-anchor=\"middle\" style=\"font-family: 'Open Sans', verdana, arial, sans-serif; font-size: 12px; fill: rgb(42, 63, 95); fill-opacity: 1; white-space: pre;\">18</text></g><g class=\"textpoint\" transform=\"translate(0,-7.75)\"><text x=\"377.45\" y=\"379.6\" text-anchor=\"middle\" style=\"font-family: 'Open Sans', verdana, arial, sans-serif; font-size: 12px; fill: rgb(42, 63, 95); fill-opacity: 1; white-space: pre;\">5</text></g><g class=\"textpoint\" transform=\"translate(0,-7.75)\"><text x=\"286.43\" y=\"379.71\" text-anchor=\"middle\" style=\"font-family: 'Open Sans', verdana, arial, sans-serif; font-size: 12px; fill: rgb(42, 63, 95); fill-opacity: 1; white-space: pre;\">22</text></g><g class=\"textpoint\" transform=\"translate(0,-7.75)\"><text x=\"162.28\" y=\"379.73\" text-anchor=\"middle\" style=\"font-family: 'Open Sans', verdana, arial, sans-serif; font-size: 12px; fill: rgb(42, 63, 95); fill-opacity: 1; white-space: pre;\">213</text></g><g class=\"textpoint\" transform=\"translate(0,-7.75)\"><text x=\"330.65\" y=\"379.75\" text-anchor=\"middle\" style=\"font-family: 'Open Sans', verdana, arial, sans-serif; font-size: 12px; fill: rgb(42, 63, 95); fill-opacity: 1; white-space: pre;\">248</text></g><g class=\"textpoint\" transform=\"translate(0,-7.75)\"><text x=\"385.35\" y=\"379.99\" text-anchor=\"middle\" style=\"font-family: 'Open Sans', verdana, arial, sans-serif; font-size: 12px; fill: rgb(42, 63, 95); fill-opacity: 1; white-space: pre;\">38</text></g><g class=\"textpoint\" transform=\"translate(0,-7.75)\"><text x=\"331.25\" y=\"380.39\" text-anchor=\"middle\" style=\"font-family: 'Open Sans', verdana, arial, sans-serif; font-size: 12px; fill: rgb(42, 63, 95); fill-opacity: 1; white-space: pre;\">98</text></g><g class=\"textpoint\" transform=\"translate(0,-7.75)\"><text x=\"458.28\" y=\"380.46\" text-anchor=\"middle\" style=\"font-family: 'Open Sans', verdana, arial, sans-serif; font-size: 12px; fill: rgb(42, 63, 95); fill-opacity: 1; white-space: pre;\">284</text></g><g class=\"textpoint\" transform=\"translate(0,-7.75)\"><text x=\"349.03\" y=\"380.55\" text-anchor=\"middle\" style=\"font-family: 'Open Sans', verdana, arial, sans-serif; font-size: 12px; fill: rgb(42, 63, 95); fill-opacity: 1; white-space: pre;\">73</text></g><g class=\"textpoint\" transform=\"translate(0,-7.75)\"><text x=\"407.23\" y=\"380.67\" text-anchor=\"middle\" style=\"font-family: 'Open Sans', verdana, arial, sans-serif; font-size: 12px; fill: rgb(42, 63, 95); fill-opacity: 1; white-space: pre;\">278</text></g><g class=\"textpoint\" transform=\"translate(0,-7.75)\"><text x=\"306.64\" y=\"381.01\" text-anchor=\"middle\" style=\"font-family: 'Open Sans', verdana, arial, sans-serif; font-size: 12px; fill: rgb(42, 63, 95); fill-opacity: 1; white-space: pre;\">245</text></g><g class=\"textpoint\" transform=\"translate(0,-7.75)\"><text x=\"403.73\" y=\"381.25\" text-anchor=\"middle\" style=\"font-family: 'Open Sans', verdana, arial, sans-serif; font-size: 12px; fill: rgb(42, 63, 95); fill-opacity: 1; white-space: pre;\">159</text></g><g class=\"textpoint\" transform=\"translate(0,-7.75)\"><text x=\"367.11\" y=\"381.49\" text-anchor=\"middle\" style=\"font-family: 'Open Sans', verdana, arial, sans-serif; font-size: 12px; fill: rgb(42, 63, 95); fill-opacity: 1; white-space: pre;\">78</text></g><g class=\"textpoint\" transform=\"translate(0,-7.75)\"><text x=\"217.44\" y=\"381.51\" text-anchor=\"middle\" style=\"font-family: 'Open Sans', verdana, arial, sans-serif; font-size: 12px; fill: rgb(42, 63, 95); fill-opacity: 1; white-space: pre;\">82</text></g><g class=\"textpoint\" transform=\"translate(0,-7.75)\"><text x=\"294.18\" y=\"381.7\" text-anchor=\"middle\" style=\"font-family: 'Open Sans', verdana, arial, sans-serif; font-size: 12px; fill: rgb(42, 63, 95); fill-opacity: 1; white-space: pre;\">40</text></g><g class=\"textpoint\" transform=\"translate(0,-7.75)\"><text x=\"273.36\" y=\"381.85\" text-anchor=\"middle\" style=\"font-family: 'Open Sans', verdana, arial, sans-serif; font-size: 12px; fill: rgb(42, 63, 95); fill-opacity: 1; white-space: pre;\">69</text></g><g class=\"textpoint\" transform=\"translate(0,-7.75)\"><text x=\"336.57\" y=\"381.93\" text-anchor=\"middle\" style=\"font-family: 'Open Sans', verdana, arial, sans-serif; font-size: 12px; fill: rgb(42, 63, 95); fill-opacity: 1; white-space: pre;\">54</text></g><g class=\"textpoint\" transform=\"translate(0,-7.75)\"><text x=\"300.71\" y=\"382.21\" text-anchor=\"middle\" style=\"font-family: 'Open Sans', verdana, arial, sans-serif; font-size: 12px; fill: rgb(42, 63, 95); fill-opacity: 1; white-space: pre;\">255</text></g><g class=\"textpoint\" transform=\"translate(0,-7.75)\"><text x=\"351.31\" y=\"382.3\" text-anchor=\"middle\" style=\"font-family: 'Open Sans', verdana, arial, sans-serif; font-size: 12px; fill: rgb(42, 63, 95); fill-opacity: 1; white-space: pre;\">276</text></g><g class=\"textpoint\" transform=\"translate(0,-7.75)\"><text x=\"183.56\" y=\"382.36\" text-anchor=\"middle\" style=\"font-family: 'Open Sans', verdana, arial, sans-serif; font-size: 12px; fill: rgb(42, 63, 95); fill-opacity: 1; white-space: pre;\">174</text></g><g class=\"textpoint\" transform=\"translate(0,-7.75)\"><text x=\"312.11\" y=\"383.45\" text-anchor=\"middle\" style=\"font-family: 'Open Sans', verdana, arial, sans-serif; font-size: 12px; fill: rgb(42, 63, 95); fill-opacity: 1; white-space: pre;\">31</text></g><g class=\"textpoint\" transform=\"translate(0,-7.75)\"><text x=\"254.82\" y=\"383.47\" text-anchor=\"middle\" style=\"font-family: 'Open Sans', verdana, arial, sans-serif; font-size: 12px; fill: rgb(42, 63, 95); fill-opacity: 1; white-space: pre;\">172</text></g><g class=\"textpoint\" transform=\"translate(0,-7.75)\"><text x=\"311.8\" y=\"383.58\" text-anchor=\"middle\" style=\"font-family: 'Open Sans', verdana, arial, sans-serif; font-size: 12px; fill: rgb(42, 63, 95); fill-opacity: 1; white-space: pre;\">34</text></g><g class=\"textpoint\" transform=\"translate(0,-7.75)\"><text x=\"185.68\" y=\"383.76\" text-anchor=\"middle\" style=\"font-family: 'Open Sans', verdana, arial, sans-serif; font-size: 12px; fill: rgb(42, 63, 95); fill-opacity: 1; white-space: pre;\">83</text></g><g class=\"textpoint\" transform=\"translate(0,-7.75)\"><text x=\"241.6\" y=\"383.81\" text-anchor=\"middle\" style=\"font-family: 'Open Sans', verdana, arial, sans-serif; font-size: 12px; fill: rgb(42, 63, 95); fill-opacity: 1; white-space: pre;\">225</text></g><g class=\"textpoint\" transform=\"translate(0,-7.75)\"><text x=\"138.12\" y=\"383.89\" text-anchor=\"middle\" style=\"font-family: 'Open Sans', verdana, arial, sans-serif; font-size: 12px; fill: rgb(42, 63, 95); fill-opacity: 1; white-space: pre;\">217</text></g><g class=\"textpoint\" transform=\"translate(0,-7.75)\"><text x=\"267.59\" y=\"384.14\" text-anchor=\"middle\" style=\"font-family: 'Open Sans', verdana, arial, sans-serif; font-size: 12px; fill: rgb(42, 63, 95); fill-opacity: 1; white-space: pre;\">71</text></g><g class=\"textpoint\" transform=\"translate(0,-7.75)\"><text x=\"340.83\" y=\"384.25\" text-anchor=\"middle\" style=\"font-family: 'Open Sans', verdana, arial, sans-serif; font-size: 12px; fill: rgb(42, 63, 95); fill-opacity: 1; white-space: pre;\">274</text></g><g class=\"textpoint\" transform=\"translate(0,-7.75)\"><text x=\"233.25\" y=\"384.49\" text-anchor=\"middle\" style=\"font-family: 'Open Sans', verdana, arial, sans-serif; font-size: 12px; fill: rgb(42, 63, 95); fill-opacity: 1; white-space: pre;\">173</text></g><g class=\"textpoint\" transform=\"translate(0,-7.75)\"><text x=\"136.91\" y=\"384.7\" text-anchor=\"middle\" style=\"font-family: 'Open Sans', verdana, arial, sans-serif; font-size: 12px; fill: rgb(42, 63, 95); fill-opacity: 1; white-space: pre;\">113</text></g><g class=\"textpoint\" transform=\"translate(0,-7.75)\"><text x=\"357.69\" y=\"384.77\" text-anchor=\"middle\" style=\"font-family: 'Open Sans', verdana, arial, sans-serif; font-size: 12px; fill: rgb(42, 63, 95); fill-opacity: 1; white-space: pre;\">170</text></g><g class=\"textpoint\" transform=\"translate(0,-7.75)\"><text x=\"403.43\" y=\"384.94\" text-anchor=\"middle\" style=\"font-family: 'Open Sans', verdana, arial, sans-serif; font-size: 12px; fill: rgb(42, 63, 95); fill-opacity: 1; white-space: pre;\">288</text></g><g class=\"textpoint\" transform=\"translate(0,-7.75)\"><text x=\"265.46\" y=\"385.01\" text-anchor=\"middle\" style=\"font-family: 'Open Sans', verdana, arial, sans-serif; font-size: 12px; fill: rgb(42, 63, 95); fill-opacity: 1; white-space: pre;\">106</text></g><g class=\"textpoint\" transform=\"translate(0,-7.75)\"><text x=\"211.82\" y=\"385.2\" text-anchor=\"middle\" style=\"font-family: 'Open Sans', verdana, arial, sans-serif; font-size: 12px; fill: rgb(42, 63, 95); fill-opacity: 1; white-space: pre;\">86</text></g><g class=\"textpoint\" transform=\"translate(0,-7.75)\"><text x=\"373.04\" y=\"385.29\" text-anchor=\"middle\" style=\"font-family: 'Open Sans', verdana, arial, sans-serif; font-size: 12px; fill: rgb(42, 63, 95); fill-opacity: 1; white-space: pre;\">289</text></g><g class=\"textpoint\" transform=\"translate(0,-7.75)\"><text x=\"402.06\" y=\"385.64\" text-anchor=\"middle\" style=\"font-family: 'Open Sans', verdana, arial, sans-serif; font-size: 12px; fill: rgb(42, 63, 95); fill-opacity: 1; white-space: pre;\">233</text></g><g class=\"textpoint\" transform=\"translate(0,-7.75)\"><text x=\"462.54\" y=\"385.84\" text-anchor=\"middle\" style=\"font-family: 'Open Sans', verdana, arial, sans-serif; font-size: 12px; fill: rgb(42, 63, 95); fill-opacity: 1; white-space: pre;\">283</text></g><g class=\"textpoint\" transform=\"translate(0,-7.75)\"><text x=\"375.32\" y=\"386.07\" text-anchor=\"middle\" style=\"font-family: 'Open Sans', verdana, arial, sans-serif; font-size: 12px; fill: rgb(42, 63, 95); fill-opacity: 1; white-space: pre;\">104</text></g><g class=\"textpoint\" transform=\"translate(0,-7.75)\"><text x=\"135.84\" y=\"386.15\" text-anchor=\"middle\" style=\"font-family: 'Open Sans', verdana, arial, sans-serif; font-size: 12px; fill: rgb(42, 63, 95); fill-opacity: 1; white-space: pre;\">117</text></g><g class=\"textpoint\" transform=\"translate(0,-7.75)\"><text x=\"390.51\" y=\"386.33\" text-anchor=\"middle\" style=\"font-family: 'Open Sans', verdana, arial, sans-serif; font-size: 12px; fill: rgb(42, 63, 95); fill-opacity: 1; white-space: pre;\">243</text></g><g class=\"textpoint\" transform=\"translate(0,-7.75)\"><text x=\"442.94\" y=\"386.4\" text-anchor=\"middle\" style=\"font-family: 'Open Sans', verdana, arial, sans-serif; font-size: 12px; fill: rgb(42, 63, 95); fill-opacity: 1; white-space: pre;\">59</text></g><g class=\"textpoint\" transform=\"translate(0,-7.75)\"><text x=\"299.8\" y=\"386.46\" text-anchor=\"middle\" style=\"font-family: 'Open Sans', verdana, arial, sans-serif; font-size: 12px; fill: rgb(42, 63, 95); fill-opacity: 1; white-space: pre;\">41</text></g><g class=\"textpoint\" transform=\"translate(0,-7.75)\"><text x=\"387.02\" y=\"386.49\" text-anchor=\"middle\" style=\"font-family: 'Open Sans', verdana, arial, sans-serif; font-size: 12px; fill: rgb(42, 63, 95); fill-opacity: 1; white-space: pre;\">277</text></g><g class=\"textpoint\" transform=\"translate(0,-7.75)\"><text x=\"391.27\" y=\"386.72\" text-anchor=\"middle\" style=\"font-family: 'Open Sans', verdana, arial, sans-serif; font-size: 12px; fill: rgb(42, 63, 95); fill-opacity: 1; white-space: pre;\">232</text></g><g class=\"textpoint\" transform=\"translate(0,-7.75)\"><text x=\"335.51\" y=\"387.51\" text-anchor=\"middle\" style=\"font-family: 'Open Sans', verdana, arial, sans-serif; font-size: 12px; fill: rgb(42, 63, 95); fill-opacity: 1; white-space: pre;\">246</text></g><g class=\"textpoint\" transform=\"translate(0,-7.75)\"><text x=\"361.19\" y=\"387.6\" text-anchor=\"middle\" style=\"font-family: 'Open Sans', verdana, arial, sans-serif; font-size: 12px; fill: rgb(42, 63, 95); fill-opacity: 1; white-space: pre;\">52</text></g><g class=\"textpoint\" transform=\"translate(0,-7.75)\"><text x=\"304.81\" y=\"387.74\" text-anchor=\"middle\" style=\"font-family: 'Open Sans', verdana, arial, sans-serif; font-size: 12px; fill: rgb(42, 63, 95); fill-opacity: 1; white-space: pre;\">51</text></g><g class=\"textpoint\" transform=\"translate(0,-7.75)\"><text x=\"291.9\" y=\"387.95\" text-anchor=\"middle\" style=\"font-family: 'Open Sans', verdana, arial, sans-serif; font-size: 12px; fill: rgb(42, 63, 95); fill-opacity: 1; white-space: pre;\">91</text></g><g class=\"textpoint\" transform=\"translate(0,-7.75)\"><text x=\"466.79\" y=\"387.98\" text-anchor=\"middle\" style=\"font-family: 'Open Sans', verdana, arial, sans-serif; font-size: 12px; fill: rgb(42, 63, 95); fill-opacity: 1; white-space: pre;\">138</text></g><g class=\"textpoint\" transform=\"translate(0,-7.75)\"><text x=\"270.32\" y=\"388.08\" text-anchor=\"middle\" style=\"font-family: 'Open Sans', verdana, arial, sans-serif; font-size: 12px; fill: rgb(42, 63, 95); fill-opacity: 1; white-space: pre;\">50</text></g><g class=\"textpoint\" transform=\"translate(0,-7.75)\"><text x=\"417.41\" y=\"388.1\" text-anchor=\"middle\" style=\"font-family: 'Open Sans', verdana, arial, sans-serif; font-size: 12px; fill: rgb(42, 63, 95); fill-opacity: 1; white-space: pre;\">102</text></g><g class=\"textpoint\" transform=\"translate(0,-7.75)\"><text x=\"483.05\" y=\"388.13\" text-anchor=\"middle\" style=\"font-family: 'Open Sans', verdana, arial, sans-serif; font-size: 12px; fill: rgb(42, 63, 95); fill-opacity: 1; white-space: pre;\">236</text></g><g class=\"textpoint\" transform=\"translate(0,-7.75)\"><text x=\"225.34\" y=\"388.14\" text-anchor=\"middle\" style=\"font-family: 'Open Sans', verdana, arial, sans-serif; font-size: 12px; fill: rgb(42, 63, 95); fill-opacity: 1; white-space: pre;\">87</text></g><g class=\"textpoint\" transform=\"translate(0,-7.75)\"><text x=\"326.09\" y=\"388.25\" text-anchor=\"middle\" style=\"font-family: 'Open Sans', verdana, arial, sans-serif; font-size: 12px; fill: rgb(42, 63, 95); fill-opacity: 1; white-space: pre;\">254</text></g><g class=\"textpoint\" transform=\"translate(0,-7.75)\"><text x=\"261.66\" y=\"388.34\" text-anchor=\"middle\" style=\"font-family: 'Open Sans', verdana, arial, sans-serif; font-size: 12px; fill: rgb(42, 63, 95); fill-opacity: 1; white-space: pre;\">81</text></g><g class=\"textpoint\" transform=\"translate(0,-7.75)\"><text x=\"495.51\" y=\"388.36\" text-anchor=\"middle\" style=\"font-family: 'Open Sans', verdana, arial, sans-serif; font-size: 12px; fill: rgb(42, 63, 95); fill-opacity: 1; white-space: pre;\">161</text></g><g class=\"textpoint\" transform=\"translate(0,-7.75)\"><text x=\"413.16\" y=\"388.44\" text-anchor=\"middle\" style=\"font-family: 'Open Sans', verdana, arial, sans-serif; font-size: 12px; fill: rgb(42, 63, 95); fill-opacity: 1; white-space: pre;\">137</text></g><g class=\"textpoint\" transform=\"translate(0,-7.75)\"><text x=\"180.06\" y=\"389.05\" text-anchor=\"middle\" style=\"font-family: 'Open Sans', verdana, arial, sans-serif; font-size: 12px; fill: rgb(42, 63, 95); fill-opacity: 1; white-space: pre;\">258</text></g><g class=\"textpoint\" transform=\"translate(0,-7.75)\"><text x=\"335.81\" y=\"389.15\" text-anchor=\"middle\" style=\"font-family: 'Open Sans', verdana, arial, sans-serif; font-size: 12px; fill: rgb(42, 63, 95); fill-opacity: 1; white-space: pre;\">231</text></g><g class=\"textpoint\" transform=\"translate(0,-7.75)\"><text x=\"323.66\" y=\"389.21\" text-anchor=\"middle\" style=\"font-family: 'Open Sans', verdana, arial, sans-serif; font-size: 12px; fill: rgb(42, 63, 95); fill-opacity: 1; white-space: pre;\">27</text></g><g class=\"textpoint\" transform=\"translate(0,-7.75)\"><text x=\"295.09\" y=\"389.36\" text-anchor=\"middle\" style=\"font-family: 'Open Sans', verdana, arial, sans-serif; font-size: 12px; fill: rgb(42, 63, 95); fill-opacity: 1; white-space: pre;\">80</text></g><g class=\"textpoint\" transform=\"translate(0,-7.75)\"><text x=\"356.33\" y=\"389.47\" text-anchor=\"middle\" style=\"font-family: 'Open Sans', verdana, arial, sans-serif; font-size: 12px; fill: rgb(42, 63, 95); fill-opacity: 1; white-space: pre;\">292</text></g><g class=\"textpoint\" transform=\"translate(0,-7.75)\"><text x=\"358.91\" y=\"389.9\" text-anchor=\"middle\" style=\"font-family: 'Open Sans', verdana, arial, sans-serif; font-size: 12px; fill: rgb(42, 63, 95); fill-opacity: 1; white-space: pre;\">134</text></g><g class=\"textpoint\" transform=\"translate(0,-7.75)\"><text x=\"187.81\" y=\"389.94\" text-anchor=\"middle\" style=\"font-family: 'Open Sans', verdana, arial, sans-serif; font-size: 12px; fill: rgb(42, 63, 95); fill-opacity: 1; white-space: pre;\">23</text></g><g class=\"textpoint\" transform=\"translate(0,-7.75)\"><text x=\"320.92\" y=\"390\" text-anchor=\"middle\" style=\"font-family: 'Open Sans', verdana, arial, sans-serif; font-size: 12px; fill: rgb(42, 63, 95); fill-opacity: 1; white-space: pre;\">21</text></g><g class=\"textpoint\" transform=\"translate(0,-7.75)\"><text x=\"470.59\" y=\"390.1\" text-anchor=\"middle\" style=\"font-family: 'Open Sans', verdana, arial, sans-serif; font-size: 12px; fill: rgb(42, 63, 95); fill-opacity: 1; white-space: pre;\">281</text></g><g class=\"textpoint\" transform=\"translate(0,-7.75)\"><text x=\"358.45\" y=\"390.25\" text-anchor=\"middle\" style=\"font-family: 'Open Sans', verdana, arial, sans-serif; font-size: 12px; fill: rgb(42, 63, 95); fill-opacity: 1; white-space: pre;\">141</text></g><g class=\"textpoint\" transform=\"translate(0,-7.75)\"><text x=\"408.75\" y=\"390.34\" text-anchor=\"middle\" style=\"font-family: 'Open Sans', verdana, arial, sans-serif; font-size: 12px; fill: rgb(42, 63, 95); fill-opacity: 1; white-space: pre;\">201</text></g><g class=\"textpoint\" transform=\"translate(0,-7.75)\"><text x=\"123.38\" y=\"390.42\" text-anchor=\"middle\" style=\"font-family: 'Open Sans', verdana, arial, sans-serif; font-size: 12px; fill: rgb(42, 63, 95); fill-opacity: 1; white-space: pre;\">177</text></g><g class=\"textpoint\" transform=\"translate(0,-7.75)\"><text x=\"466.34\" y=\"390.44\" text-anchor=\"middle\" style=\"font-family: 'Open Sans', verdana, arial, sans-serif; font-size: 12px; fill: rgb(42, 63, 95); fill-opacity: 1; white-space: pre;\">237</text></g><g class=\"textpoint\" transform=\"translate(0,-7.75)\"><text x=\"448.26\" y=\"390.45\" text-anchor=\"middle\" style=\"font-family: 'Open Sans', verdana, arial, sans-serif; font-size: 12px; fill: rgb(42, 63, 95); fill-opacity: 1; white-space: pre;\">285</text></g><g class=\"textpoint\" transform=\"translate(0,-7.75)\"><text x=\"452.21\" y=\"390.45\" text-anchor=\"middle\" style=\"font-family: 'Open Sans', verdana, arial, sans-serif; font-size: 12px; fill: rgb(42, 63, 95); fill-opacity: 1; white-space: pre;\">168</text></g><g class=\"textpoint\" transform=\"translate(0,-7.75)\"><text x=\"180.67\" y=\"390.47\" text-anchor=\"middle\" style=\"font-family: 'Open Sans', verdana, arial, sans-serif; font-size: 12px; fill: rgb(42, 63, 95); fill-opacity: 1; white-space: pre;\">84</text></g><g class=\"textpoint\" transform=\"translate(0,-7.75)\"><text x=\"148.61\" y=\"390.53\" text-anchor=\"middle\" style=\"font-family: 'Open Sans', verdana, arial, sans-serif; font-size: 12px; fill: rgb(42, 63, 95); fill-opacity: 1; white-space: pre;\">118</text></g><g class=\"textpoint\" transform=\"translate(0,-7.75)\"><text x=\"368.48\" y=\"390.64\" text-anchor=\"middle\" style=\"font-family: 'Open Sans', verdana, arial, sans-serif; font-size: 12px; fill: rgb(42, 63, 95); fill-opacity: 1; white-space: pre;\">200</text></g><g class=\"textpoint\" transform=\"translate(0,-7.75)\"><text x=\"333.53\" y=\"390.76\" text-anchor=\"middle\" style=\"font-family: 'Open Sans', verdana, arial, sans-serif; font-size: 12px; fill: rgb(42, 63, 95); fill-opacity: 1; white-space: pre;\">230</text></g><g class=\"textpoint\" transform=\"translate(0,-7.75)\"><text x=\"415.74\" y=\"390.86\" text-anchor=\"middle\" style=\"font-family: 'Open Sans', verdana, arial, sans-serif; font-size: 12px; fill: rgb(42, 63, 95); fill-opacity: 1; white-space: pre;\">280</text></g><g class=\"textpoint\" transform=\"translate(0,-7.75)\"><text x=\"398.42\" y=\"391.02\" text-anchor=\"middle\" style=\"font-family: 'Open Sans', verdana, arial, sans-serif; font-size: 12px; fill: rgb(42, 63, 95); fill-opacity: 1; white-space: pre;\">136</text></g><g class=\"textpoint\" transform=\"translate(0,-7.75)\"><text x=\"262.27\" y=\"391.17\" text-anchor=\"middle\" style=\"font-family: 'Open Sans', verdana, arial, sans-serif; font-size: 12px; fill: rgb(42, 63, 95); fill-opacity: 1; white-space: pre;\">211</text></g><g class=\"textpoint\" transform=\"translate(0,-7.75)\"><text x=\"388.08\" y=\"391.24\" text-anchor=\"middle\" style=\"font-family: 'Open Sans', verdana, arial, sans-serif; font-size: 12px; fill: rgb(42, 63, 95); fill-opacity: 1; white-space: pre;\">64</text></g><g class=\"textpoint\" transform=\"translate(0,-7.75)\"><text x=\"169.58\" y=\"391.31\" text-anchor=\"middle\" style=\"font-family: 'Open Sans', verdana, arial, sans-serif; font-size: 12px; fill: rgb(42, 63, 95); fill-opacity: 1; white-space: pre;\">85</text></g><g class=\"textpoint\" transform=\"translate(0,-7.75)\"><text x=\"375.78\" y=\"391.43\" text-anchor=\"middle\" style=\"font-family: 'Open Sans', verdana, arial, sans-serif; font-size: 12px; fill: rgb(42, 63, 95); fill-opacity: 1; white-space: pre;\">36</text></g><g class=\"textpoint\" transform=\"translate(0,-7.75)\"><text x=\"395.38\" y=\"391.47\" text-anchor=\"middle\" style=\"font-family: 'Open Sans', verdana, arial, sans-serif; font-size: 12px; fill: rgb(42, 63, 95); fill-opacity: 1; white-space: pre;\">286</text></g><g class=\"textpoint\" transform=\"translate(0,-7.75)\"><text x=\"184.47\" y=\"392.28\" text-anchor=\"middle\" style=\"font-family: 'Open Sans', verdana, arial, sans-serif; font-size: 12px; fill: rgb(42, 63, 95); fill-opacity: 1; white-space: pre;\">263</text></g><g class=\"textpoint\" transform=\"translate(0,-7.75)\"><text x=\"273.36\" y=\"392.37\" text-anchor=\"middle\" style=\"font-family: 'Open Sans', verdana, arial, sans-serif; font-size: 12px; fill: rgb(42, 63, 95); fill-opacity: 1; white-space: pre;\">90</text></g><g class=\"textpoint\" transform=\"translate(0,-7.75)\"><text x=\"291.59\" y=\"393.26\" text-anchor=\"middle\" style=\"font-family: 'Open Sans', verdana, arial, sans-serif; font-size: 12px; fill: rgb(42, 63, 95); fill-opacity: 1; white-space: pre;\">35</text></g><g class=\"textpoint\" transform=\"translate(0,-7.75)\"><text x=\"300.41\" y=\"393.29\" text-anchor=\"middle\" style=\"font-family: 'Open Sans', verdana, arial, sans-serif; font-size: 12px; fill: rgb(42, 63, 95); fill-opacity: 1; white-space: pre;\">89</text></g><g class=\"textpoint\" transform=\"translate(0,-7.75)\"><text x=\"271.69\" y=\"393.45\" text-anchor=\"middle\" style=\"font-family: 'Open Sans', verdana, arial, sans-serif; font-size: 12px; fill: rgb(42, 63, 95); fill-opacity: 1; white-space: pre;\">68</text></g><g class=\"textpoint\" transform=\"translate(0,-7.75)\"><text x=\"343.26\" y=\"393.79\" text-anchor=\"middle\" style=\"font-family: 'Open Sans', verdana, arial, sans-serif; font-size: 12px; fill: rgb(42, 63, 95); fill-opacity: 1; white-space: pre;\">55</text></g><g class=\"textpoint\" transform=\"translate(0,-7.75)\"><text x=\"257.1\" y=\"393.8\" text-anchor=\"middle\" style=\"font-family: 'Open Sans', verdana, arial, sans-serif; font-size: 12px; fill: rgb(42, 63, 95); fill-opacity: 1; white-space: pre;\">20</text></g><g class=\"textpoint\" transform=\"translate(0,-7.75)\"><text x=\"366.35\" y=\"393.81\" text-anchor=\"middle\" style=\"font-family: 'Open Sans', verdana, arial, sans-serif; font-size: 12px; fill: rgb(42, 63, 95); fill-opacity: 1; white-space: pre;\">33</text></g><g class=\"textpoint\" transform=\"translate(0,-7.75)\"><text x=\"393.86\" y=\"393.89\" text-anchor=\"middle\" style=\"font-family: 'Open Sans', verdana, arial, sans-serif; font-size: 12px; fill: rgb(42, 63, 95); fill-opacity: 1; white-space: pre;\">8</text></g><g class=\"textpoint\" transform=\"translate(0,-7.75)\"><text x=\"331.86\" y=\"394.12\" text-anchor=\"middle\" style=\"font-family: 'Open Sans', verdana, arial, sans-serif; font-size: 12px; fill: rgb(42, 63, 95); fill-opacity: 1; white-space: pre;\">203</text></g><g class=\"textpoint\" transform=\"translate(0,-7.75)\"><text x=\"214.71\" y=\"394.18\" text-anchor=\"middle\" style=\"font-family: 'Open Sans', verdana, arial, sans-serif; font-size: 12px; fill: rgb(42, 63, 95); fill-opacity: 1; white-space: pre;\">121</text></g><g class=\"textpoint\" transform=\"translate(0,-7.75)\"><text x=\"383.83\" y=\"394.19\" text-anchor=\"middle\" style=\"font-family: 'Open Sans', verdana, arial, sans-serif; font-size: 12px; fill: rgb(42, 63, 95); fill-opacity: 1; white-space: pre;\">7</text></g><g class=\"textpoint\" transform=\"translate(0,-7.75)\"><text x=\"347.06\" y=\"394.33\" text-anchor=\"middle\" style=\"font-family: 'Open Sans', verdana, arial, sans-serif; font-size: 12px; fill: rgb(42, 63, 95); fill-opacity: 1; white-space: pre;\">92</text></g><g class=\"textpoint\" transform=\"translate(0,-7.75)\"><text x=\"378.51\" y=\"394.62\" text-anchor=\"middle\" style=\"font-family: 'Open Sans', verdana, arial, sans-serif; font-size: 12px; fill: rgb(42, 63, 95); fill-opacity: 1; white-space: pre;\">32</text></g><g class=\"textpoint\" transform=\"translate(0,-7.75)\"><text x=\"110.77\" y=\"394.65\" text-anchor=\"middle\" style=\"font-family: 'Open Sans', verdana, arial, sans-serif; font-size: 12px; fill: rgb(42, 63, 95); fill-opacity: 1; white-space: pre;\">216</text></g><g class=\"textpoint\" transform=\"translate(0,-7.75)\"><text x=\"323.66\" y=\"394.89\" text-anchor=\"middle\" style=\"font-family: 'Open Sans', verdana, arial, sans-serif; font-size: 12px; fill: rgb(42, 63, 95); fill-opacity: 1; white-space: pre;\">250</text></g><g class=\"textpoint\" transform=\"translate(0,-7.75)\"><text x=\"443.09\" y=\"394.94\" text-anchor=\"middle\" style=\"font-family: 'Open Sans', verdana, arial, sans-serif; font-size: 12px; fill: rgb(42, 63, 95); fill-opacity: 1; white-space: pre;\">240</text></g><g class=\"textpoint\" transform=\"translate(0,-7.75)\"><text x=\"372.28\" y=\"395.05\" text-anchor=\"middle\" style=\"font-family: 'Open Sans', verdana, arial, sans-serif; font-size: 12px; fill: rgb(42, 63, 95); fill-opacity: 1; white-space: pre;\">156</text></g><g class=\"textpoint\" transform=\"translate(0,-7.75)\"><text x=\"415.89\" y=\"395.05\" text-anchor=\"middle\" style=\"font-family: 'Open Sans', verdana, arial, sans-serif; font-size: 12px; fill: rgb(42, 63, 95); fill-opacity: 1; white-space: pre;\">139</text></g><g class=\"textpoint\" transform=\"translate(0,-7.75)\"><text x=\"422.58\" y=\"395.08\" text-anchor=\"middle\" style=\"font-family: 'Open Sans', verdana, arial, sans-serif; font-size: 12px; fill: rgb(42, 63, 95); fill-opacity: 1; white-space: pre;\">4</text></g><g class=\"textpoint\" transform=\"translate(0,-7.75)\"><text x=\"343.87\" y=\"395.34\" text-anchor=\"middle\" style=\"font-family: 'Open Sans', verdana, arial, sans-serif; font-size: 12px; fill: rgb(42, 63, 95); fill-opacity: 1; white-space: pre;\">157</text></g><g class=\"textpoint\" transform=\"translate(0,-7.75)\"><text x=\"431.69\" y=\"395.63\" text-anchor=\"middle\" style=\"font-family: 'Open Sans', verdana, arial, sans-serif; font-size: 12px; fill: rgb(42, 63, 95); fill-opacity: 1; white-space: pre;\">77</text></g><g class=\"textpoint\" transform=\"translate(0,-7.75)\"><text x=\"335.81\" y=\"395.65\" text-anchor=\"middle\" style=\"font-family: 'Open Sans', verdana, arial, sans-serif; font-size: 12px; fill: rgb(42, 63, 95); fill-opacity: 1; white-space: pre;\">56</text></g><g class=\"textpoint\" transform=\"translate(0,-7.75)\"><text x=\"320.16\" y=\"395.77\" text-anchor=\"middle\" style=\"font-family: 'Open Sans', verdana, arial, sans-serif; font-size: 12px; fill: rgb(42, 63, 95); fill-opacity: 1; white-space: pre;\">70</text></g><g class=\"textpoint\" transform=\"translate(0,-7.75)\"><text x=\"340.67\" y=\"395.8\" text-anchor=\"middle\" style=\"font-family: 'Open Sans', verdana, arial, sans-serif; font-size: 12px; fill: rgb(42, 63, 95); fill-opacity: 1; white-space: pre;\">251</text></g><g class=\"textpoint\" transform=\"translate(0,-7.75)\"><text x=\"353.29\" y=\"395.84\" text-anchor=\"middle\" style=\"font-family: 'Open Sans', verdana, arial, sans-serif; font-size: 12px; fill: rgb(42, 63, 95); fill-opacity: 1; white-space: pre;\">25</text></g><g class=\"textpoint\" transform=\"translate(0,-7.75)\"><text x=\"504.93\" y=\"396.23\" text-anchor=\"middle\" style=\"font-family: 'Open Sans', verdana, arial, sans-serif; font-size: 12px; fill: rgb(42, 63, 95); fill-opacity: 1; white-space: pre;\">167</text></g><g class=\"textpoint\" transform=\"translate(0,-7.75)\"><text x=\"303.75\" y=\"396.37\" text-anchor=\"middle\" style=\"font-family: 'Open Sans', verdana, arial, sans-serif; font-size: 12px; fill: rgb(42, 63, 95); fill-opacity: 1; white-space: pre;\">210</text></g><g class=\"textpoint\" transform=\"translate(0,-7.75)\"><text x=\"509.95\" y=\"396.76\" text-anchor=\"middle\" style=\"font-family: 'Open Sans', verdana, arial, sans-serif; font-size: 12px; fill: rgb(42, 63, 95); fill-opacity: 1; white-space: pre;\">238</text></g><g class=\"textpoint\" transform=\"translate(0,-7.75)\"><text x=\"370.61\" y=\"396.92\" text-anchor=\"middle\" style=\"font-family: 'Open Sans', verdana, arial, sans-serif; font-size: 12px; fill: rgb(42, 63, 95); fill-opacity: 1; white-space: pre;\">58</text></g><g class=\"textpoint\" transform=\"translate(0,-7.75)\"><text x=\"499.01\" y=\"396.93\" text-anchor=\"middle\" style=\"font-family: 'Open Sans', verdana, arial, sans-serif; font-size: 12px; fill: rgb(42, 63, 95); fill-opacity: 1; white-space: pre;\">282</text></g><g class=\"textpoint\" transform=\"translate(0,-7.75)\"><text x=\"453.12\" y=\"396.98\" text-anchor=\"middle\" style=\"font-family: 'Open Sans', verdana, arial, sans-serif; font-size: 12px; fill: rgb(42, 63, 95); fill-opacity: 1; white-space: pre;\">235</text></g><g class=\"textpoint\" transform=\"translate(0,-7.75)\"><text x=\"372.89\" y=\"397.13\" text-anchor=\"middle\" style=\"font-family: 'Open Sans', verdana, arial, sans-serif; font-size: 12px; fill: rgb(42, 63, 95); fill-opacity: 1; white-space: pre;\">53</text></g><g class=\"textpoint\" transform=\"translate(0,-7.75)\"><text x=\"334.14\" y=\"397.32\" text-anchor=\"middle\" style=\"font-family: 'Open Sans', verdana, arial, sans-serif; font-size: 12px; fill: rgb(42, 63, 95); fill-opacity: 1; white-space: pre;\">146</text></g><g class=\"textpoint\" transform=\"translate(0,-7.75)\"><text x=\"314.99\" y=\"397.45\" text-anchor=\"middle\" style=\"font-family: 'Open Sans', verdana, arial, sans-serif; font-size: 12px; fill: rgb(42, 63, 95); fill-opacity: 1; white-space: pre;\">14</text></g><g class=\"textpoint\" transform=\"translate(0,-7.75)\"><text x=\"428.2\" y=\"397.69\" text-anchor=\"middle\" style=\"font-family: 'Open Sans', verdana, arial, sans-serif; font-size: 12px; fill: rgb(42, 63, 95); fill-opacity: 1; white-space: pre;\">158</text></g><g class=\"textpoint\" transform=\"translate(0,-7.75)\"><text x=\"386.11\" y=\"397.72\" text-anchor=\"middle\" style=\"font-family: 'Open Sans', verdana, arial, sans-serif; font-size: 12px; fill: rgb(42, 63, 95); fill-opacity: 1; white-space: pre;\">57</text></g><g class=\"textpoint\" transform=\"translate(0,-7.75)\"><text x=\"407.53\" y=\"397.73\" text-anchor=\"middle\" style=\"font-family: 'Open Sans', verdana, arial, sans-serif; font-size: 12px; fill: rgb(42, 63, 95); fill-opacity: 1; white-space: pre;\">76</text></g><g class=\"textpoint\" transform=\"translate(0,-7.75)\"><text x=\"347.66\" y=\"397.8\" text-anchor=\"middle\" style=\"font-family: 'Open Sans', verdana, arial, sans-serif; font-size: 12px; fill: rgb(42, 63, 95); fill-opacity: 1; white-space: pre;\">125</text></g><g class=\"textpoint\" transform=\"translate(0,-7.75)\"><text x=\"239.32\" y=\"398.01\" text-anchor=\"middle\" style=\"font-family: 'Open Sans', verdana, arial, sans-serif; font-size: 12px; fill: rgb(42, 63, 95); fill-opacity: 1; white-space: pre;\">124</text></g><g class=\"textpoint\" transform=\"translate(0,-7.75)\"><text x=\"460.26\" y=\"398.06\" text-anchor=\"middle\" style=\"font-family: 'Open Sans', verdana, arial, sans-serif; font-size: 12px; fill: rgb(42, 63, 95); fill-opacity: 1; white-space: pre;\">242</text></g><g class=\"textpoint\" transform=\"translate(0,-7.75)\"><text x=\"386.56\" y=\"398.09\" text-anchor=\"middle\" style=\"font-family: 'Open Sans', verdana, arial, sans-serif; font-size: 12px; fill: rgb(42, 63, 95); fill-opacity: 1; white-space: pre;\">37</text></g><g class=\"textpoint\" transform=\"translate(0,-7.75)\"><text x=\"464.36\" y=\"398.22\" text-anchor=\"middle\" style=\"font-family: 'Open Sans', verdana, arial, sans-serif; font-size: 12px; fill: rgb(42, 63, 95); fill-opacity: 1; white-space: pre;\">160</text></g><g class=\"textpoint\" transform=\"translate(0,-7.75)\"><text x=\"319.4\" y=\"398.23\" text-anchor=\"middle\" style=\"font-family: 'Open Sans', verdana, arial, sans-serif; font-size: 12px; fill: rgb(42, 63, 95); fill-opacity: 1; white-space: pre;\">105</text></g><g class=\"textpoint\" transform=\"translate(0,-7.75)\"><text x=\"568.6\" y=\"398.26\" text-anchor=\"middle\" style=\"font-family: 'Open Sans', verdana, arial, sans-serif; font-size: 12px; fill: rgb(42, 63, 95); fill-opacity: 1; white-space: pre;\">165</text></g><g class=\"textpoint\" transform=\"translate(0,-7.75)\"><text x=\"411.79\" y=\"398.8\" text-anchor=\"middle\" style=\"font-family: 'Open Sans', verdana, arial, sans-serif; font-size: 12px; fill: rgb(42, 63, 95); fill-opacity: 1; white-space: pre;\">204</text></g><g class=\"textpoint\" transform=\"translate(0,-7.75)\"><text x=\"359.06\" y=\"398.91\" text-anchor=\"middle\" style=\"font-family: 'Open Sans', verdana, arial, sans-serif; font-size: 12px; fill: rgb(42, 63, 95); fill-opacity: 1; white-space: pre;\">103</text></g><g class=\"textpoint\" transform=\"translate(0,-7.75)\"><text x=\"327.61\" y=\"398.94\" text-anchor=\"middle\" style=\"font-family: 'Open Sans', verdana, arial, sans-serif; font-size: 12px; fill: rgb(42, 63, 95); fill-opacity: 1; white-space: pre;\">171</text></g><g class=\"textpoint\" transform=\"translate(0,-7.75)\"><text x=\"478.8\" y=\"399.01\" text-anchor=\"middle\" style=\"font-family: 'Open Sans', verdana, arial, sans-serif; font-size: 12px; fill: rgb(42, 63, 95); fill-opacity: 1; white-space: pre;\">239</text></g><g class=\"textpoint\" transform=\"translate(0,-7.75)\"><text x=\"510.1\" y=\"399.02\" text-anchor=\"middle\" style=\"font-family: 'Open Sans', verdana, arial, sans-serif; font-size: 12px; fill: rgb(42, 63, 95); fill-opacity: 1; white-space: pre;\">162</text></g><g class=\"textpoint\" transform=\"translate(0,-7.75)\"><text x=\"267.43\" y=\"399.05\" text-anchor=\"middle\" style=\"font-family: 'Open Sans', verdana, arial, sans-serif; font-size: 12px; fill: rgb(42, 63, 95); fill-opacity: 1; white-space: pre;\">16</text></g><g class=\"textpoint\" transform=\"translate(0,-7.75)\"><text x=\"520.89\" y=\"399.09\" text-anchor=\"middle\" style=\"font-family: 'Open Sans', verdana, arial, sans-serif; font-size: 12px; fill: rgb(42, 63, 95); fill-opacity: 1; white-space: pre;\">166</text></g><g class=\"textpoint\" transform=\"translate(0,-7.75)\"><text x=\"346.9\" y=\"399.14\" text-anchor=\"middle\" style=\"font-family: 'Open Sans', verdana, arial, sans-serif; font-size: 12px; fill: rgb(42, 63, 95); fill-opacity: 1; white-space: pre;\">79</text></g><g class=\"textpoint\" transform=\"translate(0,-7.75)\"><text x=\"297.37\" y=\"399.31\" text-anchor=\"middle\" style=\"font-family: 'Open Sans', verdana, arial, sans-serif; font-size: 12px; fill: rgb(42, 63, 95); fill-opacity: 1; white-space: pre;\">66</text></g><g class=\"textpoint\" transform=\"translate(0,-7.75)\"><text x=\"382.46\" y=\"399.47\" text-anchor=\"middle\" style=\"font-family: 'Open Sans', verdana, arial, sans-serif; font-size: 12px; fill: rgb(42, 63, 95); fill-opacity: 1; white-space: pre;\">101</text></g><g class=\"textpoint\" transform=\"translate(0,-7.75)\"><text x=\"428.35\" y=\"399.48\" text-anchor=\"middle\" style=\"font-family: 'Open Sans', verdana, arial, sans-serif; font-size: 12px; fill: rgb(42, 63, 95); fill-opacity: 1; white-space: pre;\">169</text></g><g class=\"textpoint\" transform=\"translate(0,-7.75)\"><text x=\"365.29\" y=\"399.51\" text-anchor=\"middle\" style=\"font-family: 'Open Sans', verdana, arial, sans-serif; font-size: 12px; fill: rgb(42, 63, 95); fill-opacity: 1; white-space: pre;\">247</text></g><g class=\"textpoint\" transform=\"translate(0,-7.75)\"><text x=\"442.79\" y=\"399.59\" text-anchor=\"middle\" style=\"font-family: 'Open Sans', verdana, arial, sans-serif; font-size: 12px; fill: rgb(42, 63, 95); fill-opacity: 1; white-space: pre;\">140</text></g><g class=\"textpoint\" transform=\"translate(0,-7.75)\"><text x=\"451.9\" y=\"399.63\" text-anchor=\"middle\" style=\"font-family: 'Open Sans', verdana, arial, sans-serif; font-size: 12px; fill: rgb(42, 63, 95); fill-opacity: 1; white-space: pre;\">75</text></g><g class=\"textpoint\" transform=\"translate(0,-7.75)\"><text x=\"302.84\" y=\"400.06\" text-anchor=\"middle\" style=\"font-family: 'Open Sans', verdana, arial, sans-serif; font-size: 12px; fill: rgb(42, 63, 95); fill-opacity: 1; white-space: pre;\">17</text></g><g class=\"textpoint\" transform=\"translate(0,-7.75)\"><text x=\"404.34\" y=\"400.08\" text-anchor=\"middle\" style=\"font-family: 'Open Sans', verdana, arial, sans-serif; font-size: 12px; fill: rgb(42, 63, 95); fill-opacity: 1; white-space: pre;\">3</text></g><g class=\"textpoint\" transform=\"translate(0,-7.75)\"><text x=\"368.48\" y=\"400.31\" text-anchor=\"middle\" style=\"font-family: 'Open Sans', verdana, arial, sans-serif; font-size: 12px; fill: rgb(42, 63, 95); fill-opacity: 1; white-space: pre;\">143</text></g><g class=\"textpoint\" transform=\"translate(0,-7.75)\"><text x=\"321.53\" y=\"400.63\" text-anchor=\"middle\" style=\"font-family: 'Open Sans', verdana, arial, sans-serif; font-size: 12px; fill: rgb(42, 63, 95); fill-opacity: 1; white-space: pre;\">147</text></g><g class=\"textpoint\" transform=\"translate(0,-7.75)\"><text x=\"391.27\" y=\"400.63\" text-anchor=\"middle\" style=\"font-family: 'Open Sans', verdana, arial, sans-serif; font-size: 12px; fill: rgb(42, 63, 95); fill-opacity: 1; white-space: pre;\">208</text></g><g class=\"textpoint\" transform=\"translate(0,-7.75)\"><text x=\"149.37\" y=\"400.69\" text-anchor=\"middle\" style=\"font-family: 'Open Sans', verdana, arial, sans-serif; font-size: 12px; fill: rgb(42, 63, 95); fill-opacity: 1; white-space: pre;\">116</text></g><g class=\"textpoint\" transform=\"translate(0,-7.75)\"><text x=\"419.54\" y=\"400.82\" text-anchor=\"middle\" style=\"font-family: 'Open Sans', verdana, arial, sans-serif; font-size: 12px; fill: rgb(42, 63, 95); fill-opacity: 1; white-space: pre;\">142</text></g><g class=\"textpoint\" transform=\"translate(0,-7.75)\"><text x=\"376.84\" y=\"400.92\" text-anchor=\"middle\" style=\"font-family: 'Open Sans', verdana, arial, sans-serif; font-size: 12px; fill: rgb(42, 63, 95); fill-opacity: 1; white-space: pre;\">11</text></g><g class=\"textpoint\" transform=\"translate(0,-7.75)\"><text x=\"322.14\" y=\"401\" text-anchor=\"middle\" style=\"font-family: 'Open Sans', verdana, arial, sans-serif; font-size: 12px; fill: rgb(42, 63, 95); fill-opacity: 1; white-space: pre;\">24</text></g><g class=\"textpoint\" transform=\"translate(0,-7.75)\"><text x=\"212.58\" y=\"401.03\" text-anchor=\"middle\" style=\"font-family: 'Open Sans', verdana, arial, sans-serif; font-size: 12px; fill: rgb(42, 63, 95); fill-opacity: 1; white-space: pre;\">257</text></g><g class=\"textpoint\" transform=\"translate(0,-7.75)\"><text x=\"473.94\" y=\"401.16\" text-anchor=\"middle\" style=\"font-family: 'Open Sans', verdana, arial, sans-serif; font-size: 12px; fill: rgb(42, 63, 95); fill-opacity: 1; white-space: pre;\">241</text></g><g class=\"textpoint\" transform=\"translate(0,-7.75)\"><text x=\"299.04\" y=\"401.19\" text-anchor=\"middle\" style=\"font-family: 'Open Sans', verdana, arial, sans-serif; font-size: 12px; fill: rgb(42, 63, 95); fill-opacity: 1; white-space: pre;\">154</text></g><g class=\"textpoint\" transform=\"translate(0,-7.75)\"><text x=\"304.21\" y=\"401.35\" text-anchor=\"middle\" style=\"font-family: 'Open Sans', verdana, arial, sans-serif; font-size: 12px; fill: rgb(42, 63, 95); fill-opacity: 1; white-space: pre;\">26</text></g><g class=\"textpoint\" transform=\"translate(0,-7.75)\"><text x=\"436.4\" y=\"401.45\" text-anchor=\"middle\" style=\"font-family: 'Open Sans', verdana, arial, sans-serif; font-size: 12px; fill: rgb(42, 63, 95); fill-opacity: 1; white-space: pre;\">131</text></g><g class=\"textpoint\" transform=\"translate(0,-7.75)\"><text x=\"375.93\" y=\"401.81\" text-anchor=\"middle\" style=\"font-family: 'Open Sans', verdana, arial, sans-serif; font-size: 12px; fill: rgb(42, 63, 95); fill-opacity: 1; white-space: pre;\">244</text></g><g class=\"textpoint\" transform=\"translate(0,-7.75)\"><text x=\"373.5\" y=\"401.99\" text-anchor=\"middle\" style=\"font-family: 'Open Sans', verdana, arial, sans-serif; font-size: 12px; fill: rgb(42, 63, 95); fill-opacity: 1; white-space: pre;\">12</text></g><g class=\"textpoint\" transform=\"translate(0,-7.75)\"><text x=\"327.15\" y=\"402.17\" text-anchor=\"middle\" style=\"font-family: 'Open Sans', verdana, arial, sans-serif; font-size: 12px; fill: rgb(42, 63, 95); fill-opacity: 1; white-space: pre;\">13</text></g><g class=\"textpoint\" transform=\"translate(0,-7.75)\"><text x=\"347.97\" y=\"402.25\" text-anchor=\"middle\" style=\"font-family: 'Open Sans', verdana, arial, sans-serif; font-size: 12px; fill: rgb(42, 63, 95); fill-opacity: 1; white-space: pre;\">132</text></g><g class=\"textpoint\" transform=\"translate(0,-7.75)\"><text x=\"301.32\" y=\"402.47\" text-anchor=\"middle\" style=\"font-family: 'Open Sans', verdana, arial, sans-serif; font-size: 12px; fill: rgb(42, 63, 95); fill-opacity: 1; white-space: pre;\">148</text></g><g class=\"textpoint\" transform=\"translate(0,-7.75)\"><text x=\"348.42\" y=\"402.81\" text-anchor=\"middle\" style=\"font-family: 'Open Sans', verdana, arial, sans-serif; font-size: 12px; fill: rgb(42, 63, 95); fill-opacity: 1; white-space: pre;\">209</text></g><g class=\"textpoint\" transform=\"translate(0,-7.75)\"><text x=\"256.95\" y=\"403.09\" text-anchor=\"middle\" style=\"font-family: 'Open Sans', verdana, arial, sans-serif; font-size: 12px; fill: rgb(42, 63, 95); fill-opacity: 1; white-space: pre;\">122</text></g><g class=\"textpoint\" transform=\"translate(0,-7.75)\"><text x=\"291.14\" y=\"403.09\" text-anchor=\"middle\" style=\"font-family: 'Open Sans', verdana, arial, sans-serif; font-size: 12px; fill: rgb(42, 63, 95); fill-opacity: 1; white-space: pre;\">126</text></g><g class=\"textpoint\" transform=\"translate(0,-7.75)\"><text x=\"358.3\" y=\"403.49\" text-anchor=\"middle\" style=\"font-family: 'Open Sans', verdana, arial, sans-serif; font-size: 12px; fill: rgb(42, 63, 95); fill-opacity: 1; white-space: pre;\">72</text></g><g class=\"textpoint\" transform=\"translate(0,-7.75)\"><text x=\"545.5\" y=\"403.66\" text-anchor=\"middle\" style=\"font-family: 'Open Sans', verdana, arial, sans-serif; font-size: 12px; fill: rgb(42, 63, 95); fill-opacity: 1; white-space: pre;\">163</text></g><g class=\"textpoint\" transform=\"translate(0,-7.75)\"><text x=\"461.32\" y=\"403.78\" text-anchor=\"middle\" style=\"font-family: 'Open Sans', verdana, arial, sans-serif; font-size: 12px; fill: rgb(42, 63, 95); fill-opacity: 1; white-space: pre;\">62</text></g><g class=\"textpoint\" transform=\"translate(0,-7.75)\"><text x=\"365.44\" y=\"404.16\" text-anchor=\"middle\" style=\"font-family: 'Open Sans', verdana, arial, sans-serif; font-size: 12px; fill: rgb(42, 63, 95); fill-opacity: 1; white-space: pre;\">30</text></g><g class=\"textpoint\" transform=\"translate(0,-7.75)\"><text x=\"260.14\" y=\"404.31\" text-anchor=\"middle\" style=\"font-family: 'Open Sans', verdana, arial, sans-serif; font-size: 12px; fill: rgb(42, 63, 95); fill-opacity: 1; white-space: pre;\">88</text></g><g class=\"textpoint\" transform=\"translate(0,-7.75)\"><text x=\"382.31\" y=\"404.33\" text-anchor=\"middle\" style=\"font-family: 'Open Sans', verdana, arial, sans-serif; font-size: 12px; fill: rgb(42, 63, 95); fill-opacity: 1; white-space: pre;\">127</text></g><g class=\"textpoint\" transform=\"translate(0,-7.75)\"><text x=\"419.23\" y=\"404.33\" text-anchor=\"middle\" style=\"font-family: 'Open Sans', verdana, arial, sans-serif; font-size: 12px; fill: rgb(42, 63, 95); fill-opacity: 1; white-space: pre;\">130</text></g><g class=\"textpoint\" transform=\"translate(0,-7.75)\"><text x=\"446.89\" y=\"404.4\" text-anchor=\"middle\" style=\"font-family: 'Open Sans', verdana, arial, sans-serif; font-size: 12px; fill: rgb(42, 63, 95); fill-opacity: 1; white-space: pre;\">135</text></g><g class=\"textpoint\" transform=\"translate(0,-7.75)\"><text x=\"427.44\" y=\"404.48\" text-anchor=\"middle\" style=\"font-family: 'Open Sans', verdana, arial, sans-serif; font-size: 12px; fill: rgb(42, 63, 95); fill-opacity: 1; white-space: pre;\">133</text></g><g class=\"textpoint\" transform=\"translate(0,-7.75)\"><text x=\"380.94\" y=\"404.73\" text-anchor=\"middle\" style=\"font-family: 'Open Sans', verdana, arial, sans-serif; font-size: 12px; fill: rgb(42, 63, 95); fill-opacity: 1; white-space: pre;\">145</text></g><g class=\"textpoint\" transform=\"translate(0,-7.75)\"><text x=\"421.97\" y=\"404.95\" text-anchor=\"middle\" style=\"font-family: 'Open Sans', verdana, arial, sans-serif; font-size: 12px; fill: rgb(42, 63, 95); fill-opacity: 1; white-space: pre;\">144</text></g><g class=\"textpoint\" transform=\"translate(0,-7.75)\"><text x=\"559.94\" y=\"404.96\" text-anchor=\"middle\" style=\"font-family: 'Open Sans', verdana, arial, sans-serif; font-size: 12px; fill: rgb(42, 63, 95); fill-opacity: 1; white-space: pre;\">164</text></g><g class=\"textpoint\" transform=\"translate(0,-7.75)\"><text x=\"424.1\" y=\"404.99\" text-anchor=\"middle\" style=\"font-family: 'Open Sans', verdana, arial, sans-serif; font-size: 12px; fill: rgb(42, 63, 95); fill-opacity: 1; white-space: pre;\">74</text></g><g class=\"textpoint\" transform=\"translate(0,-7.75)\"><text x=\"342.04\" y=\"407.59\" text-anchor=\"middle\" style=\"font-family: 'Open Sans', verdana, arial, sans-serif; font-size: 12px; fill: rgb(42, 63, 95); fill-opacity: 1; white-space: pre;\">28</text></g><g class=\"textpoint\" transform=\"translate(0,-7.75)\"><text x=\"350.55\" y=\"407.59\" text-anchor=\"middle\" style=\"font-family: 'Open Sans', verdana, arial, sans-serif; font-size: 12px; fill: rgb(42, 63, 95); fill-opacity: 1; white-space: pre;\">29</text></g><g class=\"textpoint\" transform=\"translate(0,-7.75)\"><text x=\"214.1\" y=\"407.59\" text-anchor=\"middle\" style=\"font-family: 'Open Sans', verdana, arial, sans-serif; font-size: 12px; fill: rgb(42, 63, 95); fill-opacity: 1; white-space: pre;\">46</text></g><g class=\"textpoint\" transform=\"translate(0,-7.75)\"><text x=\"180.21\" y=\"407.59\" text-anchor=\"middle\" style=\"font-family: 'Open Sans', verdana, arial, sans-serif; font-size: 12px; fill: rgb(42, 63, 95); fill-opacity: 1; white-space: pre;\">47</text></g><g class=\"textpoint\" transform=\"translate(0,-7.75)\"><text x=\"502.5\" y=\"407.59\" text-anchor=\"middle\" style=\"font-family: 'Open Sans', verdana, arial, sans-serif; font-size: 12px; fill: rgb(42, 63, 95); fill-opacity: 1; white-space: pre;\">61</text></g><g class=\"textpoint\" transform=\"translate(0,-7.75)\"><text x=\"426.68\" y=\"407.59\" text-anchor=\"middle\" style=\"font-family: 'Open Sans', verdana, arial, sans-serif; font-size: 12px; fill: rgb(42, 63, 95); fill-opacity: 1; white-space: pre;\">128</text></g><g class=\"textpoint\" transform=\"translate(0,-7.75)\"><text x=\"463.45\" y=\"407.59\" text-anchor=\"middle\" style=\"font-family: 'Open Sans', verdana, arial, sans-serif; font-size: 12px; fill: rgb(42, 63, 95); fill-opacity: 1; white-space: pre;\">129</text></g><g class=\"textpoint\" transform=\"translate(0,-7.75)\"><text x=\"454.79\" y=\"407.59\" text-anchor=\"middle\" style=\"font-family: 'Open Sans', verdana, arial, sans-serif; font-size: 12px; fill: rgb(42, 63, 95); fill-opacity: 1; white-space: pre;\">205</text></g><g class=\"textpoint\" transform=\"translate(0,-7.75)\"><text x=\"479.71\" y=\"407.59\" text-anchor=\"middle\" style=\"font-family: 'Open Sans', verdana, arial, sans-serif; font-size: 12px; fill: rgb(42, 63, 95); fill-opacity: 1; white-space: pre;\">206</text></g></g></g></g></g><g class=\"overplot\"/><path class=\"xlines-above crisp\" d=\"M0,0\" style=\"fill: none;\"/><path class=\"ylines-above crisp\" d=\"M0,0\" style=\"fill: none;\"/><g class=\"overlines-above\"/><g class=\"xaxislayer-above\"><g class=\"xtick\"><text text-anchor=\"middle\" x=\"0\" y=\"460\" transform=\"translate(72.2,0)\" style=\"font-family: 'Open Sans', verdana, arial, sans-serif; font-size: 12px; fill: rgb(42, 63, 95); fill-opacity: 1; white-space: pre; opacity: 1;\">0</text></g><g class=\"xtick\"><text text-anchor=\"middle\" x=\"0\" y=\"460\" style=\"font-family: 'Open Sans', verdana, arial, sans-serif; font-size: 12px; fill: rgb(42, 63, 95); fill-opacity: 1; white-space: pre; opacity: 1;\" transform=\"translate(148.17000000000002,0)\">5</text></g><g class=\"xtick\"><text text-anchor=\"middle\" x=\"0\" y=\"460\" style=\"font-family: 'Open Sans', verdana, arial, sans-serif; font-size: 12px; fill: rgb(42, 63, 95); fill-opacity: 1; white-space: pre; opacity: 1;\" transform=\"translate(224.15,0)\">10</text></g><g class=\"xtick\"><text text-anchor=\"middle\" x=\"0\" y=\"460\" style=\"font-family: 'Open Sans', verdana, arial, sans-serif; font-size: 12px; fill: rgb(42, 63, 95); fill-opacity: 1; white-space: pre; opacity: 1;\" transform=\"translate(300.12,0)\">15</text></g><g class=\"xtick\"><text text-anchor=\"middle\" x=\"0\" y=\"460\" style=\"font-family: 'Open Sans', verdana, arial, sans-serif; font-size: 12px; fill: rgb(42, 63, 95); fill-opacity: 1; white-space: pre; opacity: 1;\" transform=\"translate(376.1,0)\">20</text></g><g class=\"xtick\"><text text-anchor=\"middle\" x=\"0\" y=\"460\" style=\"font-family: 'Open Sans', verdana, arial, sans-serif; font-size: 12px; fill: rgb(42, 63, 95); fill-opacity: 1; white-space: pre; opacity: 1;\" transform=\"translate(452.07,0)\">25</text></g><g class=\"xtick\"><text text-anchor=\"middle\" x=\"0\" y=\"460\" style=\"font-family: 'Open Sans', verdana, arial, sans-serif; font-size: 12px; fill: rgb(42, 63, 95); fill-opacity: 1; white-space: pre; opacity: 1;\" transform=\"translate(528.05,0)\">30</text></g><g class=\"xtick\"><text text-anchor=\"middle\" x=\"0\" y=\"460\" style=\"font-family: 'Open Sans', verdana, arial, sans-serif; font-size: 12px; fill: rgb(42, 63, 95); fill-opacity: 1; white-space: pre; opacity: 1;\" transform=\"translate(604.02,0)\">35</text></g><g class=\"xtick\"><text text-anchor=\"middle\" x=\"0\" y=\"460\" style=\"font-family: 'Open Sans', verdana, arial, sans-serif; font-size: 12px; fill: rgb(42, 63, 95); fill-opacity: 1; white-space: pre; opacity: 1;\" transform=\"translate(680,0)\">40</text></g></g><g class=\"yaxislayer-above\"><g class=\"ytick\"><text text-anchor=\"end\" x=\"56\" y=\"4.199999999999999\" transform=\"translate(0,427.59)\" style=\"font-family: 'Open Sans', verdana, arial, sans-serif; font-size: 12px; fill: rgb(42, 63, 95); fill-opacity: 1; white-space: pre; opacity: 1;\">0</text></g><g class=\"ytick\"><text text-anchor=\"end\" x=\"56\" y=\"4.199999999999999\" style=\"font-family: 'Open Sans', verdana, arial, sans-serif; font-size: 12px; fill: rgb(42, 63, 95); fill-opacity: 1; white-space: pre; opacity: 1;\" transform=\"translate(0,349.95)\">0.2</text></g><g class=\"ytick\"><text text-anchor=\"end\" x=\"56\" y=\"4.199999999999999\" style=\"font-family: 'Open Sans', verdana, arial, sans-serif; font-size: 12px; fill: rgb(42, 63, 95); fill-opacity: 1; white-space: pre; opacity: 1;\" transform=\"translate(0,272.32)\">0.4</text></g><g class=\"ytick\"><text text-anchor=\"end\" x=\"56\" y=\"4.199999999999999\" style=\"font-family: 'Open Sans', verdana, arial, sans-serif; font-size: 12px; fill: rgb(42, 63, 95); fill-opacity: 1; white-space: pre; opacity: 1;\" transform=\"translate(0,194.68)\">0.6</text></g><g class=\"ytick\"><text text-anchor=\"end\" x=\"56\" y=\"4.199999999999999\" style=\"font-family: 'Open Sans', verdana, arial, sans-serif; font-size: 12px; fill: rgb(42, 63, 95); fill-opacity: 1; white-space: pre; opacity: 1;\" transform=\"translate(0,117.05)\">0.8</text></g><g class=\"ytick\"><text text-anchor=\"end\" x=\"56\" y=\"4.199999999999999\" style=\"font-family: 'Open Sans', verdana, arial, sans-serif; font-size: 12px; fill: rgb(42, 63, 95); fill-opacity: 1; white-space: pre; opacity: 1;\" transform=\"translate(0,39.41)\">1</text></g></g><g class=\"overaxes-above\"/></g></g><g class=\"polarlayer\"/><g class=\"smithlayer\"/><g class=\"ternarylayer\"/><g class=\"geolayer\"/><g class=\"funnelarealayer\"/><g class=\"pielayer\"/><g class=\"iciclelayer\"/><g class=\"treemaplayer\"/><g class=\"sunburstlayer\"/><g class=\"glimages\"/><defs id=\"topdefs-035100\"><g class=\"clips\"/></defs><g class=\"layer-above\"><g class=\"imagelayer\"/><g class=\"shapelayer\"/></g><g class=\"infolayer\"><g class=\"g-gtitle\"/><g class=\"g-xtitle\"><text class=\"xtitle\" x=\"368.5\" y=\"487.8\" text-anchor=\"middle\" style=\"font-family: 'Open Sans', verdana, arial, sans-serif; font-size: 14px; fill: rgb(42, 63, 95); opacity: 1; font-weight: normal; white-space: pre;\">Distance to D181 (Å)</text></g><g class=\"g-ytitle\" transform=\"translate(2.4248046875,0)\"><text class=\"ytitle\" transform=\"rotate(-90,11.575000000000003,233.5)\" x=\"11.575000000000003\" y=\"233.5\" text-anchor=\"middle\" style=\"font-family: 'Open Sans', verdana, arial, sans-serif; font-size: 14px; fill: rgb(42, 63, 95); opacity: 1; font-weight: normal; white-space: pre;\">Per Residue Score</text></g></g></svg>"
      ]
     },
     "metadata": {},
     "output_type": "display_data"
    }
   ],
   "source": [
    "layout = dict(plot_bgcolor=\"white\",\n",
    "              margin=dict(t=20, l=20, r=20, b=20),\n",
    "              xaxis=dict(title=\"Distance to D181 (Å)\", range=[-1, 40]),\n",
    "              yaxis=dict(title=\"Per Residue Score\", range=[-0.05, 1.05],))\n",
    "\n",
    "data = go.Scatter(x=df_score_dist[\"Distance to D181 (Å)\"],\n",
    "                  y=df_score_dist[\"Per Residue Score\"],\n",
    "                  text=df_score_dist.index,\n",
    "                  textposition=\"top center\", mode=\"markers+text\",\n",
    ")\n",
    "\n",
    "fig = go.Figure(data=data, layout=layout) \n",
    "\n",
    "fig.show(\"svg\") # to make this plot interactive, remove \"svg\" and run the cell block. "
   ]
  },
  {
   "cell_type": "markdown",
   "metadata": {},
   "source": [
    "Another way to visualise the data, of course this would need to be made a lot prettier (for a start by not labelling all residues)."
   ]
  },
  {
   "cell_type": "markdown",
   "metadata": {},
   "source": [
    "### Part 1.3. Project the Results onto Protein Structures with the pymol_projections.py module. \n",
    " \n",
    "Naturally, we may want to visualise some of the results we have generated above onto a protein structure. We can take advantage of\n",
    "the functions provided in the pymol_projections.py module to do this. \n",
    "\n",
    "As the name suggests this will output [PyMOL](https://pymol.org/) compatible python scripts which can be run to represent the results\n",
    "at the: \n",
    "\n",
    "1. Per feature level. (Cylinders are drawn between each feature, with the cylinder radii marking how strong the relative difference is. \n",
    "2. Per residue level. The Carbon alpha of each residue will be depicted as a sphere, with the sphere radii depicting how strong the the relative difference is. "
   ]
  },
  {
   "cell_type": "code",
   "execution_count": 75,
   "metadata": {},
   "outputs": [
    {
     "name": "stdout",
     "output_type": "stream",
     "text": [
      "The file: tutorial_datasets\\PTP1B_stat_analysis\\jensen_shannon_Pymol_Per_Feature_Scores.py was written to disk.\n",
      "The file: tutorial_datasets\\PTP1B_stat_analysis\\mutual_information_Pymol_Per_Feature_Scores.py was written to disk.\n"
     ]
    }
   ],
   "source": [
    "# Write PyMOL compatable scripts for the per feature results.\n",
    "# Simply swap between the two statistical methods as shown below. \n",
    "pymol_projections.project_pymol_top_features(\n",
    "    per_feature_scores=stat_model.js_distances,\n",
    "    model_name=\"jensen_shannon\",\n",
    "    numb_features=125, # can be any integer values or \"all\" if you would like all features returned.\n",
    "    out_dir=stats_out_dir\n",
    ")\n",
    "\n",
    "pymol_projections.project_pymol_top_features(\n",
    "    per_feature_scores=stat_model.mutual_infos,\n",
    "    model_name=\"mutual_information\",\n",
    "    numb_features=125, # can be any integer values or \"all\" if you would like all features returned.\n",
    "    out_dir=stats_out_dir\n",
    ")"
   ]
  },
  {
   "cell_type": "code",
   "execution_count": 76,
   "metadata": {},
   "outputs": [
    {
     "name": "stdout",
     "output_type": "stream",
     "text": [
      "The file: tutorial_datasets\\PTP1B_stat_analysis\\jensen_shannon_Pymol_Per_Res_Scores.py was written to disk.\n",
      "The file: tutorial_datasets\\PTP1B_stat_analysis\\mutual_information_Pymol_Per_Res_Scores.py was written to disk.\n"
     ]
    }
   ],
   "source": [
    "# Write PyMOL compatable scripts for the per residue results.\n",
    "# Simply swap between the two statistical methods as shown below. \n",
    "pymol_projections.project_pymol_per_res_scores(\n",
    "    per_res_scores=js_per_res_scores,\n",
    "    model_name=\"jensen_shannon\",\n",
    "    out_dir=stats_out_dir\n",
    ")\n",
    "\n",
    "pymol_projections.project_pymol_per_res_scores(\n",
    "    per_res_scores=mi_per_res_scores,\n",
    "    model_name=\"mutual_information\",\n",
    "    out_dir=stats_out_dir\n",
    ")"
   ]
  },
  {
   "attachments": {},
   "cell_type": "markdown",
   "metadata": {},
   "source": [
    "Heres an example of the figures you can make , see the manuscript for more examples and what the figures represent.\n",
    "\n",
    "<center><img src=\"https://raw.githubusercontent.com/kamerlinlab/KIF/main/tutorials/miscellaneous/ptp1b_example_outputs.png\" alt=\"Drawing\" style=\"width: 70%\" /></center>"
   ]
  },
  {
   "cell_type": "markdown",
   "metadata": {},
   "source": [
    "### Part 2.1 Perform Machine Learning (ML) with the model_building.py module. \n",
    "\n",
    "Now we will use ML to generate models that can describe the difference between the WPD-loop closed and open states. \n",
    "\n",
    "With this module, we use the per feature scores from each ML model to to evaluate how different/similar each feature is when the protein is in the closed WPD-loop conformation or the open-WPD-loop conformation.\n",
    "\n",
    "**We will use three ensemble based classification models:**\n",
    "\n",
    "1. [Categorical Boosting](https://catboost.ai/) - (Refered to as: CatBoost)\n",
    "\n",
    "2. [Extreme Gradient Boosting](https://xgboost.readthedocs.io/en/stable/) - (Refered to as: XGBoost)\n",
    "\n",
    "3. [Random Forest](https://scikit-learn.org/stable/modules/generated/sklearn.ensemble.RandomForestClassifier.html)  (Refered to as: Random_Forest)\n",
    "\n",
    "In all cases, the higher the score, the more \"different\" the feature is when in the two different states."
   ]
  },
  {
   "cell_type": "code",
   "execution_count": 77,
   "metadata": {},
   "outputs": [
    {
     "data": {
      "text/html": [
       "<div>\n",
       "<style scoped>\n",
       "    .dataframe tbody tr th:only-of-type {\n",
       "        vertical-align: middle;\n",
       "    }\n",
       "\n",
       "    .dataframe tbody tr th {\n",
       "        vertical-align: top;\n",
       "    }\n",
       "\n",
       "    .dataframe thead th {\n",
       "        text-align: right;\n",
       "    }\n",
       "</style>\n",
       "<table border=\"1\" class=\"dataframe\">\n",
       "  <thead>\n",
       "    <tr style=\"text-align: right;\">\n",
       "      <th></th>\n",
       "      <th>Target</th>\n",
       "      <th>9Ile 18Ile Hydrophobic sc-sc</th>\n",
       "      <th>9Ile 15Trp Hydrophobic sc-sc</th>\n",
       "      <th>9Ile 14Ser Hbond bb-bb</th>\n",
       "      <th>9Ile 13Gly Hbond bb-bb</th>\n",
       "      <th>9Ile 12Ser Hbond bb-bb</th>\n",
       "      <th>99Trp 168Arg Hbond sc-sc</th>\n",
       "      <th>99Trp 166Glu Hbond sc-sc</th>\n",
       "      <th>99Trp 161Asn Hbond sc-sc</th>\n",
       "      <th>99Trp 159Leu Hydrophobic sc-sc</th>\n",
       "      <th>...</th>\n",
       "      <th>104Arg 207Hip Hbond sc-sc</th>\n",
       "      <th>104Arg 202Ser Hbond sc-sc</th>\n",
       "      <th>104Arg 171Leu Hbond bb-sc</th>\n",
       "      <th>104Arg 170Ile Hbond bb-bb</th>\n",
       "      <th>104Arg 169Glu Saltbr sc-sc</th>\n",
       "      <th>103Ser 209Pro Hbond sc-bb</th>\n",
       "      <th>103Ser 208Gly Hbond bb-bb</th>\n",
       "      <th>102Lys 208Gly Hbond bb-bb</th>\n",
       "      <th>102Lys 207Hip Hbond bb-bb</th>\n",
       "      <th>102Lys 168Arg Hbond sc-sc</th>\n",
       "    </tr>\n",
       "  </thead>\n",
       "  <tbody>\n",
       "    <tr>\n",
       "      <th>0</th>\n",
       "      <td>Closed</td>\n",
       "      <td>2.74270</td>\n",
       "      <td>12.20452</td>\n",
       "      <td>9.05994</td>\n",
       "      <td>3.04996</td>\n",
       "      <td>7.32765</td>\n",
       "      <td>15.63908</td>\n",
       "      <td>4.15315</td>\n",
       "      <td>4.98321</td>\n",
       "      <td>2.65085</td>\n",
       "      <td>...</td>\n",
       "      <td>2.35995</td>\n",
       "      <td>0.63756</td>\n",
       "      <td>4.65116</td>\n",
       "      <td>3.12166</td>\n",
       "      <td>6.64776</td>\n",
       "      <td>4.48079</td>\n",
       "      <td>1.02525</td>\n",
       "      <td>3.03137</td>\n",
       "      <td>0.04986</td>\n",
       "      <td>1.05851</td>\n",
       "    </tr>\n",
       "    <tr>\n",
       "      <th>1</th>\n",
       "      <td>Closed</td>\n",
       "      <td>2.48664</td>\n",
       "      <td>12.80458</td>\n",
       "      <td>7.53956</td>\n",
       "      <td>3.45816</td>\n",
       "      <td>6.19969</td>\n",
       "      <td>27.22723</td>\n",
       "      <td>4.62006</td>\n",
       "      <td>7.64728</td>\n",
       "      <td>1.49619</td>\n",
       "      <td>...</td>\n",
       "      <td>4.29638</td>\n",
       "      <td>2.08714</td>\n",
       "      <td>8.12584</td>\n",
       "      <td>2.28895</td>\n",
       "      <td>6.82945</td>\n",
       "      <td>3.18406</td>\n",
       "      <td>0.28608</td>\n",
       "      <td>2.80741</td>\n",
       "      <td>3.25076</td>\n",
       "      <td>1.45839</td>\n",
       "    </tr>\n",
       "    <tr>\n",
       "      <th>2</th>\n",
       "      <td>Closed</td>\n",
       "      <td>1.98872</td>\n",
       "      <td>10.17568</td>\n",
       "      <td>3.67532</td>\n",
       "      <td>2.43468</td>\n",
       "      <td>6.19670</td>\n",
       "      <td>26.31065</td>\n",
       "      <td>5.25182</td>\n",
       "      <td>4.73549</td>\n",
       "      <td>2.45713</td>\n",
       "      <td>...</td>\n",
       "      <td>3.25030</td>\n",
       "      <td>0.08796</td>\n",
       "      <td>7.60715</td>\n",
       "      <td>5.41314</td>\n",
       "      <td>10.93755</td>\n",
       "      <td>2.52011</td>\n",
       "      <td>1.36476</td>\n",
       "      <td>3.10390</td>\n",
       "      <td>0.75912</td>\n",
       "      <td>5.53424</td>\n",
       "    </tr>\n",
       "  </tbody>\n",
       "</table>\n",
       "<p>3 rows × 572 columns</p>\n",
       "</div>"
      ],
      "text/plain": [
       "   Target  9Ile 18Ile Hydrophobic sc-sc  9Ile 15Trp Hydrophobic sc-sc  \\\n",
       "0  Closed                       2.74270                      12.20452   \n",
       "1  Closed                       2.48664                      12.80458   \n",
       "2  Closed                       1.98872                      10.17568   \n",
       "\n",
       "   9Ile 14Ser Hbond bb-bb  9Ile 13Gly Hbond bb-bb  9Ile 12Ser Hbond bb-bb  \\\n",
       "0                 9.05994                 3.04996                 7.32765   \n",
       "1                 7.53956                 3.45816                 6.19969   \n",
       "2                 3.67532                 2.43468                 6.19670   \n",
       "\n",
       "   99Trp 168Arg Hbond sc-sc  99Trp 166Glu Hbond sc-sc  \\\n",
       "0                  15.63908                   4.15315   \n",
       "1                  27.22723                   4.62006   \n",
       "2                  26.31065                   5.25182   \n",
       "\n",
       "   99Trp 161Asn Hbond sc-sc  99Trp 159Leu Hydrophobic sc-sc  ...  \\\n",
       "0                   4.98321                         2.65085  ...   \n",
       "1                   7.64728                         1.49619  ...   \n",
       "2                   4.73549                         2.45713  ...   \n",
       "\n",
       "   104Arg 207Hip Hbond sc-sc  104Arg 202Ser Hbond sc-sc  \\\n",
       "0                    2.35995                    0.63756   \n",
       "1                    4.29638                    2.08714   \n",
       "2                    3.25030                    0.08796   \n",
       "\n",
       "   104Arg 171Leu Hbond bb-sc  104Arg 170Ile Hbond bb-bb  \\\n",
       "0                    4.65116                    3.12166   \n",
       "1                    8.12584                    2.28895   \n",
       "2                    7.60715                    5.41314   \n",
       "\n",
       "   104Arg 169Glu Saltbr sc-sc  103Ser 209Pro Hbond sc-bb  \\\n",
       "0                     6.64776                    4.48079   \n",
       "1                     6.82945                    3.18406   \n",
       "2                    10.93755                    2.52011   \n",
       "\n",
       "   103Ser 208Gly Hbond bb-bb  102Lys 208Gly Hbond bb-bb  \\\n",
       "0                    1.02525                    3.03137   \n",
       "1                    0.28608                    2.80741   \n",
       "2                    1.36476                    3.10390   \n",
       "\n",
       "   102Lys 207Hip Hbond bb-bb  102Lys 168Arg Hbond sc-sc  \n",
       "0                    0.04986                    1.05851  \n",
       "1                    3.25076                    1.45839  \n",
       "2                    0.75912                    5.53424  \n",
       "\n",
       "[3 rows x 572 columns]"
      ]
     },
     "execution_count": 77,
     "metadata": {},
     "output_type": "execute_result"
    }
   ],
   "source": [
    "# First we will remove all feature involving the WPD-loop, otherwise the model building will be too easy.\n",
    "# This was discussed in detail in the preprint, but the basic idea is that if the WPD-loop interactions are \n",
    "# included then only one of two of these interactions would be enough to predict the conformational state of \n",
    "# the WPD-loop which is non-ideal for our goals. \n",
    "\n",
    "df = supervised_dataset.df_filtered\n",
    "# filter to remove those residues on the WPD-loop (residues 176-189)\n",
    "df_no_WPD_loop = df.loc[:, df.columns.str.contains('176|177|178|179|180|181|182|183|184|185|186|187|188|189')==False]\n",
    "df_no_WPD_loop.head(3)\n",
    "\n",
    "# We will now use \"df_no_WPD_loop\" in the following cell as the dataset instead of \"supervised_dataset.df_filtered\""
   ]
  },
  {
   "cell_type": "code",
   "execution_count": 78,
   "metadata": {},
   "outputs": [
    {
     "name": "stdout",
     "output_type": "stream",
     "text": [
      "\n",
      "Below is a summary of the machine learning you have planned.\n",
      "You will use 5-fold cross validation and perform 3 repeats.\n",
      "You will use up to 572 features to build each model, with 85.0% of your data used for training the model, which is 8204 observations. \n",
      "15.0% of your data will be used for evaluating the best models produced by the 5-fold cross validation, which is 1448 observations.\n",
      "You have selected to build 3 machine learning model(s), with the following hyperparameters: \n",
      " \n",
      "A CatBoost model, with grid search parameters: \n",
      "{'iterations': [100]} \n",
      "\n",
      "A XGBoost model, with grid search parameters: \n",
      "{'n_estimators': [100]} \n",
      "\n",
      "A Random_Forest model, with grid search parameters: \n",
      "{'n_estimators': [100], 'max_depth': [100]} \n",
      "\n",
      "If you're happy with the above, lets get model building!\n"
     ]
    }
   ],
   "source": [
    "# Instantiate the ClassificationModel class. \n",
    "# Clearly there are many parameters here, using your IDE you can hover over ClassificationModel to see what each parameter does\n",
    "ml_model = model_building.ClassificationModel(\n",
    "    dataset=df_no_WPD_loop, # if want all residues included can replace this with: \"supervised_dataset.df_filtered\"\n",
    "    evaluation_split_ratio=0.15,\n",
    "    classes_to_use=[\"Closed\", \"Open\"], \n",
    "    models_to_use=[\"CatBoost\", \"XGBoost\", \"Random_Forest\"],\n",
    "    scaling_method=\"min_max\",\n",
    "    out_dir=ml_out_dir, \n",
    "    cross_validation_splits=5, \n",
    "    cross_validation_repeats=3,\n",
    "    search_approach=\"none\",\n",
    ")"
   ]
  },
  {
   "cell_type": "markdown",
   "metadata": {},
   "source": [
    "Now we can go ahead and build the models.\n",
    "\n",
    "We have one optional parameter in the command below which is to save the models generated. This can be useful if you ever want to come back and do the post-processing later.\n",
    "\n",
    "If you set this to true all the files required will be saved to a folder called \"temporary_files\" in your current working directory. \n",
    "\n",
    "With the current setup this calculation will not take long (maybe 5-10 mins to run on a standard laptop). However, you could perform a very exhausitve calculation using grid search CV (possible by changing the \"search_approach\" parameter in model_building.ClassificationModel() ), in which case it might be useful"
   ]
  },
  {
   "cell_type": "code",
   "execution_count": 79,
   "metadata": {},
   "outputs": [
    {
     "name": "stdout",
     "output_type": "stream",
     "text": [
      "Model saved to disk at: temporary_files\\CatBoost_Model.pickle\n",
      "Model saved to disk at: temporary_files\\XGBoost_Model.pickle\n",
      "Model saved to disk at: temporary_files\\Random_Forest_Model.pickle\n",
      "Model building complete, returning final results with train/test datasets to you.\n"
     ]
    },
    {
     "data": {
      "text/html": [
       "<div>\n",
       "<style scoped>\n",
       "    .dataframe tbody tr th:only-of-type {\n",
       "        vertical-align: middle;\n",
       "    }\n",
       "\n",
       "    .dataframe tbody tr th {\n",
       "        vertical-align: top;\n",
       "    }\n",
       "\n",
       "    .dataframe thead th {\n",
       "        text-align: right;\n",
       "    }\n",
       "</style>\n",
       "<table border=\"1\" class=\"dataframe\">\n",
       "  <thead>\n",
       "    <tr style=\"text-align: right;\">\n",
       "      <th></th>\n",
       "      <th>model</th>\n",
       "      <th>best_params</th>\n",
       "      <th>best_score</th>\n",
       "      <th>best_standard_deviation</th>\n",
       "      <th>Time taken to build model (minutes)</th>\n",
       "    </tr>\n",
       "  </thead>\n",
       "  <tbody>\n",
       "    <tr>\n",
       "      <th>0</th>\n",
       "      <td>CatBoost</td>\n",
       "      <td>{'iterations': 100}</td>\n",
       "      <td>0.984885</td>\n",
       "      <td>0.002878</td>\n",
       "      <td>2.02</td>\n",
       "    </tr>\n",
       "    <tr>\n",
       "      <th>1</th>\n",
       "      <td>XGBoost</td>\n",
       "      <td>{'n_estimators': 100}</td>\n",
       "      <td>0.983017</td>\n",
       "      <td>0.002857</td>\n",
       "      <td>2.65</td>\n",
       "    </tr>\n",
       "    <tr>\n",
       "      <th>2</th>\n",
       "      <td>Random_Forest</td>\n",
       "      <td>{'max_depth': 100, 'n_estimators': 100}</td>\n",
       "      <td>0.971559</td>\n",
       "      <td>0.003654</td>\n",
       "      <td>2.78</td>\n",
       "    </tr>\n",
       "  </tbody>\n",
       "</table>\n",
       "</div>"
      ],
      "text/plain": [
       "           model                              best_params  best_score  \\\n",
       "0       CatBoost                      {'iterations': 100}    0.984885   \n",
       "1        XGBoost                    {'n_estimators': 100}    0.983017   \n",
       "2  Random_Forest  {'max_depth': 100, 'n_estimators': 100}    0.971559   \n",
       "\n",
       "   best_standard_deviation  Time taken to build model (minutes)  \n",
       "0                 0.002878                                 2.02  \n",
       "1                 0.002857                                 2.65  \n",
       "2                 0.003654                                 2.78  "
      ]
     },
     "execution_count": 79,
     "metadata": {},
     "output_type": "execute_result"
    }
   ],
   "source": [
    "ml_model.build_models(save_models=True)"
   ]
  },
  {
   "cell_type": "markdown",
   "metadata": {},
   "source": [
    "With the models now built, we can see the models seem to be quite equally matched in terms of accuracy for the train and test sets. \n",
    "We can now evaluate the quality of the models on the validation dataset (also sometimes refered to as the hold-out set).\n",
    "\n",
    "For each ML model built, a pandas dataframe can be generated with metrics describing the accuracy of the model on the validation dataset. \n",
    "If you are unfamiliar with any of the terms presented below, [feel free to check out this guide from scikit-learn](https://scikit-learn.org/stable/modules/generated/sklearn.metrics.classification_report.html)"
   ]
  },
  {
   "cell_type": "code",
   "execution_count": 80,
   "metadata": {},
   "outputs": [
    {
     "name": "stdout",
     "output_type": "stream",
     "text": [
      "Returning classification reports for each model inside a single dictionary\n"
     ]
    }
   ],
   "source": [
    "reports = ml_model.evaluate_models()"
   ]
  },
  {
   "cell_type": "code",
   "execution_count": 81,
   "metadata": {},
   "outputs": [
    {
     "data": {
      "text/html": [
       "<div>\n",
       "<style scoped>\n",
       "    .dataframe tbody tr th:only-of-type {\n",
       "        vertical-align: middle;\n",
       "    }\n",
       "\n",
       "    .dataframe tbody tr th {\n",
       "        vertical-align: top;\n",
       "    }\n",
       "\n",
       "    .dataframe thead th {\n",
       "        text-align: right;\n",
       "    }\n",
       "</style>\n",
       "<table border=\"1\" class=\"dataframe\">\n",
       "  <thead>\n",
       "    <tr style=\"text-align: right;\">\n",
       "      <th></th>\n",
       "      <th>precision</th>\n",
       "      <th>recall</th>\n",
       "      <th>f1-score</th>\n",
       "      <th>support</th>\n",
       "    </tr>\n",
       "  </thead>\n",
       "  <tbody>\n",
       "    <tr>\n",
       "      <th>Closed</th>\n",
       "      <td>0.975643</td>\n",
       "      <td>0.991747</td>\n",
       "      <td>0.983629</td>\n",
       "      <td>727.0</td>\n",
       "    </tr>\n",
       "    <tr>\n",
       "      <th>Open</th>\n",
       "      <td>0.991537</td>\n",
       "      <td>0.975035</td>\n",
       "      <td>0.983217</td>\n",
       "      <td>721.0</td>\n",
       "    </tr>\n",
       "    <tr>\n",
       "      <th>accuracy</th>\n",
       "      <td>N/A</td>\n",
       "      <td>N/A</td>\n",
       "      <td>0.983425</td>\n",
       "      <td>1448</td>\n",
       "    </tr>\n",
       "    <tr>\n",
       "      <th>macro avg</th>\n",
       "      <td>0.98359</td>\n",
       "      <td>0.983391</td>\n",
       "      <td>0.983423</td>\n",
       "      <td>1448.0</td>\n",
       "    </tr>\n",
       "    <tr>\n",
       "      <th>weighted avg</th>\n",
       "      <td>0.983557</td>\n",
       "      <td>0.983425</td>\n",
       "      <td>0.983424</td>\n",
       "      <td>1448.0</td>\n",
       "    </tr>\n",
       "  </tbody>\n",
       "</table>\n",
       "</div>"
      ],
      "text/plain": [
       "             precision    recall  f1-score support\n",
       "Closed        0.975643  0.991747  0.983629   727.0\n",
       "Open          0.991537  0.975035  0.983217   721.0\n",
       "accuracy           N/A       N/A  0.983425    1448\n",
       "macro avg      0.98359  0.983391  0.983423  1448.0\n",
       "weighted avg  0.983557  0.983425  0.983424  1448.0"
      ]
     },
     "execution_count": 81,
     "metadata": {},
     "output_type": "execute_result"
    }
   ],
   "source": [
    "reports[\"XGBoost\"]"
   ]
  },
  {
   "cell_type": "code",
   "execution_count": 82,
   "metadata": {},
   "outputs": [
    {
     "data": {
      "text/html": [
       "<div>\n",
       "<style scoped>\n",
       "    .dataframe tbody tr th:only-of-type {\n",
       "        vertical-align: middle;\n",
       "    }\n",
       "\n",
       "    .dataframe tbody tr th {\n",
       "        vertical-align: top;\n",
       "    }\n",
       "\n",
       "    .dataframe thead th {\n",
       "        text-align: right;\n",
       "    }\n",
       "</style>\n",
       "<table border=\"1\" class=\"dataframe\">\n",
       "  <thead>\n",
       "    <tr style=\"text-align: right;\">\n",
       "      <th></th>\n",
       "      <th>precision</th>\n",
       "      <th>recall</th>\n",
       "      <th>f1-score</th>\n",
       "      <th>support</th>\n",
       "    </tr>\n",
       "  </thead>\n",
       "  <tbody>\n",
       "    <tr>\n",
       "      <th>Closed</th>\n",
       "      <td>0.973009</td>\n",
       "      <td>0.991747</td>\n",
       "      <td>0.982289</td>\n",
       "      <td>727.0</td>\n",
       "    </tr>\n",
       "    <tr>\n",
       "      <th>Open</th>\n",
       "      <td>0.991513</td>\n",
       "      <td>0.972261</td>\n",
       "      <td>0.981793</td>\n",
       "      <td>721.0</td>\n",
       "    </tr>\n",
       "    <tr>\n",
       "      <th>accuracy</th>\n",
       "      <td>N/A</td>\n",
       "      <td>N/A</td>\n",
       "      <td>0.982044</td>\n",
       "      <td>1448</td>\n",
       "    </tr>\n",
       "    <tr>\n",
       "      <th>macro avg</th>\n",
       "      <td>0.982261</td>\n",
       "      <td>0.982004</td>\n",
       "      <td>0.982041</td>\n",
       "      <td>1448.0</td>\n",
       "    </tr>\n",
       "    <tr>\n",
       "      <th>weighted avg</th>\n",
       "      <td>0.982223</td>\n",
       "      <td>0.982044</td>\n",
       "      <td>0.982042</td>\n",
       "      <td>1448.0</td>\n",
       "    </tr>\n",
       "  </tbody>\n",
       "</table>\n",
       "</div>"
      ],
      "text/plain": [
       "             precision    recall  f1-score support\n",
       "Closed        0.973009  0.991747  0.982289   727.0\n",
       "Open          0.991513  0.972261  0.981793   721.0\n",
       "accuracy           N/A       N/A  0.982044    1448\n",
       "macro avg     0.982261  0.982004  0.982041  1448.0\n",
       "weighted avg  0.982223  0.982044  0.982042  1448.0"
      ]
     },
     "execution_count": 82,
     "metadata": {},
     "output_type": "execute_result"
    }
   ],
   "source": [
    "reports[\"CatBoost\"]"
   ]
  },
  {
   "cell_type": "code",
   "execution_count": 83,
   "metadata": {},
   "outputs": [
    {
     "data": {
      "text/html": [
       "<div>\n",
       "<style scoped>\n",
       "    .dataframe tbody tr th:only-of-type {\n",
       "        vertical-align: middle;\n",
       "    }\n",
       "\n",
       "    .dataframe tbody tr th {\n",
       "        vertical-align: top;\n",
       "    }\n",
       "\n",
       "    .dataframe thead th {\n",
       "        text-align: right;\n",
       "    }\n",
       "</style>\n",
       "<table border=\"1\" class=\"dataframe\">\n",
       "  <thead>\n",
       "    <tr style=\"text-align: right;\">\n",
       "      <th></th>\n",
       "      <th>precision</th>\n",
       "      <th>recall</th>\n",
       "      <th>f1-score</th>\n",
       "      <th>support</th>\n",
       "    </tr>\n",
       "  </thead>\n",
       "  <tbody>\n",
       "    <tr>\n",
       "      <th>Closed</th>\n",
       "      <td>0.965007</td>\n",
       "      <td>0.986245</td>\n",
       "      <td>0.97551</td>\n",
       "      <td>727.0</td>\n",
       "    </tr>\n",
       "    <tr>\n",
       "      <th>Open</th>\n",
       "      <td>0.985816</td>\n",
       "      <td>0.963939</td>\n",
       "      <td>0.974755</td>\n",
       "      <td>721.0</td>\n",
       "    </tr>\n",
       "    <tr>\n",
       "      <th>accuracy</th>\n",
       "      <td>N/A</td>\n",
       "      <td>N/A</td>\n",
       "      <td>0.975138</td>\n",
       "      <td>1448</td>\n",
       "    </tr>\n",
       "    <tr>\n",
       "      <th>macro avg</th>\n",
       "      <td>0.975411</td>\n",
       "      <td>0.975092</td>\n",
       "      <td>0.975132</td>\n",
       "      <td>1448.0</td>\n",
       "    </tr>\n",
       "    <tr>\n",
       "      <th>weighted avg</th>\n",
       "      <td>0.975368</td>\n",
       "      <td>0.975138</td>\n",
       "      <td>0.975134</td>\n",
       "      <td>1448.0</td>\n",
       "    </tr>\n",
       "  </tbody>\n",
       "</table>\n",
       "</div>"
      ],
      "text/plain": [
       "             precision    recall  f1-score support\n",
       "Closed        0.965007  0.986245   0.97551   727.0\n",
       "Open          0.985816  0.963939  0.974755   721.0\n",
       "accuracy           N/A       N/A  0.975138    1448\n",
       "macro avg     0.975411  0.975092  0.975132  1448.0\n",
       "weighted avg  0.975368  0.975138  0.975134  1448.0"
      ]
     },
     "execution_count": 83,
     "metadata": {},
     "output_type": "execute_result"
    }
   ],
   "source": [
    "reports[\"Random_Forest\"]"
   ]
  },
  {
   "attachments": {},
   "cell_type": "markdown",
   "metadata": {},
   "source": [
    "Another popular way to evaluate model quality is to generate confusion matrices. \n",
    "\n",
    "Using the command below we can generate confusion matrices (stored as numpy arrays) for each model we generated. \n",
    "\n",
    "You can then easily plot these confusion matrices in whatever graphing program you like. In this case, I will use plotly as before, but you could easily use another graphing package."
   ]
  },
  {
   "cell_type": "code",
   "execution_count": 84,
   "metadata": {},
   "outputs": [],
   "source": [
    "confusion_matrices = ml_model.generate_confusion_matrix()"
   ]
  },
  {
   "cell_type": "code",
   "execution_count": 85,
   "metadata": {},
   "outputs": [
    {
     "data": {
      "text/plain": [
       "array([[721,   6],\n",
       "       [ 18, 703]], dtype=int64)"
      ]
     },
     "execution_count": 85,
     "metadata": {},
     "output_type": "execute_result"
    }
   ],
   "source": [
    "confusion_matrices[\"XGBoost\"]"
   ]
  },
  {
   "attachments": {},
   "cell_type": "markdown",
   "metadata": {},
   "source": [
    "Again, you'll need plotly installed (see above) if you want to make this figure."
   ]
  },
  {
   "cell_type": "code",
   "execution_count": 86,
   "metadata": {},
   "outputs": [
    {
     "data": {
      "image/svg+xml": [
       "<svg class=\"main-svg\" xmlns=\"http://www.w3.org/2000/svg\" xmlns:xlink=\"http://www.w3.org/1999/xlink\" width=\"700\" height=\"500\" style=\"\" viewBox=\"0 0 700 500\"><rect x=\"0\" y=\"0\" width=\"700\" height=\"500\" style=\"fill: rgb(255, 255, 255); fill-opacity: 1;\"/><defs id=\"defs-50f97c\"><g class=\"clips\"><clipPath id=\"clip50f97cxyplot\" class=\"plotclip\"><rect width=\"540\" height=\"320\"/></clipPath><clipPath class=\"axesclip\" id=\"clip50f97cx\"><rect x=\"80\" y=\"0\" width=\"540\" height=\"500\"/></clipPath><clipPath class=\"axesclip\" id=\"clip50f97cy\"><rect x=\"0\" y=\"100\" width=\"700\" height=\"320\"/></clipPath><clipPath class=\"axesclip\" id=\"clip50f97cxy\"><rect x=\"80\" y=\"100\" width=\"540\" height=\"320\"/></clipPath></g><g class=\"gradients\"/><g class=\"patterns\"/></defs><g class=\"bglayer\"><rect class=\"bg\" x=\"80\" y=\"100\" width=\"540\" height=\"320\" style=\"fill: rgb(229, 236, 246); fill-opacity: 1; stroke-width: 0;\"/></g><g class=\"layer-below\"><g class=\"imagelayer\"/><g class=\"shapelayer\"/></g><g class=\"cartesianlayer\"><g class=\"subplot xy\"><g class=\"layer-subplot\"><g class=\"shapelayer\"/><g class=\"imagelayer\"/></g><g class=\"gridlayer\"><g class=\"x\"><path class=\"xgrid crisp\" transform=\"translate(215,0)\" d=\"M0,100v320\" style=\"stroke: rgb(0, 0, 0); stroke-opacity: 1; stroke-width: 1px;\"/><path class=\"xgrid crisp\" transform=\"translate(485,0)\" d=\"M0,100v320\" style=\"stroke: rgb(0, 0, 0); stroke-opacity: 1; stroke-width: 1px;\"/></g><g class=\"y\"><path class=\"ygrid crisp\" transform=\"translate(0,340)\" d=\"M80,0h540\" style=\"stroke: rgb(255, 255, 255); stroke-opacity: 1; stroke-width: 1px;\"/><path class=\"ygrid crisp\" transform=\"translate(0,180)\" d=\"M80,0h540\" style=\"stroke: rgb(255, 255, 255); stroke-opacity: 1; stroke-width: 1px;\"/></g></g><g class=\"zerolinelayer\"/><path class=\"xlines-below\"/><path class=\"ylines-below\"/><g class=\"overlines-below\"/><g class=\"xaxislayer-below\"/><g class=\"yaxislayer-below\"/><g class=\"overaxes-below\"/><g class=\"plot\" transform=\"translate(80,100)\" clip-path=\"url(#clip50f97cxyplot)\"><g class=\"heatmaplayer mlayer\"><g class=\"hm\"><image xmlns=\"http://www.w3.org/2000/svg\" preserveAspectRatio=\"none\" height=\"320\" width=\"540\" x=\"0\" y=\"0\" xlink:href=\"data:image/png;base64,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\" style=\"opacity: 1;\"/></g></g></g><g class=\"overplot\"/><path class=\"xlines-above crisp\" d=\"M0,0\" style=\"fill: none;\"/><path class=\"ylines-above crisp\" d=\"M0,0\" style=\"fill: none;\"/><g class=\"overlines-above\"/><g class=\"xaxislayer-above\"><g class=\"xtick\"><text text-anchor=\"middle\" x=\"0\" y=\"96.6\" transform=\"translate(215,0)\" style=\"font-family: 'Open Sans', verdana, arial, sans-serif; font-size: 12px; fill: rgb(42, 63, 95); fill-opacity: 1; white-space: pre; opacity: 1;\">Closed</text></g><g class=\"xtick\"><text text-anchor=\"middle\" x=\"0\" y=\"96.6\" transform=\"translate(485,0)\" style=\"font-family: 'Open Sans', verdana, arial, sans-serif; font-size: 12px; fill: rgb(42, 63, 95); fill-opacity: 1; white-space: pre; opacity: 1;\">Open</text></g></g><g class=\"yaxislayer-above\"><g class=\"ytick\"><text text-anchor=\"end\" x=\"79\" y=\"4.199999999999999\" transform=\"translate(0,340)\" style=\"font-family: 'Open Sans', verdana, arial, sans-serif; font-size: 12px; fill: rgb(42, 63, 95); fill-opacity: 1; white-space: pre; opacity: 1;\">Open  </text></g><g class=\"ytick\"><text text-anchor=\"end\" x=\"79\" y=\"4.199999999999999\" transform=\"translate(0,180)\" style=\"font-family: 'Open Sans', verdana, arial, sans-serif; font-size: 12px; fill: rgb(42, 63, 95); fill-opacity: 1; white-space: pre; opacity: 1;\">Closed  </text></g></g><g class=\"overaxes-above\"/></g></g><g class=\"polarlayer\"/><g class=\"smithlayer\"/><g class=\"ternarylayer\"/><g class=\"geolayer\"/><g class=\"funnelarealayer\"/><g class=\"pielayer\"/><g class=\"iciclelayer\"/><g class=\"treemaplayer\"/><g class=\"sunburstlayer\"/><g class=\"glimages\"/><defs id=\"topdefs-50f97c\"><g class=\"clips\"/></defs><g class=\"layer-above\"><g class=\"imagelayer\"/><g class=\"shapelayer\"/></g><g class=\"infolayer\"><g class=\"g-gtitle\"><text class=\"gtitle\" x=\"35\" y=\"50\" text-anchor=\"start\" dy=\"0em\" style=\"font-family: 'Open Sans', verdana, arial, sans-serif; font-size: 17px; fill: rgb(42, 63, 95); opacity: 1; font-weight: normal; white-space: pre;\">Confusion Matrix Obtained for XGBoost using the Validation/Holdout set</text></g><g class=\"g-xtitle\"/><g class=\"g-ytitle\"/><g class=\"annotation\" data-index=\"0\" style=\"opacity: 1;\"><g class=\"annotation-text-g\" transform=\"rotate(0,215,180)\"><g class=\"cursor-pointer\" transform=\"translate(202,171)\"><rect class=\"bg\" x=\"0.5\" y=\"0.5\" width=\"26\" height=\"18\" style=\"stroke-width: 1px; stroke: rgb(0, 0, 0); stroke-opacity: 0; fill: rgb(0, 0, 0); fill-opacity: 0;\"/><text class=\"annotation-text\" text-anchor=\"middle\" x=\"13.453125\" y=\"14\" style=\"font-family: 'Open Sans', verdana, arial, sans-serif; font-size: 12px; fill: rgb(255, 255, 255); fill-opacity: 1; white-space: pre;\">721</text></g></g></g><g class=\"annotation\" data-index=\"1\" style=\"opacity: 1;\"><g class=\"annotation-text-g\" transform=\"rotate(0,485,180)\"><g class=\"cursor-pointer\" transform=\"translate(479,171)\"><rect class=\"bg\" x=\"0.5\" y=\"0.5\" width=\"11\" height=\"18\" style=\"stroke-width: 1px; stroke: rgb(0, 0, 0); stroke-opacity: 0; fill: rgb(0, 0, 0); fill-opacity: 0;\"/><text class=\"annotation-text\" text-anchor=\"middle\" x=\"5.828125\" y=\"14\" style=\"font-family: 'Open Sans', verdana, arial, sans-serif; font-size: 12px; fill: rgb(0, 0, 0); fill-opacity: 1; white-space: pre;\">6</text></g></g></g><g class=\"annotation\" data-index=\"2\" style=\"opacity: 1;\"><g class=\"annotation-text-g\" transform=\"rotate(0,215,340)\"><g class=\"cursor-pointer\" transform=\"translate(205,331)\"><rect class=\"bg\" x=\"0.5\" y=\"0.5\" width=\"19\" height=\"18\" style=\"stroke-width: 1px; stroke: rgb(0, 0, 0); stroke-opacity: 0; fill: rgb(0, 0, 0); fill-opacity: 0;\"/><text class=\"annotation-text\" text-anchor=\"middle\" x=\"9.640625\" y=\"14\" style=\"font-family: 'Open Sans', verdana, arial, sans-serif; font-size: 12px; fill: rgb(0, 0, 0); fill-opacity: 1; white-space: pre;\">18</text></g></g></g><g class=\"annotation\" data-index=\"3\" style=\"opacity: 1;\"><g class=\"annotation-text-g\" transform=\"rotate(0,485,340)\"><g class=\"cursor-pointer\" transform=\"translate(472,331)\"><rect class=\"bg\" x=\"0.5\" y=\"0.5\" width=\"26\" height=\"18\" style=\"stroke-width: 1px; stroke: rgb(0, 0, 0); stroke-opacity: 0; fill: rgb(0, 0, 0); fill-opacity: 0;\"/><text class=\"annotation-text\" text-anchor=\"middle\" x=\"13.453125\" y=\"14\" style=\"font-family: 'Open Sans', verdana, arial, sans-serif; font-size: 12px; fill: rgb(255, 255, 255); fill-opacity: 1; white-space: pre;\">703</text></g></g></g></g></svg>"
      ]
     },
     "metadata": {},
     "output_type": "display_data"
    }
   ],
   "source": [
    "import plotly.figure_factory as ff\n",
    "\n",
    "labels = [\"Closed\", \"Open\"]\n",
    "fig = ff.create_annotated_heatmap(confusion_matrices[\"XGBoost\"], x = labels, y = labels, colorscale=\"reds\")\n",
    "fig.update_layout(yaxis = dict(categoryorder = \"category descending\"))\n",
    "fig.update_layout(title=\"Confusion Matrix Obtained for XGBoost using the Validation/Holdout set\")\n",
    "fig.show(\"svg\") # to make this plot interactive, remove \"svg\" and run the cell block. "
   ]
  },
  {
   "cell_type": "markdown",
   "metadata": {},
   "source": [
    "## Part 2.2. Work up the ML results with the post_proccessing.py module. \n",
    "\n",
    "In order to perform the analysis we will need to provide the models generated in Part 2.1 Shown below are the two possible ways to do this. "
   ]
  },
  {
   "cell_type": "code",
   "execution_count": 87,
   "metadata": {},
   "outputs": [],
   "source": [
    "# First we will make an instance of the SupervisedPostProcessor class.\n",
    "ml_post_proc = post_proccessing.SupervisedPostProcessor(\n",
    "    out_dir=ml_out_dir,\n",
    ")\n",
    "\n",
    "# Option 1 - Load models from the instance of the SupervisedModel class. \n",
    "ml_post_proc.load_models_from_instance(supervised_model=ml_model)\n",
    "\n",
    "# Option 2 - Load models from disk. (If you've run the model building, shut down the kernel and now want to post-process).\n",
    "#post_proc.load_models_from_disk(models_to_use=[\"XGBoost\", \"CatBoost\", \"Random_Forest\"]) "
   ]
  },
  {
   "cell_type": "code",
   "execution_count": 88,
   "metadata": {},
   "outputs": [
    {
     "name": "stdout",
     "output_type": "stream",
     "text": [
      "tutorial_datasets\\PTP1B_ml_analysis\\CatBoost_Feature_Scores.csv written to disk.\n",
      "tutorial_datasets\\PTP1B_ml_analysis\\XGBoost_Feature_Scores.csv written to disk.\n",
      "tutorial_datasets\\PTP1B_ml_analysis\\Random_Forest_Feature_Scores.csv written to disk.\n",
      "All per feature scores have now been saved to disk.\n"
     ]
    }
   ],
   "source": [
    "# After preparing the class we can now determine the per feature scores for each model made.\n",
    "ml_post_proc.get_per_feature_scores()"
   ]
  },
  {
   "cell_type": "code",
   "execution_count": 89,
   "metadata": {},
   "outputs": [
    {
     "name": "stdout",
     "output_type": "stream",
     "text": [
      "tutorial_datasets\\PTP1B_ml_analysis\\CatBoost_Per_Residue_Scores.csv written to disk.\n",
      "tutorial_datasets\\PTP1B_ml_analysis\\XGBoost_Per_Residue_Scores.csv written to disk.\n",
      "tutorial_datasets\\PTP1B_ml_analysis\\Random_Forest_Per_Residue_Scores.csv written to disk.\n",
      "All per residue scores have now been saved to disk.\n"
     ]
    }
   ],
   "source": [
    "# We can also project these per feature scores onto the per-residue level. \n",
    "ml_post_proc.get_per_res_scores()"
   ]
  },
  {
   "cell_type": "code",
   "execution_count": 90,
   "metadata": {},
   "outputs": [
    {
     "name": "stdout",
     "output_type": "stream",
     "text": [
      "dict_keys(['out_dir', 'feat_names', 'best_models', 'all_per_feature_scores', 'all_per_residue_scores'])\n"
     ]
    }
   ],
   "source": [
    "print(ml_post_proc.__dict__.keys())"
   ]
  },
  {
   "cell_type": "markdown",
   "metadata": {},
   "source": [
    "If we take a look at the class attributes we can see the per feature and per residue scores were not just saved to disk, but are also stored inside the class.\n",
    "\n",
    "This means you could easily analyse them within Python if you want. I will show one more way to generate a quick figure here. Bear in mind these results can also be analysed in very similar ways to those generated in the statistical analysis section."
   ]
  },
  {
   "cell_type": "code",
   "execution_count": 91,
   "metadata": {},
   "outputs": [],
   "source": [
    "all_per_res_scores = ml_post_proc.all_per_residue_scores\n",
    "all_per_feature_scores = ml_post_proc.all_per_feature_scores"
   ]
  },
  {
   "cell_type": "code",
   "execution_count": 92,
   "metadata": {},
   "outputs": [
    {
     "data": {
      "text/html": [
       "<div>\n",
       "<style scoped>\n",
       "    .dataframe tbody tr th:only-of-type {\n",
       "        vertical-align: middle;\n",
       "    }\n",
       "\n",
       "    .dataframe tbody tr th {\n",
       "        vertical-align: top;\n",
       "    }\n",
       "\n",
       "    .dataframe thead th {\n",
       "        text-align: right;\n",
       "    }\n",
       "</style>\n",
       "<table border=\"1\" class=\"dataframe\">\n",
       "  <thead>\n",
       "    <tr style=\"text-align: right;\">\n",
       "      <th></th>\n",
       "      <th>Residue Number</th>\n",
       "      <th>CatBoost</th>\n",
       "      <th>XGBoost</th>\n",
       "      <th>Random_Forest</th>\n",
       "    </tr>\n",
       "  </thead>\n",
       "  <tbody>\n",
       "    <tr>\n",
       "      <th>165</th>\n",
       "      <td>2</td>\n",
       "      <td>0.00102</td>\n",
       "      <td>0.00122</td>\n",
       "      <td>0.01733</td>\n",
       "    </tr>\n",
       "    <tr>\n",
       "      <th>208</th>\n",
       "      <td>3</td>\n",
       "      <td>0.00000</td>\n",
       "      <td>0.00406</td>\n",
       "      <td>0.00543</td>\n",
       "    </tr>\n",
       "    <tr>\n",
       "      <th>209</th>\n",
       "      <td>4</td>\n",
       "      <td>0.00000</td>\n",
       "      <td>0.01491</td>\n",
       "      <td>0.00929</td>\n",
       "    </tr>\n",
       "    <tr>\n",
       "      <th>163</th>\n",
       "      <td>5</td>\n",
       "      <td>0.00106</td>\n",
       "      <td>0.01040</td>\n",
       "      <td>0.01592</td>\n",
       "    </tr>\n",
       "    <tr>\n",
       "      <th>107</th>\n",
       "      <td>6</td>\n",
       "      <td>0.00504</td>\n",
       "      <td>0.01313</td>\n",
       "      <td>0.02248</td>\n",
       "    </tr>\n",
       "  </tbody>\n",
       "</table>\n",
       "</div>"
      ],
      "text/plain": [
       "     Residue Number  CatBoost  XGBoost  Random_Forest\n",
       "165               2   0.00102  0.00122        0.01733\n",
       "208               3   0.00000  0.00406        0.00543\n",
       "209               4   0.00000  0.01491        0.00929\n",
       "163               5   0.00106  0.01040        0.01592\n",
       "107               6   0.00504  0.01313        0.02248"
      ]
     },
     "execution_count": 92,
     "metadata": {},
     "output_type": "execute_result"
    }
   ],
   "source": [
    "import pandas as pd \n",
    "import plotly.express as px\n",
    "df_all_per_res_scores = pd.DataFrame(all_per_res_scores).reset_index()\n",
    "df_all_per_res_scores = df_all_per_res_scores.rename(columns={\"index\": \"Residue Number\"})\n",
    "df_all_per_res_scores = df_all_per_res_scores.sort_values([\"Residue Number\"], ascending=True)\n",
    "df_all_per_res_scores.head() "
   ]
  },
  {
   "cell_type": "code",
   "execution_count": 93,
   "metadata": {},
   "outputs": [
    {
     "data": {
      "image/svg+xml": [
       "<svg class=\"main-svg\" xmlns=\"http://www.w3.org/2000/svg\" xmlns:xlink=\"http://www.w3.org/1999/xlink\" width=\"700\" height=\"500\" style=\"\" viewBox=\"0 0 700 500\"><rect x=\"0\" y=\"0\" width=\"700\" height=\"500\" style=\"fill: rgb(255, 255, 255); fill-opacity: 1;\"/><defs id=\"defs-fdd61e\"><g class=\"clips\"><clipPath id=\"clipfdd61exyplot\" class=\"plotclip\"><rect width=\"427\" height=\"360\"/></clipPath><clipPath class=\"axesclip\" id=\"clipfdd61ex\"><rect x=\"80\" y=\"0\" width=\"427\" height=\"500\"/></clipPath><clipPath class=\"axesclip\" id=\"clipfdd61ey\"><rect x=\"0\" y=\"60\" width=\"700\" height=\"360\"/></clipPath><clipPath class=\"axesclip\" id=\"clipfdd61exy\"><rect x=\"80\" y=\"60\" width=\"427\" height=\"360\"/></clipPath></g><g class=\"gradients\"/><g class=\"patterns\"/></defs><g class=\"bglayer\"><rect class=\"bg\" x=\"80\" y=\"60\" width=\"427\" height=\"360\" style=\"fill: rgb(229, 236, 246); fill-opacity: 1; stroke-width: 0;\"/></g><g class=\"layer-below\"><g class=\"imagelayer\"/><g class=\"shapelayer\"/></g><g class=\"cartesianlayer\"><g class=\"subplot xy\"><g class=\"layer-subplot\"><g class=\"shapelayer\"/><g class=\"imagelayer\"/></g><g class=\"gridlayer\"><g class=\"x\"><path class=\"xgrid crisp\" transform=\"translate(149.24,0)\" d=\"M0,60v360\" style=\"stroke: rgb(255, 255, 255); stroke-opacity: 1; stroke-width: 1px;\"/><path class=\"xgrid crisp\" transform=\"translate(221.37,0)\" d=\"M0,60v360\" style=\"stroke: rgb(255, 255, 255); stroke-opacity: 1; stroke-width: 1px;\"/><path class=\"xgrid crisp\" transform=\"translate(293.5,0)\" d=\"M0,60v360\" style=\"stroke: rgb(255, 255, 255); stroke-opacity: 1; stroke-width: 1px;\"/><path class=\"xgrid crisp\" transform=\"translate(365.63,0)\" d=\"M0,60v360\" style=\"stroke: rgb(255, 255, 255); stroke-opacity: 1; stroke-width: 1px;\"/><path class=\"xgrid crisp\" transform=\"translate(437.76,0)\" d=\"M0,60v360\" style=\"stroke: rgb(255, 255, 255); stroke-opacity: 1; stroke-width: 1px;\"/></g><g class=\"y\"><path class=\"ygrid crisp\" transform=\"translate(0,337.2)\" d=\"M80,0h427\" style=\"stroke: rgb(255, 255, 255); stroke-opacity: 1; stroke-width: 1px;\"/><path class=\"ygrid crisp\" transform=\"translate(0,272.4)\" d=\"M80,0h427\" style=\"stroke: rgb(255, 255, 255); stroke-opacity: 1; stroke-width: 1px;\"/><path class=\"ygrid crisp\" transform=\"translate(0,207.6)\" d=\"M80,0h427\" style=\"stroke: rgb(255, 255, 255); stroke-opacity: 1; stroke-width: 1px;\"/><path class=\"ygrid crisp\" transform=\"translate(0,142.8)\" d=\"M80,0h427\" style=\"stroke: rgb(255, 255, 255); stroke-opacity: 1; stroke-width: 1px;\"/><path class=\"ygrid crisp\" transform=\"translate(0,78)\" d=\"M80,0h427\" style=\"stroke: rgb(255, 255, 255); stroke-opacity: 1; stroke-width: 1px;\"/></g></g><g class=\"zerolinelayer\"><path class=\"yzl zl crisp\" transform=\"translate(0,402)\" d=\"M80,0h427\" style=\"stroke: rgb(255, 255, 255); stroke-opacity: 1; stroke-width: 2px;\"/></g><path class=\"xlines-below\"/><path class=\"ylines-below\"/><g class=\"overlines-below\"/><g class=\"xaxislayer-below\"/><g class=\"yaxislayer-below\"/><g class=\"overaxes-below\"/><g class=\"plot\" transform=\"translate(80,60)\" clip-path=\"url(#clipfdd61exyplot)\"><g class=\"scatterlayer mlayer\"><g class=\"trace scatter trace5d19d0\" style=\"stroke-miterlimit: 2; opacity: 1;\"><g class=\"fills\"/><g class=\"errorbars\"/><g class=\"lines\"><path class=\"js-line\" d=\"M0,341.67L2.89,342L4.33,341.66L5.77,340.37L7.21,340.73L8.66,342L10.1,341.66L11.54,336.72L12.98,342L18.75,342L20.2,334.77L21.64,342L23.08,342L24.52,341.04L25.97,334.77L27.41,341.35L28.85,342L30.29,340.89L31.74,341.35L34.62,342L36.06,330.25L37.51,342L38.95,342L40.39,342L41.83,330.59L43.28,341.4L44.72,323.17L46.16,338.79L47.6,336.14L49.05,341.62L50.49,339.79L51.93,338.03L53.38,342L54.82,338.68L56.26,330.3L57.7,330.29L59.15,340.55L60.59,338.9L62.03,339.02L63.47,342L64.92,342L66.36,340.71L67.8,341.27L69.24,342L70.69,340.95L72.13,317.32L73.57,336.25L75.01,331.74L76.46,342L77.9,341.6L79.34,335.19L80.78,339.94L82.23,324.33L83.67,328.4L85.11,342L89.44,341.76L90.88,340.54L93.77,342L95.21,342L96.65,338.18L98.09,337.1L99.54,341.94L100.98,341.74L102.42,341.4L103.86,342L105.31,335.76L106.75,339.43L108.19,340.61L109.64,336.32L111.08,341.74L112.52,341.65L115.41,342L116.85,341.86L119.73,341.41L121.18,341.95L122.62,340.5L124.06,342L125.5,332.41L126.95,342L128.39,340.95L129.83,342L131.27,337.74L132.72,341.58L134.16,340.76L135.6,313L137.04,341.35L138.49,342L139.93,321.7L141.37,327.78L142.81,342L144.26,342L152.91,341.99L154.35,321.43L155.8,278.58L157.24,299.8L158.68,337.07L160.13,341.44L161.57,18L163.01,342L164.45,341.44L165.9,342L167.34,341.68L168.78,324.68L170.22,327.67L171.67,340.9L173.11,340.37L174.55,341.63L177.44,342L178.88,340.37L180.32,342L181.76,342L191.86,342L193.3,339.94L194.75,335.79L196.19,341.8L197.63,339.36L199.07,341.99L210.61,342L212.06,335.58L213.5,331.06L214.94,278.08L216.39,324.82L217.83,342L219.27,342L220.71,340.48L222.16,341.7L223.6,341.36L225.04,341.91L226.48,340.84L227.93,342L229.37,341.7L238.02,341.91L239.47,324.8L240.91,341.7L242.35,341.59L243.79,342L245.24,341.42L246.68,341.92L248.12,341.04L249.56,296.41L251.01,342L269.76,342L271.2,67.11L272.65,326.38L274.09,269.78L275.53,337.39L276.97,336.89L278.42,314.83L279.86,341.65L282.74,337.08L284.19,341.54L287.07,342L288.51,342L302.94,341.86L304.38,337.22L305.82,331.49L307.27,204.26L308.71,342L310.15,342L311.59,336.81L313.04,275.43L314.48,174.01L315.92,341.63L317.36,340.72L318.81,278.15L321.69,340.39L323.14,336.12L324.58,86.73L326.02,331.71L328.91,340.65L330.35,339.94L331.79,338.88L333.23,325.94L334.68,340.84L336.12,339.97L337.56,335.57L339,327.73L340.45,341.83L341.89,340.95L343.33,341.99L344.77,341.99L346.22,340.22L347.66,336.36L349.1,341.89L350.54,341.44L351.99,339.24L353.43,341.89L356.31,334.94L357.76,342L360.64,341.69L362.08,304.23L363.53,336.15L364.97,341.04L366.41,340.59L367.85,341.27L369.3,327.96L370.74,335.68L373.62,299.82L375.07,333.79L376.51,341.41L377.95,339.25L379.4,292.52L380.84,328.86L382.28,331.3L383.72,302.65L385.17,314.13L386.61,335L388.05,337.88L389.49,250.44L390.94,342L392.38,340.82L393.82,336.67L395.26,339.71L396.71,341.98L398.15,340.9L399.59,334.46L401.03,339.9L402.48,342L403.92,342L406.8,340.48L408.25,341.94L409.69,342L411.13,325.64L412.57,341.94L414.02,342L415.46,336.06L416.9,326.91L418.34,342L419.79,342L421.23,303L422.67,326.49L425.56,336.32L427,328.48\" style=\"vector-effect: non-scaling-stroke; fill: none; stroke: rgb(99, 110, 250); stroke-opacity: 1; stroke-width: 2px; opacity: 1;\"/></g><g class=\"points\"/><g class=\"text\"/></g><g class=\"trace scatter trace3177ee\" style=\"stroke-miterlimit: 2; opacity: 1;\"><g class=\"fills\"/><g class=\"errorbars\"/><g class=\"lines\"><path class=\"js-line\" d=\"M0,341.6L1.44,340.68L2.89,337.17L4.33,338.63L5.77,337.75L7.21,337.75L8.66,341.68L11.54,328.84L12.98,340.68L14.43,342L15.87,336.98L17.31,337.92L18.75,337.58L20.2,337.7L21.64,342L23.08,338.74L24.52,324.92L25.97,336.11L27.41,340.91L28.85,331.44L30.29,338.66L31.74,338.58L33.18,340.86L36.06,332.68L37.51,342L38.95,342L40.39,336.56L41.83,317.05L43.28,338.29L44.72,326.18L46.16,338.11L47.6,328.31L49.05,338.47L50.49,341.39L51.93,340.04L53.38,341.39L54.82,329.13L56.26,336.58L57.7,318.63L59.15,320.82L60.59,338.98L62.03,339.34L63.47,342L64.92,342L66.36,330.02L67.8,339.85L69.24,341.68L70.69,341.64L72.13,308.86L73.57,333.92L75.01,336.73L76.46,337.85L77.9,340.1L79.34,340.35L80.78,341.61L82.23,339.39L83.67,324.86L85.11,342L86.55,342L88,329.47L89.44,337.85L90.88,339.03L92.32,342L93.77,338.07L95.21,342L96.65,334.31L98.09,340.92L99.54,341.27L100.98,334.38L102.42,340.07L103.86,341.96L105.31,331.45L106.75,337.56L108.19,341.87L109.64,329.1L112.52,340.64L113.96,340.83L116.85,337.87L118.29,342L119.73,340.54L121.18,340.39L122.62,339.8L124.06,342L125.5,337.09L126.95,339.38L128.39,341.21L129.83,334.45L131.27,331.11L132.72,336.42L134.16,337.12L135.6,329.46L138.49,333.14L139.93,320.57L141.37,339.61L142.81,332.94L144.26,330.73L145.7,341.68L147.14,338.66L148.58,342L150.03,338.73L151.47,329.85L152.91,337.38L154.35,328.39L155.8,303.63L157.24,321.23L158.68,339.28L160.13,341.61L161.57,223.79L163.01,342L164.45,341.61L165.9,342L167.34,342L168.78,328.72L170.22,326.99L171.67,340.33L173.11,341.27L174.55,330.07L175.99,341.12L177.44,342L178.88,341.27L180.32,338.44L181.76,342L183.21,342L184.65,338.44L186.09,342L187.53,338.02L188.98,342L190.42,337.81L191.86,342L193.3,341.75L194.75,339.51L196.19,333.73L197.63,341.5L199.07,342L200.52,337.09L201.96,341.42L203.4,342L204.84,342L206.29,340.5L207.73,340.33L209.17,335.19L210.61,342L212.06,326.25L213.5,335.95L214.94,311.14L216.39,301.51L217.83,338.98L219.27,337.39L220.71,337.5L222.16,338.74L223.6,338.79L225.04,340.04L226.48,337.92L227.93,342L229.37,322.49L230.81,339.15L232.25,342L233.7,342L235.14,339.95L236.58,327.81L238.02,337.46L239.47,325.76L240.91,339.78L242.35,339.07L243.79,341.49L245.24,337.7L246.68,339.9L248.12,340.25L249.56,312.56L251.01,342L252.45,342L269.76,342L271.2,18L272.65,331.35L274.09,268.68L275.53,335.81L276.97,336.89L278.42,318.65L279.86,333.28L281.3,337.64L282.74,339.41L285.63,341.64L287.07,340.44L288.51,341.39L289.96,332.45L291.4,342L292.84,342L298.61,342L300.05,336.37L301.5,340.99L302.94,330.34L304.38,326.78L305.82,337.51L307.27,300.27L308.71,342L311.59,331.94L313.04,322.19L314.48,265.79L315.92,335.62L317.36,330.82L318.81,313.32L321.69,340.21L323.14,327.1L324.58,26.91L326.02,325.3L327.46,331.17L328.91,341.42L330.35,341.12L331.79,332.21L333.23,328.97L334.68,330.15L336.12,341.12L337.56,330.46L339,329.35L340.45,342L341.89,337.47L343.33,341.6L344.77,339.51L346.22,335.39L349.1,342L350.54,331.67L351.99,340.8L353.43,333.91L356.31,338.1L357.76,333.91L359.2,340.86L360.64,341.01L362.08,287.36L363.53,333.92L364.97,337.7L366.41,338.45L367.85,341.66L369.3,336.51L370.74,329.44L372.18,308.32L373.62,327.09L375.07,333.86L376.51,339.4L377.95,341.77L379.4,316.3L380.84,335.24L382.28,311.16L383.72,319.47L385.17,318.24L386.61,324.29L388.05,335.48L389.49,293.92L390.94,328.27L392.38,341.44L393.82,324.39L395.26,340.78L398.15,340.27L399.59,317.21L401.03,342L402.48,341.64L403.92,338.3L405.36,340.61L406.8,322.99L408.25,341.81L409.69,340.93L411.13,289.17L412.57,341.45L414.02,341.42L415.46,318.27L416.9,318L418.34,341.45L419.79,341.61L421.23,318.57L422.67,330.98L424.11,302.41L425.56,340.75L427,326.95\" style=\"vector-effect: non-scaling-stroke; fill: none; stroke: rgb(239, 85, 59); stroke-opacity: 1; stroke-width: 2px; opacity: 1;\"/></g><g class=\"points\"/><g class=\"text\"/></g><g class=\"trace scatter trace0b9495\" style=\"stroke-miterlimit: 2; opacity: 1;\"><g class=\"fills\"/><g class=\"errorbars\"/><g class=\"lines\"><path class=\"js-line\" d=\"M0,336.39L1.44,340.24L2.89,338.99L5.77,334.72L7.21,338.49L8.66,338.38L10.1,335.94L11.54,334.29L12.98,340.1L15.87,340.57L17.31,339.59L18.75,335.63L20.2,340.21L21.64,339.76L23.08,337.52L24.52,332.65L25.97,338.73L27.41,338.48L28.85,335.09L31.74,340.29L33.18,339.65L34.62,340.12L36.06,335.9L37.51,342L38.95,342L40.39,340.95L41.83,333.4L43.28,335.67L44.72,335.58L46.16,338.32L47.6,336.15L49.05,337.32L50.49,339.45L51.93,337.65L53.38,333.64L54.82,337.64L56.26,337.15L57.7,334.13L59.15,336.75L60.59,324.25L62.03,318.95L63.47,342L64.92,342L66.36,336.97L67.8,337.96L69.24,338.89L70.69,337.8L72.13,330.8L73.57,340.54L75.01,335.77L76.46,339.1L79.34,338.85L80.78,339.54L82.23,333.33L83.67,334.65L85.11,342L86.55,341.38L88,335.72L89.44,339L90.88,336.9L92.32,340.46L93.77,336.11L95.21,339.59L96.65,337.28L98.09,339.34L99.54,337.82L100.98,341.12L102.42,338.82L103.86,341.48L105.31,339.25L106.75,340.01L108.19,340.29L109.64,336.43L111.08,340.45L112.52,339.09L113.96,336.75L115.41,338.08L118.29,338.57L119.73,338.99L121.18,337.86L122.62,338.91L124.06,341.23L125.5,339.84L126.95,338.01L128.39,338.01L129.83,339.21L131.27,336.75L132.72,335.02L134.16,334.63L135.6,328.07L137.04,334.98L138.49,336.06L139.93,330.51L141.37,333.48L142.81,340.3L144.26,337.55L145.7,340.03L147.14,338.22L148.58,340.48L152.91,336.06L154.35,327.07L155.8,250.21L157.24,328.43L158.68,328.5L160.13,339.27L161.57,18L163.01,342L164.45,341.42L165.9,339.49L167.34,338.43L168.78,297.16L171.67,338.89L173.11,340.9L174.55,336.51L175.99,340.8L177.44,339.5L178.88,340.9L180.32,341.04L181.76,342L183.21,342L184.65,341.04L187.53,340.53L188.98,341.24L190.42,338.8L191.86,340.92L193.3,339.99L194.75,337.36L196.19,337.29L197.63,339.53L199.07,339.57L200.52,337.8L201.96,340.76L203.4,340.35L206.29,341.26L207.73,340.48L209.17,340.47L210.61,341.24L213.5,313.95L214.94,238.75L216.39,321.14L217.83,338.28L219.27,340.67L220.71,336.97L223.6,339.63L225.04,339.83L226.48,336.38L227.93,339.46L229.37,338.27L230.81,338.91L232.25,341.26L233.7,341.41L235.14,339.85L236.58,339.76L238.02,338.94L239.47,334.91L240.91,340.5L242.35,337.71L243.79,340.58L245.24,337.8L246.68,338.44L248.12,336.76L249.56,238.48L251.01,342L269.76,342L271.2,18.14L272.65,326.92L274.09,229.8L275.53,318.81L276.97,311.95L278.42,285.68L279.86,316.64L281.3,334.25L282.74,333.14L284.19,327.18L285.63,340.26L288.51,338.32L289.96,339.67L292.84,342L294.28,342L295.73,337.66L297.17,340.76L298.61,340.74L300.05,339.17L304.38,336.1L305.82,332.42L307.27,194.29L308.71,338.08L310.15,337.85L311.59,336.65L313.04,306.35L314.48,207.61L315.92,336.65L317.36,336.94L318.81,290.93L320.25,313.41L321.69,337.46L323.14,332.63L324.58,193.1L326.02,332.47L328.91,339.16L330.35,337.89L331.79,337.79L333.23,336.08L334.68,335.14L336.12,339.98L337.56,336.62L339,337.63L340.45,339.81L341.89,339.53L343.33,339.28L344.77,341.15L347.66,338.16L349.1,340.85L350.54,336.11L351.99,337.99L353.43,339.77L354.87,337.02L356.31,333.11L357.76,338.65L359.2,338.83L360.64,335.9L362.08,314.67L363.53,338.44L364.97,336.42L366.41,325.98L367.85,341.05L369.3,337L372.18,329.09L373.62,312.32L375.07,337.41L376.51,339.35L377.95,337.43L379.4,302.96L380.84,328.55L382.28,324.47L383.72,290.13L385.17,304.52L386.61,330.22L388.05,331.19L389.49,154.85L390.94,336.21L392.38,338.38L393.82,328.42L395.26,338.74L396.71,338.24L398.15,337.69L399.59,325.36L401.03,339.72L402.48,339.1L403.92,340.23L405.36,338.66L406.8,333.82L408.25,339.51L409.69,339.51L411.13,242.96L412.57,338.72L414.02,338.56L415.46,316.02L416.9,273.2L418.34,338.53L419.79,340.15L421.23,291.35L422.67,299.32L424.11,275.85L425.56,335.08L427,331.82\" style=\"vector-effect: non-scaling-stroke; fill: none; stroke: rgb(0, 204, 150); stroke-opacity: 1; stroke-width: 2px; opacity: 1;\"/></g><g class=\"points\"/><g class=\"text\"/></g></g></g><g class=\"overplot\"/><path class=\"xlines-above crisp\" d=\"M0,0\" style=\"fill: none;\"/><path class=\"ylines-above crisp\" d=\"M0,0\" style=\"fill: none;\"/><g class=\"overlines-above\"/><g class=\"xaxislayer-above\"><g class=\"xtick\"><text text-anchor=\"middle\" x=\"0\" y=\"437\" transform=\"translate(149.24,0)\" style=\"font-family: 'Open Sans', verdana, arial, sans-serif; font-size: 16px; fill: rgb(42, 63, 95); fill-opacity: 1; white-space: pre; opacity: 1;\">50</text></g><g class=\"xtick\"><text text-anchor=\"middle\" x=\"0\" y=\"437\" style=\"font-family: 'Open Sans', verdana, arial, sans-serif; font-size: 16px; fill: rgb(42, 63, 95); fill-opacity: 1; white-space: pre; opacity: 1;\" transform=\"translate(221.37,0)\">100</text></g><g class=\"xtick\"><text text-anchor=\"middle\" x=\"0\" y=\"437\" style=\"font-family: 'Open Sans', verdana, arial, sans-serif; font-size: 16px; fill: rgb(42, 63, 95); fill-opacity: 1; white-space: pre; opacity: 1;\" transform=\"translate(293.5,0)\">150</text></g><g class=\"xtick\"><text text-anchor=\"middle\" x=\"0\" y=\"437\" style=\"font-family: 'Open Sans', verdana, arial, sans-serif; font-size: 16px; fill: rgb(42, 63, 95); fill-opacity: 1; white-space: pre; opacity: 1;\" transform=\"translate(365.63,0)\">200</text></g><g class=\"xtick\"><text text-anchor=\"middle\" x=\"0\" y=\"437\" style=\"font-family: 'Open Sans', verdana, arial, sans-serif; font-size: 16px; fill: rgb(42, 63, 95); fill-opacity: 1; white-space: pre; opacity: 1;\" transform=\"translate(437.76,0)\">250</text></g></g><g class=\"yaxislayer-above\"><g class=\"ytick\"><text text-anchor=\"end\" x=\"79\" y=\"5.6\" transform=\"translate(0,402)\" style=\"font-family: 'Open Sans', verdana, arial, sans-serif; font-size: 16px; fill: rgb(42, 63, 95); fill-opacity: 1; white-space: pre; opacity: 1;\">0</text></g><g class=\"ytick\"><text text-anchor=\"end\" x=\"79\" y=\"5.6\" style=\"font-family: 'Open Sans', verdana, arial, sans-serif; font-size: 16px; fill: rgb(42, 63, 95); fill-opacity: 1; white-space: pre; opacity: 1;\" transform=\"translate(0,337.2)\">0.2</text></g><g class=\"ytick\"><text text-anchor=\"end\" x=\"79\" y=\"5.6\" style=\"font-family: 'Open Sans', verdana, arial, sans-serif; font-size: 16px; fill: rgb(42, 63, 95); fill-opacity: 1; white-space: pre; opacity: 1;\" transform=\"translate(0,272.4)\">0.4</text></g><g class=\"ytick\"><text text-anchor=\"end\" x=\"79\" y=\"5.6\" style=\"font-family: 'Open Sans', verdana, arial, sans-serif; font-size: 16px; fill: rgb(42, 63, 95); fill-opacity: 1; white-space: pre; opacity: 1;\" transform=\"translate(0,207.6)\">0.6</text></g><g class=\"ytick\"><text text-anchor=\"end\" x=\"79\" y=\"5.6\" style=\"font-family: 'Open Sans', verdana, arial, sans-serif; font-size: 16px; fill: rgb(42, 63, 95); fill-opacity: 1; white-space: pre; opacity: 1;\" transform=\"translate(0,142.8)\">0.8</text></g><g class=\"ytick\"><text text-anchor=\"end\" x=\"79\" y=\"5.6\" style=\"font-family: 'Open Sans', verdana, arial, sans-serif; font-size: 16px; fill: rgb(42, 63, 95); fill-opacity: 1; white-space: pre; opacity: 1;\" transform=\"translate(0,78)\">1</text></g></g><g class=\"overaxes-above\"/></g></g><g class=\"polarlayer\"/><g class=\"smithlayer\"/><g class=\"ternarylayer\"/><g class=\"geolayer\"/><g class=\"funnelarealayer\"/><g class=\"pielayer\"/><g class=\"iciclelayer\"/><g class=\"treemaplayer\"/><g class=\"sunburstlayer\"/><g class=\"glimages\"/><defs id=\"topdefs-fdd61e\"><g class=\"clips\"/><clipPath id=\"legendfdd61e\"><rect width=\"172\" height=\"107\" x=\"0\" y=\"0\"/></clipPath></defs><g class=\"layer-above\"><g class=\"imagelayer\"/><g class=\"shapelayer\"/></g><g class=\"infolayer\"><g class=\"legend\" pointer-events=\"all\" transform=\"translate(515.54,60)\"><rect class=\"bg\" shape-rendering=\"crispEdges\" width=\"172\" height=\"107\" x=\"0\" y=\"0\" style=\"stroke: rgb(68, 68, 68); stroke-opacity: 1; fill: rgb(255, 255, 255); fill-opacity: 1; stroke-width: 0px;\"/><g class=\"scrollbox\" transform=\"\" clip-path=\"url(#legendfdd61e)\"><text class=\"legendtitletext\" text-anchor=\"start\" x=\"2\" y=\"24.7\" style=\"font-family: 'Open Sans', verdana, arial, sans-serif; font-size: 19px; fill: rgb(42, 63, 95); fill-opacity: 1; white-space: pre;\">ML Models</text><g class=\"groups\" transform=\"\"><g class=\"traces\" transform=\"translate(0,41.6)\" style=\"opacity: 1;\"><text class=\"legendtext\" text-anchor=\"start\" x=\"40\" y=\"6.24\" style=\"font-family: 'Open Sans', verdana, arial, sans-serif; font-size: 16px; fill: rgb(42, 63, 95); fill-opacity: 1; white-space: pre;\">CatBoost</text><g class=\"layers\" style=\"opacity: 1;\"><g class=\"legendfill\"/><g class=\"legendlines\"><path class=\"js-line\" d=\"M5,0h30\" style=\"fill: none; stroke: rgb(99, 110, 250); stroke-opacity: 1; stroke-width: 2px;\"/></g><g class=\"legendsymbols\"><g class=\"legendpoints\"/></g></g><rect class=\"legendtoggle\" x=\"0\" y=\"-11.9\" width=\"166.171875\" height=\"23.8\" style=\"fill: rgb(0, 0, 0); fill-opacity: 0;\"/></g></g><g class=\"groups\" transform=\"\"><g class=\"traces\" transform=\"translate(0,65.4)\" style=\"opacity: 1;\"><text class=\"legendtext\" text-anchor=\"start\" x=\"40\" y=\"6.24\" style=\"font-family: 'Open Sans', verdana, arial, sans-serif; font-size: 16px; fill: rgb(42, 63, 95); fill-opacity: 1; white-space: pre;\">XGBoost</text><g class=\"layers\" style=\"opacity: 1;\"><g class=\"legendfill\"/><g class=\"legendlines\"><path class=\"js-line\" d=\"M5,0h30\" style=\"fill: none; stroke: rgb(239, 85, 59); stroke-opacity: 1; stroke-width: 2px;\"/></g><g class=\"legendsymbols\"><g class=\"legendpoints\"/></g></g><rect class=\"legendtoggle\" x=\"0\" y=\"-11.9\" width=\"166.171875\" height=\"23.8\" style=\"fill: rgb(0, 0, 0); fill-opacity: 0;\"/></g></g><g class=\"groups\" transform=\"\"><g class=\"traces\" transform=\"translate(0,89.2)\" style=\"opacity: 1;\"><text class=\"legendtext\" text-anchor=\"start\" x=\"40\" y=\"6.24\" style=\"font-family: 'Open Sans', verdana, arial, sans-serif; font-size: 16px; fill: rgb(42, 63, 95); fill-opacity: 1; white-space: pre;\">Random_Forest</text><g class=\"layers\" style=\"opacity: 1;\"><g class=\"legendfill\"/><g class=\"legendlines\"><path class=\"js-line\" d=\"M5,0h30\" style=\"fill: none; stroke: rgb(0, 204, 150); stroke-opacity: 1; stroke-width: 2px;\"/></g><g class=\"legendsymbols\"><g class=\"legendpoints\"/></g></g><rect class=\"legendtoggle\" x=\"0\" y=\"-11.9\" width=\"166.171875\" height=\"23.8\" style=\"fill: rgb(0, 0, 0); fill-opacity: 0;\"/></g></g></g><rect class=\"scrollbar\" rx=\"20\" ry=\"3\" width=\"0\" height=\"0\" x=\"0\" y=\"0\" style=\"fill: rgb(128, 139, 164); fill-opacity: 1;\"/></g><g class=\"g-gtitle\"><text class=\"gtitle\" x=\"35\" y=\"30\" text-anchor=\"start\" dy=\"0em\" style=\"font-family: 'Open Sans', verdana, arial, sans-serif; font-size: 22px; fill: rgb(42, 63, 95); opacity: 1; font-weight: normal; white-space: pre;\">Per Residue Scores for All 3 Machine Learning Models</text></g><g class=\"g-xtitle\"><text class=\"xtitle\" x=\"293.5\" y=\"468.3\" text-anchor=\"middle\" style=\"font-family: 'Open Sans', verdana, arial, sans-serif; font-size: 19px; fill: rgb(42, 63, 95); opacity: 1; font-weight: normal; white-space: pre;\">Residue Number</text></g><g class=\"g-ytitle\"><text class=\"ytitle\" transform=\"rotate(-90,24.528125000000003,240)\" x=\"24.528125000000003\" y=\"240\" text-anchor=\"middle\" style=\"font-family: 'Open Sans', verdana, arial, sans-serif; font-size: 19px; fill: rgb(42, 63, 95); opacity: 1; font-weight: normal; white-space: pre;\">Per Residue Score</text></g></g></svg>"
      ]
     },
     "metadata": {},
     "output_type": "display_data"
    }
   ],
   "source": [
    "fig = px.line(df_all_per_res_scores, x=\"Residue Number\", y=[\"CatBoost\", \"XGBoost\", \"Random_Forest\"])\n",
    "fig.update_layout(\n",
    "    title=\"Per Residue Scores for All 3 Machine Learning Models\",\n",
    "    xaxis_title=\"Residue Number\",\n",
    "    yaxis_title=\"Per Residue Score\",\n",
    "    legend_title=\"ML Models\",\n",
    "    font=dict(size=16)\n",
    ")\n",
    "\n",
    "fig.show(\"svg\") # remove \"svg\" to make the graph interactive "
   ]
  },
  {
   "cell_type": "markdown",
   "metadata": {},
   "source": [
    "### Part 2.3. Project the Results onto Protein Structures with the pymol_projections.py module. \n",
    " \n",
    "This section is essentially identical to 1.3, only that now we will output the ml results instead of the stats results"
   ]
  },
  {
   "cell_type": "code",
   "execution_count": 94,
   "metadata": {},
   "outputs": [
    {
     "name": "stdout",
     "output_type": "stream",
     "text": [
      "The file: tutorial_datasets\\PTP1B_ml_analysis\\CatBoost_Pymol_Per_Res_Scores.py was written to disk.\n",
      "The file: tutorial_datasets\\PTP1B_ml_analysis\\XGBoost_Pymol_Per_Res_Scores.py was written to disk.\n",
      "The file: tutorial_datasets\\PTP1B_ml_analysis\\Random_Forest_Pymol_Per_Res_Scores.py was written to disk.\n",
      "The file: tutorial_datasets\\PTP1B_ml_analysis\\CatBoost_Pymol_Per_Feature_Scores.py was written to disk.\n",
      "The file: tutorial_datasets\\PTP1B_ml_analysis\\XGBoost_Pymol_Per_Feature_Scores.py was written to disk.\n",
      "The file: tutorial_datasets\\PTP1B_ml_analysis\\Random_Forest_Pymol_Per_Feature_Scores.py was written to disk.\n"
     ]
    }
   ],
   "source": [
    "# Here you do not need to specify what model you would like to the output results for, all will be outputted simultaneously.\n",
    "pymol_projections.project_multiple_per_res_scores(\n",
    "    all_per_res_scores=ml_post_proc.all_per_residue_scores,\n",
    "    out_dir=ml_out_dir\n",
    ")\n",
    "\n",
    "pymol_projections.project_multiple_per_feature_scores(\n",
    "    all_per_feature_scores=ml_post_proc.all_per_feature_scores,\n",
    "    numb_features=\"all\",\n",
    "    out_dir=ml_out_dir\n",
    ")"
   ]
  },
  {
   "cell_type": "markdown",
   "metadata": {},
   "source": []
  }
 ],
 "metadata": {
  "kernelspec": {
   "display_name": "ML_conf_features_3.8",
   "language": "python",
   "name": "python3"
  },
  "language_info": {
   "codemirror_mode": {
    "name": "ipython",
    "version": 3
   },
   "file_extension": ".py",
   "mimetype": "text/x-python",
   "name": "python",
   "nbconvert_exporter": "python",
   "pygments_lexer": "ipython3",
   "version": "3.8.12"
  },
  "orig_nbformat": 4,
  "vscode": {
   "interpreter": {
    "hash": "d5d41bf74c17b5a6e59a3d560c52f1b05d1a02d51345af3a6d64602d4eaded4e"
   }
  }
 },
 "nbformat": 4,
 "nbformat_minor": 2
}
