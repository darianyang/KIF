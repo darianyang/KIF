{
 "cells": [
  {
   "cell_type": "markdown",
   "metadata": {},
   "source": [
    "## Stat Analysis on Simulations of all Kemp Eliminases \n",
    "\n",
    "These will be run one after the other"
   ]
  },
  {
   "cell_type": "code",
   "execution_count": 1,
   "metadata": {},
   "outputs": [],
   "source": [
    "import sys # note temporary... \n",
    "sys.path.append(\"..\") # note temporary...\n",
    "\n",
    "import re \n",
    "import pandas as pd\n",
    "from key_interactions_finder import pycontact_processing\n",
    "from key_interactions_finder import data_preperation\n",
    "from key_interactions_finder import network_analysis"
   ]
  },
  {
   "cell_type": "markdown",
   "metadata": {},
   "source": [
    "## R1_5d2w"
   ]
  },
  {
   "cell_type": "code",
   "execution_count": 2,
   "metadata": {},
   "outputs": [
    {
     "name": "stdout",
     "output_type": "stream",
     "text": [
      "Your PyContact file(s) have been succefully processed.\n",
      "You have 1699 features and 10001 observations.\n",
      "The fully processed dataframe is accesible from the '.prepared_df' class attribute.\n",
      "Your PyContact features and target variable have been succesufully merged.\n",
      "You can access this dataset through the class attribute: '.df_processed'.\n",
      "Number of features after filtering by average interaction scores: 814\n"
     ]
    }
   ],
   "source": [
    "# all input files \n",
    "in_dir = r\"C:\\Users\\Rory Crean\\Dropbox (lkgroup)\\Backup_HardDrive\\Postdoc\\MachLearnConformationalFeatures\\Workup\\KE07_Workup\\Raw_Datasets\\R1_5d2w\"\n",
    "\n",
    "pycontact_files_horizontal = [\"PyContact_Per_Frame_Interactions_Block1.csv\", \"PyContact_Per_Frame_Interactions_Block2.csv\",\n",
    "                              \"PyContact_Per_Frame_Interactions_Block3.csv\", \"PyContact_Per_Frame_Interactions_Block4.csv\",\n",
    "                              \"PyContact_Per_Frame_Interactions_Block5.csv\", \"PyContact_Per_Frame_Interactions_Block6.csv\",\n",
    "                              \"PyContact_Per_Frame_Interactions_Block7.csv\", \"PyContact_Per_Frame_Interactions_Block8.csv\",\n",
    "                              \"PyContact_Per_Frame_Interactions_Block9.csv\", \"PyContact_Per_Frame_Interactions_Block10.csv\",\n",
    "                              \"PyContact_Per_Frame_Interactions_Block11.csv\", \"PyContact_Per_Frame_Interactions_Block12.csv\",\n",
    "                              \"PyContact_Per_Frame_Interactions_Block13.csv\", \"PyContact_Per_Frame_Interactions_Block14.csv\",\n",
    "                              \"PyContact_Per_Frame_Interactions_Block15.csv\", \"PyContact_Per_Frame_Interactions_Block16.csv\",\n",
    "                              \"PyContact_Per_Frame_Interactions_Block17.csv\"]\n",
    "\n",
    "classifications_file = r\"C:\\Users\\Rory Crean\\Dropbox (lkgroup)\\Backup_HardDrive\\Postdoc\\MachLearnConformationalFeatures\\Workup\\KE07_Workup\\Raw_Datasets\\R1_5d2w\\R1_5d2w_1in10_Classified.dat\"\n",
    "\n",
    "\n",
    "# dataset prep parts. \n",
    "pycontact_dataset = pycontact_processing.PyContactInitializer(\n",
    "    pycontact_files=pycontact_files_horizontal,\n",
    "    multiple_files=True,\n",
    "    merge_files_method=\"horizontal\",  \n",
    "    remove_false_interactions=True,\n",
    "    in_dir=in_dir,\n",
    ")\n",
    "\n",
    "# SPECIAL STEP FOR KEMP ELIMINASES BECAUSE PYCONTACT RENUMBERED THEM TO 0. \n",
    "prepared_renumberd_df = pycontact_processing.modify_column_residue_numbers(\n",
    "    dataset=pycontact_dataset.prepared_df, \n",
    "    constant_to_add=1\n",
    ")\n",
    "\n",
    "supervised_dataset = data_preperation.SupervisedFeatureData(\n",
    "    input_df=prepared_renumberd_df,\n",
    "    target_file=classifications_file,\n",
    "    is_classification=True,\n",
    "    header_present=True \n",
    ")\n",
    "\n",
    "# Filtering \n",
    "supervised_dataset.reset_filtering()\n",
    "supervised_dataset.filter_by_occupancy_by_class(min_occupancy=50)\n",
    "print(f\"Number of features after filtering by average interaction scores: {len(supervised_dataset.df_filtered.columns)}\")"
   ]
  },
  {
   "cell_type": "code",
   "execution_count": 3,
   "metadata": {},
   "outputs": [],
   "source": [
    "correlation_network = network_analysis.CorrelationNetwork(\n",
    "    dataset=supervised_dataset.df_filtered, \n",
    ")"
   ]
  },
  {
   "cell_type": "code",
   "execution_count": 4,
   "metadata": {},
   "outputs": [
    {
     "name": "stdout",
     "output_type": "stream",
     "text": [
      "C:\\Users\\Rory Crean\\Dropbox (lkgroup)\\Backup_HardDrive\\Postdoc\\MachLearnConformationalFeatures\\Workup\\KE07_Workup\\Raw_Results_Network\\R1_5d2w/per_res_matrix.csv saved to disk.\n"
     ]
    }
   ],
   "source": [
    "out_file=r\"C:\\Users\\Rory Crean\\Dropbox (lkgroup)\\Backup_HardDrive\\Postdoc\\MachLearnConformationalFeatures\\Workup\\KE07_Workup\\Raw_Results_Network\\R1_5d2w/per_res_matrix.csv\"\n",
    "\n",
    "per_res_corr_matrix = correlation_network.gen_res_correl_matrix(\n",
    "    out_file=out_file\n",
    ")"
   ]
  },
  {
   "cell_type": "code",
   "execution_count": 5,
   "metadata": {},
   "outputs": [
    {
     "name": "stdout",
     "output_type": "stream",
     "text": [
      "C:\\Users\\Rory Crean\\Dropbox (lkgroup)\\Backup_HardDrive\\Postdoc\\MachLearnConformationalFeatures\\Workup\\KE07_Workup\\Raw_Results_Network\\R1_5d2w\\heavy_atom_contact_map.csv saved to disk.\n"
     ]
    }
   ],
   "source": [
    "out_file=r\"C:\\Users\\Rory Crean\\Dropbox (lkgroup)\\Backup_HardDrive\\Postdoc\\MachLearnConformationalFeatures\\Workup\\KE07_Workup\\Raw_Results_Network\\R1_5d2w\\heavy_atom_contact_map.csv\"\n",
    "pdb_file=r\"C:\\Users\\Rory Crean\\Dropbox (lkgroup)\\Backup_HardDrive\\Postdoc\\MachLearnConformationalFeatures\\Workup\\KE07_Workup\\PyMOL_Figures\\Input_Structures\\R1_5d2w_XrayRef.pdb\"\n",
    "\n",
    "heavy_atom_contact_map = network_analysis.heavy_atom_contact_map_from_pdb(\n",
    "    pdb_file=pdb_file,\n",
    "    first_res=1,\n",
    "    last_res=250,\n",
    "    d_cut=5,\n",
    "    out_file=out_file\n",
    ")"
   ]
  },
  {
   "cell_type": "code",
   "execution_count": null,
   "metadata": {},
   "outputs": [],
   "source": []
  },
  {
   "cell_type": "markdown",
   "metadata": {},
   "source": [
    "## R4_3iio"
   ]
  },
  {
   "cell_type": "code",
   "execution_count": 6,
   "metadata": {},
   "outputs": [
    {
     "name": "stdout",
     "output_type": "stream",
     "text": [
      "Your PyContact file(s) have been succefully processed.\n",
      "You have 1777 features and 10001 observations.\n",
      "The fully processed dataframe is accesible from the '.prepared_df' class attribute.\n",
      "Your PyContact features and target variable have been succesufully merged.\n",
      "You can access this dataset through the class attribute: '.df_processed'.\n",
      "Number of features after filtering by average interaction scores: 877\n"
     ]
    }
   ],
   "source": [
    "# all input files \n",
    "in_dir = r\"C:\\Users\\Rory Crean\\Dropbox (lkgroup)\\Backup_HardDrive\\Postdoc\\MachLearnConformationalFeatures\\Workup\\KE07_Workup\\Raw_Datasets\\R4_3iio\"\n",
    "\n",
    "pycontact_files_horizontal = [\"PyContact_Per_Frame_Interactions_Block1.csv\", \"PyContact_Per_Frame_Interactions_Block2.csv\",\n",
    "                              \"PyContact_Per_Frame_Interactions_Block3.csv\", \"PyContact_Per_Frame_Interactions_Block4.csv\",\n",
    "                              \"PyContact_Per_Frame_Interactions_Block5.csv\", \"PyContact_Per_Frame_Interactions_Block6.csv\",\n",
    "                              \"PyContact_Per_Frame_Interactions_Block7.csv\", \"PyContact_Per_Frame_Interactions_Block8.csv\",\n",
    "                              \"PyContact_Per_Frame_Interactions_Block9.csv\", \"PyContact_Per_Frame_Interactions_Block10.csv\",\n",
    "                              \"PyContact_Per_Frame_Interactions_Block11.csv\", \"PyContact_Per_Frame_Interactions_Block12.csv\",\n",
    "                              \"PyContact_Per_Frame_Interactions_Block13.csv\", \"PyContact_Per_Frame_Interactions_Block14.csv\",\n",
    "                              \"PyContact_Per_Frame_Interactions_Block15.csv\", \"PyContact_Per_Frame_Interactions_Block16.csv\",\n",
    "                              \"PyContact_Per_Frame_Interactions_Block17.csv\"]\n",
    "\n",
    "classifications_file = r\"C:\\Users\\Rory Crean\\Dropbox (lkgroup)\\Backup_HardDrive\\Postdoc\\MachLearnConformationalFeatures\\Workup\\KE07_Workup\\Raw_Datasets\\R4_3iio\\R4_3iio_1in10_Classified.dat\"\n",
    "\n",
    "\n",
    "# dataset prep parts. \n",
    "pycontact_dataset = pycontact_processing.PyContactInitializer(\n",
    "    pycontact_files=pycontact_files_horizontal,\n",
    "    multiple_files=True,\n",
    "    merge_files_method=\"horizontal\",  \n",
    "    remove_false_interactions=True,\n",
    "    in_dir=in_dir,\n",
    ")\n",
    "\n",
    "# SPECIAL STEP FOR KEMP ELIMINASES BECAUSE PYCONTACT RENUMBERED THEM TO 0. \n",
    "prepared_renumberd_df = pycontact_processing.modify_column_residue_numbers(\n",
    "    dataset=pycontact_dataset.prepared_df, \n",
    "    constant_to_add=1\n",
    ")\n",
    "\n",
    "supervised_dataset = data_preperation.SupervisedFeatureData(\n",
    "    input_df=prepared_renumberd_df,\n",
    "    target_file=classifications_file,\n",
    "    is_classification=True,\n",
    "    header_present=True \n",
    ")\n",
    "\n",
    "# Filtering \n",
    "supervised_dataset.reset_filtering()\n",
    "supervised_dataset.filter_by_occupancy_by_class(min_occupancy=50)\n",
    "print(f\"Number of features after filtering by average interaction scores: {len(supervised_dataset.df_filtered.columns)}\")"
   ]
  },
  {
   "cell_type": "code",
   "execution_count": 7,
   "metadata": {},
   "outputs": [],
   "source": [
    "correlation_network = network_analysis.CorrelationNetwork(\n",
    "    dataset=supervised_dataset.df_filtered, \n",
    ")"
   ]
  },
  {
   "cell_type": "code",
   "execution_count": 8,
   "metadata": {},
   "outputs": [
    {
     "name": "stdout",
     "output_type": "stream",
     "text": [
      "C:\\Users\\Rory Crean\\Dropbox (lkgroup)\\Backup_HardDrive\\Postdoc\\MachLearnConformationalFeatures\\Workup\\KE07_Workup\\Raw_Results_Network\\R4_3iio\\per_res_matrix.csv saved to disk.\n"
     ]
    }
   ],
   "source": [
    "out_file=r\"C:\\Users\\Rory Crean\\Dropbox (lkgroup)\\Backup_HardDrive\\Postdoc\\MachLearnConformationalFeatures\\Workup\\KE07_Workup\\Raw_Results_Network\\R4_3iio\\per_res_matrix.csv\"\n",
    "\n",
    "per_res_corr_matrix = correlation_network.gen_res_correl_matrix(\n",
    "    out_file=out_file\n",
    ")"
   ]
  },
  {
   "cell_type": "code",
   "execution_count": 9,
   "metadata": {},
   "outputs": [
    {
     "name": "stdout",
     "output_type": "stream",
     "text": [
      "C:\\Users\\Rory Crean\\Dropbox (lkgroup)\\Backup_HardDrive\\Postdoc\\MachLearnConformationalFeatures\\Workup\\KE07_Workup\\Raw_Results_Network\\R4_3iio\\heavy_atom_contact_map.csv saved to disk.\n"
     ]
    }
   ],
   "source": [
    "out_file=r\"C:\\Users\\Rory Crean\\Dropbox (lkgroup)\\Backup_HardDrive\\Postdoc\\MachLearnConformationalFeatures\\Workup\\KE07_Workup\\Raw_Results_Network\\R4_3iio\\heavy_atom_contact_map.csv\"\n",
    "pdb_file=r\"C:\\Users\\Rory Crean\\Dropbox (lkgroup)\\Backup_HardDrive\\Postdoc\\MachLearnConformationalFeatures\\Workup\\KE07_Workup\\PyMOL_Figures\\Input_Structures\\R4_3iio_XrayRef.pdb\"\n",
    "\n",
    "heavy_atom_contact_map = network_analysis.heavy_atom_contact_map_from_pdb(\n",
    "    pdb_file=pdb_file,\n",
    "    first_res=1,\n",
    "    last_res=250,\n",
    "    d_cut=5,\n",
    "    out_file=out_file\n",
    ")"
   ]
  },
  {
   "cell_type": "code",
   "execution_count": null,
   "metadata": {},
   "outputs": [],
   "source": []
  },
  {
   "cell_type": "markdown",
   "metadata": {},
   "source": [
    "## R7_2_5d38"
   ]
  },
  {
   "cell_type": "code",
   "execution_count": 10,
   "metadata": {},
   "outputs": [
    {
     "name": "stdout",
     "output_type": "stream",
     "text": [
      "Your PyContact file(s) have been succefully processed.\n",
      "You have 1696 features and 10001 observations.\n",
      "The fully processed dataframe is accesible from the '.prepared_df' class attribute.\n",
      "Your PyContact features and target variable have been succesufully merged.\n",
      "You can access this dataset through the class attribute: '.df_processed'.\n",
      "Number of features after filtering by average interaction scores: 846\n"
     ]
    }
   ],
   "source": [
    "# all input files \n",
    "in_dir = r\"C:\\Users\\Rory Crean\\Dropbox (lkgroup)\\Backup_HardDrive\\Postdoc\\MachLearnConformationalFeatures\\Workup\\KE07_Workup\\Raw_Datasets\\R7_2_5d38\"\n",
    "\n",
    "pycontact_files_horizontal = [\"PyContact_Per_Frame_Interactions_Block1.csv\", \"PyContact_Per_Frame_Interactions_Block2.csv\",\n",
    "                              \"PyContact_Per_Frame_Interactions_Block3.csv\", \"PyContact_Per_Frame_Interactions_Block4.csv\",\n",
    "                              \"PyContact_Per_Frame_Interactions_Block5.csv\", \"PyContact_Per_Frame_Interactions_Block6.csv\",\n",
    "                              \"PyContact_Per_Frame_Interactions_Block7.csv\", \"PyContact_Per_Frame_Interactions_Block8.csv\",\n",
    "                              \"PyContact_Per_Frame_Interactions_Block9.csv\", \"PyContact_Per_Frame_Interactions_Block10.csv\",\n",
    "                              \"PyContact_Per_Frame_Interactions_Block11.csv\", \"PyContact_Per_Frame_Interactions_Block12.csv\",\n",
    "                              \"PyContact_Per_Frame_Interactions_Block13.csv\", \"PyContact_Per_Frame_Interactions_Block14.csv\",\n",
    "                              \"PyContact_Per_Frame_Interactions_Block15.csv\", \"PyContact_Per_Frame_Interactions_Block16.csv\",\n",
    "                              \"PyContact_Per_Frame_Interactions_Block17.csv\"]\n",
    "\n",
    "classifications_file = r\"C:\\Users\\Rory Crean\\Dropbox (lkgroup)\\Backup_HardDrive\\Postdoc\\MachLearnConformationalFeatures\\Workup\\KE07_Workup\\Raw_Datasets\\R7_2_5d38\\R7_2_5d38_1in10_Classified.dat\"\n",
    "\n",
    "\n",
    "# dataset prep parts. \n",
    "pycontact_dataset = pycontact_processing.PyContactInitializer(\n",
    "    pycontact_files=pycontact_files_horizontal,\n",
    "    multiple_files=True,\n",
    "    merge_files_method=\"horizontal\",  \n",
    "    remove_false_interactions=True,\n",
    "    in_dir=in_dir,\n",
    ")\n",
    "\n",
    "# SPECIAL STEP FOR KEMP ELIMINASES BECAUSE PYCONTACT RENUMBERED THEM TO 0. \n",
    "prepared_renumberd_df = pycontact_processing.modify_column_residue_numbers(\n",
    "    dataset=pycontact_dataset.prepared_df, \n",
    "    constant_to_add=1\n",
    ")\n",
    "\n",
    "supervised_dataset = data_preperation.SupervisedFeatureData(\n",
    "    input_df=prepared_renumberd_df,\n",
    "    target_file=classifications_file,\n",
    "    is_classification=True,\n",
    "    header_present=True \n",
    ")\n",
    "\n",
    "# Filtering \n",
    "supervised_dataset.reset_filtering()\n",
    "supervised_dataset.filter_by_occupancy_by_class(min_occupancy=50)\n",
    "print(f\"Number of features after filtering by average interaction scores: {len(supervised_dataset.df_filtered.columns)}\")"
   ]
  },
  {
   "cell_type": "code",
   "execution_count": 11,
   "metadata": {},
   "outputs": [],
   "source": [
    "correlation_network = network_analysis.CorrelationNetwork(\n",
    "    dataset=supervised_dataset.df_filtered, \n",
    ")"
   ]
  },
  {
   "cell_type": "code",
   "execution_count": 12,
   "metadata": {},
   "outputs": [
    {
     "name": "stdout",
     "output_type": "stream",
     "text": [
      "C:\\Users\\Rory Crean\\Dropbox (lkgroup)\\Backup_HardDrive\\Postdoc\\MachLearnConformationalFeatures\\Workup\\KE07_Workup\\Raw_Results_Network\\R7_2_5d38/per_res_matrix.csv saved to disk.\n"
     ]
    }
   ],
   "source": [
    "out_file=r\"C:\\Users\\Rory Crean\\Dropbox (lkgroup)\\Backup_HardDrive\\Postdoc\\MachLearnConformationalFeatures\\Workup\\KE07_Workup\\Raw_Results_Network\\R7_2_5d38/per_res_matrix.csv\"\n",
    "\n",
    "per_res_corr_matrix = correlation_network.gen_res_correl_matrix(\n",
    "    out_file=out_file\n",
    ")"
   ]
  },
  {
   "cell_type": "code",
   "execution_count": 13,
   "metadata": {},
   "outputs": [
    {
     "name": "stdout",
     "output_type": "stream",
     "text": [
      "C:\\Users\\Rory Crean\\Dropbox (lkgroup)\\Backup_HardDrive\\Postdoc\\MachLearnConformationalFeatures\\Workup\\KE07_Workup\\Raw_Results_Network\\R7_2_5d38\\heavy_atom_contact_map.csv saved to disk.\n"
     ]
    }
   ],
   "source": [
    "out_file=r\"C:\\Users\\Rory Crean\\Dropbox (lkgroup)\\Backup_HardDrive\\Postdoc\\MachLearnConformationalFeatures\\Workup\\KE07_Workup\\Raw_Results_Network\\R7_2_5d38\\heavy_atom_contact_map.csv\"\n",
    "pdb_file=r\"C:\\Users\\Rory Crean\\Dropbox (lkgroup)\\Backup_HardDrive\\Postdoc\\MachLearnConformationalFeatures\\Workup\\KE07_Workup\\PyMOL_Figures\\Input_Structures\\R7_2_5d38_XrayRef.pdb\"\n",
    "\n",
    "heavy_atom_contact_map = network_analysis.heavy_atom_contact_map_from_pdb(\n",
    "    pdb_file=pdb_file,\n",
    "    first_res=1,\n",
    "    last_res=250,\n",
    "    d_cut=5,\n",
    "    out_file=out_file\n",
    ")"
   ]
  },
  {
   "cell_type": "code",
   "execution_count": null,
   "metadata": {},
   "outputs": [],
   "source": []
  },
  {
   "cell_type": "code",
   "execution_count": null,
   "metadata": {},
   "outputs": [],
   "source": []
  }
 ],
 "metadata": {
  "kernelspec": {
   "display_name": "Python 3.8.6 ('ML_Py3_8')",
   "language": "python",
   "name": "python3"
  },
  "language_info": {
   "codemirror_mode": {
    "name": "ipython",
    "version": 3
   },
   "file_extension": ".py",
   "mimetype": "text/x-python",
   "name": "python",
   "nbconvert_exporter": "python",
   "pygments_lexer": "ipython3",
   "version": "3.8.6"
  },
  "orig_nbformat": 4,
  "vscode": {
   "interpreter": {
    "hash": "b6abc5e0e50420898f6079b69093be12a9e19372f3a001cb97b6c64332f05e2b"
   }
  }
 },
 "nbformat": 4,
 "nbformat_minor": 2
}
